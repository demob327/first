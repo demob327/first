{
 "cells": [
  {
   "cell_type": "code",
   "execution_count": 1,
   "metadata": {},
   "outputs": [],
   "source": [
    "from sklearn.svm import SVC\n",
    "from sklearn.preprocessing import StandardScaler\n",
    "from sklearn.datasets import make_classification\n",
    "from sklearn.model_selection import train_test_split\n",
    "from sklearn.pipeline import Pipeline\n"
   ]
  },
  {
   "cell_type": "code",
   "execution_count": 2,
   "metadata": {},
   "outputs": [
    {
     "data": {
      "text/plain": [
       "0.88"
      ]
     },
     "execution_count": 2,
     "metadata": {},
     "output_type": "execute_result"
    }
   ],
   "source": [
    "X, y = make_classification(random_state=0)\n",
    "X_train, X_test, y_train, y_test = train_test_split(X, y, random_state=0)\n",
    "pipe = Pipeline([('scaler', StandardScaler()), ('svc', SVC())])\n",
    "# The pipeline can be used as any other estimator\n",
    "# and avoids leaking the test set into the train set\n",
    "pipe.fit(X_train, y_train)\n",
    "Pipeline(steps=[('scaler', StandardScaler()), ('svc', SVC())])\n",
    "pipe.score(X_test, y_test)"
   ]
  },
  {
   "cell_type": "markdown",
   "metadata": {},
   "source": [
    "Methods\n",
    "\n",
    "decision_function(X)\n",
    "\n",
    "Apply transforms, and decision_function of the final estimator\n",
    "\n",
    "fit(X[, y])\n",
    "\n",
    "Fit the model\n",
    "\n",
    "fit_predict(X[, y])\n",
    "\n",
    "Applies fit_predict of last step in pipeline after transforms.\n",
    "\n",
    "fit_transform(X[, y])\n",
    "\n",
    "Fit the model and transform with the final estimator\n",
    "\n",
    "get_params([deep])\n",
    "\n",
    "Get parameters for this estimator.\n",
    "\n",
    "predict(X, **predict_params)\n",
    "\n",
    "Apply transforms to the data, and predict with the final estimator\n",
    "\n",
    "predict_log_proba(X)\n",
    "\n",
    "Apply transforms, and predict_log_proba of the final estimator\n",
    "\n",
    "predict_proba(X)\n",
    "\n",
    "Apply transforms, and predict_proba of the final estimator\n",
    "\n",
    "score(X[, y, sample_weight])\n",
    "\n",
    "Apply transforms, and score with the final estimator\n",
    "\n",
    "score_samples(X)\n",
    "\n",
    "Apply transforms, and score_samples of the final estimator.\n",
    "\n",
    "set_params(**kwargs)\n",
    "\n",
    "Set the parameters of this estimator."
   ]
  },
  {
   "cell_type": "code",
   "execution_count": null,
   "metadata": {},
   "outputs": [],
   "source": []
  }
 ],
 "metadata": {
  "kernelspec": {
   "display_name": "Python 3",
   "language": "python",
   "name": "python3"
  },
  "language_info": {
   "codemirror_mode": {
    "name": "ipython",
    "version": 3
   },
   "file_extension": ".py",
   "mimetype": "text/x-python",
   "name": "python",
   "nbconvert_exporter": "python",
   "pygments_lexer": "ipython3",
   "version": "3.8.2"
  }
 },
 "nbformat": 4,
 "nbformat_minor": 4
}
