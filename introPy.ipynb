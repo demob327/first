{
 "cells": [
  {
   "cell_type": "code",
   "execution_count": 1,
   "metadata": {},
   "outputs": [
    {
     "name": "stdout",
     "output_type": "stream",
     "text": [
      "1\n",
      "2\n",
      "3\n",
      "5\n",
      "8\n",
      "13\n",
      "21\n",
      "34\n",
      "55\n",
      "89\n",
      "144\n",
      "233\n",
      "377\n",
      "610\n",
      "987\n"
     ]
    }
   ],
   "source": [
    "#1 script pythhon\n",
    "a, b, c = 1, 1, 1\n",
    "print(1)\n",
    "while c<15 :\n",
    "    a, b, c = b, a+b, c+1\n",
    "    print(b)"
   ]
  },
  {
   "cell_type": "code",
   "execution_count": 2,
   "metadata": {},
   "outputs": [
    {
     "name": "stdout",
     "output_type": "stream",
     "text": [
      "625.0\n"
     ]
    }
   ],
   "source": [
    "l, h, p =25, 10, 2.5\n",
    "print(l*h*p)"
   ]
  },
  {
   "cell_type": "code",
   "execution_count": 3,
   "metadata": {},
   "outputs": [
    {
     "name": "stdout",
     "output_type": "stream",
     "text": [
      "le volume est égal à 625.0\n"
     ]
    }
   ],
   "source": [
    "l, h, p =25, 10, 2.5\n",
    "print('le volume est égal à',  l*h*p)"
   ]
  },
  {
   "cell_type": "code",
   "execution_count": 4,
   "metadata": {},
   "outputs": [
    {
     "name": "stdout",
     "output_type": "stream",
     "text": [
      "le volume est égal à 625.0\n"
     ]
    }
   ],
   "source": [
    "l, h, p =25, 10, 2.5\n",
    "v=l*h*p\n",
    "print(\"le volume est égal à\",v)"
   ]
  },
  {
   "cell_type": "code",
   "execution_count": 5,
   "metadata": {},
   "outputs": [
    {
     "name": "stdout",
     "output_type": "stream",
     "text": [
      "3 2 17 9 46\n"
     ]
    }
   ],
   "source": [
    "sec = 100000000\n",
    "secondes = sec % 60\n",
    "min = (sec // 60) % 60  # Calculate the number of minutes\n",
    "heu = ((sec // 60) // 60) % 24  # Calculate the number of hours\n",
    "jou = (((sec // 60) // 60) // 24) % 30  # Calculate the number of days\n",
    "moi = ((((sec // 60) // 60) // 24) // 30) % 12  # Calculate the number of months\n",
    "ann = ((((sec // 60) // 60) // 24) // 30) // 12  # Calculate the number of years\n",
    "\n",
    "print(ann, moi, jou, heu, min)\n"
   ]
  },
  {
   "cell_type": "code",
   "execution_count": 6,
   "metadata": {},
   "outputs": [
    {
     "name": "stdout",
     "output_type": "stream",
     "text": [
      "95.0\n"
     ]
    }
   ],
   "source": [
    "print(5700/60)"
   ]
  },
  {
   "cell_type": "code",
   "execution_count": null,
   "metadata": {},
   "outputs": [],
   "source": []
  },
  {
   "cell_type": "code",
   "execution_count": null,
   "metadata": {},
   "outputs": [],
   "source": []
  },
  {
   "cell_type": "code",
   "execution_count": null,
   "metadata": {},
   "outputs": [],
   "source": []
  }
 ],
 "metadata": {
  "kernelspec": {
   "display_name": "Python 3 (ipykernel)",
   "language": "python",
   "name": "python3"
  },
  "language_info": {
   "codemirror_mode": {
    "name": "ipython",
    "version": 3
   },
   "file_extension": ".py",
   "mimetype": "text/x-python",
   "name": "python",
   "nbconvert_exporter": "python",
   "pygments_lexer": "ipython3",
   "version": "3.11.4"
  }
 },
 "nbformat": 4,
 "nbformat_minor": 2
}
