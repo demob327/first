{
 "cells": [
  {
   "cell_type": "code",
   "execution_count": 1,
   "metadata": {},
   "outputs": [
    {
     "ename": "SyntaxError",
     "evalue": "invalid syntax (<ipython-input-1-f89769214d78>, line 6)",
     "output_type": "error",
     "traceback": [
      "\u001b[1;36m  File \u001b[1;32m\"<ipython-input-1-f89769214d78>\"\u001b[1;36m, line \u001b[1;32m6\u001b[0m\n\u001b[1;33m    *Italic*, **bold**, _underscore_, ~~strikethrough~~\u001b[0m\n\u001b[1;37m            ^\u001b[0m\n\u001b[1;31mSyntaxError\u001b[0m\u001b[1;31m:\u001b[0m invalid syntax\n"
     ]
    }
   ],
   "source": [
    "#### Headers\n",
    "# Header 1 \n",
    "## Header 2\n",
    "\n",
    "#### Styles\n",
    "*Italic*, **bold**, _underscore_, ~~strikethrough~~\n",
    "\n",
    "#### Hyperlink\n",
    "[hyperlink](https://www.markdownguide.org/)\n",
    "\n",
    "#### Table\n",
    "| Default | Left-aligned | Center-aligned | Right-aligned |\n",
    "|---------|:-------------|:--------------:|--------------:|\n",
    "| Default | Left | Center | Right |\n",
    "\n",
    "#### Others\n",
    "* Bulleted item 1\n",
    "    * Bulleted subitem 1\n",
    "* Bulleted item 2\n",
    "\n",
    "***\n",
    "1. Ordered item 1  \n",
    "    1.1. Ordered subitem 1  \n",
    "2. Ordered item 2\n",
    "\n",
    "***\n",
    "- [ ] Unchecked box\n",
    "- [x] Checked box"
   ]
  },
  {
   "cell_type": "code",
   "execution_count": null,
   "metadata": {},
   "outputs": [],
   "source": []
  }
 ],
 "metadata": {
  "kernelspec": {
   "display_name": "Python 3",
   "language": "python",
   "name": "python3"
  },
  "language_info": {
   "codemirror_mode": {
    "name": "ipython",
    "version": 3
   },
   "file_extension": ".py",
   "mimetype": "text/x-python",
   "name": "python",
   "nbconvert_exporter": "python",
   "pygments_lexer": "ipython3",
   "version": "3.8.2"
  }
 },
 "nbformat": 4,
 "nbformat_minor": 4
}
