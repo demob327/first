{
 "cells": [
  {
   "cell_type": "code",
   "execution_count": 1,
   "metadata": {},
   "outputs": [
    {
     "name": "stdout",
     "output_type": "stream",
     "text": [
      "Requirement already satisfied: pulp in c:\\users\\administrateur\\appdata\\local\\programs\\python\\python38-32\\lib\\site-packages (2.3.1)\n",
      "Requirement already satisfied: amply>=0.1.2 in c:\\users\\administrateur\\appdata\\local\\programs\\python\\python38-32\\lib\\site-packages (from pulp) (0.1.4)\n",
      "Requirement already satisfied: pyparsing in c:\\users\\administrateur\\appdata\\roaming\\python\\python38\\site-packages (from amply>=0.1.2->pulp) (2.4.7)\n",
      "Requirement already satisfied: docutils>=0.3 in c:\\users\\administrateur\\appdata\\local\\programs\\python\\python38-32\\lib\\site-packages (from amply>=0.1.2->pulp) (0.16)\n"
     ]
    },
    {
     "name": "stderr",
     "output_type": "stream",
     "text": [
      "'apt-get' n'est pas reconnu en tant que commande interne\n",
      "ou externe, un programme ex‚cutable ou un fichier de commandes.\n",
      "'apt-get' n'est pas reconnu en tant que commande interne\n",
      "ou externe, un programme ex‚cutable ou un fichier de commandes.\n"
     ]
    }
   ],
   "source": [
    "! pip install pulp            \n",
    "! apt-get install glpk-utils  \n",
    "! apt-get install coinor-cbc  "
   ]
  },
  {
   "cell_type": "code",
   "execution_count": 2,
   "metadata": {},
   "outputs": [],
   "source": [
    "import pandas as pd\n",
    "import numpy as np\n",
    "import matplotlib.pyplot as plt"
   ]
  },
  {
   "cell_type": "code",
   "execution_count": 3,
   "metadata": {},
   "outputs": [],
   "source": [
    "from pulp import *"
   ]
  },
  {
   "cell_type": "code",
   "execution_count": 4,
   "metadata": {},
   "outputs": [],
   "source": [
    "prob = LpProblem('fabic',LpMaximize)"
   ]
  },
  {
   "cell_type": "code",
   "execution_count": 5,
   "metadata": {},
   "outputs": [],
   "source": [
    "x1 = LpVariable(\"x1\", lowBound = 0, cat = 'Integer')\n",
    "x2 = LpVariable(\"x2\", lowBound = 0, cat = 'Integer')"
   ]
  },
  {
   "cell_type": "code",
   "execution_count": 6,
   "metadata": {},
   "outputs": [
    {
     "data": {
      "text/plain": [
       "['FixedElasticSubProblem',\n",
       " 'FractionElasticSubProblem',\n",
       " 'Iterable',\n",
       " 'LpAffineExpression',\n",
       " 'LpConstraint',\n",
       " 'LpConstraintVar',\n",
       " 'LpElement',\n",
       " 'LpFractionConstraint',\n",
       " 'LpProblem',\n",
       " 'LpSolverDefault',\n",
       " 'LpVariable',\n",
       " 'OrderedDict',\n",
       " 'PULP_CBC_CMD',\n",
       " '_DICT_TYPE',\n",
       " '__builtins__',\n",
       " '__cached__',\n",
       " '__doc__',\n",
       " '__file__',\n",
       " '__loader__',\n",
       " '__name__',\n",
       " '__package__',\n",
       " '__spec__',\n",
       " 'clock',\n",
       " 'const',\n",
       " 'json',\n",
       " 'log',\n",
       " 'logging',\n",
       " 'lpDot',\n",
       " 'lpSum',\n",
       " 'maketrans',\n",
       " 're',\n",
       " 'sys',\n",
       " 'value',\n",
       " 'warnings']"
      ]
     },
     "execution_count": 6,
     "metadata": {},
     "output_type": "execute_result"
    }
   ],
   "source": [
    "dir(pulp)"
   ]
  },
  {
   "cell_type": "code",
   "execution_count": 7,
   "metadata": {},
   "outputs": [],
   "source": [
    "# define obj function\n",
    "prob += 15*x1 + 10*x2 + 0\n"
   ]
  },
  {
   "cell_type": "code",
   "execution_count": 8,
   "metadata": {},
   "outputs": [],
   "source": [
    "# constraints\n",
    "prob += x1 <= 2000\n",
    "prob += x2 <= 8000\n",
    "prob += x1 + x2 <= 8000"
   ]
  },
  {
   "cell_type": "code",
   "execution_count": 9,
   "metadata": {},
   "outputs": [
    {
     "data": {
      "text/plain": [
       "1"
      ]
     },
     "execution_count": 9,
     "metadata": {},
     "output_type": "execute_result"
    }
   ],
   "source": [
    "prob.solve()"
   ]
  },
  {
   "cell_type": "code",
   "execution_count": 10,
   "metadata": {},
   "outputs": [
    {
     "name": "stdout",
     "output_type": "stream",
     "text": [
      "Number of silk T-Shert =   2000.0\n",
      "Number of cotton T-Shert =   6000.0\n"
     ]
    }
   ],
   "source": [
    "print('Number of silk T-Shert =  ',value(x1))\n",
    "print('Number of cotton T-Shert =  ',value(x2))"
   ]
  },
  {
   "cell_type": "markdown",
   "metadata": {},
   "source": [
    "max 10 x1 + 5x2\n",
    "\n",
    "subject to\n",
    "\n",
    "5x1+x2<=90\n",
    "\n",
    "x1+10x2<=300\n",
    "\n",
    "4x1+6x2<=125\n",
    "\n",
    "x1, x2 >=0"
   ]
  },
  {
   "cell_type": "code",
   "execution_count": 11,
   "metadata": {},
   "outputs": [
    {
     "name": "stdout",
     "output_type": "stream",
     "text": [
      "10*Bowdoin_log + 5*Chocolate_cake\n",
      "OrderedDict([('oven_constraint', 5*Bowdoin_log + 1*Chocolate_cake + -90 <= 0), ('food_processor_constraint_', 1*Bowdoin_log + 10*Chocolate_cake + -300 <= 0), ('bolter_constraint_', 4*Bowdoin_log + 6*Chocolate_cake + -125 <= 0)])\n",
      "status 1\n",
      "Bowdoin_log = 16.0\n",
      "Chocolate_cake = 10.0\n",
      "OPT= 210.0\n"
     ]
    },
    {
     "name": "stderr",
     "output_type": "stream",
     "text": [
      "c:\\users\\administrateur\\appdata\\local\\programs\\python\\python38-32\\lib\\site-packages\\pulp\\pulp.py:1198: UserWarning: Spaces are not permitted in the name. Converted to '_'\n",
      "  warnings.warn(\"Spaces are not permitted in the name. Converted to '_'\")\n"
     ]
    }
   ],
   "source": [
    "lp = LpProblem('Maximize profit', LpMaximize)\n",
    "    \n",
    "x1 = LpVariable('Bowdoin_log', lowBound=0, cat='Integer')\n",
    "x2 = LpVariable('Chocolate_cake', lowBound=0, cat='Integer')\n",
    "\n",
    "lp += 10*x1 + 5*x2\n",
    "print(lp.objective)\n",
    "\n",
    "lp += (5*x1 + x2 <=90, 'oven constraint')\n",
    "lp += (x1 + 10*x2 <=300, 'food processor constraint ')\n",
    "lp += (4*x1 + 6*x2 <=125, 'bolter constraint ')\n",
    "print(lp.constraints)\n",
    "status = lp.solve()\n",
    "print('status', status) # 1:opt 2:not solved 3:infeasible 4: inbounded 5: undefined\n",
    "\n",
    "for var in lp.variables():\n",
    "    print(var,'=', value(var))\n",
    "print('OPT=', value(lp.objective))"
   ]
  },
  {
   "cell_type": "code",
   "execution_count": 12,
   "metadata": {},
   "outputs": [
    {
     "name": "stdout",
     "output_type": "stream",
     "text": [
      "-3*X1 - 2*X2\n",
      "OrderedDict([('1st_constraint', 2*X1 + 1*X2 + -8 <= 0), ('2nd_constraint_', -1*X1 + 1*X2 + -1 <= 0), ('3th_constraint_', 1*X2 + -2 <= 0), ('4th_constraint', 1*X1 + 2*X2 + -6 <= 0)])\n",
      "status 1\n",
      "X1 = 3.3333333\n",
      "X2 = 1.3333333\n",
      "OPT= -12.666666500000002\n"
     ]
    }
   ],
   "source": [
    "lp = LpProblem('Minimize profit', LpMinimize)\n",
    "    \n",
    "x1 = LpVariable('X1', lowBound=0)\n",
    "x2 = LpVariable('X2', lowBound=0)\n",
    "\n",
    "lp += -3*x1 - 2*x2\n",
    "print(lp.objective)\n",
    "\n",
    "lp += (2*x1 + x2 <=8, '1st constraint')\n",
    "lp += (-x1 + x2 <=1, '2nd constraint ')\n",
    "lp += (x2 <=2, '3th constraint ')\n",
    "lp += (x1 + 2*x2 <=6, '4th constraint')\n",
    "print(lp.constraints)\n",
    "status = lp.solve()\n",
    "print('status', status) # 1:opt 2:not solved 3:infeasible 4: inbounded 5: undefined\n",
    "\n",
    "for var in lp.variables():\n",
    "    print(var,'=', value(var))\n",
    "print('OPT=', value(lp.objective))"
   ]
  },
  {
   "cell_type": "code",
   "execution_count": 13,
   "metadata": {},
   "outputs": [
    {
     "name": "stdout",
     "output_type": "stream",
     "text": [
      "-5*X1 + 4*X2 - 6*X3 - 8*X4\n",
      "OrderedDict([('1st_constraint', 1*X1 + 7*X2 + 3*X3 + 7*X4 + -46 <= 0), ('2nd_constraint_', 3*X1 + -2*X2 + 1*X3 + 2*X4 + -8 <= 0), ('3th_constraint_', 2*X1 + 3*X2 + -1*X3 + 1*X4 + -10 <= 0)])\n",
      "status 1\n",
      "X1 = 0.0\n",
      "X2 = 1.6923077\n",
      "X3 = 11.384615\n",
      "X4 = 0.0\n",
      "OPT= -61.538459200000005\n"
     ]
    }
   ],
   "source": [
    "lp = LpProblem('Minimize profit', LpMinimize)\n",
    "    \n",
    "x1 = LpVariable('X1', lowBound=0)\n",
    "x2 = LpVariable('X2', lowBound=0)\n",
    "x3 = LpVariable('X3', lowBound=0)\n",
    "x4 = LpVariable('X4', lowBound=0)\n",
    "\n",
    "lp += 4*x2 - 6*x3 - 8*x4 -5*x1 \n",
    "print(lp.objective)\n",
    "\n",
    "lp += (x1 + 7*x2 + 3*x3 + 7*x4 <= 46, '1st constraint')\n",
    "lp += (3*x1 - 2*x2 + x3 + 2*x4 <= 8, '2nd constraint ')\n",
    "lp += (2*x1 + 3*x2 - x3 + x4 <= 10, '3th constraint ')\n",
    "\n",
    "print(lp.constraints)\n",
    "status = lp.solve()\n",
    "print('status', status) # 1:opt 2:not solved 3:infeasible 4: inbounded 5: undefined\n",
    "\n",
    "for var in lp.variables():\n",
    "    print(var,'=', value(var))\n",
    "print('OPT=', value(lp.objective))\n",
    "\n",
    "\n",
    "\n",
    "\n"
   ]
  },
  {
   "cell_type": "code",
   "execution_count": null,
   "metadata": {},
   "outputs": [],
   "source": []
  }
 ],
 "metadata": {
  "finalized": {
   "timestamp": 1616685242437,
   "trusted": true
  },
  "hide_input": false,
  "kernelspec": {
   "display_name": "Python 3",
   "language": "python",
   "name": "python3"
  },
  "language_info": {
   "codemirror_mode": {
    "name": "ipython",
    "version": 3
   },
   "file_extension": ".py",
   "mimetype": "text/x-python",
   "name": "python",
   "nbconvert_exporter": "python",
   "pygments_lexer": "ipython3",
   "version": "3.8.2"
  },
  "latex_envs": {
   "LaTeX_envs_menu_present": true,
   "autoclose": false,
   "autocomplete": true,
   "bibliofile": "biblio.bib",
   "cite_by": "apalike",
   "current_citInitial": 1,
   "eqLabelWithNumbers": true,
   "eqNumInitial": 1,
   "hotkeys": {
    "equation": "Ctrl-E",
    "itemize": "Ctrl-I"
   },
   "labels_anchors": false,
   "latex_user_defs": false,
   "report_style_numbering": false,
   "user_envs_cfg": false
  }
 },
 "nbformat": 4,
 "nbformat_minor": 4
}
