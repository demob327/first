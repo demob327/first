{
 "cells": [
  {
   "cell_type": "code",
   "execution_count": 5,
   "metadata": {},
   "outputs": [
    {
     "name": "stdout",
     "output_type": "stream",
     "text": [
      "Requirement already satisfied: mitoinstaller in c:\\users\\administrateur\\appdata\\local\\programs\\python\\python38-32\\lib\\site-packages (0.0.169)\n",
      "Requirement already satisfied: colorama in c:\\users\\administrateur\\appdata\\local\\programs\\python\\python38-32\\lib\\site-packages (from mitoinstaller) (0.4.4)\n",
      "Requirement already satisfied: analytics-python in c:\\users\\administrateur\\appdata\\local\\programs\\python\\python38-32\\lib\\site-packages (from mitoinstaller) (1.2.9)\n",
      "Requirement already satisfied: termcolor in c:\\users\\administrateur\\appdata\\local\\programs\\python\\python38-32\\lib\\site-packages (from mitoinstaller) (1.1.0)\n",
      "Requirement already satisfied: six>=1.5 in c:\\users\\administrateur\\appdata\\roaming\\python\\python38\\site-packages (from analytics-python->mitoinstaller) (1.15.0)\n",
      "Requirement already satisfied: python-dateutil>2.1 in c:\\users\\administrateur\\appdata\\roaming\\python\\python38\\site-packages (from analytics-python->mitoinstaller) (2.8.1)\n",
      "Requirement already satisfied: requests<3.0,>=2.7 in c:\\users\\administrateur\\appdata\\local\\programs\\python\\python38-32\\lib\\site-packages (from analytics-python->mitoinstaller) (2.23.0)\n",
      "Requirement already satisfied: urllib3!=1.25.0,!=1.25.1,<1.26,>=1.21.1 in c:\\users\\administrateur\\appdata\\local\\programs\\python\\python38-32\\lib\\site-packages (from requests<3.0,>=2.7->analytics-python->mitoinstaller) (1.25.8)\n",
      "Requirement already satisfied: chardet<4,>=3.0.2 in c:\\users\\administrateur\\appdata\\local\\programs\\python\\python38-32\\lib\\site-packages (from requests<3.0,>=2.7->analytics-python->mitoinstaller) (3.0.4)\n",
      "Requirement already satisfied: idna<3,>=2.5 in c:\\users\\administrateur\\appdata\\local\\programs\\python\\python38-32\\lib\\site-packages (from requests<3.0,>=2.7->analytics-python->mitoinstaller) (2.9)\n",
      "Requirement already satisfied: certifi>=2017.4.17 in c:\\users\\administrateur\\appdata\\local\\programs\\python\\python38-32\\lib\\site-packages (from requests<3.0,>=2.7->analytics-python->mitoinstaller) (2020.6.20)\n"
     ]
    }
   ],
   "source": [
    "!python -m pip install mitoinstaller"
   ]
  },
  {
   "cell_type": "code",
   "execution_count": 6,
   "metadata": {},
   "outputs": [
    {
     "name": "stdout",
     "output_type": "stream",
     "text": [
      "Starting install...\n",
      "Create mito user\n",
      "Upgrade mitoinstaller\n",
      "Setting up environment\n",
      "Check dependencies\n",
      "Traceback (most recent call last):\n",
      "  File \"C:\\Users\\Administrateur\\AppData\\Local\\Programs\\Python\\Python38-32\\lib\\site-packages\\mitoinstaller\\installer_steps\\installer_step_utils.py\", line 50, in run_installer_steps\n",
      "    installer_step.execute()\n",
      "  File \"C:\\Users\\Administrateur\\AppData\\Local\\Programs\\Python\\Python38-32\\lib\\site-packages\\mitoinstaller\\installer_steps\\installer_step.py\", line 36, in execute\n",
      "    self.execution_function()\n",
      "  File \"C:\\Users\\Administrateur\\AppData\\Local\\Programs\\Python\\Python38-32\\lib\\site-packages\\mitoinstaller\\installer_steps\\mitosheet_installer_steps.py\", line 37, in install_step_mitosheet_check_dependencies\n",
      "    raise Exception('Installed extensions {extension_names}'.format(extension_names=extension_names))\n",
      "Exception: Installed extensions ['jupyter-threejs', 'jupyterlab-datawidgets', 'mitosheet', 'nbdime-jupyterlab']\n",
      "\n",
      "\n",
      "\n",
      "Sorry, looks like we hit a problem.\n",
      "We're happy to help you fix it ASAP. Just hop on our discord, and and post in the install-help channel. We'll get you sorted in a few minutes:\n",
      "\n",
      "\t https://discord.gg/AAeYm6YV7B\n",
      "\n"
     ]
    }
   ],
   "source": [
    "!python -m mitoinstaller install"
   ]
  },
  {
   "cell_type": "code",
   "execution_count": 7,
   "metadata": {},
   "outputs": [
    {
     "data": {
      "application/vnd.jupyter.widget-view+json": {
       "model_id": "edab4d10a7474aa182b506bc96200d84",
       "version_major": 2,
       "version_minor": 0
      },
      "text/plain": [
       "MitoWidget(analysis_name='UUID-fe20baf1-65c1-4128-af73-46c318f60598', code_json='{\"imports\": \"from mitosheet i…"
      ]
     },
     "metadata": {},
     "output_type": "display_data"
    }
   ],
   "source": [
    "import mitosheet\n",
    "mitosheet.sheet()"
   ]
  },
  {
   "cell_type": "code",
   "execution_count": 9,
   "metadata": {},
   "outputs": [
    {
     "name": "stdout",
     "output_type": "stream",
     "text": [
      "Requirement already satisfied: notebook in c:\\users\\administrateur\\appdata\\roaming\\python\\python38\\site-packages (6.1.4)"
     ]
    },
    {
     "name": "stderr",
     "output_type": "stream",
     "text": [
      "  WARNING: Failed to write executable - trying to use .deleteme logic"
     ]
    },
    {
     "name": "stdout",
     "output_type": "stream",
     "text": [
      "\n"
     ]
    },
    {
     "name": "stderr",
     "output_type": "stream",
     "text": [
      "\n",
      "ERROR: Could not install packages due to an OSError: [WinError 145] Le répertoire n’est pas vide: 'C:\\\\Users\\\\Administrateur\\\\AppData\\\\Roaming\\\\Python\\\\Python38\\\\site-packages\\\\~otebook\\\\static\\\\components\\\\MathJax\\\\jax\\\\output\\\\SVG\\\\fonts\\\\STIX-Web\\\\Variants'\n",
      "\n"
     ]
    },
    {
     "name": "stdout",
     "output_type": "stream",
     "text": [
      "Collecting notebook\n",
      "  Downloading notebook-6.4.12-py3-none-any.whl (9.9 MB)\n",
      "     ---------------------------------------- 9.9/9.9 MB 85.1 kB/s eta 0:00:00\n",
      "Requirement already satisfied: argon2-cffi in c:\\users\\administrateur\\appdata\\roaming\\python\\python38\\site-packages (from notebook) (20.1.0)\n",
      "Requirement already satisfied: tornado>=6.1 in c:\\users\\administrateur\\appdata\\local\\programs\\python\\python38-32\\lib\\site-packages (from notebook) (6.1)\n",
      "Requirement already satisfied: jupyter-core>=4.6.1 in c:\\users\\administrateur\\appdata\\local\\programs\\python\\python38-32\\lib\\site-packages (from notebook) (4.6.3)\n",
      "Requirement already satisfied: nbformat in c:\\users\\administrateur\\appdata\\roaming\\python\\python38\\site-packages (from notebook) (5.0.8)\n",
      "Requirement already satisfied: pyzmq>=17 in c:\\users\\administrateur\\appdata\\roaming\\python\\python38\\site-packages (from notebook) (19.0.2)\n",
      "Collecting nest-asyncio>=1.5\n",
      "  Downloading nest_asyncio-1.5.5-py3-none-any.whl (5.2 kB)\n",
      "Collecting Send2Trash>=1.8.0\n",
      "  Downloading Send2Trash-1.8.0-py3-none-any.whl (18 kB)\n",
      "Requirement already satisfied: jupyter-client>=5.3.4 in c:\\users\\administrateur\\appdata\\roaming\\python\\python38\\site-packages (from notebook) (6.1.7)\n",
      "Requirement already satisfied: ipython-genutils in c:\\users\\administrateur\\appdata\\local\\programs\\python\\python38-32\\lib\\site-packages (from notebook) (0.2.0)\n",
      "Requirement already satisfied: terminado>=0.8.3 in c:\\users\\administrateur\\appdata\\roaming\\python\\python38\\site-packages (from notebook) (0.9.1)\n",
      "Requirement already satisfied: ipykernel in c:\\users\\administrateur\\appdata\\roaming\\python\\python38\\site-packages (from notebook) (5.3.4)\n",
      "Requirement already satisfied: nbconvert>=5 in c:\\users\\administrateur\\appdata\\roaming\\python\\python38\\site-packages (from notebook) (6.0.7)\n",
      "Requirement already satisfied: traitlets>=4.2.1 in c:\\users\\administrateur\\appdata\\local\\programs\\python\\python38-32\\lib\\site-packages (from notebook) (5.0.5)\n",
      "Requirement already satisfied: prometheus-client in c:\\users\\administrateur\\appdata\\roaming\\python\\python38\\site-packages (from notebook) (0.8.0)\n",
      "Requirement already satisfied: jinja2 in c:\\users\\administrateur\\appdata\\roaming\\python\\python38\\site-packages (from notebook) (2.11.2)\n",
      "Requirement already satisfied: python-dateutil>=2.1 in c:\\users\\administrateur\\appdata\\roaming\\python\\python38\\site-packages (from jupyter-client>=5.3.4->notebook) (2.8.1)\n",
      "Requirement already satisfied: pywin32>=1.0 in c:\\users\\administrateur\\appdata\\local\\programs\\python\\python38-32\\lib\\site-packages (from jupyter-core>=4.6.1->notebook) (228)\n",
      "Requirement already satisfied: jupyterlab-pygments in c:\\users\\administrateur\\appdata\\roaming\\python\\python38\\site-packages (from nbconvert>=5->notebook) (0.1.2)\n",
      "Requirement already satisfied: mistune<2,>=0.8.1 in c:\\users\\administrateur\\appdata\\roaming\\python\\python38\\site-packages (from nbconvert>=5->notebook) (0.8.4)\n",
      "Requirement already satisfied: defusedxml in c:\\users\\administrateur\\appdata\\roaming\\python\\python38\\site-packages (from nbconvert>=5->notebook) (0.6.0)\n",
      "Requirement already satisfied: nbclient<0.6.0,>=0.5.0 in c:\\users\\administrateur\\appdata\\roaming\\python\\python38\\site-packages (from nbconvert>=5->notebook) (0.5.1)\n",
      "Requirement already satisfied: pygments>=2.4.1 in c:\\users\\administrateur\\appdata\\local\\programs\\python\\python38-32\\lib\\site-packages (from nbconvert>=5->notebook) (2.7.1)\n",
      "Requirement already satisfied: testpath in c:\\users\\administrateur\\appdata\\roaming\\python\\python38\\site-packages (from nbconvert>=5->notebook) (0.4.4)\n",
      "Requirement already satisfied: bleach in c:\\users\\administrateur\\appdata\\roaming\\python\\python38\\site-packages (from nbconvert>=5->notebook) (3.2.1)\n",
      "Requirement already satisfied: entrypoints>=0.2.2 in c:\\users\\administrateur\\appdata\\roaming\\python\\python38\\site-packages (from nbconvert>=5->notebook) (0.3)\n",
      "Requirement already satisfied: pandocfilters>=1.4.1 in c:\\users\\administrateur\\appdata\\roaming\\python\\python38\\site-packages (from nbconvert>=5->notebook) (1.4.2)\n",
      "Requirement already satisfied: MarkupSafe>=0.23 in c:\\users\\administrateur\\appdata\\roaming\\python\\python38\\site-packages (from jinja2->notebook) (1.1.1)\n",
      "Requirement already satisfied: jsonschema!=2.5.0,>=2.4 in c:\\users\\administrateur\\appdata\\roaming\\python\\python38\\site-packages (from nbformat->notebook) (3.2.0)\n",
      "Requirement already satisfied: pywinpty>=0.5 in c:\\users\\administrateur\\appdata\\roaming\\python\\python38\\site-packages (from terminado>=0.8.3->notebook) (0.5.7)\n",
      "Requirement already satisfied: six in c:\\users\\administrateur\\appdata\\roaming\\python\\python38\\site-packages (from argon2-cffi->notebook) (1.15.0)\n",
      "Requirement already satisfied: cffi>=1.0.0 in c:\\users\\administrateur\\appdata\\roaming\\python\\python38\\site-packages (from argon2-cffi->notebook) (1.14.5)\n",
      "Requirement already satisfied: ipython>=5.0.0 in c:\\users\\administrateur\\appdata\\local\\programs\\python\\python38-32\\lib\\site-packages (from ipykernel->notebook) (7.18.1)\n",
      "Requirement already satisfied: pycparser in c:\\users\\administrateur\\appdata\\roaming\\python\\python38\\site-packages (from cffi>=1.0.0->argon2-cffi->notebook) (2.20)\n",
      "Requirement already satisfied: prompt-toolkit!=3.0.0,!=3.0.1,<3.1.0,>=2.0.0 in c:\\users\\administrateur\\appdata\\local\\programs\\python\\python38-32\\lib\\site-packages (from ipython>=5.0.0->ipykernel->notebook) (3.0.8)\n",
      "Requirement already satisfied: backcall in c:\\users\\administrateur\\appdata\\local\\programs\\python\\python38-32\\lib\\site-packages (from ipython>=5.0.0->ipykernel->notebook) (0.2.0)\n",
      "Requirement already satisfied: decorator in c:\\users\\administrateur\\appdata\\local\\programs\\python\\python38-32\\lib\\site-packages (from ipython>=5.0.0->ipykernel->notebook) (4.4.2)\n",
      "Requirement already satisfied: colorama in c:\\users\\administrateur\\appdata\\local\\programs\\python\\python38-32\\lib\\site-packages (from ipython>=5.0.0->ipykernel->notebook) (0.4.4)\n",
      "Requirement already satisfied: jedi>=0.10 in c:\\users\\administrateur\\appdata\\local\\programs\\python\\python38-32\\lib\\site-packages (from ipython>=5.0.0->ipykernel->notebook) (0.17.2)\n",
      "Requirement already satisfied: pickleshare in c:\\users\\administrateur\\appdata\\local\\programs\\python\\python38-32\\lib\\site-packages (from ipython>=5.0.0->ipykernel->notebook) (0.7.5)\n",
      "Requirement already satisfied: setuptools>=18.5 in c:\\users\\administrateur\\appdata\\local\\programs\\python\\python38-32\\lib\\site-packages (from ipython>=5.0.0->ipykernel->notebook) (52.0.0)\n",
      "Requirement already satisfied: attrs>=17.4.0 in c:\\users\\administrateur\\appdata\\roaming\\python\\python38\\site-packages (from jsonschema!=2.5.0,>=2.4->nbformat->notebook) (21.2.0)\n",
      "Requirement already satisfied: pyrsistent>=0.14.0 in c:\\users\\administrateur\\appdata\\roaming\\python\\python38\\site-packages (from jsonschema!=2.5.0,>=2.4->nbformat->notebook) (0.17.3)\n",
      "Requirement already satisfied: async-generator in c:\\users\\administrateur\\appdata\\roaming\\python\\python38\\site-packages (from nbclient<0.6.0,>=0.5.0->nbconvert>=5->notebook) (1.10)\n",
      "Requirement already satisfied: webencodings in c:\\users\\administrateur\\appdata\\roaming\\python\\python38\\site-packages (from bleach->nbconvert>=5->notebook) (0.5.1)\n",
      "Requirement already satisfied: packaging in c:\\users\\administrateur\\appdata\\roaming\\python\\python38\\site-packages (from bleach->nbconvert>=5->notebook) (20.4)\n",
      "Requirement already satisfied: parso<0.8.0,>=0.7.0 in c:\\users\\administrateur\\appdata\\local\\programs\\python\\python38-32\\lib\\site-packages (from jedi>=0.10->ipython>=5.0.0->ipykernel->notebook) (0.7.1)\n",
      "Requirement already satisfied: wcwidth in c:\\users\\administrateur\\appdata\\local\\programs\\python\\python38-32\\lib\\site-packages (from prompt-toolkit!=3.0.0,!=3.0.1,<3.1.0,>=2.0.0->ipython>=5.0.0->ipykernel->notebook) (0.2.5)\n",
      "Requirement already satisfied: pyparsing>=2.0.2 in c:\\users\\administrateur\\appdata\\roaming\\python\\python38\\site-packages (from packaging->bleach->nbconvert>=5->notebook) (2.4.7)\n",
      "Installing collected packages: Send2Trash, nest-asyncio, notebook\n",
      "  Attempting uninstall: Send2Trash\n",
      "    Found existing installation: Send2Trash 1.5.0\n",
      "    Uninstalling Send2Trash-1.5.0:\n",
      "      Successfully uninstalled Send2Trash-1.5.0\n",
      "  Attempting uninstall: nest-asyncio\n"
     ]
    },
    {
     "name": "stdout",
     "output_type": "stream",
     "text": [
      "    Found existing installation: nest-asyncio 1.4.1\n",
      "    Uninstalling nest-asyncio-1.4.1:\n",
      "      Successfully uninstalled nest-asyncio-1.4.1\n",
      "  Attempting uninstall: notebook\n",
      "    Found existing installation: notebook 6.1.4\n",
      "    Uninstalling notebook-6.1.4:\n",
      "      Successfully uninstalled notebook-6.1.4\n"
     ]
    }
   ],
   "source": [
    "!pip install notebook --upgrade\n"
   ]
  },
  {
   "cell_type": "code",
   "execution_count": null,
   "metadata": {},
   "outputs": [],
   "source": []
  }
 ],
 "metadata": {
  "finalized": {
   "timestamp": 1657893035474,
   "trusted": true
  },
  "hide_input": false,
  "kernelspec": {
   "display_name": "Python 3",
   "language": "python",
   "name": "python3"
  },
  "latex_envs": {
   "LaTeX_envs_menu_present": true,
   "autoclose": false,
   "autocomplete": true,
   "bibliofile": "biblio.bib",
   "cite_by": "apalike",
   "current_citInitial": 1,
   "eqLabelWithNumbers": true,
   "eqNumInitial": 1,
   "hotkeys": {
    "equation": "Ctrl-E",
    "itemize": "Ctrl-I"
   },
   "labels_anchors": false,
   "latex_user_defs": false,
   "report_style_numbering": false,
   "user_envs_cfg": false
  }
 },
 "nbformat": 4,
 "nbformat_minor": 4
}
