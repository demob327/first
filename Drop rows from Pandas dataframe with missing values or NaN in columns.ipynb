{
 "cells": [
  {
   "cell_type": "code",
   "execution_count": 1,
   "metadata": {},
   "outputs": [
    {
     "data": {
      "text/html": [
       "<div>\n",
       "<style scoped>\n",
       "    .dataframe tbody tr th:only-of-type {\n",
       "        vertical-align: middle;\n",
       "    }\n",
       "\n",
       "    .dataframe tbody tr th {\n",
       "        vertical-align: top;\n",
       "    }\n",
       "\n",
       "    .dataframe thead th {\n",
       "        text-align: right;\n",
       "    }\n",
       "</style>\n",
       "<table border=\"1\" class=\"dataframe\">\n",
       "  <thead>\n",
       "    <tr style=\"text-align: right;\">\n",
       "      <th></th>\n",
       "      <th>First Score</th>\n",
       "      <th>Second Score</th>\n",
       "      <th>Third Score</th>\n",
       "      <th>Fourth Score</th>\n",
       "    </tr>\n",
       "  </thead>\n",
       "  <tbody>\n",
       "    <tr>\n",
       "      <th>0</th>\n",
       "      <td>100.0</td>\n",
       "      <td>30.0</td>\n",
       "      <td>52</td>\n",
       "      <td>NaN</td>\n",
       "    </tr>\n",
       "    <tr>\n",
       "      <th>1</th>\n",
       "      <td>90.0</td>\n",
       "      <td>NaN</td>\n",
       "      <td>40</td>\n",
       "      <td>NaN</td>\n",
       "    </tr>\n",
       "    <tr>\n",
       "      <th>2</th>\n",
       "      <td>NaN</td>\n",
       "      <td>45.0</td>\n",
       "      <td>80</td>\n",
       "      <td>NaN</td>\n",
       "    </tr>\n",
       "    <tr>\n",
       "      <th>3</th>\n",
       "      <td>95.0</td>\n",
       "      <td>56.0</td>\n",
       "      <td>98</td>\n",
       "      <td>65.0</td>\n",
       "    </tr>\n",
       "  </tbody>\n",
       "</table>\n",
       "</div>"
      ],
      "text/plain": [
       "   First Score  Second Score  Third Score  Fourth Score\n",
       "0        100.0          30.0           52           NaN\n",
       "1         90.0           NaN           40           NaN\n",
       "2          NaN          45.0           80           NaN\n",
       "3         95.0          56.0           98          65.0"
      ]
     },
     "execution_count": 1,
     "metadata": {},
     "output_type": "execute_result"
    }
   ],
   "source": [
    " #code1: Dropping rows with at least 1 null value.\n",
    "\n",
    "\n",
    "\n",
    "# importing pandas as pd \n",
    "import pandas as pd \n",
    "  \n",
    "# importing numpy as np \n",
    "import numpy as np \n",
    "  \n",
    "# dictionary of lists \n",
    "dict = {'First Score':[100, 90, np.nan, 95], \n",
    "        'Second Score': [30, np.nan, 45, 56], \n",
    "        'Third Score':[52, 40, 80, 98], \n",
    "        'Fourth Score':[np.nan, np.nan, np.nan, 65]} \n",
    "  \n",
    "# creating a dataframe from dictionary \n",
    "df = pd.DataFrame(dict) \n",
    "    \n",
    "df "
   ]
  },
  {
   "cell_type": "code",
   "execution_count": 2,
   "metadata": {},
   "outputs": [
    {
     "data": {
      "text/html": [
       "<div>\n",
       "<style scoped>\n",
       "    .dataframe tbody tr th:only-of-type {\n",
       "        vertical-align: middle;\n",
       "    }\n",
       "\n",
       "    .dataframe tbody tr th {\n",
       "        vertical-align: top;\n",
       "    }\n",
       "\n",
       "    .dataframe thead th {\n",
       "        text-align: right;\n",
       "    }\n",
       "</style>\n",
       "<table border=\"1\" class=\"dataframe\">\n",
       "  <thead>\n",
       "    <tr style=\"text-align: right;\">\n",
       "      <th></th>\n",
       "      <th>First Score</th>\n",
       "      <th>Second Score</th>\n",
       "      <th>Third Score</th>\n",
       "      <th>Fourth Score</th>\n",
       "    </tr>\n",
       "  </thead>\n",
       "  <tbody>\n",
       "    <tr>\n",
       "      <th>3</th>\n",
       "      <td>95.0</td>\n",
       "      <td>56.0</td>\n",
       "      <td>98</td>\n",
       "      <td>65.0</td>\n",
       "    </tr>\n",
       "  </tbody>\n",
       "</table>\n",
       "</div>"
      ],
      "text/plain": [
       "   First Score  Second Score  Third Score  Fourth Score\n",
       "3         95.0          56.0           98          65.0"
      ]
     },
     "execution_count": 2,
     "metadata": {},
     "output_type": "execute_result"
    }
   ],
   "source": [
    "#Now we drop rows with at least one Nan value (Null value)\n",
    " \n",
    "# using dropna() function   \n",
    "df.dropna() "
   ]
  },
  {
   "cell_type": "code",
   "execution_count": 3,
   "metadata": {},
   "outputs": [
    {
     "data": {
      "text/html": [
       "<div>\n",
       "<style scoped>\n",
       "    .dataframe tbody tr th:only-of-type {\n",
       "        vertical-align: middle;\n",
       "    }\n",
       "\n",
       "    .dataframe tbody tr th {\n",
       "        vertical-align: top;\n",
       "    }\n",
       "\n",
       "    .dataframe thead th {\n",
       "        text-align: right;\n",
       "    }\n",
       "</style>\n",
       "<table border=\"1\" class=\"dataframe\">\n",
       "  <thead>\n",
       "    <tr style=\"text-align: right;\">\n",
       "      <th></th>\n",
       "      <th>First Score</th>\n",
       "      <th>Second Score</th>\n",
       "      <th>Third Score</th>\n",
       "      <th>Fourth Score</th>\n",
       "    </tr>\n",
       "  </thead>\n",
       "  <tbody>\n",
       "    <tr>\n",
       "      <th>0</th>\n",
       "      <td>100.0</td>\n",
       "      <td>30.0</td>\n",
       "      <td>52</td>\n",
       "      <td>NaN</td>\n",
       "    </tr>\n",
       "    <tr>\n",
       "      <th>1</th>\n",
       "      <td>90.0</td>\n",
       "      <td>NaN</td>\n",
       "      <td>40</td>\n",
       "      <td>NaN</td>\n",
       "    </tr>\n",
       "    <tr>\n",
       "      <th>2</th>\n",
       "      <td>NaN</td>\n",
       "      <td>45.0</td>\n",
       "      <td>80</td>\n",
       "      <td>NaN</td>\n",
       "    </tr>\n",
       "    <tr>\n",
       "      <th>3</th>\n",
       "      <td>95.0</td>\n",
       "      <td>56.0</td>\n",
       "      <td>98</td>\n",
       "      <td>65.0</td>\n",
       "    </tr>\n",
       "  </tbody>\n",
       "</table>\n",
       "</div>"
      ],
      "text/plain": [
       "   First Score  Second Score  Third Score  Fourth Score\n",
       "0        100.0          30.0           52           NaN\n",
       "1         90.0           NaN           40           NaN\n",
       "2          NaN          45.0           80           NaN\n",
       "3         95.0          56.0           98          65.0"
      ]
     },
     "execution_count": 3,
     "metadata": {},
     "output_type": "execute_result"
    }
   ],
   "source": [
    "#Code2: Dropping rows if all values in that row are missing.\n",
    "\n",
    "# using dropna() function     \n",
    "df.dropna(how = 'all') "
   ]
  },
  {
   "cell_type": "code",
   "execution_count": 4,
   "metadata": {},
   "outputs": [
    {
     "data": {
      "text/html": [
       "<div>\n",
       "<style scoped>\n",
       "    .dataframe tbody tr th:only-of-type {\n",
       "        vertical-align: middle;\n",
       "    }\n",
       "\n",
       "    .dataframe tbody tr th {\n",
       "        vertical-align: top;\n",
       "    }\n",
       "\n",
       "    .dataframe thead th {\n",
       "        text-align: right;\n",
       "    }\n",
       "</style>\n",
       "<table border=\"1\" class=\"dataframe\">\n",
       "  <thead>\n",
       "    <tr style=\"text-align: right;\">\n",
       "      <th></th>\n",
       "      <th>Third Score</th>\n",
       "    </tr>\n",
       "  </thead>\n",
       "  <tbody>\n",
       "    <tr>\n",
       "      <th>0</th>\n",
       "      <td>52</td>\n",
       "    </tr>\n",
       "    <tr>\n",
       "      <th>1</th>\n",
       "      <td>40</td>\n",
       "    </tr>\n",
       "    <tr>\n",
       "      <th>2</th>\n",
       "      <td>80</td>\n",
       "    </tr>\n",
       "    <tr>\n",
       "      <th>3</th>\n",
       "      <td>98</td>\n",
       "    </tr>\n",
       "  </tbody>\n",
       "</table>\n",
       "</div>"
      ],
      "text/plain": [
       "   Third Score\n",
       "0           52\n",
       "1           40\n",
       "2           80\n",
       "3           98"
      ]
     },
     "execution_count": 4,
     "metadata": {},
     "output_type": "execute_result"
    }
   ],
   "source": [
    "#Now we drop a columns which have at least 1 missing values\n",
    "\n",
    "df.dropna(axis = 1) "
   ]
  },
  {
   "cell_type": "code",
   "execution_count": 5,
   "metadata": {},
   "outputs": [
    {
     "data": {
      "text/html": [
       "<div>\n",
       "<style scoped>\n",
       "    .dataframe tbody tr th:only-of-type {\n",
       "        vertical-align: middle;\n",
       "    }\n",
       "\n",
       "    .dataframe tbody tr th {\n",
       "        vertical-align: top;\n",
       "    }\n",
       "\n",
       "    .dataframe thead th {\n",
       "        text-align: right;\n",
       "    }\n",
       "</style>\n",
       "<table border=\"1\" class=\"dataframe\">\n",
       "  <thead>\n",
       "    <tr style=\"text-align: right;\">\n",
       "      <th></th>\n",
       "      <th>First Name</th>\n",
       "      <th>Gender</th>\n",
       "      <th>Start Date</th>\n",
       "      <th>Last Login Time</th>\n",
       "      <th>Salary</th>\n",
       "      <th>Bonus %</th>\n",
       "      <th>Senior Management</th>\n",
       "      <th>Team</th>\n",
       "    </tr>\n",
       "  </thead>\n",
       "  <tbody>\n",
       "    <tr>\n",
       "      <th>788</th>\n",
       "      <td>Michelle</td>\n",
       "      <td>NaN</td>\n",
       "      <td>3/31/2012</td>\n",
       "      <td>6:28 AM</td>\n",
       "      <td>124441</td>\n",
       "      <td>16.353</td>\n",
       "      <td>False</td>\n",
       "      <td>Business Development</td>\n",
       "    </tr>\n",
       "    <tr>\n",
       "      <th>121</th>\n",
       "      <td>Kathleen</td>\n",
       "      <td>NaN</td>\n",
       "      <td>5/9/2016</td>\n",
       "      <td>8:55 AM</td>\n",
       "      <td>119735</td>\n",
       "      <td>18.740</td>\n",
       "      <td>False</td>\n",
       "      <td>Product</td>\n",
       "    </tr>\n",
       "    <tr>\n",
       "      <th>696</th>\n",
       "      <td>Samuel</td>\n",
       "      <td>Male</td>\n",
       "      <td>5/25/2012</td>\n",
       "      <td>4:40 PM</td>\n",
       "      <td>85550</td>\n",
       "      <td>11.593</td>\n",
       "      <td>True</td>\n",
       "      <td>Marketing</td>\n",
       "    </tr>\n",
       "    <tr>\n",
       "      <th>643</th>\n",
       "      <td>Shawn</td>\n",
       "      <td>Male</td>\n",
       "      <td>9/29/1987</td>\n",
       "      <td>10:11 PM</td>\n",
       "      <td>71975</td>\n",
       "      <td>9.770</td>\n",
       "      <td>False</td>\n",
       "      <td>Human Resources</td>\n",
       "    </tr>\n",
       "    <tr>\n",
       "      <th>660</th>\n",
       "      <td>Mary</td>\n",
       "      <td>NaN</td>\n",
       "      <td>12/24/1986</td>\n",
       "      <td>7:02 PM</td>\n",
       "      <td>100341</td>\n",
       "      <td>6.662</td>\n",
       "      <td>False</td>\n",
       "      <td>Distribution</td>\n",
       "    </tr>\n",
       "  </tbody>\n",
       "</table>\n",
       "</div>"
      ],
      "text/plain": [
       "    First Name Gender  Start Date Last Login Time  Salary  Bonus %  \\\n",
       "788   Michelle    NaN   3/31/2012         6:28 AM  124441   16.353   \n",
       "121   Kathleen    NaN    5/9/2016         8:55 AM  119735   18.740   \n",
       "696     Samuel   Male   5/25/2012         4:40 PM   85550   11.593   \n",
       "643      Shawn   Male   9/29/1987        10:11 PM   71975    9.770   \n",
       "660       Mary    NaN  12/24/1986         7:02 PM  100341    6.662   \n",
       "\n",
       "    Senior Management                  Team  \n",
       "788             False  Business Development  \n",
       "121             False               Product  \n",
       "696              True             Marketing  \n",
       "643             False       Human Resources  \n",
       "660             False          Distribution  "
      ]
     },
     "execution_count": 5,
     "metadata": {},
     "output_type": "execute_result"
    }
   ],
   "source": [
    " #Code4: Dropping Rows with at least 1 null value in CSV file.\n",
    "    \n",
    " # making data frame from csv file  \n",
    "data = pd.read_csv(r'C:\\Users\\Administrateur\\Downloads\\employees.csv')\n",
    "data.sample(5)"
   ]
  },
  {
   "cell_type": "code",
   "execution_count": 6,
   "metadata": {},
   "outputs": [
    {
     "data": {
      "text/plain": [
       "(1000, 8)"
      ]
     },
     "execution_count": 6,
     "metadata": {},
     "output_type": "execute_result"
    }
   ],
   "source": [
    "data.shape"
   ]
  },
  {
   "cell_type": "code",
   "execution_count": 7,
   "metadata": {},
   "outputs": [
    {
     "data": {
      "text/html": [
       "<div>\n",
       "<style scoped>\n",
       "    .dataframe tbody tr th:only-of-type {\n",
       "        vertical-align: middle;\n",
       "    }\n",
       "\n",
       "    .dataframe tbody tr th {\n",
       "        vertical-align: top;\n",
       "    }\n",
       "\n",
       "    .dataframe thead th {\n",
       "        text-align: right;\n",
       "    }\n",
       "</style>\n",
       "<table border=\"1\" class=\"dataframe\">\n",
       "  <thead>\n",
       "    <tr style=\"text-align: right;\">\n",
       "      <th></th>\n",
       "      <th>First Name</th>\n",
       "      <th>Gender</th>\n",
       "      <th>Start Date</th>\n",
       "      <th>Last Login Time</th>\n",
       "      <th>Salary</th>\n",
       "      <th>Bonus %</th>\n",
       "      <th>Senior Management</th>\n",
       "      <th>Team</th>\n",
       "    </tr>\n",
       "  </thead>\n",
       "  <tbody>\n",
       "    <tr>\n",
       "      <th>0</th>\n",
       "      <td>Douglas</td>\n",
       "      <td>Male</td>\n",
       "      <td>8/6/1993</td>\n",
       "      <td>12:42 PM</td>\n",
       "      <td>97308</td>\n",
       "      <td>6.945</td>\n",
       "      <td>True</td>\n",
       "      <td>Marketing</td>\n",
       "    </tr>\n",
       "    <tr>\n",
       "      <th>2</th>\n",
       "      <td>Maria</td>\n",
       "      <td>Female</td>\n",
       "      <td>4/23/1993</td>\n",
       "      <td>11:17 AM</td>\n",
       "      <td>130590</td>\n",
       "      <td>11.858</td>\n",
       "      <td>False</td>\n",
       "      <td>Finance</td>\n",
       "    </tr>\n",
       "    <tr>\n",
       "      <th>3</th>\n",
       "      <td>Jerry</td>\n",
       "      <td>Male</td>\n",
       "      <td>3/4/2005</td>\n",
       "      <td>1:00 PM</td>\n",
       "      <td>138705</td>\n",
       "      <td>9.340</td>\n",
       "      <td>True</td>\n",
       "      <td>Finance</td>\n",
       "    </tr>\n",
       "    <tr>\n",
       "      <th>4</th>\n",
       "      <td>Larry</td>\n",
       "      <td>Male</td>\n",
       "      <td>1/24/1998</td>\n",
       "      <td>4:47 PM</td>\n",
       "      <td>101004</td>\n",
       "      <td>1.389</td>\n",
       "      <td>True</td>\n",
       "      <td>Client Services</td>\n",
       "    </tr>\n",
       "    <tr>\n",
       "      <th>5</th>\n",
       "      <td>Dennis</td>\n",
       "      <td>Male</td>\n",
       "      <td>4/18/1987</td>\n",
       "      <td>1:35 AM</td>\n",
       "      <td>115163</td>\n",
       "      <td>10.125</td>\n",
       "      <td>False</td>\n",
       "      <td>Legal</td>\n",
       "    </tr>\n",
       "    <tr>\n",
       "      <th>...</th>\n",
       "      <td>...</td>\n",
       "      <td>...</td>\n",
       "      <td>...</td>\n",
       "      <td>...</td>\n",
       "      <td>...</td>\n",
       "      <td>...</td>\n",
       "      <td>...</td>\n",
       "      <td>...</td>\n",
       "    </tr>\n",
       "    <tr>\n",
       "      <th>994</th>\n",
       "      <td>George</td>\n",
       "      <td>Male</td>\n",
       "      <td>6/21/2013</td>\n",
       "      <td>5:47 PM</td>\n",
       "      <td>98874</td>\n",
       "      <td>4.479</td>\n",
       "      <td>True</td>\n",
       "      <td>Marketing</td>\n",
       "    </tr>\n",
       "    <tr>\n",
       "      <th>996</th>\n",
       "      <td>Phillip</td>\n",
       "      <td>Male</td>\n",
       "      <td>1/31/1984</td>\n",
       "      <td>6:30 AM</td>\n",
       "      <td>42392</td>\n",
       "      <td>19.675</td>\n",
       "      <td>False</td>\n",
       "      <td>Finance</td>\n",
       "    </tr>\n",
       "    <tr>\n",
       "      <th>997</th>\n",
       "      <td>Russell</td>\n",
       "      <td>Male</td>\n",
       "      <td>5/20/2013</td>\n",
       "      <td>12:39 PM</td>\n",
       "      <td>96914</td>\n",
       "      <td>1.421</td>\n",
       "      <td>False</td>\n",
       "      <td>Product</td>\n",
       "    </tr>\n",
       "    <tr>\n",
       "      <th>998</th>\n",
       "      <td>Larry</td>\n",
       "      <td>Male</td>\n",
       "      <td>4/20/2013</td>\n",
       "      <td>4:45 PM</td>\n",
       "      <td>60500</td>\n",
       "      <td>11.985</td>\n",
       "      <td>False</td>\n",
       "      <td>Business Development</td>\n",
       "    </tr>\n",
       "    <tr>\n",
       "      <th>999</th>\n",
       "      <td>Albert</td>\n",
       "      <td>Male</td>\n",
       "      <td>5/15/2012</td>\n",
       "      <td>6:24 PM</td>\n",
       "      <td>129949</td>\n",
       "      <td>10.169</td>\n",
       "      <td>True</td>\n",
       "      <td>Sales</td>\n",
       "    </tr>\n",
       "  </tbody>\n",
       "</table>\n",
       "<p>764 rows × 8 columns</p>\n",
       "</div>"
      ],
      "text/plain": [
       "    First Name  Gender Start Date Last Login Time  Salary  Bonus %  \\\n",
       "0      Douglas    Male   8/6/1993        12:42 PM   97308    6.945   \n",
       "2        Maria  Female  4/23/1993        11:17 AM  130590   11.858   \n",
       "3        Jerry    Male   3/4/2005         1:00 PM  138705    9.340   \n",
       "4        Larry    Male  1/24/1998         4:47 PM  101004    1.389   \n",
       "5       Dennis    Male  4/18/1987         1:35 AM  115163   10.125   \n",
       "..         ...     ...        ...             ...     ...      ...   \n",
       "994     George    Male  6/21/2013         5:47 PM   98874    4.479   \n",
       "996    Phillip    Male  1/31/1984         6:30 AM   42392   19.675   \n",
       "997    Russell    Male  5/20/2013        12:39 PM   96914    1.421   \n",
       "998      Larry    Male  4/20/2013         4:45 PM   60500   11.985   \n",
       "999     Albert    Male  5/15/2012         6:24 PM  129949   10.169   \n",
       "\n",
       "    Senior Management                  Team  \n",
       "0                True             Marketing  \n",
       "2               False               Finance  \n",
       "3                True               Finance  \n",
       "4                True       Client Services  \n",
       "5               False                 Legal  \n",
       "..                ...                   ...  \n",
       "994              True             Marketing  \n",
       "996             False               Finance  \n",
       "997             False               Product  \n",
       "998             False  Business Development  \n",
       "999              True                 Sales  \n",
       "\n",
       "[764 rows x 8 columns]"
      ]
     },
     "execution_count": 7,
     "metadata": {},
     "output_type": "execute_result"
    }
   ],
   "source": [
    "# making new data frame with dropped NA values  \n",
    "new_data = data.dropna(axis = 0, how ='any')  \n",
    "    \n",
    "new_data "
   ]
  },
  {
   "cell_type": "code",
   "execution_count": 8,
   "metadata": {},
   "outputs": [
    {
     "data": {
      "text/plain": [
       "(764, 8)"
      ]
     },
     "execution_count": 8,
     "metadata": {},
     "output_type": "execute_result"
    }
   ],
   "source": [
    "new_data.shape"
   ]
  },
  {
   "cell_type": "code",
   "execution_count": 9,
   "metadata": {},
   "outputs": [
    {
     "name": "stdout",
     "output_type": "stream",
     "text": [
      "Old data frame length: 1000\n",
      "New data frame length: 764\n",
      "Number of rows with at least 1 NA value:  236\n"
     ]
    }
   ],
   "source": [
    "print(\"Old data frame length:\", len(data)) \n",
    "print(\"New data frame length:\", len(new_data))  \n",
    "print(\"Number of rows with at least 1 NA value: \", \n",
    "      (len(data)-len(new_data))) "
   ]
  },
  {
   "cell_type": "markdown",
   "metadata": {},
   "source": [
    "Drop rows from the dataframe based on certain condition applied on a column"
   ]
  },
  {
   "cell_type": "code",
   "execution_count": 10,
   "metadata": {},
   "outputs": [],
   "source": [
    "# Read the csv file and construct the  \n",
    "# dataframe \n",
    "df = pd.read_csv(r'C:\\Users\\Administrateur\\Downloads\\nba.csv') \n",
    "  \n"
   ]
  },
  {
   "cell_type": "code",
   "execution_count": 11,
   "metadata": {},
   "outputs": [
    {
     "data": {
      "text/html": [
       "<div>\n",
       "<style scoped>\n",
       "    .dataframe tbody tr th:only-of-type {\n",
       "        vertical-align: middle;\n",
       "    }\n",
       "\n",
       "    .dataframe tbody tr th {\n",
       "        vertical-align: top;\n",
       "    }\n",
       "\n",
       "    .dataframe thead th {\n",
       "        text-align: right;\n",
       "    }\n",
       "</style>\n",
       "<table border=\"1\" class=\"dataframe\">\n",
       "  <thead>\n",
       "    <tr style=\"text-align: right;\">\n",
       "      <th></th>\n",
       "      <th>Name</th>\n",
       "      <th>Team</th>\n",
       "      <th>Number</th>\n",
       "      <th>Position</th>\n",
       "      <th>Age</th>\n",
       "      <th>Height</th>\n",
       "      <th>Weight</th>\n",
       "      <th>College</th>\n",
       "      <th>Salary</th>\n",
       "    </tr>\n",
       "  </thead>\n",
       "  <tbody>\n",
       "    <tr>\n",
       "      <th>0</th>\n",
       "      <td>Avery Bradley</td>\n",
       "      <td>Boston Celtics</td>\n",
       "      <td>0.0</td>\n",
       "      <td>PG</td>\n",
       "      <td>25.0</td>\n",
       "      <td>6-2</td>\n",
       "      <td>180.0</td>\n",
       "      <td>Texas</td>\n",
       "      <td>7730337.0</td>\n",
       "    </tr>\n",
       "    <tr>\n",
       "      <th>1</th>\n",
       "      <td>Jae Crowder</td>\n",
       "      <td>Boston Celtics</td>\n",
       "      <td>99.0</td>\n",
       "      <td>SF</td>\n",
       "      <td>25.0</td>\n",
       "      <td>6-6</td>\n",
       "      <td>235.0</td>\n",
       "      <td>Marquette</td>\n",
       "      <td>6796117.0</td>\n",
       "    </tr>\n",
       "    <tr>\n",
       "      <th>2</th>\n",
       "      <td>John Holland</td>\n",
       "      <td>Boston Celtics</td>\n",
       "      <td>30.0</td>\n",
       "      <td>SG</td>\n",
       "      <td>27.0</td>\n",
       "      <td>6-5</td>\n",
       "      <td>205.0</td>\n",
       "      <td>Boston University</td>\n",
       "      <td>NaN</td>\n",
       "    </tr>\n",
       "    <tr>\n",
       "      <th>3</th>\n",
       "      <td>R.J. Hunter</td>\n",
       "      <td>Boston Celtics</td>\n",
       "      <td>28.0</td>\n",
       "      <td>SG</td>\n",
       "      <td>22.0</td>\n",
       "      <td>6-5</td>\n",
       "      <td>185.0</td>\n",
       "      <td>Georgia State</td>\n",
       "      <td>1148640.0</td>\n",
       "    </tr>\n",
       "    <tr>\n",
       "      <th>4</th>\n",
       "      <td>Jonas Jerebko</td>\n",
       "      <td>Boston Celtics</td>\n",
       "      <td>8.0</td>\n",
       "      <td>PF</td>\n",
       "      <td>29.0</td>\n",
       "      <td>6-10</td>\n",
       "      <td>231.0</td>\n",
       "      <td>NaN</td>\n",
       "      <td>5000000.0</td>\n",
       "    </tr>\n",
       "    <tr>\n",
       "      <th>5</th>\n",
       "      <td>Amir Johnson</td>\n",
       "      <td>Boston Celtics</td>\n",
       "      <td>90.0</td>\n",
       "      <td>PF</td>\n",
       "      <td>29.0</td>\n",
       "      <td>6-9</td>\n",
       "      <td>240.0</td>\n",
       "      <td>NaN</td>\n",
       "      <td>12000000.0</td>\n",
       "    </tr>\n",
       "    <tr>\n",
       "      <th>6</th>\n",
       "      <td>Jordan Mickey</td>\n",
       "      <td>Boston Celtics</td>\n",
       "      <td>55.0</td>\n",
       "      <td>PF</td>\n",
       "      <td>21.0</td>\n",
       "      <td>6-8</td>\n",
       "      <td>235.0</td>\n",
       "      <td>LSU</td>\n",
       "      <td>1170960.0</td>\n",
       "    </tr>\n",
       "    <tr>\n",
       "      <th>7</th>\n",
       "      <td>Kelly Olynyk</td>\n",
       "      <td>Boston Celtics</td>\n",
       "      <td>41.0</td>\n",
       "      <td>C</td>\n",
       "      <td>25.0</td>\n",
       "      <td>7-0</td>\n",
       "      <td>238.0</td>\n",
       "      <td>Gonzaga</td>\n",
       "      <td>2165160.0</td>\n",
       "    </tr>\n",
       "    <tr>\n",
       "      <th>8</th>\n",
       "      <td>Terry Rozier</td>\n",
       "      <td>Boston Celtics</td>\n",
       "      <td>12.0</td>\n",
       "      <td>PG</td>\n",
       "      <td>22.0</td>\n",
       "      <td>6-2</td>\n",
       "      <td>190.0</td>\n",
       "      <td>Louisville</td>\n",
       "      <td>1824360.0</td>\n",
       "    </tr>\n",
       "    <tr>\n",
       "      <th>9</th>\n",
       "      <td>Marcus Smart</td>\n",
       "      <td>Boston Celtics</td>\n",
       "      <td>36.0</td>\n",
       "      <td>PG</td>\n",
       "      <td>22.0</td>\n",
       "      <td>6-4</td>\n",
       "      <td>220.0</td>\n",
       "      <td>Oklahoma State</td>\n",
       "      <td>3431040.0</td>\n",
       "    </tr>\n",
       "    <tr>\n",
       "      <th>10</th>\n",
       "      <td>Jared Sullinger</td>\n",
       "      <td>Boston Celtics</td>\n",
       "      <td>7.0</td>\n",
       "      <td>C</td>\n",
       "      <td>24.0</td>\n",
       "      <td>6-9</td>\n",
       "      <td>260.0</td>\n",
       "      <td>Ohio State</td>\n",
       "      <td>2569260.0</td>\n",
       "    </tr>\n",
       "    <tr>\n",
       "      <th>11</th>\n",
       "      <td>Isaiah Thomas</td>\n",
       "      <td>Boston Celtics</td>\n",
       "      <td>4.0</td>\n",
       "      <td>PG</td>\n",
       "      <td>27.0</td>\n",
       "      <td>5-9</td>\n",
       "      <td>185.0</td>\n",
       "      <td>Washington</td>\n",
       "      <td>6912869.0</td>\n",
       "    </tr>\n",
       "    <tr>\n",
       "      <th>12</th>\n",
       "      <td>Evan Turner</td>\n",
       "      <td>Boston Celtics</td>\n",
       "      <td>11.0</td>\n",
       "      <td>SG</td>\n",
       "      <td>27.0</td>\n",
       "      <td>6-7</td>\n",
       "      <td>220.0</td>\n",
       "      <td>Ohio State</td>\n",
       "      <td>3425510.0</td>\n",
       "    </tr>\n",
       "    <tr>\n",
       "      <th>13</th>\n",
       "      <td>James Young</td>\n",
       "      <td>Boston Celtics</td>\n",
       "      <td>13.0</td>\n",
       "      <td>SG</td>\n",
       "      <td>20.0</td>\n",
       "      <td>6-6</td>\n",
       "      <td>215.0</td>\n",
       "      <td>Kentucky</td>\n",
       "      <td>1749840.0</td>\n",
       "    </tr>\n",
       "    <tr>\n",
       "      <th>14</th>\n",
       "      <td>Tyler Zeller</td>\n",
       "      <td>Boston Celtics</td>\n",
       "      <td>44.0</td>\n",
       "      <td>C</td>\n",
       "      <td>26.0</td>\n",
       "      <td>7-0</td>\n",
       "      <td>253.0</td>\n",
       "      <td>North Carolina</td>\n",
       "      <td>2616975.0</td>\n",
       "    </tr>\n",
       "  </tbody>\n",
       "</table>\n",
       "</div>"
      ],
      "text/plain": [
       "               Name            Team  Number Position   Age Height  Weight  \\\n",
       "0     Avery Bradley  Boston Celtics     0.0       PG  25.0    6-2   180.0   \n",
       "1       Jae Crowder  Boston Celtics    99.0       SF  25.0    6-6   235.0   \n",
       "2      John Holland  Boston Celtics    30.0       SG  27.0    6-5   205.0   \n",
       "3       R.J. Hunter  Boston Celtics    28.0       SG  22.0    6-5   185.0   \n",
       "4     Jonas Jerebko  Boston Celtics     8.0       PF  29.0   6-10   231.0   \n",
       "5      Amir Johnson  Boston Celtics    90.0       PF  29.0    6-9   240.0   \n",
       "6     Jordan Mickey  Boston Celtics    55.0       PF  21.0    6-8   235.0   \n",
       "7      Kelly Olynyk  Boston Celtics    41.0        C  25.0    7-0   238.0   \n",
       "8      Terry Rozier  Boston Celtics    12.0       PG  22.0    6-2   190.0   \n",
       "9      Marcus Smart  Boston Celtics    36.0       PG  22.0    6-4   220.0   \n",
       "10  Jared Sullinger  Boston Celtics     7.0        C  24.0    6-9   260.0   \n",
       "11    Isaiah Thomas  Boston Celtics     4.0       PG  27.0    5-9   185.0   \n",
       "12      Evan Turner  Boston Celtics    11.0       SG  27.0    6-7   220.0   \n",
       "13      James Young  Boston Celtics    13.0       SG  20.0    6-6   215.0   \n",
       "14     Tyler Zeller  Boston Celtics    44.0        C  26.0    7-0   253.0   \n",
       "\n",
       "              College      Salary  \n",
       "0               Texas   7730337.0  \n",
       "1           Marquette   6796117.0  \n",
       "2   Boston University         NaN  \n",
       "3       Georgia State   1148640.0  \n",
       "4                 NaN   5000000.0  \n",
       "5                 NaN  12000000.0  \n",
       "6                 LSU   1170960.0  \n",
       "7             Gonzaga   2165160.0  \n",
       "8          Louisville   1824360.0  \n",
       "9      Oklahoma State   3431040.0  \n",
       "10         Ohio State   2569260.0  \n",
       "11         Washington   6912869.0  \n",
       "12         Ohio State   3425510.0  \n",
       "13           Kentucky   1749840.0  \n",
       "14     North Carolina   2616975.0  "
      ]
     },
     "execution_count": 11,
     "metadata": {},
     "output_type": "execute_result"
    }
   ],
   "source": [
    "# Visualize the dataframe \n",
    "df.head(15)\n",
    "  \n"
   ]
  },
  {
   "cell_type": "code",
   "execution_count": 12,
   "metadata": {},
   "outputs": [
    {
     "name": "stdout",
     "output_type": "stream",
     "text": [
      "(458, 9)\n"
     ]
    }
   ],
   "source": [
    "# Print the shape of the dataframe \n",
    "print(df.shape) "
   ]
  },
  {
   "cell_type": "code",
   "execution_count": 13,
   "metadata": {},
   "outputs": [],
   "source": [
    "# Filter all rows for which the player's \n",
    "# age is greater than or equal to 25 \n",
    "df_filtered = df[df['Age'] >= 25] \n",
    "  \n"
   ]
  },
  {
   "cell_type": "code",
   "execution_count": 14,
   "metadata": {},
   "outputs": [
    {
     "data": {
      "text/html": [
       "<div>\n",
       "<style scoped>\n",
       "    .dataframe tbody tr th:only-of-type {\n",
       "        vertical-align: middle;\n",
       "    }\n",
       "\n",
       "    .dataframe tbody tr th {\n",
       "        vertical-align: top;\n",
       "    }\n",
       "\n",
       "    .dataframe thead th {\n",
       "        text-align: right;\n",
       "    }\n",
       "</style>\n",
       "<table border=\"1\" class=\"dataframe\">\n",
       "  <thead>\n",
       "    <tr style=\"text-align: right;\">\n",
       "      <th></th>\n",
       "      <th>Name</th>\n",
       "      <th>Team</th>\n",
       "      <th>Number</th>\n",
       "      <th>Position</th>\n",
       "      <th>Age</th>\n",
       "      <th>Height</th>\n",
       "      <th>Weight</th>\n",
       "      <th>College</th>\n",
       "      <th>Salary</th>\n",
       "    </tr>\n",
       "  </thead>\n",
       "  <tbody>\n",
       "    <tr>\n",
       "      <th>0</th>\n",
       "      <td>Avery Bradley</td>\n",
       "      <td>Boston Celtics</td>\n",
       "      <td>0.0</td>\n",
       "      <td>PG</td>\n",
       "      <td>25.0</td>\n",
       "      <td>6-2</td>\n",
       "      <td>180.0</td>\n",
       "      <td>Texas</td>\n",
       "      <td>7730337.0</td>\n",
       "    </tr>\n",
       "    <tr>\n",
       "      <th>1</th>\n",
       "      <td>Jae Crowder</td>\n",
       "      <td>Boston Celtics</td>\n",
       "      <td>99.0</td>\n",
       "      <td>SF</td>\n",
       "      <td>25.0</td>\n",
       "      <td>6-6</td>\n",
       "      <td>235.0</td>\n",
       "      <td>Marquette</td>\n",
       "      <td>6796117.0</td>\n",
       "    </tr>\n",
       "    <tr>\n",
       "      <th>2</th>\n",
       "      <td>John Holland</td>\n",
       "      <td>Boston Celtics</td>\n",
       "      <td>30.0</td>\n",
       "      <td>SG</td>\n",
       "      <td>27.0</td>\n",
       "      <td>6-5</td>\n",
       "      <td>205.0</td>\n",
       "      <td>Boston University</td>\n",
       "      <td>NaN</td>\n",
       "    </tr>\n",
       "    <tr>\n",
       "      <th>4</th>\n",
       "      <td>Jonas Jerebko</td>\n",
       "      <td>Boston Celtics</td>\n",
       "      <td>8.0</td>\n",
       "      <td>PF</td>\n",
       "      <td>29.0</td>\n",
       "      <td>6-10</td>\n",
       "      <td>231.0</td>\n",
       "      <td>NaN</td>\n",
       "      <td>5000000.0</td>\n",
       "    </tr>\n",
       "    <tr>\n",
       "      <th>5</th>\n",
       "      <td>Amir Johnson</td>\n",
       "      <td>Boston Celtics</td>\n",
       "      <td>90.0</td>\n",
       "      <td>PF</td>\n",
       "      <td>29.0</td>\n",
       "      <td>6-9</td>\n",
       "      <td>240.0</td>\n",
       "      <td>NaN</td>\n",
       "      <td>12000000.0</td>\n",
       "    </tr>\n",
       "    <tr>\n",
       "      <th>7</th>\n",
       "      <td>Kelly Olynyk</td>\n",
       "      <td>Boston Celtics</td>\n",
       "      <td>41.0</td>\n",
       "      <td>C</td>\n",
       "      <td>25.0</td>\n",
       "      <td>7-0</td>\n",
       "      <td>238.0</td>\n",
       "      <td>Gonzaga</td>\n",
       "      <td>2165160.0</td>\n",
       "    </tr>\n",
       "    <tr>\n",
       "      <th>11</th>\n",
       "      <td>Isaiah Thomas</td>\n",
       "      <td>Boston Celtics</td>\n",
       "      <td>4.0</td>\n",
       "      <td>PG</td>\n",
       "      <td>27.0</td>\n",
       "      <td>5-9</td>\n",
       "      <td>185.0</td>\n",
       "      <td>Washington</td>\n",
       "      <td>6912869.0</td>\n",
       "    </tr>\n",
       "    <tr>\n",
       "      <th>12</th>\n",
       "      <td>Evan Turner</td>\n",
       "      <td>Boston Celtics</td>\n",
       "      <td>11.0</td>\n",
       "      <td>SG</td>\n",
       "      <td>27.0</td>\n",
       "      <td>6-7</td>\n",
       "      <td>220.0</td>\n",
       "      <td>Ohio State</td>\n",
       "      <td>3425510.0</td>\n",
       "    </tr>\n",
       "    <tr>\n",
       "      <th>14</th>\n",
       "      <td>Tyler Zeller</td>\n",
       "      <td>Boston Celtics</td>\n",
       "      <td>44.0</td>\n",
       "      <td>C</td>\n",
       "      <td>26.0</td>\n",
       "      <td>7-0</td>\n",
       "      <td>253.0</td>\n",
       "      <td>North Carolina</td>\n",
       "      <td>2616975.0</td>\n",
       "    </tr>\n",
       "    <tr>\n",
       "      <th>15</th>\n",
       "      <td>Bojan Bogdanovic</td>\n",
       "      <td>Brooklyn Nets</td>\n",
       "      <td>44.0</td>\n",
       "      <td>SG</td>\n",
       "      <td>27.0</td>\n",
       "      <td>6-8</td>\n",
       "      <td>216.0</td>\n",
       "      <td>NaN</td>\n",
       "      <td>3425510.0</td>\n",
       "    </tr>\n",
       "    <tr>\n",
       "      <th>17</th>\n",
       "      <td>Wayne Ellington</td>\n",
       "      <td>Brooklyn Nets</td>\n",
       "      <td>21.0</td>\n",
       "      <td>SG</td>\n",
       "      <td>28.0</td>\n",
       "      <td>6-4</td>\n",
       "      <td>200.0</td>\n",
       "      <td>North Carolina</td>\n",
       "      <td>1500000.0</td>\n",
       "    </tr>\n",
       "    <tr>\n",
       "      <th>19</th>\n",
       "      <td>Jarrett Jack</td>\n",
       "      <td>Brooklyn Nets</td>\n",
       "      <td>2.0</td>\n",
       "      <td>PG</td>\n",
       "      <td>32.0</td>\n",
       "      <td>6-3</td>\n",
       "      <td>200.0</td>\n",
       "      <td>Georgia Tech</td>\n",
       "      <td>6300000.0</td>\n",
       "    </tr>\n",
       "    <tr>\n",
       "      <th>21</th>\n",
       "      <td>Sean Kilpatrick</td>\n",
       "      <td>Brooklyn Nets</td>\n",
       "      <td>6.0</td>\n",
       "      <td>SG</td>\n",
       "      <td>26.0</td>\n",
       "      <td>6-4</td>\n",
       "      <td>219.0</td>\n",
       "      <td>Cincinnati</td>\n",
       "      <td>134215.0</td>\n",
       "    </tr>\n",
       "    <tr>\n",
       "      <th>23</th>\n",
       "      <td>Brook Lopez</td>\n",
       "      <td>Brooklyn Nets</td>\n",
       "      <td>11.0</td>\n",
       "      <td>C</td>\n",
       "      <td>28.0</td>\n",
       "      <td>7-0</td>\n",
       "      <td>275.0</td>\n",
       "      <td>Stanford</td>\n",
       "      <td>19689000.0</td>\n",
       "    </tr>\n",
       "    <tr>\n",
       "      <th>25</th>\n",
       "      <td>Willie Reed</td>\n",
       "      <td>Brooklyn Nets</td>\n",
       "      <td>33.0</td>\n",
       "      <td>PF</td>\n",
       "      <td>26.0</td>\n",
       "      <td>6-10</td>\n",
       "      <td>220.0</td>\n",
       "      <td>Saint Louis</td>\n",
       "      <td>947276.0</td>\n",
       "    </tr>\n",
       "  </tbody>\n",
       "</table>\n",
       "</div>"
      ],
      "text/plain": [
       "                Name            Team  Number Position   Age Height  Weight  \\\n",
       "0      Avery Bradley  Boston Celtics     0.0       PG  25.0    6-2   180.0   \n",
       "1        Jae Crowder  Boston Celtics    99.0       SF  25.0    6-6   235.0   \n",
       "2       John Holland  Boston Celtics    30.0       SG  27.0    6-5   205.0   \n",
       "4      Jonas Jerebko  Boston Celtics     8.0       PF  29.0   6-10   231.0   \n",
       "5       Amir Johnson  Boston Celtics    90.0       PF  29.0    6-9   240.0   \n",
       "7       Kelly Olynyk  Boston Celtics    41.0        C  25.0    7-0   238.0   \n",
       "11     Isaiah Thomas  Boston Celtics     4.0       PG  27.0    5-9   185.0   \n",
       "12       Evan Turner  Boston Celtics    11.0       SG  27.0    6-7   220.0   \n",
       "14      Tyler Zeller  Boston Celtics    44.0        C  26.0    7-0   253.0   \n",
       "15  Bojan Bogdanovic   Brooklyn Nets    44.0       SG  27.0    6-8   216.0   \n",
       "17   Wayne Ellington   Brooklyn Nets    21.0       SG  28.0    6-4   200.0   \n",
       "19      Jarrett Jack   Brooklyn Nets     2.0       PG  32.0    6-3   200.0   \n",
       "21   Sean Kilpatrick   Brooklyn Nets     6.0       SG  26.0    6-4   219.0   \n",
       "23       Brook Lopez   Brooklyn Nets    11.0        C  28.0    7-0   275.0   \n",
       "25       Willie Reed   Brooklyn Nets    33.0       PF  26.0   6-10   220.0   \n",
       "\n",
       "              College      Salary  \n",
       "0               Texas   7730337.0  \n",
       "1           Marquette   6796117.0  \n",
       "2   Boston University         NaN  \n",
       "4                 NaN   5000000.0  \n",
       "5                 NaN  12000000.0  \n",
       "7             Gonzaga   2165160.0  \n",
       "11         Washington   6912869.0  \n",
       "12         Ohio State   3425510.0  \n",
       "14     North Carolina   2616975.0  \n",
       "15                NaN   3425510.0  \n",
       "17     North Carolina   1500000.0  \n",
       "19       Georgia Tech   6300000.0  \n",
       "21         Cincinnati    134215.0  \n",
       "23           Stanford  19689000.0  \n",
       "25        Saint Louis    947276.0  "
      ]
     },
     "execution_count": 14,
     "metadata": {},
     "output_type": "execute_result"
    }
   ],
   "source": [
    "# Print the new dataframe \n",
    "df_filtered.head(15) \n",
    "  \n"
   ]
  },
  {
   "cell_type": "code",
   "execution_count": 15,
   "metadata": {},
   "outputs": [
    {
     "data": {
      "text/plain": [
       "(303, 9)"
      ]
     },
     "execution_count": 15,
     "metadata": {},
     "output_type": "execute_result"
    }
   ],
   "source": [
    "# Print the shape of the dataframe \n",
    "df_filtered.shape \n"
   ]
  },
  {
   "cell_type": "code",
   "execution_count": 16,
   "metadata": {},
   "outputs": [
    {
     "data": {
      "text/plain": [
       "155"
      ]
     },
     "execution_count": 16,
     "metadata": {},
     "output_type": "execute_result"
    }
   ],
   "source": [
    "difference = len(df) - len(df_filtered)\n",
    "difference"
   ]
  },
  {
   "cell_type": "markdown",
   "metadata": {},
   "source": [
    "We can use the DataFrame.drop() function to drop such rows which does not satisfy the given condition."
   ]
  },
  {
   "cell_type": "code",
   "execution_count": 17,
   "metadata": {},
   "outputs": [
    {
     "name": "stdout",
     "output_type": "stream",
     "text": [
      "                Name            Team  Number Position   Age Height  Weight  \\\n",
      "0      Avery Bradley  Boston Celtics     0.0       PG  25.0    6-2   180.0   \n",
      "1        Jae Crowder  Boston Celtics    99.0       SF  25.0    6-6   235.0   \n",
      "2       John Holland  Boston Celtics    30.0       SG  27.0    6-5   205.0   \n",
      "4      Jonas Jerebko  Boston Celtics     8.0       PF  29.0   6-10   231.0   \n",
      "5       Amir Johnson  Boston Celtics    90.0       PF  29.0    6-9   240.0   \n",
      "7       Kelly Olynyk  Boston Celtics    41.0        C  25.0    7-0   238.0   \n",
      "11     Isaiah Thomas  Boston Celtics     4.0       PG  27.0    5-9   185.0   \n",
      "12       Evan Turner  Boston Celtics    11.0       SG  27.0    6-7   220.0   \n",
      "14      Tyler Zeller  Boston Celtics    44.0        C  26.0    7-0   253.0   \n",
      "15  Bojan Bogdanovic   Brooklyn Nets    44.0       SG  27.0    6-8   216.0   \n",
      "17   Wayne Ellington   Brooklyn Nets    21.0       SG  28.0    6-4   200.0   \n",
      "19      Jarrett Jack   Brooklyn Nets     2.0       PG  32.0    6-3   200.0   \n",
      "21   Sean Kilpatrick   Brooklyn Nets     6.0       SG  26.0    6-4   219.0   \n",
      "23       Brook Lopez   Brooklyn Nets    11.0        C  28.0    7-0   275.0   \n",
      "25       Willie Reed   Brooklyn Nets    33.0       PF  26.0   6-10   220.0   \n",
      "\n",
      "              College      Salary  \n",
      "0               Texas   7730337.0  \n",
      "1           Marquette   6796117.0  \n",
      "2   Boston University         NaN  \n",
      "4                 NaN   5000000.0  \n",
      "5                 NaN  12000000.0  \n",
      "7             Gonzaga   2165160.0  \n",
      "11         Washington   6912869.0  \n",
      "12         Ohio State   3425510.0  \n",
      "14     North Carolina   2616975.0  \n",
      "15                NaN   3425510.0  \n",
      "17     North Carolina   1500000.0  \n",
      "19       Georgia Tech   6300000.0  \n",
      "21         Cincinnati    134215.0  \n",
      "23           Stanford  19689000.0  \n",
      "25        Saint Louis    947276.0  \n",
      "(303, 9)\n"
     ]
    }
   ],
   "source": [
    "# First filter out those rows which \n",
    "# does not contain any data \n",
    "df = df.dropna(how = 'all') \n",
    "  \n",
    "# Filter all rows for which the player's \n",
    "# age is greater than or equal to 25 \n",
    "df.drop(df[df['Age'] < 25].index, inplace = True) \n",
    "  \n",
    "# Print the modified dataframe \n",
    "print(df.head(15)) \n",
    "  \n",
    "# Print the shape of the dataframe \n",
    "print(df.shape) \n"
   ]
  },
  {
   "cell_type": "markdown",
   "metadata": {},
   "source": [
    "How to drop one or multiple columns in Pandas Dataframe"
   ]
  },
  {
   "cell_type": "code",
   "execution_count": 18,
   "metadata": {},
   "outputs": [],
   "source": [
    "# create a dictionary with five fields each \n",
    "data = { \n",
    "    'A':['A1', 'A2', 'A3', 'A4', 'A5'],  \n",
    "    'B':['B1', 'B2', 'B3', 'B4', 'B5'],  \n",
    "    'C':['C1', 'C2', 'C3', 'C4', 'C5'],  \n",
    "    'D':['D1', 'D2', 'D3', 'D4', 'D5'],  \n",
    "    'E':['E1', 'E2', 'E3', 'E4', 'E5'] } "
   ]
  },
  {
   "cell_type": "code",
   "execution_count": 19,
   "metadata": {},
   "outputs": [
    {
     "data": {
      "text/html": [
       "<div>\n",
       "<style scoped>\n",
       "    .dataframe tbody tr th:only-of-type {\n",
       "        vertical-align: middle;\n",
       "    }\n",
       "\n",
       "    .dataframe tbody tr th {\n",
       "        vertical-align: top;\n",
       "    }\n",
       "\n",
       "    .dataframe thead th {\n",
       "        text-align: right;\n",
       "    }\n",
       "</style>\n",
       "<table border=\"1\" class=\"dataframe\">\n",
       "  <thead>\n",
       "    <tr style=\"text-align: right;\">\n",
       "      <th></th>\n",
       "      <th>A</th>\n",
       "      <th>B</th>\n",
       "      <th>C</th>\n",
       "      <th>D</th>\n",
       "      <th>E</th>\n",
       "    </tr>\n",
       "  </thead>\n",
       "  <tbody>\n",
       "    <tr>\n",
       "      <th>0</th>\n",
       "      <td>A1</td>\n",
       "      <td>B1</td>\n",
       "      <td>C1</td>\n",
       "      <td>D1</td>\n",
       "      <td>E1</td>\n",
       "    </tr>\n",
       "    <tr>\n",
       "      <th>1</th>\n",
       "      <td>A2</td>\n",
       "      <td>B2</td>\n",
       "      <td>C2</td>\n",
       "      <td>D2</td>\n",
       "      <td>E2</td>\n",
       "    </tr>\n",
       "    <tr>\n",
       "      <th>2</th>\n",
       "      <td>A3</td>\n",
       "      <td>B3</td>\n",
       "      <td>C3</td>\n",
       "      <td>D3</td>\n",
       "      <td>E3</td>\n",
       "    </tr>\n",
       "    <tr>\n",
       "      <th>3</th>\n",
       "      <td>A4</td>\n",
       "      <td>B4</td>\n",
       "      <td>C4</td>\n",
       "      <td>D4</td>\n",
       "      <td>E4</td>\n",
       "    </tr>\n",
       "    <tr>\n",
       "      <th>4</th>\n",
       "      <td>A5</td>\n",
       "      <td>B5</td>\n",
       "      <td>C5</td>\n",
       "      <td>D5</td>\n",
       "      <td>E5</td>\n",
       "    </tr>\n",
       "  </tbody>\n",
       "</table>\n",
       "</div>"
      ],
      "text/plain": [
       "    A   B   C   D   E\n",
       "0  A1  B1  C1  D1  E1\n",
       "1  A2  B2  C2  D2  E2\n",
       "2  A3  B3  C3  D3  E3\n",
       "3  A4  B4  C4  D4  E4\n",
       "4  A5  B5  C5  D5  E5"
      ]
     },
     "execution_count": 19,
     "metadata": {},
     "output_type": "execute_result"
    }
   ],
   "source": [
    "# Convert the dictionary into DataFrame  \n",
    "df = pd.DataFrame(data) \n",
    "  \n",
    "df "
   ]
  },
  {
   "cell_type": "code",
   "execution_count": 20,
   "metadata": {},
   "outputs": [
    {
     "data": {
      "text/html": [
       "<div>\n",
       "<style scoped>\n",
       "    .dataframe tbody tr th:only-of-type {\n",
       "        vertical-align: middle;\n",
       "    }\n",
       "\n",
       "    .dataframe tbody tr th {\n",
       "        vertical-align: top;\n",
       "    }\n",
       "\n",
       "    .dataframe thead th {\n",
       "        text-align: right;\n",
       "    }\n",
       "</style>\n",
       "<table border=\"1\" class=\"dataframe\">\n",
       "  <thead>\n",
       "    <tr style=\"text-align: right;\">\n",
       "      <th></th>\n",
       "      <th>B</th>\n",
       "      <th>C</th>\n",
       "      <th>D</th>\n",
       "      <th>E</th>\n",
       "    </tr>\n",
       "  </thead>\n",
       "  <tbody>\n",
       "    <tr>\n",
       "      <th>0</th>\n",
       "      <td>B1</td>\n",
       "      <td>C1</td>\n",
       "      <td>D1</td>\n",
       "      <td>E1</td>\n",
       "    </tr>\n",
       "    <tr>\n",
       "      <th>1</th>\n",
       "      <td>B2</td>\n",
       "      <td>C2</td>\n",
       "      <td>D2</td>\n",
       "      <td>E2</td>\n",
       "    </tr>\n",
       "    <tr>\n",
       "      <th>2</th>\n",
       "      <td>B3</td>\n",
       "      <td>C3</td>\n",
       "      <td>D3</td>\n",
       "      <td>E3</td>\n",
       "    </tr>\n",
       "    <tr>\n",
       "      <th>3</th>\n",
       "      <td>B4</td>\n",
       "      <td>C4</td>\n",
       "      <td>D4</td>\n",
       "      <td>E4</td>\n",
       "    </tr>\n",
       "    <tr>\n",
       "      <th>4</th>\n",
       "      <td>B5</td>\n",
       "      <td>C5</td>\n",
       "      <td>D5</td>\n",
       "      <td>E5</td>\n",
       "    </tr>\n",
       "  </tbody>\n",
       "</table>\n",
       "</div>"
      ],
      "text/plain": [
       "    B   C   D   E\n",
       "0  B1  C1  D1  E1\n",
       "1  B2  C2  D2  E2\n",
       "2  B3  C3  D3  E3\n",
       "3  B4  C4  D4  E4\n",
       "4  B5  C5  D5  E5"
      ]
     },
     "execution_count": 20,
     "metadata": {},
     "output_type": "execute_result"
    }
   ],
   "source": [
    "#Remove specific single column.\n",
    "\n",
    "# Remove column name 'A' \n",
    "df.drop(['A'], axis = 1)"
   ]
  },
  {
   "cell_type": "code",
   "execution_count": 21,
   "metadata": {},
   "outputs": [
    {
     "data": {
      "text/html": [
       "<div>\n",
       "<style scoped>\n",
       "    .dataframe tbody tr th:only-of-type {\n",
       "        vertical-align: middle;\n",
       "    }\n",
       "\n",
       "    .dataframe tbody tr th {\n",
       "        vertical-align: top;\n",
       "    }\n",
       "\n",
       "    .dataframe thead th {\n",
       "        text-align: right;\n",
       "    }\n",
       "</style>\n",
       "<table border=\"1\" class=\"dataframe\">\n",
       "  <thead>\n",
       "    <tr style=\"text-align: right;\">\n",
       "      <th></th>\n",
       "      <th>A</th>\n",
       "      <th>B</th>\n",
       "      <th>E</th>\n",
       "    </tr>\n",
       "  </thead>\n",
       "  <tbody>\n",
       "    <tr>\n",
       "      <th>0</th>\n",
       "      <td>A1</td>\n",
       "      <td>B1</td>\n",
       "      <td>E1</td>\n",
       "    </tr>\n",
       "    <tr>\n",
       "      <th>1</th>\n",
       "      <td>A2</td>\n",
       "      <td>B2</td>\n",
       "      <td>E2</td>\n",
       "    </tr>\n",
       "    <tr>\n",
       "      <th>2</th>\n",
       "      <td>A3</td>\n",
       "      <td>B3</td>\n",
       "      <td>E3</td>\n",
       "    </tr>\n",
       "    <tr>\n",
       "      <th>3</th>\n",
       "      <td>A4</td>\n",
       "      <td>B4</td>\n",
       "      <td>E4</td>\n",
       "    </tr>\n",
       "    <tr>\n",
       "      <th>4</th>\n",
       "      <td>A5</td>\n",
       "      <td>B5</td>\n",
       "      <td>E5</td>\n",
       "    </tr>\n",
       "  </tbody>\n",
       "</table>\n",
       "</div>"
      ],
      "text/plain": [
       "    A   B   E\n",
       "0  A1  B1  E1\n",
       "1  A2  B2  E2\n",
       "2  A3  B3  E3\n",
       "3  A4  B4  E4\n",
       "4  A5  B5  E5"
      ]
     },
     "execution_count": 21,
     "metadata": {},
     "output_type": "execute_result"
    }
   ],
   "source": [
    "#Remove specific multiple columns.\n",
    "\n",
    "# Remove two columns name is 'C' and 'D' \n",
    "df.drop(['C', 'D'], axis = 1) "
   ]
  },
  {
   "cell_type": "code",
   "execution_count": 22,
   "metadata": {},
   "outputs": [
    {
     "data": {
      "text/html": [
       "<div>\n",
       "<style scoped>\n",
       "    .dataframe tbody tr th:only-of-type {\n",
       "        vertical-align: middle;\n",
       "    }\n",
       "\n",
       "    .dataframe tbody tr th {\n",
       "        vertical-align: top;\n",
       "    }\n",
       "\n",
       "    .dataframe thead th {\n",
       "        text-align: right;\n",
       "    }\n",
       "</style>\n",
       "<table border=\"1\" class=\"dataframe\">\n",
       "  <thead>\n",
       "    <tr style=\"text-align: right;\">\n",
       "      <th></th>\n",
       "      <th>B</th>\n",
       "      <th>D</th>\n",
       "    </tr>\n",
       "  </thead>\n",
       "  <tbody>\n",
       "    <tr>\n",
       "      <th>0</th>\n",
       "      <td>B1</td>\n",
       "      <td>D1</td>\n",
       "    </tr>\n",
       "    <tr>\n",
       "      <th>1</th>\n",
       "      <td>B2</td>\n",
       "      <td>D2</td>\n",
       "    </tr>\n",
       "    <tr>\n",
       "      <th>2</th>\n",
       "      <td>B3</td>\n",
       "      <td>D3</td>\n",
       "    </tr>\n",
       "    <tr>\n",
       "      <th>3</th>\n",
       "      <td>B4</td>\n",
       "      <td>D4</td>\n",
       "    </tr>\n",
       "    <tr>\n",
       "      <th>4</th>\n",
       "      <td>B5</td>\n",
       "      <td>D5</td>\n",
       "    </tr>\n",
       "  </tbody>\n",
       "</table>\n",
       "</div>"
      ],
      "text/plain": [
       "    B   D\n",
       "0  B1  D1\n",
       "1  B2  D2\n",
       "2  B3  D3\n",
       "3  B4  D4\n",
       "4  B5  D5"
      ]
     },
     "execution_count": 22,
     "metadata": {},
     "output_type": "execute_result"
    }
   ],
   "source": [
    "#Remove columns as based on column index.\n",
    "\n",
    "# Remove three columns as index base \n",
    "df.drop(df.columns[[0, 4, 2]], axis = 1, inplace = True) \n",
    "  \n",
    "df "
   ]
  },
  {
   "cell_type": "markdown",
   "metadata": {},
   "source": [
    "Drop Columns from a Dataframe using iloc[] and drop() method.\n",
    "\n",
    "Remove all columns between a specific column to another columns."
   ]
  },
  {
   "cell_type": "code",
   "execution_count": 23,
   "metadata": {},
   "outputs": [
    {
     "data": {
      "text/html": [
       "<div>\n",
       "<style scoped>\n",
       "    .dataframe tbody tr th:only-of-type {\n",
       "        vertical-align: middle;\n",
       "    }\n",
       "\n",
       "    .dataframe tbody tr th {\n",
       "        vertical-align: top;\n",
       "    }\n",
       "\n",
       "    .dataframe thead th {\n",
       "        text-align: right;\n",
       "    }\n",
       "</style>\n",
       "<table border=\"1\" class=\"dataframe\">\n",
       "  <thead>\n",
       "    <tr style=\"text-align: right;\">\n",
       "      <th></th>\n",
       "      <th>A</th>\n",
       "      <th>D</th>\n",
       "      <th>E</th>\n",
       "    </tr>\n",
       "  </thead>\n",
       "  <tbody>\n",
       "    <tr>\n",
       "      <th>0</th>\n",
       "      <td>A1</td>\n",
       "      <td>D1</td>\n",
       "      <td>E1</td>\n",
       "    </tr>\n",
       "    <tr>\n",
       "      <th>1</th>\n",
       "      <td>A2</td>\n",
       "      <td>D2</td>\n",
       "      <td>E2</td>\n",
       "    </tr>\n",
       "    <tr>\n",
       "      <th>2</th>\n",
       "      <td>A3</td>\n",
       "      <td>D3</td>\n",
       "      <td>E3</td>\n",
       "    </tr>\n",
       "    <tr>\n",
       "      <th>3</th>\n",
       "      <td>A4</td>\n",
       "      <td>D4</td>\n",
       "      <td>E4</td>\n",
       "    </tr>\n",
       "    <tr>\n",
       "      <th>4</th>\n",
       "      <td>A5</td>\n",
       "      <td>D5</td>\n",
       "      <td>E5</td>\n",
       "    </tr>\n",
       "  </tbody>\n",
       "</table>\n",
       "</div>"
      ],
      "text/plain": [
       "    A   D   E\n",
       "0  A1  D1  E1\n",
       "1  A2  D2  E2\n",
       "2  A3  D3  E3\n",
       "3  A4  D4  E4\n",
       "4  A5  D5  E5"
      ]
     },
     "execution_count": 23,
     "metadata": {},
     "output_type": "execute_result"
    }
   ],
   "source": [
    "# create a dictionary with five fields each  \n",
    "data = { \n",
    "    'A':['A1', 'A2', 'A3', 'A4', 'A5'],  \n",
    "    'B':['B1', 'B2', 'B3', 'B4', 'B5'],  \n",
    "    'C':['C1', 'C2', 'C3', 'C4', 'C5'],  \n",
    "    'D':['D1', 'D2', 'D3', 'D4', 'D5'],  \n",
    "    'E':['E1', 'E2', 'E3', 'E4', 'E5'] } \n",
    "  \n",
    "# Convert the dictionary into DataFrame  \n",
    "df = pd.DataFrame(data) \n",
    "# Remove all columns between column index 1 to 3 \n",
    "df.drop(df.iloc[:, 1:3], inplace = True, axis = 1) \n",
    "  \n",
    "df"
   ]
  },
  {
   "cell_type": "markdown",
   "metadata": {},
   "source": [
    "Drop Columns from a Dataframe using ix() and drop() method.\n",
    "\n",
    "Remove all columns between a specific column name to another columns name.\n",
    "\n"
   ]
  },
  {
   "cell_type": "code",
   "execution_count": 24,
   "metadata": {},
   "outputs": [
    {
     "data": {
      "text/html": [
       "<div>\n",
       "<style scoped>\n",
       "    .dataframe tbody tr th:only-of-type {\n",
       "        vertical-align: middle;\n",
       "    }\n",
       "\n",
       "    .dataframe tbody tr th {\n",
       "        vertical-align: top;\n",
       "    }\n",
       "\n",
       "    .dataframe thead th {\n",
       "        text-align: right;\n",
       "    }\n",
       "</style>\n",
       "<table border=\"1\" class=\"dataframe\">\n",
       "  <thead>\n",
       "    <tr style=\"text-align: right;\">\n",
       "      <th></th>\n",
       "      <th>A</th>\n",
       "      <th>B</th>\n",
       "      <th>C</th>\n",
       "      <th>D</th>\n",
       "      <th>E</th>\n",
       "    </tr>\n",
       "  </thead>\n",
       "  <tbody>\n",
       "    <tr>\n",
       "      <th>0</th>\n",
       "      <td>A1</td>\n",
       "      <td>B1</td>\n",
       "      <td>C1</td>\n",
       "      <td>D1</td>\n",
       "      <td>E1</td>\n",
       "    </tr>\n",
       "    <tr>\n",
       "      <th>1</th>\n",
       "      <td>A2</td>\n",
       "      <td>B2</td>\n",
       "      <td>C2</td>\n",
       "      <td>D2</td>\n",
       "      <td>E2</td>\n",
       "    </tr>\n",
       "    <tr>\n",
       "      <th>2</th>\n",
       "      <td>A3</td>\n",
       "      <td>B3</td>\n",
       "      <td>C3</td>\n",
       "      <td>D3</td>\n",
       "      <td>E3</td>\n",
       "    </tr>\n",
       "    <tr>\n",
       "      <th>3</th>\n",
       "      <td>A4</td>\n",
       "      <td>B4</td>\n",
       "      <td>C4</td>\n",
       "      <td>D4</td>\n",
       "      <td>E4</td>\n",
       "    </tr>\n",
       "    <tr>\n",
       "      <th>4</th>\n",
       "      <td>A5</td>\n",
       "      <td>B5</td>\n",
       "      <td>C5</td>\n",
       "      <td>D5</td>\n",
       "      <td>E5</td>\n",
       "    </tr>\n",
       "  </tbody>\n",
       "</table>\n",
       "</div>"
      ],
      "text/plain": [
       "    A   B   C   D   E\n",
       "0  A1  B1  C1  D1  E1\n",
       "1  A2  B2  C2  D2  E2\n",
       "2  A3  B3  C3  D3  E3\n",
       "3  A4  B4  C4  D4  E4\n",
       "4  A5  B5  C5  D5  E5"
      ]
     },
     "execution_count": 24,
     "metadata": {},
     "output_type": "execute_result"
    }
   ],
   "source": [
    "# Import pandas package  \n",
    "import pandas as pd \n",
    "  \n",
    "# create a dictionary with five fields each  \n",
    "data = { \n",
    "    'A':['A1', 'A2', 'A3', 'A4', 'A5'],  \n",
    "    'B':['B1', 'B2', 'B3', 'B4', 'B5'],  \n",
    "    'C':['C1', 'C2', 'C3', 'C4', 'C5'],  \n",
    "    'D':['D1', 'D2', 'D3', 'D4', 'D5'],  \n",
    "    'E':['E1', 'E2', 'E3', 'E4', 'E5'] } \n",
    "  \n",
    "# Convert the dictionary into DataFrame  \n",
    "df = pd.DataFrame(data) \n",
    "\n",
    "df\n",
    "  \n"
   ]
  },
  {
   "cell_type": "markdown",
   "metadata": {},
   "source": [
    "Remove all columns between a specific column name to another columns name."
   ]
  },
  {
   "cell_type": "code",
   "execution_count": 25,
   "metadata": {},
   "outputs": [
    {
     "data": {
      "text/html": [
       "<div>\n",
       "<style scoped>\n",
       "    .dataframe tbody tr th:only-of-type {\n",
       "        vertical-align: middle;\n",
       "    }\n",
       "\n",
       "    .dataframe tbody tr th {\n",
       "        vertical-align: top;\n",
       "    }\n",
       "\n",
       "    .dataframe thead th {\n",
       "        text-align: right;\n",
       "    }\n",
       "</style>\n",
       "<table border=\"1\" class=\"dataframe\">\n",
       "  <thead>\n",
       "    <tr style=\"text-align: right;\">\n",
       "      <th></th>\n",
       "      <th>B</th>\n",
       "      <th>C</th>\n",
       "      <th>D</th>\n",
       "      <th>E</th>\n",
       "    </tr>\n",
       "  </thead>\n",
       "  <tbody>\n",
       "    <tr>\n",
       "      <th>0</th>\n",
       "      <td>B1</td>\n",
       "      <td>C1</td>\n",
       "      <td>D1</td>\n",
       "      <td>E1</td>\n",
       "    </tr>\n",
       "    <tr>\n",
       "      <th>1</th>\n",
       "      <td>B2</td>\n",
       "      <td>C2</td>\n",
       "      <td>D2</td>\n",
       "      <td>E2</td>\n",
       "    </tr>\n",
       "    <tr>\n",
       "      <th>2</th>\n",
       "      <td>B3</td>\n",
       "      <td>C3</td>\n",
       "      <td>D3</td>\n",
       "      <td>E3</td>\n",
       "    </tr>\n",
       "    <tr>\n",
       "      <th>3</th>\n",
       "      <td>B4</td>\n",
       "      <td>C4</td>\n",
       "      <td>D4</td>\n",
       "      <td>E4</td>\n",
       "    </tr>\n",
       "    <tr>\n",
       "      <th>4</th>\n",
       "      <td>B5</td>\n",
       "      <td>C5</td>\n",
       "      <td>D5</td>\n",
       "      <td>E5</td>\n",
       "    </tr>\n",
       "  </tbody>\n",
       "</table>\n",
       "</div>"
      ],
      "text/plain": [
       "    B   C   D   E\n",
       "0  B1  C1  D1  E1\n",
       "1  B2  C2  D2  E2\n",
       "2  B3  C3  D3  E3\n",
       "3  B4  C4  D4  E4\n",
       "4  B5  C5  D5  E5"
      ]
     },
     "execution_count": 25,
     "metadata": {},
     "output_type": "execute_result"
    }
   ],
   "source": [
    "# Convert the dictionary into DataFrame  \n",
    "df = pd.DataFrame(data) \n",
    "for col in df.columns: \n",
    "    if 'A' in col: \n",
    "        del df[col] \n",
    "\n",
    "        \n",
    "df "
   ]
  },
  {
   "cell_type": "code",
   "execution_count": 26,
   "metadata": {},
   "outputs": [],
   "source": [
    "# Python code to demonstrate the working of  \n",
    "# logical_and(), logical_or(), logical_xor() \n",
    "# and logical_invert() \n",
    "  \n",
    "# importing \"decimal\" module to use decimal functions \n",
    "import decimal \n",
    "  \n",
    "# Initializing decimal number \n",
    "a = decimal.Decimal(1000) \n",
    "  \n",
    "# Initializing decimal number \n",
    "b = decimal.Decimal(1110) \n"
   ]
  },
  {
   "cell_type": "code",
   "execution_count": 32,
   "metadata": {},
   "outputs": [
    {
     "data": {
      "text/plain": [
       "Decimal('1000')"
      ]
     },
     "execution_count": 32,
     "metadata": {},
     "output_type": "execute_result"
    }
   ],
   "source": [
    "b.logical_and(a)"
   ]
  },
  {
   "cell_type": "code",
   "execution_count": 27,
   "metadata": {},
   "outputs": [
    {
     "name": "stdout",
     "output_type": "stream",
     "text": [
      "The logical_and() of two numbers is : 1000\n"
     ]
    }
   ],
   "source": [
    "# printing logical_and of two numbers \n",
    "print (\"The logical_and() of two numbers is : \",end=\"\") \n",
    "print (a.logical_and(b)) "
   ]
  },
  {
   "cell_type": "code",
   "execution_count": 28,
   "metadata": {},
   "outputs": [
    {
     "name": "stdout",
     "output_type": "stream",
     "text": [
      "The exclusive or of two numbers is : 110\n"
     ]
    }
   ],
   "source": [
    "# printing exclusive or of two numbers \n",
    "print (\"The exclusive or of two numbers is : \",end=\"\") \n",
    "print (a.logical_xor(b)) "
   ]
  },
  {
   "cell_type": "code",
   "execution_count": 29,
   "metadata": {},
   "outputs": [
    {
     "name": "stdout",
     "output_type": "stream",
     "text": [
      "The logical inversion of number is : 1111111111111111111111110111\n"
     ]
    }
   ],
   "source": [
    "# printing logical inversion of number \n",
    "print (\"The logical inversion of number is : \",end=\"\") \n",
    "print (a.logical_invert()) "
   ]
  },
  {
   "cell_type": "code",
   "execution_count": 33,
   "metadata": {},
   "outputs": [
    {
     "name": "stdout",
     "output_type": "stream",
     "text": [
      "The original number is : 101.340000000000003410605131648480892181396484375\n"
     ]
    }
   ],
   "source": [
    "# Python code to demonstrate the working of  \n",
    "# next_plus() and next_minus() \n",
    "  \n",
    "# importing \"decimal\" module to use decimal functions \n",
    "import decimal \n",
    "  \n",
    "# Initializing decimal number \n",
    "a = decimal.Decimal(101.34) \n",
    "  \n",
    "# printing the actual decimal number \n",
    "print (\"The original number is : \",end=\"\") \n",
    "print (a) "
   ]
  },
  {
   "cell_type": "code",
   "execution_count": 34,
   "metadata": {},
   "outputs": [
    {
     "name": "stdout",
     "output_type": "stream",
     "text": [
      "The smallest number larger than current number : 101.3400000000000034106051317\n"
     ]
    }
   ],
   "source": [
    "# printing number after using next_plus() \n",
    "print (\"The smallest number larger than current number : \",end=\"\") \n",
    "print (a.next_plus()) "
   ]
  },
  {
   "cell_type": "code",
   "execution_count": 35,
   "metadata": {},
   "outputs": [
    {
     "name": "stdout",
     "output_type": "stream",
     "text": [
      "The largest number smaller than current number : 101.3400000000000034106051316\n"
     ]
    }
   ],
   "source": [
    "# printing number after using next_minus() \n",
    "print (\"The largest number smaller than current number : \",end=\"\") \n",
    "print (a.next_minus()) "
   ]
  },
  {
   "cell_type": "code",
   "execution_count": 36,
   "metadata": {},
   "outputs": [],
   "source": [
    "# Python code to demonstrate the working of  \n",
    "# next_toward() and normalize() \n",
    "  \n",
    "# importing \"decimal\" module to use decimal functions \n",
    "import decimal \n",
    "  \n",
    "# Initializing decimal number \n",
    "a = decimal.Decimal(101.34) \n",
    "  \n",
    "# Initializing decimal number \n",
    "b = decimal.Decimal(-101.34) \n",
    "  \n",
    "# Initializing decimal number \n",
    "c = decimal.Decimal(-58.68) \n",
    "  \n",
    "# Initializing decimal number \n",
    "d = decimal.Decimal(14.010000000) \n",
    "  "
   ]
  },
  {
   "cell_type": "code",
   "execution_count": 37,
   "metadata": {},
   "outputs": [
    {
     "name": "stdout",
     "output_type": "stream",
     "text": [
      "The number closest to 1st number in direction of second number : \n",
      "101.3400000000000034106051316\n"
     ]
    }
   ],
   "source": [
    "# printing the number using next_toward() \n",
    "print (\"The number closest to 1st number in direction of second number : \") \n",
    "print (a.next_toward(c)) "
   ]
  },
  {
   "cell_type": "code",
   "execution_count": 38,
   "metadata": {},
   "outputs": [
    {
     "name": "stdout",
     "output_type": "stream",
     "text": [
      "The second number with sign of first number is : -101.3400000000000034106051316\n"
     ]
    }
   ],
   "source": [
    "# printing the number using next_toward() \n",
    "# when equal \n",
    "print (\"The second number with sign of first number is : \",end=\"\") \n",
    "print (b.next_toward(a)) "
   ]
  },
  {
   "cell_type": "code",
   "execution_count": 39,
   "metadata": {},
   "outputs": [
    {
     "name": "stdout",
     "output_type": "stream",
     "text": [
      "Number after erasing rightmost trailing zeroes : 14.00999999999999978683717927\n"
     ]
    }
   ],
   "source": [
    "# printing number after erasing rightmost trailing zeroes \n",
    "print (\"Number after erasing rightmost trailing zeroes : \",end=\"\") \n",
    "print (d.normalize()) "
   ]
  },
  {
   "cell_type": "code",
   "execution_count": 40,
   "metadata": {},
   "outputs": [],
   "source": [
    "# Python code to demonstrate the working of  \n",
    "# quantize() and same_quantum() \n",
    "   \n",
    "# importing \"decimal\" module to use decimal functions \n",
    "import decimal \n",
    "   \n",
    "# Initializing decimal number \n",
    "a = decimal.Decimal(20.76548) \n",
    "   \n",
    "# Initializing decimal number \n",
    "b = decimal.Decimal(12.25) \n",
    "  \n",
    "# Initializing decimal number \n",
    "c = decimal.Decimal(6.25) "
   ]
  },
  {
   "cell_type": "code",
   "execution_count": 41,
   "metadata": {},
   "outputs": [
    {
     "name": "stdout",
     "output_type": "stream",
     "text": [
      "The quantized first number is : 20.77\n"
     ]
    }
   ],
   "source": [
    "# printing quantized first number \n",
    "print (\"The quantized first number is : \",end=\"\") \n",
    "print (a.quantize(b)) "
   ]
  },
  {
   "cell_type": "code",
   "execution_count": 42,
   "metadata": {},
   "outputs": [
    {
     "name": "stdout",
     "output_type": "stream",
     "text": [
      "Both the numbers have same exponent\n"
     ]
    }
   ],
   "source": [
    "# checking if both number have same exponent \n",
    "if (b.same_quantum(c)): \n",
    "       print (\"Both the numbers have same exponent\") \n",
    "else : print (\"Both numbers have different exponent\")"
   ]
  },
  {
   "cell_type": "code",
   "execution_count": 43,
   "metadata": {},
   "outputs": [],
   "source": [
    "# Python code to demonstrate the working of  \n",
    "# rotate() and shift() \n",
    "\n",
    "# Initializing decimal number \n",
    "a = decimal.Decimal(2343509394029424234334563465)"
   ]
  },
  {
   "cell_type": "code",
   "execution_count": 44,
   "metadata": {},
   "outputs": [
    {
     "name": "stdout",
     "output_type": "stream",
     "text": [
      "The rotated value is : 6523435093940294242343345634\n"
     ]
    }
   ],
   "source": [
    "# using rotate() to rotate the first argument \n",
    "# rotates to right by 2 positions \n",
    "print (\"The rotated value is : \",end=\"\") \n",
    "print (a.rotate(-2)) "
   ]
  },
  {
   "cell_type": "code",
   "execution_count": 46,
   "metadata": {},
   "outputs": [
    {
     "name": "stdout",
     "output_type": "stream",
     "text": [
      "The shifted value is : 4350939402942423433456346500\n"
     ]
    }
   ],
   "source": [
    "# using shift() to shift the first argument \n",
    "# rotates to left by 2 positions \n",
    "\n",
    "# Initializing decimal number \n",
    "a = decimal.Decimal(2343509394029424234334563465)\n",
    "\n",
    "print (\"The shifted value is : \",end=\"\") \n",
    "print (a.shift(2)) "
   ]
  },
  {
   "cell_type": "code",
   "execution_count": 47,
   "metadata": {},
   "outputs": [],
   "source": [
    "# Python code to demonstrate the working of  \n",
    "# remainder_near() and scaleb() \n",
    "\n",
    "# Initializing decimal number \n",
    "a = decimal.Decimal(23.765) \n",
    "  \n",
    "# Initializing decimal number \n",
    "b = decimal.Decimal(12) \n",
    "  \n",
    "# Initializing decimal number \n",
    "c = decimal.Decimal(8) "
   ]
  },
  {
   "cell_type": "code",
   "execution_count": 48,
   "metadata": {},
   "outputs": [
    {
     "name": "stdout",
     "output_type": "stream",
     "text": [
      "The computed value using remainder_near() is : -4\n"
     ]
    }
   ],
   "source": [
    "# using remainder_near to compute value \n",
    "print (\"The computed value using remainder_near() is : \",end=\"\") \n",
    "print (b.remainder_near(c)) "
   ]
  },
  {
   "cell_type": "code",
   "execution_count": 49,
   "metadata": {},
   "outputs": [
    {
     "name": "stdout",
     "output_type": "stream",
     "text": [
      "The value after shifting exponent : 2376.500000000000056843418861\n"
     ]
    }
   ],
   "source": [
    "# using scaleb() to shift exponont \n",
    "print (\"The value after shifting exponent : \",end=\"\") \n",
    "print (a.scaleb(2)) "
   ]
  },
  {
   "cell_type": "code",
   "execution_count": null,
   "metadata": {},
   "outputs": [],
   "source": []
  }
 ],
 "metadata": {
  "hide_input": false,
  "kernelspec": {
   "display_name": "Python 3",
   "language": "python",
   "name": "python3"
  },
  "language_info": {
   "codemirror_mode": {
    "name": "ipython",
    "version": 3
   },
   "file_extension": ".py",
   "mimetype": "text/x-python",
   "name": "python",
   "nbconvert_exporter": "python",
   "pygments_lexer": "ipython3",
   "version": "3.8.2"
  },
  "latex_envs": {
   "LaTeX_envs_menu_present": true,
   "autoclose": false,
   "autocomplete": true,
   "bibliofile": "biblio.bib",
   "cite_by": "apalike",
   "current_citInitial": 1,
   "eqLabelWithNumbers": true,
   "eqNumInitial": 1,
   "hotkeys": {
    "equation": "Ctrl-E",
    "itemize": "Ctrl-I"
   },
   "labels_anchors": false,
   "latex_user_defs": false,
   "report_style_numbering": false,
   "user_envs_cfg": false
  }
 },
 "nbformat": 4,
 "nbformat_minor": 4
}
