{
 "cells": [
  {
   "cell_type": "code",
   "execution_count": 4,
   "metadata": {},
   "outputs": [
    {
     "name": "stdout",
     "output_type": "stream",
     "text": [
      "Requirement already satisfied: mitosheet in c:\\users\\administrateur\\appdata\\local\\programs\\python\\python38-32\\lib\\site-packages (0.1.218)\n",
      "Requirement already satisfied: matplotlib>=3.3 in c:\\users\\administrateur\\appdata\\roaming\\python\\python38\\site-packages (from mitosheet) (3.4.1)\n",
      "Requirement already satisfied: analytics-python in c:\\users\\administrateur\\appdata\\local\\programs\\python\\python38-32\\lib\\site-packages (from mitosheet) (1.2.9)\n",
      "Requirement already satisfied: ipywidgets>=7.0.0 in c:\\users\\administrateur\\appdata\\roaming\\python\\python38\\site-packages (from mitosheet) (7.6.5)\n",
      "Requirement already satisfied: pandas>=1.1.0 in c:\\users\\administrateur\\appdata\\local\\programs\\python\\python38-32\\lib\\site-packages (from mitosheet) (1.3.5)\n",
      "Requirement already satisfied: jupyterlab!=2.3.0,!=2.3.1,<3.0,>=2.0 in c:\\users\\administrateur\\appdata\\local\\programs\\python\\python38-32\\lib\\site-packages (from mitosheet) (2.0.0)\n",
      "Requirement already satisfied: widgetsnbextension~=3.5.0 in c:\\users\\administrateur\\appdata\\roaming\\python\\python38\\site-packages (from ipywidgets>=7.0.0->mitosheet) (3.5.1)\n",
      "Requirement already satisfied: nbformat>=4.2.0 in c:\\users\\administrateur\\appdata\\roaming\\python\\python38\\site-packages (from ipywidgets>=7.0.0->mitosheet) (5.0.8)\n",
      "Requirement already satisfied: ipython-genutils~=0.2.0 in c:\\users\\administrateur\\appdata\\local\\programs\\python\\python38-32\\lib\\site-packages (from ipywidgets>=7.0.0->mitosheet) (0.2.0)\n",
      "Requirement already satisfied: jupyterlab-widgets>=1.0.0 in c:\\users\\administrateur\\appdata\\roaming\\python\\python38\\site-packages (from ipywidgets>=7.0.0->mitosheet) (1.0.2)\n",
      "Requirement already satisfied: ipython>=4.0.0 in c:\\users\\administrateur\\appdata\\local\\programs\\python\\python38-32\\lib\\site-packages (from ipywidgets>=7.0.0->mitosheet) (7.18.1)\n",
      "Requirement already satisfied: ipykernel>=4.5.1 in c:\\users\\administrateur\\appdata\\roaming\\python\\python38\\site-packages (from ipywidgets>=7.0.0->mitosheet) (5.3.4)\n",
      "Requirement already satisfied: traitlets>=4.3.1 in c:\\users\\administrateur\\appdata\\local\\programs\\python\\python38-32\\lib\\site-packages (from ipywidgets>=7.0.0->mitosheet) (5.0.5)\n",
      "Requirement already satisfied: jupyterlab-server~=1.0.0 in c:\\users\\administrateur\\appdata\\local\\programs\\python\\python38-32\\lib\\site-packages (from jupyterlab!=2.3.0,!=2.3.1,<3.0,>=2.0->mitosheet) (1.0.6)\n",
      "Requirement already satisfied: notebook>=4.3.1 in c:\\users\\administrateur\\appdata\\local\\programs\\python\\python38-32\\lib\\site-packages (from jupyterlab!=2.3.0,!=2.3.1,<3.0,>=2.0->mitosheet) (6.4.12)\n",
      "Requirement already satisfied: jinja2>=2.10 in c:\\users\\administrateur\\appdata\\roaming\\python\\python38\\site-packages (from jupyterlab!=2.3.0,!=2.3.1,<3.0,>=2.0->mitosheet) (2.11.2)\n",
      "Requirement already satisfied: tornado!=6.0.0,!=6.0.1,!=6.0.2 in c:\\users\\administrateur\\appdata\\local\\programs\\python\\python38-32\\lib\\site-packages (from jupyterlab!=2.3.0,!=2.3.1,<3.0,>=2.0->mitosheet) (6.1)\n",
      "Requirement already satisfied: pyparsing>=2.2.1 in c:\\users\\administrateur\\appdata\\roaming\\python\\python38\\site-packages (from matplotlib>=3.3->mitosheet) (2.4.7)\n",
      "Requirement already satisfied: pillow>=6.2.0 in c:\\users\\administrateur\\appdata\\roaming\\python\\python38\\site-packages (from matplotlib>=3.3->mitosheet) (8.2.0)\n",
      "Requirement already satisfied: python-dateutil>=2.7 in c:\\users\\administrateur\\appdata\\roaming\\python\\python38\\site-packages (from matplotlib>=3.3->mitosheet) (2.8.1)\n",
      "Requirement already satisfied: numpy>=1.16 in c:\\users\\administrateur\\appdata\\roaming\\python\\python38\\site-packages (from matplotlib>=3.3->mitosheet) (1.20.2)\n",
      "Requirement already satisfied: kiwisolver>=1.0.1 in c:\\users\\administrateur\\appdata\\roaming\\python\\python38\\site-packages (from matplotlib>=3.3->mitosheet) (1.3.1)\n",
      "Requirement already satisfied: cycler>=0.10 in c:\\users\\administrateur\\appdata\\roaming\\python\\python38\\site-packages (from matplotlib>=3.3->mitosheet) (0.10.0)\n",
      "Requirement already satisfied: pytz>=2017.3 in c:\\users\\administrateur\\appdata\\roaming\\python\\python38\\site-packages (from pandas>=1.1.0->mitosheet) (2021.1)\n",
      "Requirement already satisfied: six>=1.5 in c:\\users\\administrateur\\appdata\\roaming\\python\\python38\\site-packages (from analytics-python->mitosheet) (1.15.0)\n",
      "Requirement already satisfied: requests<3.0,>=2.7 in c:\\users\\administrateur\\appdata\\local\\programs\\python\\python38-32\\lib\\site-packages (from analytics-python->mitosheet) (2.23.0)\n",
      "Requirement already satisfied: jupyter-client in c:\\users\\administrateur\\appdata\\roaming\\python\\python38\\site-packages (from ipykernel>=4.5.1->ipywidgets>=7.0.0->mitosheet) (6.1.7)\n",
      "Requirement already satisfied: prompt-toolkit!=3.0.0,!=3.0.1,<3.1.0,>=2.0.0 in c:\\users\\administrateur\\appdata\\local\\programs\\python\\python38-32\\lib\\site-packages (from ipython>=4.0.0->ipywidgets>=7.0.0->mitosheet) (3.0.8)\n",
      "Requirement already satisfied: colorama in c:\\users\\administrateur\\appdata\\local\\programs\\python\\python38-32\\lib\\site-packages (from ipython>=4.0.0->ipywidgets>=7.0.0->mitosheet) (0.4.4)\n",
      "Requirement already satisfied: jedi>=0.10 in c:\\users\\administrateur\\appdata\\local\\programs\\python\\python38-32\\lib\\site-packages (from ipython>=4.0.0->ipywidgets>=7.0.0->mitosheet) (0.17.2)\n",
      "Requirement already satisfied: pygments in c:\\users\\administrateur\\appdata\\local\\programs\\python\\python38-32\\lib\\site-packages (from ipython>=4.0.0->ipywidgets>=7.0.0->mitosheet) (2.7.1)\n",
      "Requirement already satisfied: decorator in c:\\users\\administrateur\\appdata\\local\\programs\\python\\python38-32\\lib\\site-packages (from ipython>=4.0.0->ipywidgets>=7.0.0->mitosheet) (4.4.2)\n",
      "Requirement already satisfied: backcall in c:\\users\\administrateur\\appdata\\local\\programs\\python\\python38-32\\lib\\site-packages (from ipython>=4.0.0->ipywidgets>=7.0.0->mitosheet) (0.2.0)\n",
      "Requirement already satisfied: setuptools>=18.5 in c:\\users\\administrateur\\appdata\\local\\programs\\python\\python38-32\\lib\\site-packages (from ipython>=4.0.0->ipywidgets>=7.0.0->mitosheet) (52.0.0)\n",
      "Requirement already satisfied: pickleshare in c:\\users\\administrateur\\appdata\\local\\programs\\python\\python38-32\\lib\\site-packages (from ipython>=4.0.0->ipywidgets>=7.0.0->mitosheet) (0.7.5)\n",
      "Requirement already satisfied: MarkupSafe>=0.23 in c:\\users\\administrateur\\appdata\\roaming\\python\\python38\\site-packages (from jinja2>=2.10->jupyterlab!=2.3.0,!=2.3.1,<3.0,>=2.0->mitosheet) (1.1.1)\n",
      "Requirement already satisfied: jsonschema>=3.0.1 in c:\\users\\administrateur\\appdata\\roaming\\python\\python38\\site-packages (from jupyterlab-server~=1.0.0->jupyterlab!=2.3.0,!=2.3.1,<3.0,>=2.0->mitosheet) (3.2.0)\n",
      "Requirement already satisfied: json5 in c:\\users\\administrateur\\appdata\\local\\programs\\python\\python38-32\\lib\\site-packages (from jupyterlab-server~=1.0.0->jupyterlab!=2.3.0,!=2.3.1,<3.0,>=2.0->mitosheet) (0.9.1)\n",
      "Requirement already satisfied: jupyter-core in c:\\users\\administrateur\\appdata\\local\\programs\\python\\python38-32\\lib\\site-packages (from nbformat>=4.2.0->ipywidgets>=7.0.0->mitosheet) (4.6.3)\n",
      "Requirement already satisfied: prometheus-client in c:\\users\\administrateur\\appdata\\roaming\\python\\python38\\site-packages (from notebook>=4.3.1->jupyterlab!=2.3.0,!=2.3.1,<3.0,>=2.0->mitosheet) (0.8.0)\n",
      "Requirement already satisfied: Send2Trash>=1.8.0 in c:\\users\\administrateur\\appdata\\local\\programs\\python\\python38-32\\lib\\site-packages (from notebook>=4.3.1->jupyterlab!=2.3.0,!=2.3.1,<3.0,>=2.0->mitosheet) (1.8.0)\n",
      "Requirement already satisfied: pyzmq>=17 in c:\\users\\administrateur\\appdata\\roaming\\python\\python38\\site-packages (from notebook>=4.3.1->jupyterlab!=2.3.0,!=2.3.1,<3.0,>=2.0->mitosheet) (19.0.2)\n",
      "Requirement already satisfied: terminado>=0.8.3 in c:\\users\\administrateur\\appdata\\roaming\\python\\python38\\site-packages (from notebook>=4.3.1->jupyterlab!=2.3.0,!=2.3.1,<3.0,>=2.0->mitosheet) (0.9.1)\n",
      "Requirement already satisfied: nbconvert>=5 in c:\\users\\administrateur\\appdata\\roaming\\python\\python38\\site-packages (from notebook>=4.3.1->jupyterlab!=2.3.0,!=2.3.1,<3.0,>=2.0->mitosheet) (6.0.7)\n",
      "Requirement already satisfied: nest-asyncio>=1.5 in c:\\users\\administrateur\\appdata\\local\\programs\\python\\python38-32\\lib\\site-packages (from notebook>=4.3.1->jupyterlab!=2.3.0,!=2.3.1,<3.0,>=2.0->mitosheet) (1.5.5)\n"
     ]
    },
    {
     "name": "stdout",
     "output_type": "stream",
     "text": [
      "Requirement already satisfied: argon2-cffi in c:\\users\\administrateur\\appdata\\roaming\\python\\python38\\site-packages (from notebook>=4.3.1->jupyterlab!=2.3.0,!=2.3.1,<3.0,>=2.0->mitosheet) (20.1.0)\n",
      "Requirement already satisfied: chardet<4,>=3.0.2 in c:\\users\\administrateur\\appdata\\local\\programs\\python\\python38-32\\lib\\site-packages (from requests<3.0,>=2.7->analytics-python->mitosheet) (3.0.4)\n",
      "Requirement already satisfied: certifi>=2017.4.17 in c:\\users\\administrateur\\appdata\\local\\programs\\python\\python38-32\\lib\\site-packages (from requests<3.0,>=2.7->analytics-python->mitosheet) (2020.6.20)\n",
      "Requirement already satisfied: urllib3!=1.25.0,!=1.25.1,<1.26,>=1.21.1 in c:\\users\\administrateur\\appdata\\local\\programs\\python\\python38-32\\lib\\site-packages (from requests<3.0,>=2.7->analytics-python->mitosheet) (1.25.8)\n",
      "Requirement already satisfied: idna<3,>=2.5 in c:\\users\\administrateur\\appdata\\local\\programs\\python\\python38-32\\lib\\site-packages (from requests<3.0,>=2.7->analytics-python->mitosheet) (2.9)\n",
      "Requirement already satisfied: parso<0.8.0,>=0.7.0 in c:\\users\\administrateur\\appdata\\local\\programs\\python\\python38-32\\lib\\site-packages (from jedi>=0.10->ipython>=4.0.0->ipywidgets>=7.0.0->mitosheet) (0.7.1)\n",
      "Requirement already satisfied: attrs>=17.4.0 in c:\\users\\administrateur\\appdata\\roaming\\python\\python38\\site-packages (from jsonschema>=3.0.1->jupyterlab-server~=1.0.0->jupyterlab!=2.3.0,!=2.3.1,<3.0,>=2.0->mitosheet) (21.2.0)\n",
      "Requirement already satisfied: pyrsistent>=0.14.0 in c:\\users\\administrateur\\appdata\\roaming\\python\\python38\\site-packages (from jsonschema>=3.0.1->jupyterlab-server~=1.0.0->jupyterlab!=2.3.0,!=2.3.1,<3.0,>=2.0->mitosheet) (0.17.3)\n",
      "Requirement already satisfied: pywin32>=1.0 in c:\\users\\administrateur\\appdata\\local\\programs\\python\\python38-32\\lib\\site-packages (from jupyter-core->nbformat>=4.2.0->ipywidgets>=7.0.0->mitosheet) (228)\n",
      "Requirement already satisfied: entrypoints>=0.2.2 in c:\\users\\administrateur\\appdata\\roaming\\python\\python38\\site-packages (from nbconvert>=5->notebook>=4.3.1->jupyterlab!=2.3.0,!=2.3.1,<3.0,>=2.0->mitosheet) (0.3)\n",
      "Requirement already satisfied: defusedxml in c:\\users\\administrateur\\appdata\\roaming\\python\\python38\\site-packages (from nbconvert>=5->notebook>=4.3.1->jupyterlab!=2.3.0,!=2.3.1,<3.0,>=2.0->mitosheet) (0.6.0)\n",
      "Requirement already satisfied: bleach in c:\\users\\administrateur\\appdata\\roaming\\python\\python38\\site-packages (from nbconvert>=5->notebook>=4.3.1->jupyterlab!=2.3.0,!=2.3.1,<3.0,>=2.0->mitosheet) (3.2.1)\n",
      "Requirement already satisfied: nbclient<0.6.0,>=0.5.0 in c:\\users\\administrateur\\appdata\\roaming\\python\\python38\\site-packages (from nbconvert>=5->notebook>=4.3.1->jupyterlab!=2.3.0,!=2.3.1,<3.0,>=2.0->mitosheet) (0.5.1)\n",
      "Requirement already satisfied: mistune<2,>=0.8.1 in c:\\users\\administrateur\\appdata\\roaming\\python\\python38\\site-packages (from nbconvert>=5->notebook>=4.3.1->jupyterlab!=2.3.0,!=2.3.1,<3.0,>=2.0->mitosheet) (0.8.4)\n",
      "Requirement already satisfied: pandocfilters>=1.4.1 in c:\\users\\administrateur\\appdata\\roaming\\python\\python38\\site-packages (from nbconvert>=5->notebook>=4.3.1->jupyterlab!=2.3.0,!=2.3.1,<3.0,>=2.0->mitosheet) (1.4.2)\n",
      "Requirement already satisfied: jupyterlab-pygments in c:\\users\\administrateur\\appdata\\roaming\\python\\python38\\site-packages (from nbconvert>=5->notebook>=4.3.1->jupyterlab!=2.3.0,!=2.3.1,<3.0,>=2.0->mitosheet) (0.1.2)\n",
      "Requirement already satisfied: testpath in c:\\users\\administrateur\\appdata\\roaming\\python\\python38\\site-packages (from nbconvert>=5->notebook>=4.3.1->jupyterlab!=2.3.0,!=2.3.1,<3.0,>=2.0->mitosheet) (0.4.4)\n",
      "Requirement already satisfied: wcwidth in c:\\users\\administrateur\\appdata\\local\\programs\\python\\python38-32\\lib\\site-packages (from prompt-toolkit!=3.0.0,!=3.0.1,<3.1.0,>=2.0.0->ipython>=4.0.0->ipywidgets>=7.0.0->mitosheet) (0.2.5)\n",
      "Requirement already satisfied: pywinpty>=0.5 in c:\\users\\administrateur\\appdata\\roaming\\python\\python38\\site-packages (from terminado>=0.8.3->notebook>=4.3.1->jupyterlab!=2.3.0,!=2.3.1,<3.0,>=2.0->mitosheet) (0.5.7)\n",
      "Requirement already satisfied: cffi>=1.0.0 in c:\\users\\administrateur\\appdata\\roaming\\python\\python38\\site-packages (from argon2-cffi->notebook>=4.3.1->jupyterlab!=2.3.0,!=2.3.1,<3.0,>=2.0->mitosheet) (1.14.5)\n",
      "Requirement already satisfied: pycparser in c:\\users\\administrateur\\appdata\\roaming\\python\\python38\\site-packages (from cffi>=1.0.0->argon2-cffi->notebook>=4.3.1->jupyterlab!=2.3.0,!=2.3.1,<3.0,>=2.0->mitosheet) (2.20)\n",
      "Requirement already satisfied: async-generator in c:\\users\\administrateur\\appdata\\roaming\\python\\python38\\site-packages (from nbclient<0.6.0,>=0.5.0->nbconvert>=5->notebook>=4.3.1->jupyterlab!=2.3.0,!=2.3.1,<3.0,>=2.0->mitosheet) (1.10)\n",
      "Requirement already satisfied: webencodings in c:\\users\\administrateur\\appdata\\roaming\\python\\python38\\site-packages (from bleach->nbconvert>=5->notebook>=4.3.1->jupyterlab!=2.3.0,!=2.3.1,<3.0,>=2.0->mitosheet) (0.5.1)\n",
      "Requirement already satisfied: packaging in c:\\users\\administrateur\\appdata\\roaming\\python\\python38\\site-packages (from bleach->nbconvert>=5->notebook>=4.3.1->jupyterlab!=2.3.0,!=2.3.1,<3.0,>=2.0->mitosheet) (20.4)\n"
     ]
    }
   ],
   "source": [
    "!python -m pip install mitosheet\n"
   ]
  },
  {
   "cell_type": "code",
   "execution_count": 7,
   "metadata": {},
   "outputs": [
    {
     "name": "stdout",
     "output_type": "stream",
     "text": [
      "It looks like Mito is incorrectly installed. To finish installing Mito, follow the documentation here: https://docs.trymito.io/\n"
     ]
    },
    {
     "name": "stderr",
     "output_type": "stream",
     "text": [
      "Enabling notebook extension mito/extension...\n",
      "      - Validating: problems found:\n",
      "        - require?  X mito/extension\n"
     ]
    }
   ],
   "source": [
    "!jupyter nbextension enable mitosheet --user --py\n"
   ]
  },
  {
   "cell_type": "code",
   "execution_count": 2,
   "metadata": {},
   "outputs": [
    {
     "name": "stdout",
     "output_type": "stream",
     "text": [
      "It looks like Mito is incorrectly installed. To finish installing Mito, follow the documentation here: https://docs.trymito.io/\n"
     ]
    },
    {
     "data": {
      "application/vnd.jupyter.widget-view+json": {
       "model_id": "140546cf372f4e2b98e7d96da53d9978",
       "version_major": 2,
       "version_minor": 0
      },
      "text/plain": [
       "MitoWidget(analysis_name='UUID-a30d6a27-b194-4a05-b6f9-dc1d0f4e5abb', code_json='{\"imports\": \"from mitosheet i…"
      ]
     },
     "metadata": {},
     "output_type": "display_data"
    }
   ],
   "source": [
    "import mitosheet\n",
    "mitosheet.sheet()"
   ]
  },
  {
   "cell_type": "code",
   "execution_count": null,
   "metadata": {},
   "outputs": [],
   "source": []
  }
 ],
 "metadata": {
  "hide_input": false,
  "kernelspec": {
   "display_name": "Python 3",
   "language": "python",
   "name": "python3"
  },
  "language_info": {
   "codemirror_mode": {
    "name": "ipython",
    "version": 3
   },
   "file_extension": ".py",
   "mimetype": "text/x-python",
   "name": "python",
   "nbconvert_exporter": "python",
   "pygments_lexer": "ipython3",
   "version": "3.8.2"
  },
  "latex_envs": {
   "LaTeX_envs_menu_present": true,
   "autoclose": false,
   "autocomplete": true,
   "bibliofile": "biblio.bib",
   "cite_by": "apalike",
   "current_citInitial": 1,
   "eqLabelWithNumbers": true,
   "eqNumInitial": 1,
   "hotkeys": {
    "equation": "Ctrl-E",
    "itemize": "Ctrl-I"
   },
   "labels_anchors": false,
   "latex_user_defs": false,
   "report_style_numbering": false,
   "user_envs_cfg": false
  }
 },
 "nbformat": 4,
 "nbformat_minor": 4
}
