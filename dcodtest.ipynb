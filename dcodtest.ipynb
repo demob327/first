{
 "cells": [
  {
   "cell_type": "code",
   "execution_count": 1,
   "metadata": {},
   "outputs": [],
   "source": [
    "import numpy as np\n",
    "import pandas as pd\n",
    "import matplotlib.pyplot as plt\n",
    "import seaborn as sns"
   ]
  },
  {
   "cell_type": "code",
   "execution_count": 2,
   "metadata": {},
   "outputs": [],
   "source": [
    "data=pd.read_excel(r'c:\\Users\\Administrateur\\Downloads\\dcod20.xlsx', index_col = 'Value Date', parse_dates = True)\n",
    "\n"
   ]
  },
  {
   "cell_type": "code",
   "execution_count": 3,
   "metadata": {},
   "outputs": [
    {
     "data": {
      "text/plain": [
       "(119, 23)"
      ]
     },
     "execution_count": 3,
     "metadata": {},
     "output_type": "execute_result"
    }
   ],
   "source": [
    "data.shape"
   ]
  },
  {
   "cell_type": "code",
   "execution_count": 4,
   "metadata": {},
   "outputs": [
    {
     "data": {
      "text/plain": [
       "Index(['Instrument', 'Issuer', 'Currency', 'Sign', 'Type', 'Kind',\n",
       "       'Maturity Date', 'Opening Date', 'Premium Currency', 'Portfolio',\n",
       "       'Trader', 'Secondary Instrument', 'Counterparty', 'FX Quote Amount',\n",
       "       'Accounting CSD', 'Status', 'Instrument Group', 'Fixing Rate',\n",
       "       'Currency 2', 'Top Portfolio', 'Deal Rate', 'Book Value', 'Amount'],\n",
       "      dtype='object')"
      ]
     },
     "execution_count": 4,
     "metadata": {},
     "output_type": "execute_result"
    }
   ],
   "source": [
    "data.columns"
   ]
  },
  {
   "cell_type": "code",
   "execution_count": 5,
   "metadata": {},
   "outputs": [],
   "source": [
    "data = data.drop(['Secondary Instrument', 'FX Quote Amount','Status', 'Fixing Rate', 'Currency 2', 'Top Portfolio','Counterparty','Deal Rate', 'Book Value'], axis=1)"
   ]
  },
  {
   "cell_type": "code",
   "execution_count": 6,
   "metadata": {},
   "outputs": [
    {
     "data": {
      "text/plain": [
       "(119, 14)"
      ]
     },
     "execution_count": 6,
     "metadata": {},
     "output_type": "execute_result"
    }
   ],
   "source": [
    "data.shape"
   ]
  },
  {
   "cell_type": "code",
   "execution_count": 7,
   "metadata": {},
   "outputs": [
    {
     "data": {
      "text/html": [
       "<div>\n",
       "<style scoped>\n",
       "    .dataframe tbody tr th:only-of-type {\n",
       "        vertical-align: middle;\n",
       "    }\n",
       "\n",
       "    .dataframe tbody tr th {\n",
       "        vertical-align: top;\n",
       "    }\n",
       "\n",
       "    .dataframe thead th {\n",
       "        text-align: right;\n",
       "    }\n",
       "</style>\n",
       "<table border=\"1\" class=\"dataframe\">\n",
       "  <thead>\n",
       "    <tr style=\"text-align: right;\">\n",
       "      <th></th>\n",
       "      <th>Amount</th>\n",
       "    </tr>\n",
       "  </thead>\n",
       "  <tbody>\n",
       "    <tr>\n",
       "      <th>count</th>\n",
       "      <td>1.190000e+02</td>\n",
       "    </tr>\n",
       "    <tr>\n",
       "      <th>mean</th>\n",
       "      <td>-2.908714e+07</td>\n",
       "    </tr>\n",
       "    <tr>\n",
       "      <th>std</th>\n",
       "      <td>3.594845e+07</td>\n",
       "    </tr>\n",
       "    <tr>\n",
       "      <th>min</th>\n",
       "      <td>-1.700000e+08</td>\n",
       "    </tr>\n",
       "    <tr>\n",
       "      <th>25%</th>\n",
       "      <td>-3.000000e+07</td>\n",
       "    </tr>\n",
       "    <tr>\n",
       "      <th>50%</th>\n",
       "      <td>-1.640000e+07</td>\n",
       "    </tr>\n",
       "    <tr>\n",
       "      <th>75%</th>\n",
       "      <td>-9.380000e+06</td>\n",
       "    </tr>\n",
       "    <tr>\n",
       "      <th>max</th>\n",
       "      <td>3.643000e+07</td>\n",
       "    </tr>\n",
       "  </tbody>\n",
       "</table>\n",
       "</div>"
      ],
      "text/plain": [
       "             Amount\n",
       "count  1.190000e+02\n",
       "mean  -2.908714e+07\n",
       "std    3.594845e+07\n",
       "min   -1.700000e+08\n",
       "25%   -3.000000e+07\n",
       "50%   -1.640000e+07\n",
       "75%   -9.380000e+06\n",
       "max    3.643000e+07"
      ]
     },
     "execution_count": 7,
     "metadata": {},
     "output_type": "execute_result"
    }
   ],
   "source": [
    "data.describe()"
   ]
  },
  {
   "cell_type": "code",
   "execution_count": 8,
   "metadata": {},
   "outputs": [
    {
     "data": {
      "text/html": [
       "<div>\n",
       "<style scoped>\n",
       "    .dataframe tbody tr th:only-of-type {\n",
       "        vertical-align: middle;\n",
       "    }\n",
       "\n",
       "    .dataframe tbody tr th {\n",
       "        vertical-align: top;\n",
       "    }\n",
       "\n",
       "    .dataframe thead th {\n",
       "        text-align: right;\n",
       "    }\n",
       "</style>\n",
       "<table border=\"1\" class=\"dataframe\">\n",
       "  <thead>\n",
       "    <tr style=\"text-align: right;\">\n",
       "      <th></th>\n",
       "      <th>Instrument</th>\n",
       "      <th>Issuer</th>\n",
       "      <th>Currency</th>\n",
       "      <th>Sign</th>\n",
       "      <th>Type</th>\n",
       "      <th>Kind</th>\n",
       "      <th>Maturity Date</th>\n",
       "      <th>Opening Date</th>\n",
       "      <th>Premium Currency</th>\n",
       "      <th>Portfolio</th>\n",
       "      <th>Trader</th>\n",
       "      <th>Accounting CSD</th>\n",
       "      <th>Instrument Group</th>\n",
       "      <th>Amount</th>\n",
       "    </tr>\n",
       "    <tr>\n",
       "      <th>Value Date</th>\n",
       "      <th></th>\n",
       "      <th></th>\n",
       "      <th></th>\n",
       "      <th></th>\n",
       "      <th></th>\n",
       "      <th></th>\n",
       "      <th></th>\n",
       "      <th></th>\n",
       "      <th></th>\n",
       "      <th></th>\n",
       "      <th></th>\n",
       "      <th></th>\n",
       "      <th></th>\n",
       "      <th></th>\n",
       "    </tr>\n",
       "  </thead>\n",
       "  <tbody>\n",
       "    <tr>\n",
       "      <th>2020-11-12</th>\n",
       "      <td>DCOD-FX-OPTION-SOLD</td>\n",
       "      <td>SOGEPARHCM</td>\n",
       "      <td>USD</td>\n",
       "      <td>Sell</td>\n",
       "      <td>Call</td>\n",
       "      <td>Other</td>\n",
       "      <td>2020-11-12</td>\n",
       "      <td>2020-04-30</td>\n",
       "      <td>USD</td>\n",
       "      <td>NET-RES-USD-INV</td>\n",
       "      <td>BBENSALAH</td>\n",
       "      <td>SOGEPARHCM-USD</td>\n",
       "      <td>/FX/OPTN</td>\n",
       "      <td>-4800000</td>\n",
       "    </tr>\n",
       "    <tr>\n",
       "      <th>2020-11-18</th>\n",
       "      <td>DCOD-FX-OPTION-SOLD</td>\n",
       "      <td>BISBBSL</td>\n",
       "      <td>USD</td>\n",
       "      <td>Sell</td>\n",
       "      <td>Call</td>\n",
       "      <td>Other</td>\n",
       "      <td>2020-11-18</td>\n",
       "      <td>2020-05-04</td>\n",
       "      <td>USD</td>\n",
       "      <td>NET-RES-USD-INV</td>\n",
       "      <td>BBENSALAH</td>\n",
       "      <td>BISBBSL-USD</td>\n",
       "      <td>/FX/OPTN</td>\n",
       "      <td>-100000000</td>\n",
       "    </tr>\n",
       "    <tr>\n",
       "      <th>2020-11-16</th>\n",
       "      <td>DCOD-FX-OPTION-SOLD</td>\n",
       "      <td>BOFMMONFXM</td>\n",
       "      <td>USD</td>\n",
       "      <td>Sell</td>\n",
       "      <td>Call</td>\n",
       "      <td>Other</td>\n",
       "      <td>2020-11-16</td>\n",
       "      <td>2020-05-04</td>\n",
       "      <td>USD</td>\n",
       "      <td>NET-RES-USD-INV</td>\n",
       "      <td>BBENSALAH</td>\n",
       "      <td>BOFMMONFXM-USD</td>\n",
       "      <td>/FX/OPTN</td>\n",
       "      <td>-10000000</td>\n",
       "    </tr>\n",
       "    <tr>\n",
       "      <th>2020-11-16</th>\n",
       "      <td>DCOD-FX-OPTION-SOLD</td>\n",
       "      <td>CRLYLON</td>\n",
       "      <td>USD</td>\n",
       "      <td>Sell</td>\n",
       "      <td>Call</td>\n",
       "      <td>Other</td>\n",
       "      <td>2020-11-16</td>\n",
       "      <td>2020-05-04</td>\n",
       "      <td>USD</td>\n",
       "      <td>NET-RES-USD-INV</td>\n",
       "      <td>BBENSALAH</td>\n",
       "      <td>CRLYLON-USD</td>\n",
       "      <td>/FX/OPTN</td>\n",
       "      <td>-11500000</td>\n",
       "    </tr>\n",
       "    <tr>\n",
       "      <th>2020-11-06</th>\n",
       "      <td>DCOD-FX-OPTION-SOLD</td>\n",
       "      <td>BISBBSL</td>\n",
       "      <td>USD</td>\n",
       "      <td>Sell</td>\n",
       "      <td>Call</td>\n",
       "      <td>Other</td>\n",
       "      <td>2020-11-06</td>\n",
       "      <td>2020-04-28</td>\n",
       "      <td>USD</td>\n",
       "      <td>NET-RES-USD-INV</td>\n",
       "      <td>BBENSALAH</td>\n",
       "      <td>BISBBSL-USD</td>\n",
       "      <td>/FX/OPTN</td>\n",
       "      <td>-170000000</td>\n",
       "    </tr>\n",
       "  </tbody>\n",
       "</table>\n",
       "</div>"
      ],
      "text/plain": [
       "                     Instrument      Issuer Currency  Sign  Type   Kind  \\\n",
       "Value Date                                                                \n",
       "2020-11-12  DCOD-FX-OPTION-SOLD  SOGEPARHCM      USD  Sell  Call  Other   \n",
       "2020-11-18  DCOD-FX-OPTION-SOLD     BISBBSL      USD  Sell  Call  Other   \n",
       "2020-11-16  DCOD-FX-OPTION-SOLD  BOFMMONFXM      USD  Sell  Call  Other   \n",
       "2020-11-16  DCOD-FX-OPTION-SOLD     CRLYLON      USD  Sell  Call  Other   \n",
       "2020-11-06  DCOD-FX-OPTION-SOLD     BISBBSL      USD  Sell  Call  Other   \n",
       "\n",
       "           Maturity Date Opening Date Premium Currency        Portfolio  \\\n",
       "Value Date                                                                \n",
       "2020-11-12    2020-11-12   2020-04-30              USD  NET-RES-USD-INV   \n",
       "2020-11-18    2020-11-18   2020-05-04              USD  NET-RES-USD-INV   \n",
       "2020-11-16    2020-11-16   2020-05-04              USD  NET-RES-USD-INV   \n",
       "2020-11-16    2020-11-16   2020-05-04              USD  NET-RES-USD-INV   \n",
       "2020-11-06    2020-11-06   2020-04-28              USD  NET-RES-USD-INV   \n",
       "\n",
       "               Trader  Accounting CSD Instrument Group     Amount  \n",
       "Value Date                                                         \n",
       "2020-11-12  BBENSALAH  SOGEPARHCM-USD         /FX/OPTN   -4800000  \n",
       "2020-11-18  BBENSALAH     BISBBSL-USD         /FX/OPTN -100000000  \n",
       "2020-11-16  BBENSALAH  BOFMMONFXM-USD         /FX/OPTN  -10000000  \n",
       "2020-11-16  BBENSALAH     CRLYLON-USD         /FX/OPTN  -11500000  \n",
       "2020-11-06  BBENSALAH     BISBBSL-USD         /FX/OPTN -170000000  "
      ]
     },
     "execution_count": 8,
     "metadata": {},
     "output_type": "execute_result"
    }
   ],
   "source": [
    "data.head()"
   ]
  },
  {
   "cell_type": "code",
   "execution_count": 9,
   "metadata": {},
   "outputs": [
    {
     "data": {
      "text/plain": [
       "(119, 14)"
      ]
     },
     "execution_count": 9,
     "metadata": {},
     "output_type": "execute_result"
    }
   ],
   "source": [
    "data.shape"
   ]
  },
  {
   "cell_type": "code",
   "execution_count": 10,
   "metadata": {},
   "outputs": [
    {
     "data": {
      "text/plain": [
       "/FX/OPTN          112\n",
       "/IR/DCOD            3\n",
       "/IR/DEPO/SHORT      2\n",
       "/FX/SPOT            2\n",
       "Name: Instrument Group, dtype: int64"
      ]
     },
     "execution_count": 10,
     "metadata": {},
     "output_type": "execute_result"
    }
   ],
   "source": [
    "data['Instrument Group'].value_counts()"
   ]
  },
  {
   "cell_type": "code",
   "execution_count": 11,
   "metadata": {},
   "outputs": [
    {
     "data": {
      "text/plain": [
       "<AxesSubplot:>"
      ]
     },
     "execution_count": 11,
     "metadata": {},
     "output_type": "execute_result"
    },
    {
     "data": {
      "image/png": "[encoded data removed]",
      "text/plain": [
       "<Figure size 432x288 with 1 Axes>"
      ]
     },
     "metadata": {
      "needs_background": "light"
     },
     "output_type": "display_data"
    }
   ],
   "source": [
    "data['Amount'].hist()"
   ]
  },
  {
   "cell_type": "code",
   "execution_count": 12,
   "metadata": {},
   "outputs": [],
   "source": [
    "data['NewAmount'] = data.apply(lambda row: abs(row.Amount) , axis = 1) \n",
    "  "
   ]
  },
  {
   "cell_type": "code",
   "execution_count": 13,
   "metadata": {},
   "outputs": [
    {
     "data": {
      "text/html": [
       "<div>\n",
       "<style scoped>\n",
       "    .dataframe tbody tr th:only-of-type {\n",
       "        vertical-align: middle;\n",
       "    }\n",
       "\n",
       "    .dataframe tbody tr th {\n",
       "        vertical-align: top;\n",
       "    }\n",
       "\n",
       "    .dataframe thead th {\n",
       "        text-align: right;\n",
       "    }\n",
       "</style>\n",
       "<table border=\"1\" class=\"dataframe\">\n",
       "  <thead>\n",
       "    <tr style=\"text-align: right;\">\n",
       "      <th></th>\n",
       "      <th>Instrument</th>\n",
       "      <th>Issuer</th>\n",
       "      <th>Currency</th>\n",
       "      <th>Sign</th>\n",
       "      <th>Type</th>\n",
       "      <th>Kind</th>\n",
       "      <th>Maturity Date</th>\n",
       "      <th>Opening Date</th>\n",
       "      <th>Premium Currency</th>\n",
       "      <th>Portfolio</th>\n",
       "      <th>Trader</th>\n",
       "      <th>Accounting CSD</th>\n",
       "      <th>Instrument Group</th>\n",
       "      <th>Amount</th>\n",
       "      <th>NewAmount</th>\n",
       "    </tr>\n",
       "    <tr>\n",
       "      <th>Value Date</th>\n",
       "      <th></th>\n",
       "      <th></th>\n",
       "      <th></th>\n",
       "      <th></th>\n",
       "      <th></th>\n",
       "      <th></th>\n",
       "      <th></th>\n",
       "      <th></th>\n",
       "      <th></th>\n",
       "      <th></th>\n",
       "      <th></th>\n",
       "      <th></th>\n",
       "      <th></th>\n",
       "      <th></th>\n",
       "      <th></th>\n",
       "    </tr>\n",
       "  </thead>\n",
       "  <tbody>\n",
       "    <tr>\n",
       "      <th>2020-11-12</th>\n",
       "      <td>DCOD-FX-OPTION-SOLD</td>\n",
       "      <td>SOGEPARHCM</td>\n",
       "      <td>USD</td>\n",
       "      <td>Sell</td>\n",
       "      <td>Call</td>\n",
       "      <td>Other</td>\n",
       "      <td>2020-11-12</td>\n",
       "      <td>2020-04-30</td>\n",
       "      <td>USD</td>\n",
       "      <td>NET-RES-USD-INV</td>\n",
       "      <td>BBENSALAH</td>\n",
       "      <td>SOGEPARHCM-USD</td>\n",
       "      <td>/FX/OPTN</td>\n",
       "      <td>-4800000</td>\n",
       "      <td>4800000</td>\n",
       "    </tr>\n",
       "    <tr>\n",
       "      <th>2020-11-18</th>\n",
       "      <td>DCOD-FX-OPTION-SOLD</td>\n",
       "      <td>BISBBSL</td>\n",
       "      <td>USD</td>\n",
       "      <td>Sell</td>\n",
       "      <td>Call</td>\n",
       "      <td>Other</td>\n",
       "      <td>2020-11-18</td>\n",
       "      <td>2020-05-04</td>\n",
       "      <td>USD</td>\n",
       "      <td>NET-RES-USD-INV</td>\n",
       "      <td>BBENSALAH</td>\n",
       "      <td>BISBBSL-USD</td>\n",
       "      <td>/FX/OPTN</td>\n",
       "      <td>-100000000</td>\n",
       "      <td>100000000</td>\n",
       "    </tr>\n",
       "    <tr>\n",
       "      <th>2020-11-16</th>\n",
       "      <td>DCOD-FX-OPTION-SOLD</td>\n",
       "      <td>BOFMMONFXM</td>\n",
       "      <td>USD</td>\n",
       "      <td>Sell</td>\n",
       "      <td>Call</td>\n",
       "      <td>Other</td>\n",
       "      <td>2020-11-16</td>\n",
       "      <td>2020-05-04</td>\n",
       "      <td>USD</td>\n",
       "      <td>NET-RES-USD-INV</td>\n",
       "      <td>BBENSALAH</td>\n",
       "      <td>BOFMMONFXM-USD</td>\n",
       "      <td>/FX/OPTN</td>\n",
       "      <td>-10000000</td>\n",
       "      <td>10000000</td>\n",
       "    </tr>\n",
       "    <tr>\n",
       "      <th>2020-11-16</th>\n",
       "      <td>DCOD-FX-OPTION-SOLD</td>\n",
       "      <td>CRLYLON</td>\n",
       "      <td>USD</td>\n",
       "      <td>Sell</td>\n",
       "      <td>Call</td>\n",
       "      <td>Other</td>\n",
       "      <td>2020-11-16</td>\n",
       "      <td>2020-05-04</td>\n",
       "      <td>USD</td>\n",
       "      <td>NET-RES-USD-INV</td>\n",
       "      <td>BBENSALAH</td>\n",
       "      <td>CRLYLON-USD</td>\n",
       "      <td>/FX/OPTN</td>\n",
       "      <td>-11500000</td>\n",
       "      <td>11500000</td>\n",
       "    </tr>\n",
       "    <tr>\n",
       "      <th>2020-11-06</th>\n",
       "      <td>DCOD-FX-OPTION-SOLD</td>\n",
       "      <td>BISBBSL</td>\n",
       "      <td>USD</td>\n",
       "      <td>Sell</td>\n",
       "      <td>Call</td>\n",
       "      <td>Other</td>\n",
       "      <td>2020-11-06</td>\n",
       "      <td>2020-04-28</td>\n",
       "      <td>USD</td>\n",
       "      <td>NET-RES-USD-INV</td>\n",
       "      <td>BBENSALAH</td>\n",
       "      <td>BISBBSL-USD</td>\n",
       "      <td>/FX/OPTN</td>\n",
       "      <td>-170000000</td>\n",
       "      <td>170000000</td>\n",
       "    </tr>\n",
       "  </tbody>\n",
       "</table>\n",
       "</div>"
      ],
      "text/plain": [
       "                     Instrument      Issuer Currency  Sign  Type   Kind  \\\n",
       "Value Date                                                                \n",
       "2020-11-12  DCOD-FX-OPTION-SOLD  SOGEPARHCM      USD  Sell  Call  Other   \n",
       "2020-11-18  DCOD-FX-OPTION-SOLD     BISBBSL      USD  Sell  Call  Other   \n",
       "2020-11-16  DCOD-FX-OPTION-SOLD  BOFMMONFXM      USD  Sell  Call  Other   \n",
       "2020-11-16  DCOD-FX-OPTION-SOLD     CRLYLON      USD  Sell  Call  Other   \n",
       "2020-11-06  DCOD-FX-OPTION-SOLD     BISBBSL      USD  Sell  Call  Other   \n",
       "\n",
       "           Maturity Date Opening Date Premium Currency        Portfolio  \\\n",
       "Value Date                                                                \n",
       "2020-11-12    2020-11-12   2020-04-30              USD  NET-RES-USD-INV   \n",
       "2020-11-18    2020-11-18   2020-05-04              USD  NET-RES-USD-INV   \n",
       "2020-11-16    2020-11-16   2020-05-04              USD  NET-RES-USD-INV   \n",
       "2020-11-16    2020-11-16   2020-05-04              USD  NET-RES-USD-INV   \n",
       "2020-11-06    2020-11-06   2020-04-28              USD  NET-RES-USD-INV   \n",
       "\n",
       "               Trader  Accounting CSD Instrument Group     Amount  NewAmount  \n",
       "Value Date                                                                    \n",
       "2020-11-12  BBENSALAH  SOGEPARHCM-USD         /FX/OPTN   -4800000    4800000  \n",
       "2020-11-18  BBENSALAH     BISBBSL-USD         /FX/OPTN -100000000  100000000  \n",
       "2020-11-16  BBENSALAH  BOFMMONFXM-USD         /FX/OPTN  -10000000   10000000  \n",
       "2020-11-16  BBENSALAH     CRLYLON-USD         /FX/OPTN  -11500000   11500000  \n",
       "2020-11-06  BBENSALAH     BISBBSL-USD         /FX/OPTN -170000000  170000000  "
      ]
     },
     "execution_count": 13,
     "metadata": {},
     "output_type": "execute_result"
    }
   ],
   "source": [
    "data.head()"
   ]
  },
  {
   "cell_type": "code",
   "execution_count": 14,
   "metadata": {},
   "outputs": [
    {
     "data": {
      "text/plain": [
       "Index(['Instrument', 'Issuer', 'Currency', 'Sign', 'Type', 'Kind',\n",
       "       'Maturity Date', 'Opening Date', 'Premium Currency', 'Portfolio',\n",
       "       'Trader', 'Accounting CSD', 'Instrument Group', 'Amount', 'NewAmount'],\n",
       "      dtype='object')"
      ]
     },
     "execution_count": 14,
     "metadata": {},
     "output_type": "execute_result"
    }
   ],
   "source": [
    "data.columns"
   ]
  },
  {
   "cell_type": "code",
   "execution_count": 15,
   "metadata": {},
   "outputs": [],
   "source": [
    "data = data[data['Maturity Date']<'2021-12-12']"
   ]
  },
  {
   "cell_type": "code",
   "execution_count": 16,
   "metadata": {},
   "outputs": [
    {
     "data": {
      "text/html": [
       "<div>\n",
       "<style scoped>\n",
       "    .dataframe tbody tr th:only-of-type {\n",
       "        vertical-align: middle;\n",
       "    }\n",
       "\n",
       "    .dataframe tbody tr th {\n",
       "        vertical-align: top;\n",
       "    }\n",
       "\n",
       "    .dataframe thead th {\n",
       "        text-align: right;\n",
       "    }\n",
       "</style>\n",
       "<table border=\"1\" class=\"dataframe\">\n",
       "  <thead>\n",
       "    <tr style=\"text-align: right;\">\n",
       "      <th></th>\n",
       "      <th></th>\n",
       "      <th></th>\n",
       "      <th></th>\n",
       "      <th></th>\n",
       "      <th></th>\n",
       "      <th>Amount</th>\n",
       "      <th>NewAmount</th>\n",
       "    </tr>\n",
       "    <tr>\n",
       "      <th>Maturity Date</th>\n",
       "      <th>Sign</th>\n",
       "      <th>Accounting CSD</th>\n",
       "      <th>Kind</th>\n",
       "      <th>Currency</th>\n",
       "      <th>Type</th>\n",
       "      <th></th>\n",
       "      <th></th>\n",
       "    </tr>\n",
       "  </thead>\n",
       "  <tbody>\n",
       "    <tr>\n",
       "      <th rowspan=\"5\" valign=\"top\">2021-03-01</th>\n",
       "      <th rowspan=\"2\" valign=\"top\">Buy</th>\n",
       "      <th>BYLAMUN-USD</th>\n",
       "      <th>Roll Over</th>\n",
       "      <th>USD</th>\n",
       "      <th>Spot</th>\n",
       "      <td>17710000</td>\n",
       "      <td>17710000</td>\n",
       "    </tr>\n",
       "    <tr>\n",
       "      <th>SCBLLONTSY-USD</th>\n",
       "      <th>Other</th>\n",
       "      <th>USD</th>\n",
       "      <th>Spot</th>\n",
       "      <td>9500000</td>\n",
       "      <td>9500000</td>\n",
       "    </tr>\n",
       "    <tr>\n",
       "      <th rowspan=\"3\" valign=\"top\">Sell</th>\n",
       "      <th>ABNAAMS-USD</th>\n",
       "      <th>Other</th>\n",
       "      <th>USD</th>\n",
       "      <th>Call</th>\n",
       "      <td>-12290000</td>\n",
       "      <td>12290000</td>\n",
       "    </tr>\n",
       "    <tr>\n",
       "      <th>BYLAMUN-USD</th>\n",
       "      <th>Other</th>\n",
       "      <th>USD</th>\n",
       "      <th>Call</th>\n",
       "      <td>-17710000</td>\n",
       "      <td>17710000</td>\n",
       "    </tr>\n",
       "    <tr>\n",
       "      <th>SCBLLONTSY-USD</th>\n",
       "      <th>Other</th>\n",
       "      <th>USD</th>\n",
       "      <th>Call</th>\n",
       "      <td>-9500000</td>\n",
       "      <td>9500000</td>\n",
       "    </tr>\n",
       "  </tbody>\n",
       "</table>\n",
       "</div>"
      ],
      "text/plain": [
       "                                                             Amount  NewAmount\n",
       "Maturity Date Sign Accounting CSD Kind      Currency Type                     \n",
       "2021-03-01    Buy  BYLAMUN-USD    Roll Over USD      Spot  17710000   17710000\n",
       "                   SCBLLONTSY-USD Other     USD      Spot   9500000    9500000\n",
       "              Sell ABNAAMS-USD    Other     USD      Call -12290000   12290000\n",
       "                   BYLAMUN-USD    Other     USD      Call -17710000   17710000\n",
       "                   SCBLLONTSY-USD Other     USD      Call  -9500000    9500000"
      ]
     },
     "execution_count": 16,
     "metadata": {},
     "output_type": "execute_result"
    }
   ],
   "source": [
    "data.groupby(['Maturity Date', 'Sign','Accounting CSD','Kind', 'Currency', 'Type']).sum().tail()"
   ]
  },
  {
   "cell_type": "code",
   "execution_count": 17,
   "metadata": {},
   "outputs": [],
   "source": [
    "data.drop(['Amount'], axis=1, inplace=True)"
   ]
  },
  {
   "cell_type": "code",
   "execution_count": 18,
   "metadata": {},
   "outputs": [
    {
     "data": {
      "text/plain": [
       "<AxesSubplot:>"
      ]
     },
     "execution_count": 18,
     "metadata": {},
     "output_type": "execute_result"
    },
    {
     "data": {
      "image/png": "[encoded data removed]",
      "text/plain": [
       "<Figure size 432x288 with 1 Axes>"
      ]
     },
     "metadata": {
      "needs_background": "light"
     },
     "output_type": "display_data"
    }
   ],
   "source": [
    "data['NewAmount'].hist()"
   ]
  },
  {
   "cell_type": "code",
   "execution_count": null,
   "metadata": {},
   "outputs": [],
   "source": []
  }
 ],
 "metadata": {
  "hide_input": false,
  "kernelspec": {
   "display_name": "Python 3",
   "language": "python",
   "name": "python3"
  },
  "language_info": {
   "codemirror_mode": {
    "name": "ipython",
    "version": 3
   },
   "file_extension": ".py",
   "mimetype": "text/x-python",
   "name": "python",
   "nbconvert_exporter": "python",
   "pygments_lexer": "ipython3",
   "version": "3.8.2"
  },
  "latex_envs": {
   "LaTeX_envs_menu_present": true,
   "autoclose": false,
   "autocomplete": true,
   "bibliofile": "biblio.bib",
   "cite_by": "apalike",
   "current_citInitial": 1,
   "eqLabelWithNumbers": true,
   "eqNumInitial": 1,
   "hotkeys": {
    "equation": "Ctrl-E",
    "itemize": "Ctrl-I"
   },
   "labels_anchors": false,
   "latex_user_defs": false,
   "report_style_numbering": false,
   "user_envs_cfg": false
  }
 },
 "nbformat": 4,
 "nbformat_minor": 4
}
