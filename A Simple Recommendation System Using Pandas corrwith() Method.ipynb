{
 "cells": [
  {
   "cell_type": "markdown",
   "metadata": {},
   "source": [
    "\n",
    "Data Science, Pandas Library, Python / By Lukas\n",
    "What is a Recommendation System?\n",
    "If you use Netflix or Amazon you have already seen the results of recommendation systems – movie or item recommendations that fit your taste or needs. So, at its core a recommendation system is a statistical algorithm that computes similarities based on previous choices or features and recommends users which movie to watch or what else they might need to buy.\n",
    "\n",
    "How Does a Recommendation System Work?\n",
    "Assume that persons A and B like a movie M1 and person A also likes movie M2. Now, we can conclude that person B will also like movie M2 with a high probability. Well, that’s very little data and probably a rather imprecise prediction. Yet, it illustrates how collaborative filtering works. In a real world application we would need much more data to make good recommendations. The recommendation algorithms based this concept are called collaborative filtering.\n",
    "\n",
    "Another popular way to recommend items is so called content-based filtering. Content-based filtering computes recommendations based on similarities of items or movies. In the case of movies we could look at different features like: genre, actors, … to compute similarity.\n",
    "If a user liked a given movie, the probability is high that the user will also like similar movies. Thus, it makes sense to recommend movies with a high similarity to those the user liked.\n",
    "\n",
    "Implementing a Recommendation System\n",
    "If you want to understand the code below better, make sure to sign up for our free email course “Introduction to Pandas and Data Science” on our Email Academy. Throughout the course, we develop a recommendation system for movies. At its core, there is the method corrwith() from the Pandas library.\n",
    "\n",
    "This is the final implementation of our recommendation system:\n",
    "\n",
    "\n",
    "Download the MovieLens data set from: https://grouplens.org/datasets/movielens/latest/\n",
    "How to Use Pandas corrwith() Method?\n",
    "The Pandas object DataFrame offers the method corrwith() which computes pairwise correlations between DataFrames or a DataFrame and a Series. With the parameter axis, you can either compute correlations along the rows or columns. Here is the complete signature, blue parameters are optional and have default values.\n",
    "\n",
    "\n",
    "The arguments in detail:\n",
    "\n",
    "1.) other: A Series or DataFrame with which to compute the correlation.\n",
    "\n",
    "2.) axis: Pass 0 or ‘index’ to compute correlations column-wise, 1 or ‘columns’ for row-wise.\n",
    "\n",
    "3.) drop: Drop missing indices from result.\n",
    "\n",
    "4.) method: The algorithm used to compute the correlation. You can either choose from: ‘pearson’, ‘kendall’ or ‘spearman’ or implement your own algorithm. So, either you pass one of the three strings or a callable.\n",
    "\n"
   ]
  },
  {
   "cell_type": "code",
   "execution_count": 1,
   "metadata": {},
   "outputs": [
    {
     "name": "stdout",
     "output_type": "stream",
     "text": [
      "Spider Man    0.566394\n",
      "James Bond    0.953910\n",
      "Titanic      -0.962312\n",
      "dtype: float64\n"
     ]
    }
   ],
   "source": [
    "#Here is a practical example:\n",
    "\n",
    "import pandas as pd\n",
    "\n",
    "ratings = pd.read_csv(r'C:\\Users\\Administrateur\\Downloads\\ml-latest-small\\ml-latest-small\\ratings.csv')\n",
    "movies = pd.read_csv(r'C:\\Users\\Administrateur\\Downloads\\ml-latest-small\\ml-latest-small\\movies.csv')\n",
    "dftags = pd.read_csv(r'C:\\Users\\Administrateur\\Downloads\\ml-latest-small\\ml-latest-small\\tags.csv')\n",
    "dflinks = pd.read_csv(r'C:\\Users\\Administrateur\\Downloads\\ml-latest-small\\ml-latest-small\\links.csv')\n",
    "\n",
    "ratings = {\n",
    "       'Spider Man':[3.5, 1.0, 4.5, 5.0],\n",
    "       'James Bond':[1.0, 2.5, 5.0, 4.0],\n",
    "       'Titanic':[5.0, 4.5, 1.0, 2.0] \n",
    "}\n",
    "\n",
    "new_movie_ratings = pd.Series([2.0, 2.5, 5.0, 3.5])\n",
    "all_ratings = pd.DataFrame(ratings)\n",
    "\n",
    "print(all_ratings.corrwith(new_movie_ratings))\n",
    "\n"
   ]
  },
  {
   "cell_type": "code",
   "execution_count": 2,
   "metadata": {},
   "outputs": [],
   "source": [
    "import pandas as pd\n",
    "\n",
    "ratings = pd.read_csv(r'C:\\Users\\Administrateur\\Downloads\\ml-latest-small\\ml-latest-small\\ratings.csv')\n",
    "movies = pd.read_csv(r'C:\\Users\\Administrateur\\Downloads\\ml-latest-small\\ml-latest-small\\movies.csv')\n",
    "\n"
   ]
  },
  {
   "cell_type": "code",
   "execution_count": 3,
   "metadata": {},
   "outputs": [
    {
     "data": {
      "text/html": [
       "<div>\n",
       "<style scoped>\n",
       "    .dataframe tbody tr th:only-of-type {\n",
       "        vertical-align: middle;\n",
       "    }\n",
       "\n",
       "    .dataframe tbody tr th {\n",
       "        vertical-align: top;\n",
       "    }\n",
       "\n",
       "    .dataframe thead th {\n",
       "        text-align: right;\n",
       "    }\n",
       "</style>\n",
       "<table border=\"1\" class=\"dataframe\">\n",
       "  <thead>\n",
       "    <tr style=\"text-align: right;\">\n",
       "      <th></th>\n",
       "      <th>userId</th>\n",
       "      <th>movieId</th>\n",
       "      <th>rating</th>\n",
       "      <th>timestamp</th>\n",
       "    </tr>\n",
       "  </thead>\n",
       "  <tbody>\n",
       "    <tr>\n",
       "      <th>0</th>\n",
       "      <td>1</td>\n",
       "      <td>1</td>\n",
       "      <td>4.0</td>\n",
       "      <td>964982703</td>\n",
       "    </tr>\n",
       "    <tr>\n",
       "      <th>1</th>\n",
       "      <td>1</td>\n",
       "      <td>3</td>\n",
       "      <td>4.0</td>\n",
       "      <td>964981247</td>\n",
       "    </tr>\n",
       "    <tr>\n",
       "      <th>2</th>\n",
       "      <td>1</td>\n",
       "      <td>6</td>\n",
       "      <td>4.0</td>\n",
       "      <td>964982224</td>\n",
       "    </tr>\n",
       "    <tr>\n",
       "      <th>3</th>\n",
       "      <td>1</td>\n",
       "      <td>47</td>\n",
       "      <td>5.0</td>\n",
       "      <td>964983815</td>\n",
       "    </tr>\n",
       "    <tr>\n",
       "      <th>4</th>\n",
       "      <td>1</td>\n",
       "      <td>50</td>\n",
       "      <td>5.0</td>\n",
       "      <td>964982931</td>\n",
       "    </tr>\n",
       "  </tbody>\n",
       "</table>\n",
       "</div>"
      ],
      "text/plain": [
       "   userId  movieId  rating  timestamp\n",
       "0       1        1     4.0  964982703\n",
       "1       1        3     4.0  964981247\n",
       "2       1        6     4.0  964982224\n",
       "3       1       47     5.0  964983815\n",
       "4       1       50     5.0  964982931"
      ]
     },
     "execution_count": 3,
     "metadata": {},
     "output_type": "execute_result"
    }
   ],
   "source": [
    "ratings.head()"
   ]
  },
  {
   "cell_type": "code",
   "execution_count": 4,
   "metadata": {},
   "outputs": [
    {
     "data": {
      "text/html": [
       "<div>\n",
       "<style scoped>\n",
       "    .dataframe tbody tr th:only-of-type {\n",
       "        vertical-align: middle;\n",
       "    }\n",
       "\n",
       "    .dataframe tbody tr th {\n",
       "        vertical-align: top;\n",
       "    }\n",
       "\n",
       "    .dataframe thead th {\n",
       "        text-align: right;\n",
       "    }\n",
       "</style>\n",
       "<table border=\"1\" class=\"dataframe\">\n",
       "  <thead>\n",
       "    <tr style=\"text-align: right;\">\n",
       "      <th></th>\n",
       "      <th>movieId</th>\n",
       "      <th>title</th>\n",
       "      <th>genres</th>\n",
       "      <th>userId</th>\n",
       "      <th>rating</th>\n",
       "      <th>timestamp</th>\n",
       "    </tr>\n",
       "  </thead>\n",
       "  <tbody>\n",
       "    <tr>\n",
       "      <th>37636</th>\n",
       "      <td>1993</td>\n",
       "      <td>Child's Play 3 (1991)</td>\n",
       "      <td>Comedy|Horror|Thriller</td>\n",
       "      <td>599</td>\n",
       "      <td>0.5</td>\n",
       "      <td>1498502795</td>\n",
       "    </tr>\n",
       "    <tr>\n",
       "      <th>24527</th>\n",
       "      <td>1193</td>\n",
       "      <td>One Flew Over the Cuckoo's Nest (1975)</td>\n",
       "      <td>Drama</td>\n",
       "      <td>128</td>\n",
       "      <td>3.0</td>\n",
       "      <td>899033127</td>\n",
       "    </tr>\n",
       "    <tr>\n",
       "      <th>6398</th>\n",
       "      <td>235</td>\n",
       "      <td>Ed Wood (1994)</td>\n",
       "      <td>Comedy|Drama</td>\n",
       "      <td>273</td>\n",
       "      <td>5.0</td>\n",
       "      <td>835860827</td>\n",
       "    </tr>\n",
       "    <tr>\n",
       "      <th>6776</th>\n",
       "      <td>253</td>\n",
       "      <td>Interview with the Vampire: The Vampire Chroni...</td>\n",
       "      <td>Drama|Horror</td>\n",
       "      <td>602</td>\n",
       "      <td>3.0</td>\n",
       "      <td>840875621</td>\n",
       "    </tr>\n",
       "    <tr>\n",
       "      <th>68457</th>\n",
       "      <td>5785</td>\n",
       "      <td>Jackass: The Movie (2002)</td>\n",
       "      <td>Action|Comedy|Documentary</td>\n",
       "      <td>414</td>\n",
       "      <td>4.0</td>\n",
       "      <td>1072058073</td>\n",
       "    </tr>\n",
       "    <tr>\n",
       "      <th>71087</th>\n",
       "      <td>6440</td>\n",
       "      <td>Barton Fink (1991)</td>\n",
       "      <td>Drama|Thriller</td>\n",
       "      <td>23</td>\n",
       "      <td>5.0</td>\n",
       "      <td>1107341765</td>\n",
       "    </tr>\n",
       "    <tr>\n",
       "      <th>63798</th>\n",
       "      <td>4866</td>\n",
       "      <td>Last Castle, The (2001)</td>\n",
       "      <td>Action</td>\n",
       "      <td>608</td>\n",
       "      <td>4.0</td>\n",
       "      <td>1117520106</td>\n",
       "    </tr>\n",
       "  </tbody>\n",
       "</table>\n",
       "</div>"
      ],
      "text/plain": [
       "       movieId                                              title  \\\n",
       "37636     1993                              Child's Play 3 (1991)   \n",
       "24527     1193             One Flew Over the Cuckoo's Nest (1975)   \n",
       "6398       235                                     Ed Wood (1994)   \n",
       "6776       253  Interview with the Vampire: The Vampire Chroni...   \n",
       "68457     5785                          Jackass: The Movie (2002)   \n",
       "71087     6440                                 Barton Fink (1991)   \n",
       "63798     4866                            Last Castle, The (2001)   \n",
       "\n",
       "                          genres  userId  rating   timestamp  \n",
       "37636     Comedy|Horror|Thriller     599     0.5  1498502795  \n",
       "24527                      Drama     128     3.0   899033127  \n",
       "6398                Comedy|Drama     273     5.0   835860827  \n",
       "6776                Drama|Horror     602     3.0   840875621  \n",
       "68457  Action|Comedy|Documentary     414     4.0  1072058073  \n",
       "71087             Drama|Thriller      23     5.0  1107341765  \n",
       "63798                     Action     608     4.0  1117520106  "
      ]
     },
     "execution_count": 4,
     "metadata": {},
     "output_type": "execute_result"
    }
   ],
   "source": [
    "data = pd.merge(movies, ratings, on='movieId')\n",
    "data.sample(7)"
   ]
  },
  {
   "cell_type": "code",
   "execution_count": 5,
   "metadata": {},
   "outputs": [
    {
     "name": "stdout",
     "output_type": "stream",
     "text": [
      "<class 'pandas.core.frame.DataFrame'>\n",
      "RangeIndex: 100836 entries, 0 to 100835\n",
      "Data columns (total 6 columns):\n",
      " #   Column     Non-Null Count   Dtype  \n",
      "---  ------     --------------   -----  \n",
      " 0   movieId    100836 non-null  int64  \n",
      " 1   title      100836 non-null  object \n",
      " 2   genres     100836 non-null  object \n",
      " 3   userId     100836 non-null  int64  \n",
      " 4   rating     100836 non-null  float64\n",
      " 5   timestamp  100836 non-null  int64  \n",
      "dtypes: float64(1), int64(3), object(2)\n",
      "memory usage: 4.6+ MB\n"
     ]
    }
   ],
   "source": [
    "data.info()"
   ]
  },
  {
   "cell_type": "code",
   "execution_count": 6,
   "metadata": {},
   "outputs": [
    {
     "name": "stderr",
     "output_type": "stream",
     "text": [
      "C:\\Users\\Administrateur\\AppData\\Local\\Programs\\Python\\Python311\\Lib\\site-packages\\numpy\\lib\\function_base.py:2889: RuntimeWarning: Degrees of freedom <= 0 for slice\n",
      "  c = cov(x, y, rowvar, dtype=dtype)\n",
      "C:\\Users\\Administrateur\\AppData\\Local\\Programs\\Python\\Python311\\Lib\\site-packages\\numpy\\lib\\function_base.py:2748: RuntimeWarning: divide by zero encountered in divide\n",
      "  c *= np.true_divide(1, fact)\n"
     ]
    },
    {
     "name": "stdout",
     "output_type": "stream",
     "text": [
      "You liked Toy Story (1995). You might also like: Incredibles, The (2004),Finding Nemo (2003),Aladdin (1992),Monsters, Inc. (2001)\n"
     ]
    }
   ],
   "source": [
    "def recommend_movies(similar_to):\n",
    "    data = pd.merge(movies, ratings, on='movieId')\n",
    "    user_rating_pt = data.pivot_table(index='userId', columns='title', values='rating')\n",
    "    toy_story_ratings = user_rating_pt[movie]  \n",
    "    similar_movies = user_rating_pt.corrwith(toy_story_ratings)\n",
    "    corr = pd.DataFrame(similar_movies, columns=['Correlation'])\n",
    "    corr.sort_values('Correlation', ascending=False, inplace=True)\n",
    "    \n",
    "    corr = corr.join(data.groupby('title')['rating'].count())\n",
    "    corr.rename(columns = {'rating':'rating_count'}, inplace = True)\n",
    "    \n",
    "    mask = corr['rating_count'] > 100\n",
    "    recommendations = corr[mask].sort_values('Correlation', ascending=False)\n",
    "    \n",
    "    return list(recommendations.iloc[1:5].index)\n",
    "\n",
    "movie = 'Toy Story (1995)'\n",
    "\n",
    "rec_movies = ','.join(recommend_movies(movie))\n",
    "print(f'You liked {movie}. You might also like: {rec_movies}')"
   ]
  },
  {
   "cell_type": "code",
   "execution_count": 7,
   "metadata": {},
   "outputs": [],
   "source": [
    "df_rate = ratings.copy()"
   ]
  },
  {
   "cell_type": "code",
   "execution_count": 8,
   "metadata": {},
   "outputs": [],
   "source": [
    "df_mov = movies.copy()"
   ]
  },
  {
   "cell_type": "code",
   "execution_count": 9,
   "metadata": {},
   "outputs": [],
   "source": [
    "df_link = dflinks.copy()"
   ]
  },
  {
   "cell_type": "code",
   "execution_count": 10,
   "metadata": {},
   "outputs": [],
   "source": [
    "df_tag = dftags.copy()"
   ]
  },
  {
   "cell_type": "markdown",
   "metadata": {},
   "source": [
    "From a given dictionary of lists (ratings) we create a DataFrame. This DataFrame has three columns and four rows. Each column contains the movie ratings of all four users.\n",
    "The Series new_movie_ratings contains the ratings for a new movie of all four users.\n",
    "Using the method corrwith() on the DataFrame we get the correlation between the new ratings and the old ones.\n",
    "The output of the snippet above is:\n",
    "\n",
    "Spider Man    0.566394\n",
    "James Bond    0.953910\n",
    "Titanic      -0.962312\n",
    "As you can see, the new movie has the highest correlation with the James Bond movie. This means, a recommendation system which works purely based on ratings, should recommend the James Bond movie to users that liked the new movie.\n",
    "\n",
    "\n",
    "What is Correlation?\n",
    "Correlation describes the statistical relationship between two entities. This is to say, it’s how two variables move in relation to one another. Correlation is given as a value between -1 and +1. However, correlation is not causation!\n",
    "\n",
    "There are three types of correlation:\n",
    "\n",
    "Positive correlation:\n",
    "A positive correlation is a value in the range 0.0 < c <= 1.0. A correlation of 1.0 means that if the first variable moves up, the second one will also move up. This relationship is weaker if the correlation is lower than 1.0.\n",
    "\n",
    "Negative correlation:\n",
    "A negative correlation is a value in the range 0.0 > c >= -1.0. Negative correlation means that two variable have the opposite behaviour. So, if the first one moves up the second one moves down.\n",
    "\n",
    "Zero or no correlation:\n",
    "A correlation of zero means there is no relationship between the two variables. If the first variable moves up, the second one may do anything else."
   ]
  },
  {
   "cell_type": "code",
   "execution_count": null,
   "metadata": {},
   "outputs": [],
   "source": []
  }
 ],
 "metadata": {
  "finalized": {
   "timestamp": 1678720574437,
   "trusted": true
  },
  "hide_input": false,
  "kernelspec": {
   "display_name": "Python 3 (ipykernel)",
   "language": "python",
   "name": "python3"
  },
  "language_info": {
   "codemirror_mode": {
    "name": "ipython",
    "version": 3
   },
   "file_extension": ".py",
   "mimetype": "text/x-python",
   "name": "python",
   "nbconvert_exporter": "python",
   "pygments_lexer": "ipython3",
   "version": "3.11.4"
  },
  "latex_envs": {
   "LaTeX_envs_menu_present": true,
   "autoclose": false,
   "autocomplete": true,
   "bibliofile": "biblio.bib",
   "cite_by": "apalike",
   "current_citInitial": 1,
   "eqLabelWithNumbers": true,
   "eqNumInitial": 1,
   "hotkeys": {
    "equation": "Ctrl-E",
    "itemize": "Ctrl-I"
   },
   "labels_anchors": false,
   "latex_user_defs": false,
   "report_style_numbering": false,
   "user_envs_cfg": false
  }
 },
 "nbformat": 4,
 "nbformat_minor": 4
}
