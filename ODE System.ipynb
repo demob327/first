{
 "cells": [
  {
   "cell_type": "code",
   "execution_count": 9,
   "metadata": {},
   "outputs": [
    {
     "data": {
      "text/plain": [
       "array([[0.95, 0.  , 0.15],\n",
       "       [0.05, 0.8 , 0.  ],\n",
       "       [0.  , 0.2 , 0.85]])"
      ]
     },
     "execution_count": 9,
     "metadata": {},
     "output_type": "execute_result"
    },
    {
     "data": {
      "image/png": "[encoded data removed]",
      "text/plain": [
       "<Figure size 432x288 with 1 Axes>"
      ]
     },
     "metadata": {
      "needs_background": "light"
     },
     "output_type": "display_data"
    }
   ],
   "source": [
    "import matplotlib.pyplot as plt\n",
    "import numpy as np\n",
    "%matplotlib inline\n",
    "\n",
    "A = np.array([[0.95, 0, 0.15],[0.05,0.8,0],[0,0.2,0.85]])\n",
    "\n",
    "## T is final time\n",
    "T = 20\n",
    "## X at time 0\n",
    "X = np.array([[0.95],[0.05],[0]])\n",
    "\n",
    "## The first column of results contains the initial values \n",
    "results = np.copy(X)\n",
    "\n",
    "for i in range(T):\n",
    "    X = A@X\n",
    "    results = np .hstack((results,X))\n",
    "\n",
    "## t contains the time indices 0, 1, 2, ..., T\n",
    "t = np.linspace(0,T,T+1)\n",
    "## s, i, r values are the rows of the results array\n",
    "s = results[0,:]\n",
    "i = results[1,:]\n",
    "r = results[2,:]\n",
    "\n",
    "fig,ax = plt.subplots()\n",
    "\n",
    "## The optional label keyword argument provides text that is used to create a legend\n",
    "ax.plot(t,s,'b+',label=\"Susceptible\");\n",
    "ax.plot(t,i,'rx',label=\"Infective\");\n",
    "ax.plot(t,r,'g+',label=\"Removed\");\n",
    "\n",
    "ax.set_ylim(0,1.1)\n",
    "ax.grid(True)\n",
    "ax.legend();\n"
   ]
  },
  {
   "cell_type": "code",
   "execution_count": null,
   "metadata": {},
   "outputs": [],
   "source": []
  }
 ],
 "metadata": {
  "finalized": {
   "timestamp": 1643974878681,
   "trusted": true
  },
  "hide_input": false,
  "kernelspec": {
   "display_name": "Python 3",
   "language": "python",
   "name": "python3"
  },
  "language_info": {
   "codemirror_mode": {
    "name": "ipython",
    "version": 3
   },
   "file_extension": ".py",
   "mimetype": "text/x-python",
   "name": "python",
   "nbconvert_exporter": "python",
   "pygments_lexer": "ipython3",
   "version": "3.8.2"
  },
  "latex_envs": {
   "LaTeX_envs_menu_present": true,
   "autoclose": false,
   "autocomplete": true,
   "bibliofile": "biblio.bib",
   "cite_by": "apalike",
   "current_citInitial": 1,
   "eqLabelWithNumbers": true,
   "eqNumInitial": 1,
   "hotkeys": {
    "equation": "Ctrl-E",
    "itemize": "Ctrl-I"
   },
   "labels_anchors": false,
   "latex_user_defs": false,
   "report_style_numbering": false,
   "user_envs_cfg": false
  }
 },
 "nbformat": 4,
 "nbformat_minor": 4
}
