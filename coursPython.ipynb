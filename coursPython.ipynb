{
 "cells": [
  {
   "cell_type": "code",
   "execution_count": 1,
   "metadata": {},
   "outputs": [],
   "source": [
    "import pandas as pd\n",
    "from math import *\n"
   ]
  },
  {
   "cell_type": "code",
   "execution_count": 2,
   "metadata": {},
   "outputs": [
    {
     "name": "stdout",
     "output_type": "stream",
     "text": [
      "Nombre de secondes à convertir : 12345678912\n",
      "Cette durée correspond à : 391 années de 365 jours, plus\n",
      "1 mois de 30 jours,\n",
      "24 jours,\n",
      "19 heures,\n",
      "15 minutes et\n",
      "12 secondes.\n"
     ]
    }
   ],
   "source": [
    "nsd=12345678912       # nombre de seconds\n",
    "nspj=3600*24          # seconds par jour\n",
    "nspa=nspj*365         # seconds par an\n",
    "nspm=nspj*30          # seconds par mois\n",
    "# nombre d'années dans la durée\n",
    "nsr=nsd%nspa         # n de sec restantes\n",
    "na=floor((nsd-nsr)/nspa)\n",
    "nsr=nsr%nspm         # n de sec restantes\n",
    "nmo=ceil(nsr/nspm)         # nombre de mois restant\n",
    "# nombre de jours restant\n",
    "nj=floor(nsr/nspj)\n",
    "nsr=nsr%nspj         # n de sec restantes\n",
    "# nombre de d'heures restant\n",
    "nh=floor(nsr/3600)\n",
    "nsr=nsr%3600         # n de sec restantes\n",
    "# nombre de minutes restant\n",
    "nmi=floor(nsr/60)\n",
    "nsr=nsr%60         # n de sec restantes\n",
    "print(\"Nombre de secondes à convertir :\" , nsd)\n",
    "print(\"Cette durée correspond à :\" , na , \"années de 365 jours, plus\")\n",
    "print(nmo, \"mois de 30 jours,\",)\n",
    "print(nj, \"jours,\",)\n",
    "print(nh, \"heures,\",)\n",
    "print(nmi, \"minutes et\",)\n",
    "print(nsr, \"secondes.\")"
   ]
  },
  {
   "cell_type": "code",
   "execution_count": 3,
   "metadata": {},
   "outputs": [
    {
     "name": "stdout",
     "output_type": "stream",
     "text": [
      "391.4789101978691\n",
      "391\n"
     ]
    }
   ],
   "source": [
    "from math import *\n",
    "nsd=12345678912       # nombre de seconds\n",
    "nspj=3600*24          # seconds par jour\n",
    "nspa=nspj*365         # seconds par an\n",
    "na=nsd/nspa\n",
    "na1=floor(na)\n",
    "\n",
    "\n",
    "\n",
    "print(na)\n",
    "print(na1)"
   ]
  },
  {
   "cell_type": "code",
   "execution_count": 4,
   "metadata": {},
   "outputs": [
    {
     "name": "stdout",
     "output_type": "stream",
     "text": [
      "12\n",
      "13\n"
     ]
    }
   ],
   "source": [
    "# Entier inférieur (partie entière)\n",
    "arrondiInf = floor(12.3)\n",
    "print(arrondiInf)\n",
    "# Entier supérieur\n",
    "arrondiSup = ceil(12.3)\n",
    "print(arrondiSup)"
   ]
  },
  {
   "cell_type": "code",
   "execution_count": 5,
   "metadata": {},
   "outputs": [
    {
     "data": {
      "text/plain": [
       "True"
      ]
     },
     "execution_count": 5,
     "metadata": {},
     "output_type": "execute_result"
    }
   ],
   "source": [
    "x=3\n",
    "y=3.0\n",
    "x is y\n",
    "x==y"
   ]
  },
  {
   "cell_type": "code",
   "execution_count": 6,
   "metadata": {},
   "outputs": [
    {
     "name": "stdout",
     "output_type": "stream",
     "text": [
      "3 ,  7\n"
     ]
    }
   ],
   "source": [
    " x = 7\n",
    "y = x\n",
    "x = 3\n",
    "print(x,\", \",y)"
   ]
  },
  {
   "cell_type": "code",
   "execution_count": 7,
   "metadata": {},
   "outputs": [
    {
     "name": "stdout",
     "output_type": "stream",
     "text": [
      "2\n",
      "5\n",
      "8\n",
      "11\n"
     ]
    }
   ],
   "source": [
    "for i in range(2,12,3) :\n",
    "    print(i)"
   ]
  },
  {
   "cell_type": "code",
   "execution_count": 8,
   "metadata": {},
   "outputs": [
    {
     "name": "stdout",
     "output_type": "stream",
     "text": [
      "0\n",
      "1\n",
      "2\n",
      "3\n",
      "4\n",
      "5\n",
      "6\n",
      "7\n",
      "8\n",
      "9\n"
     ]
    }
   ],
   "source": [
    "i=0\n",
    "while i<10 :\n",
    "    print(i)\n",
    "    i+=1"
   ]
  },
  {
   "cell_type": "code",
   "execution_count": 9,
   "metadata": {},
   "outputs": [
    {
     "name": "stdout",
     "output_type": "stream",
     "text": [
      "2.7\n",
      "None\n"
     ]
    }
   ],
   "source": [
    "def print_abs(val) :\n",
    "    if val<0 :\n",
    "        print(0-val)\n",
    "    else :\n",
    "        print(val)\n",
    "\n",
    "x=print_abs(-2.7)\n",
    "\n",
    "print(x)"
   ]
  },
  {
   "cell_type": "code",
   "execution_count": 10,
   "metadata": {},
   "outputs": [
    {
     "name": "stdout",
     "output_type": "stream",
     "text": [
      "452.38896\n",
      "<class 'int'> <class 'float'> <class 'float'>\n"
     ]
    }
   ],
   "source": [
    "r,pi=12,3.14159\n",
    "s=pi*r**2\n",
    "print(s)\n",
    "print(type(r),type(pi),type(s))\n"
   ]
  },
  {
   "cell_type": "code",
   "execution_count": 11,
   "metadata": {},
   "outputs": [
    {
     "name": "stdout",
     "output_type": "stream",
     "text": [
      "1 : 2\n",
      "2 : 6\n",
      "3 : 12\n",
      "4 : 72\n",
      "5 : 864\n",
      "6 : 62208\n",
      "7 : 53747712\n",
      "8 : 3343537668096\n",
      "9 : 179707499645975396352\n",
      "10 : 600858794305667322270155425185792\n",
      "11 : 107978831564966913814384922944738457859243070439030784\n",
      "12 : 64880030544660752790736837369104977695001034284228042891827649456186234582611607420928\n",
      "13 : 7005669890111832002923764139957621692162454505797269791738369231327175488362123506443467340026896520469610300883250624900843742470237847552\n",
      "14 : 454528076456265799856362940482493512051682398707229461514016556556583986422276163358151238257824601969802061415367471160941735505142279479530059170096950422693079038247634055829175296831946224503933501754776033004012758368256\n"
     ]
    }
   ],
   "source": [
    "a,b,c=3,2,1\n",
    "while c<15:\n",
    "    print(c,\":\",b)\n",
    "    a,b,c=b,a*b,c+1"
   ]
  },
  {
   "cell_type": "code",
   "execution_count": 12,
   "metadata": {},
   "outputs": [
    {
     "name": "stdout",
     "output_type": "stream",
     "text": [
      "6 , 3\n"
     ]
    }
   ],
   "source": [
    "def swap(val1,val2) :\n",
    "    tmp=val1\n",
    "    val1=val2\n",
    "    val2=tmp\n",
    "x=6\n",
    "y=3\n",
    "swap(x,y)\n",
    "print(x,\",\",y)"
   ]
  },
  {
   "cell_type": "code",
   "execution_count": 13,
   "metadata": {},
   "outputs": [
    {
     "data": {
      "text/plain": [
       "[4, 8, 4, 2, 5, 0, 6, 1, 6, 7]"
      ]
     },
     "execution_count": 13,
     "metadata": {},
     "output_type": "execute_result"
    }
   ],
   "source": [
    "import random\n",
    "list=[random.randint(0,9) for i in range(0,10)]\n",
    "list"
   ]
  },
  {
   "cell_type": "code",
   "execution_count": 7,
   "metadata": {},
   "outputs": [
    {
     "name": "stdout",
     "output_type": "stream",
     "text": [
      "\n",
      " :  3620\n",
      "Yes”\n",
      " :  10\n",
      "        *****\n",
      " :  10\n",
      "No”\n",
      " :  7\n",
      "What did you say?”\n",
      " :  4\n",
      "them\n",
      " :  4\n",
      "Buried how long?”\n",
      " :  3\n"
     ]
    }
   ],
   "source": [
    "# Python 3\n",
    "\n",
    "# Be sure you have followed the instructions to download the 98-0.txt,\n",
    "# the text of A Tale of Two Cities, by Charles Dickens\n",
    "\n",
    "import collections\n",
    "\n",
    "file=open(r'C:\\Users\\Administrateur\\Downloads\\word_cloud\\word_cloud\\98-0.txt', encoding='utf8')\n",
    "\n",
    "# if you want to use stopwords, here's an example of how to do this\n",
    "stopwords = set(line.strip() for line in open(r'C:\\Users\\Administrateur\\Downloads\\word_cloud\\word_cloud\\stopwords'))\n",
    "\n",
    "# create your data structure here.  F\n",
    "wordcount={}\n",
    "\n",
    "# Instantiate a dictionary, and for every word in the file, add to \n",
    "# the dictionary if it doesn't exist. If it does, increase the count.\n",
    "\n",
    "# Hint: To eliminate duplicates, remember to split by punctuation, \n",
    "# and use case demiliters. The functions lower() and split() will be useful!\n",
    "\n",
    "for word in file:\n",
    "    word = word.replace(\".\",\"\")\n",
    "    word = word.replace(\",\",\"\")\n",
    "    word = word.replace(\"\\\"\",\"\")\n",
    "    word = word.replace(\"“\",\"\")\n",
    "    if word not in stopwords:\n",
    "        if word not in wordcount:\n",
    "            wordcount[word] = 1\n",
    "        else:\n",
    "            wordcount[word] += 1\n",
    "\n",
    "# after building your wordcount, you can then sort it and return the first\n",
    "# n words.  If you want, collections.Counter may be useful.\n",
    "\n",
    "d = collections.Counter(wordcount)\n",
    "\n",
    "#print(d.most_common(7))\n",
    "for word, count in d.most_common(7):\n",
    "\tprint(word, \": \", count)\n",
    "   \n"
   ]
  },
  {
   "cell_type": "code",
   "execution_count": 8,
   "metadata": {},
   "outputs": [
    {
     "name": "stdout",
     "output_type": "stream",
     "text": [
      "said :  642\n",
      "mr :  616\n",
      "one :  420\n",
      "lorry :  313\n",
      "will :  290\n",
      "upon :  289\n",
      "little :  264\n",
      "man :  259\n",
      "defarge :  259\n",
      "time :  236\n"
     ]
    }
   ],
   "source": [
    "#Python 3\n",
    "\n",
    "# Be sure you have followed the instructions to download the 98-0.txt,\n",
    "# the text of A Tale of Two Cities, by Charles Dickens\n",
    "\n",
    "import collections\n",
    "\n",
    "file=open(r'C:\\Users\\Administrateur\\Downloads\\word_cloud\\word_cloud\\\\98-0.txt', encoding=\"utf8\")\n",
    "\n",
    "# if you want to use stopwords, here's an example of how to do this\n",
    "# stopwords = set(line.strip() for line in open('stopwords'))\n",
    "\n",
    "# create your data structure here.  F\n",
    "wordcount={}\n",
    "\n",
    "# Instantiate a dictionary, and for every word in the file, add to \n",
    "# the dictionary if it doesn't exist. If it does, increase the count.\n",
    "\n",
    "# Hint: To eliminate duplicates, remember to split by punctuation, \n",
    "# and use case demiliters. The functions lower() and split() will be useful!\n",
    "\n",
    "for word in file.read().lower().split():\n",
    "    word = word.replace(\".\",\"\")\n",
    "    word = word.replace(\",\",\"\")\n",
    "    word = word.replace(\"\\\"\",\"\")\n",
    "    word = word.replace(\"“\",\"\")\n",
    "    if word not in stopwords:\n",
    "        if word not in wordcount:\n",
    "            wordcount[word] = 1\n",
    "        else:\n",
    "            wordcount[word] += 1\n",
    "\n",
    "# after building your wordcount, you can then sort it and return the first\n",
    "# n words.  If you want, collections.Counter may be useful.\n",
    "\n",
    "d = collections.Counter(wordcount)\n",
    "\n",
    "#print(d.most_common(10))\n",
    "for word, count in d.most_common(10):\n",
    "\tprint(word, \": \", count)\n"
   ]
  },
  {
   "cell_type": "code",
   "execution_count": null,
   "metadata": {},
   "outputs": [],
   "source": []
  }
 ],
 "metadata": {
  "kernelspec": {
   "display_name": "Python 3",
   "language": "python",
   "name": "python3"
  },
  "language_info": {
   "codemirror_mode": {
    "name": "ipython",
    "version": 3
   },
   "file_extension": ".py",
   "mimetype": "text/x-python",
   "name": "python",
   "nbconvert_exporter": "python",
   "pygments_lexer": "ipython3",
   "version": "3.8.2"
  },
  "latex_envs": {
   "LaTeX_envs_menu_present": true,
   "autoclose": false,
   "autocomplete": true,
   "bibliofile": "biblio.bib",
   "cite_by": "apalike",
   "current_citInitial": 1,
   "eqLabelWithNumbers": true,
   "eqNumInitial": 1,
   "hotkeys": {
    "equation": "Ctrl-E",
    "itemize": "Ctrl-I"
   },
   "labels_anchors": false,
   "latex_user_defs": false,
   "report_style_numbering": false,
   "user_envs_cfg": false
  }
 },
 "nbformat": 4,
 "nbformat_minor": 2
}
