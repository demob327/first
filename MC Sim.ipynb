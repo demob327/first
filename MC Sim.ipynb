{
 "cells": [
  {
   "cell_type": "code",
   "execution_count": 1,
   "metadata": {},
   "outputs": [],
   "source": [
    "# import required libraries\n",
    "\n",
    "import random\n",
    "import numpy as np\n",
    "import matplotlib.pyplot as plt"
   ]
  },
  {
   "cell_type": "code",
   "execution_count": 4,
   "metadata": {},
   "outputs": [],
   "source": [
    "# coin flip function\n",
    "\n",
    "#0 ----> heads\n",
    "#1 ----> tails\n",
    "\n",
    "def coin_flip():\n",
    "    return random.randint(0,1)"
   ]
  },
  {
   "cell_type": "code",
   "execution_count": 5,
   "metadata": {},
   "outputs": [
    {
     "data": {
      "text/plain": [
       "0"
      ]
     },
     "execution_count": 5,
     "metadata": {},
     "output_type": "execute_result"
    }
   ],
   "source": [
    "# check the return value of coin_flip()\n",
    "\n",
    "coin_flip()"
   ]
  },
  {
   "cell_type": "code",
   "execution_count": 6,
   "metadata": {},
   "outputs": [],
   "source": [
    "# MC Sim\n",
    "\n",
    "# empty list to store the probability values\n",
    "list1 = []\n",
    "\n",
    "def monte_carlo(n):\n",
    "    results = 0\n",
    "    for i in range(n):\n",
    "        flip_result = coin_flip()\n",
    "        results = results + flip_result\n",
    "        \n",
    "        # calculating probability value\n",
    "        \n",
    "        prob_value = results / (1+i)\n",
    "        \n",
    "        # append the probability values to the list\n",
    "        list1.append(prob_value)\n",
    "        \n",
    "        # plot the results\n",
    "        plt.axhline(y=0.5, color='r', linestyle='-')\n",
    "        plt.xlabel('Iterations')\n",
    "        plt.ylabel('Probability')\n",
    "        plt.plot(list1)\n",
    "        \n",
    "    return results / n"
   ]
  },
  {
   "cell_type": "code",
   "execution_count": 7,
   "metadata": {},
   "outputs": [
    {
     "data": {
      "image/png": "[encoded data removed]",
      "text/plain": [
       "<Figure size 432x288 with 1 Axes>"
      ]
     },
     "metadata": {
      "needs_background": "light"
     },
     "output_type": "display_data"
    }
   ],
   "source": [
    "# calling the function\n",
    "\n",
    "answer = monte_carlo(5000)\n",
    "print('Final Value :', answer)"
   ]
  },
  {
   "cell_type": "markdown",
   "metadata": {},
   "source": [
    "As shown in figure above, we show that after 5000 iterations, the probability of getting a tail is 0.4862.\n",
    "\n",
    "Consequently, this is how we can use the Monte Carlo Simulation to find probabilities experimentally.\n",
    "\n",
    "Estimating PI using circle and square.\n",
    "\n",
    "To estimate the value of PI, we need the area of the square and the area of the circle. To find these areas, we will randomly place dots on the surface and count the dots that fall inside the circle and dots that fall inside the square. Such will give us an estimated amount of their areas. Therefore instead of using the actual areas, we will use the count of dots to use as areas.\n",
    "\n",
    "In the following code, we used the turtle module of Python to see the random placement of dots."
   ]
  },
  {
   "cell_type": "code",
   "execution_count": 8,
   "metadata": {},
   "outputs": [],
   "source": [
    "# import required libraries\n",
    "\n",
    "import turtle\n",
    "import random\n",
    "import matplotlib.pyplot as plt\n",
    "import math"
   ]
  },
  {
   "cell_type": "code",
   "execution_count": 9,
   "metadata": {},
   "outputs": [],
   "source": [
    "# to visualize the random points\n",
    "\n",
    "myPen = turtle.Turtle()\n",
    "myPen.hideturtle()\n",
    "myPen.speed(0)\n",
    "\n",
    "# drawing a square\n",
    "\n",
    "myPen.up()\n",
    "myPen.setposition(-100,-100)\n",
    "myPen.down()\n",
    "myPen.fd(200)\n",
    "myPen.left(90)\n",
    "myPen.fd(200)\n",
    "\n",
    "myPen.left(90)\n",
    "myPen.fd(200)\n",
    "myPen.left(90)\n",
    "myPen.fd(200)\n",
    "myPen.left(90)\n",
    "\n",
    "# drawing a circle\n",
    "myPen.up()\n",
    "myPen.setposition(0,-100)\n",
    "myPen.down()\n",
    "myPen.circle(100)"
   ]
  },
  {
   "cell_type": "code",
   "execution_count": 10,
   "metadata": {},
   "outputs": [],
   "source": [
    "# to count the points inside and outside the circle\n",
    "\n",
    "in_circle = 0\n",
    "out_circle = 0\n",
    "\n",
    "# to store the values of PI\n",
    "\n",
    "pi_values = []"
   ]
  },
  {
   "cell_type": "code",
   "execution_count": 11,
   "metadata": {},
   "outputs": [
    {
     "name": "stdout",
     "output_type": "stream",
     "text": [
      "3.056\n",
      "3.136\n",
      "3.1333333333333333\n",
      "3.114\n",
      "3.1232\n"
     ]
    }
   ],
   "source": [
    "# running for 5 times\n",
    "for i in range(5):\n",
    "    for j in range(1000):\n",
    "        \n",
    "        # generate random numbers\n",
    "        x=random.randrange(-100,100)\n",
    "        y=random.randrange(-100,100)\n",
    "        \n",
    "        # check if the number lies outside the circle\n",
    "        if (x**2+y**2>100**2):\n",
    "            myPen.color('black')\n",
    "            myPen.up()\n",
    "            myPen.goto(x,y)\n",
    "            myPen.down()\n",
    "            myPen.dot()\n",
    "            out_circle = out_circle+1\n",
    "            \n",
    "        else:\n",
    "            myPen.color('red')\n",
    "            myPen.up()\n",
    "            myPen.goto(x,y)\n",
    "            myPen.down()\n",
    "            myPen.dot()\n",
    "            in_circle = in_circle+1\n",
    "            \n",
    "        # calculating the value of PI\n",
    "        pi = 4.0 * in_circle / (in_circle + out_circle)\n",
    "        \n",
    "        # append the values of PI in list\n",
    "        pi_values.append(pi)\n",
    "        \n",
    "        # calculating the errors\n",
    "        avg_pi_errors = [abs(math.pi - pi) for pi in pi_values]\n",
    "        \n",
    "    # print the final value of PI for each iterations\n",
    "    print(pi_values[-1])\n",
    "            "
   ]
  },
  {
   "cell_type": "code",
   "execution_count": 13,
   "metadata": {},
   "outputs": [
    {
     "data": {
      "image/png": "[encoded data removed]",
      "text/plain": [
       "<Figure size 432x288 with 1 Axes>"
      ]
     },
     "metadata": {
      "needs_background": "light"
     },
     "output_type": "display_data"
    },
    {
     "data": {
      "image/png": "[encoded data removed]",
      "text/plain": [
       "<Figure size 432x288 with 1 Axes>"
      ]
     },
     "metadata": {
      "needs_background": "light"
     },
     "output_type": "display_data"
    }
   ],
   "source": [
    "# plot the PI values\n",
    "\n",
    "plt.axhline(y=math.pi, color='g', linestyle='-')\n",
    "plt.plot(pi_values)\n",
    "plt.xlabel('Iterations')\n",
    "plt.ylabel('Value of PI')\n",
    "plt.show()\n",
    "\n",
    "# plot the error in calculation\n",
    "plt.axhline(y=0.0, color='g', linestyle='-')\n",
    "plt.plot(avg_pi_errors)\n",
    "plt.xlabel('Iterations')\n",
    "plt.ylabel('Errors')\n",
    "plt.show()"
   ]
  },
  {
   "cell_type": "code",
   "execution_count": null,
   "metadata": {},
   "outputs": [],
   "source": []
  }
 ],
 "metadata": {
  "finalized": {
   "timestamp": 1615369390396,
   "trusted": true
  },
  "hide_input": false,
  "kernelspec": {
   "display_name": "Python 3",
   "language": "python",
   "name": "python3"
  },
  "language_info": {
   "codemirror_mode": {
    "name": "ipython",
    "version": 3
   },
   "file_extension": ".py",
   "mimetype": "text/x-python",
   "name": "python",
   "nbconvert_exporter": "python",
   "pygments_lexer": "ipython3",
   "version": "3.8.2"
  },
  "latex_envs": {
   "LaTeX_envs_menu_present": true,
   "autoclose": false,
   "autocomplete": true,
   "bibliofile": "biblio.bib",
   "cite_by": "apalike",
   "current_citInitial": 1,
   "eqLabelWithNumbers": true,
   "eqNumInitial": 1,
   "hotkeys": {
    "equation": "Ctrl-E",
    "itemize": "Ctrl-I"
   },
   "labels_anchors": false,
   "latex_user_defs": false,
   "report_style_numbering": false,
   "user_envs_cfg": false
  }
 },
 "nbformat": 4,
 "nbformat_minor": 4
}
