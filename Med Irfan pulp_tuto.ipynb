{
 "cells": [
  {
   "cell_type": "code",
   "execution_count": 1,
   "metadata": {},
   "outputs": [],
   "source": [
    "from pulp import *"
   ]
  },
  {
   "cell_type": "markdown",
   "metadata": {},
   "source": [
    "#Elementary features :"
   ]
  },
  {
   "cell_type": "code",
   "execution_count": 2,
   "metadata": {},
   "outputs": [
    {
     "name": "stdout",
     "output_type": "stream",
     "text": [
      "10*bowdoin_log + 5*choco_cake\n",
      "OrderedDict([('oven_constraint', 5*bowdoin_log + 1*choco_cake + -90 <= 0), ('foof_processor_constraint', 1*bowdoin_log + 10*choco_cake + -300 <= 0), ('boiler_constraint', 4*bowdoin_log + 6*choco_cake + -125 <= 0)])\n",
      "status : = 1\n",
      "bowdoin_log = 16.0\n",
      "choco_cake = 10.0\n",
      "OPT = 210.0\n"
     ]
    }
   ],
   "source": [
    "\n",
    "lp = LpProblem('Bakery_Problem', LpMaximize)\n",
    "\n",
    "#Define variables\n",
    "x1 = LpVariable(name='bowdoin_log', lowBound=0, cat='Integer')\n",
    "x2 = LpVariable(name='choco_cake', lowBound=0, cat='Integer')\n",
    "\n",
    "#Add the objective function\n",
    "lp += 10*x1 + 5*x2\n",
    "print(lp.objective)\n",
    "\n",
    "#Add constraints\n",
    "lp += (5*x1 + x2 <= 90, 'oven_constraint')\n",
    "lp += (x1 + 10*x2 <= 300, 'foof_processor_constraint')\n",
    "lp += (4*x1 + 6*x2 <= 125, 'boiler_constraint')\n",
    "print(lp.constraints)\n",
    "\n",
    "#solve the lp\n",
    "status = lp.solve(PULP_CBC_CMD(msg=0)) # we have choose the CBC solver we modify it\n",
    "print('status :', '=', status) #1:opt 2:not solved 3:infeasible 4:unbounded 5: undefined\n",
    "\n",
    "#print solution\n",
    "for var in lp.variables():\n",
    "    print(var, '=', value(var))\n",
    "print('OPT =', value(lp.objective))"
   ]
  },
  {
   "cell_type": "markdown",
   "metadata": {},
   "source": [
    "#Advanced features"
   ]
  },
  {
   "cell_type": "code",
   "execution_count": 4,
   "metadata": {},
   "outputs": [
    {
     "name": "stdout",
     "output_type": "stream",
     "text": [
      "{1: Bakery_item_1, 2: Bakery_item_2}\n",
      "status : = 1\n",
      "Bakery_item_1 = 16.0\n",
      "Bakery_item_2 = 10.0\n",
      "OPT = 210.0\n"
     ]
    }
   ],
   "source": [
    "lp = LpProblem('Bakery_Problem', LpMaximize)\n",
    "\n",
    "#Define a dictionary of variables keyed by 'indices'\n",
    "var_keys = [1, 2]\n",
    "x = LpVariable.dicts('Bakery_item', var_keys, lowBound=0, cat='Integer')\n",
    "print(x)\n",
    "\n",
    "#Add the objective function\n",
    "lp += 10*x[1] + 5*x[2]\n",
    "\n",
    "#Add constraints\n",
    "lp += (5*x[1] + x[2] <= 90,'oven_constraint' ) # or lp += (lpSum([5*x[1],x[2]])<=90)\n",
    "lp += (x[1] + 10*x[2] <= 300, 'foof_processor_constraint')\n",
    "lp += (4*x[1] + 6*x[2] <= 125, 'boiler_constraint')\n",
    "\n",
    "#solve the lp\n",
    "status = lp.solve()\n",
    "print('status :', '=', status) #1:opt 2:not solved 3:infeasible 4:unbounded 5: undefined\n",
    "\n",
    "#print solution\n",
    "for var in lp.variables():\n",
    "    print(var, '=', value(var))\n",
    "print('OPT =', value(lp.objective))"
   ]
  },
  {
   "cell_type": "markdown",
   "metadata": {},
   "source": [
    "#Rewite the 1st constraint"
   ]
  },
  {
   "cell_type": "code",
   "execution_count": 5,
   "metadata": {},
   "outputs": [
    {
     "name": "stdout",
     "output_type": "stream",
     "text": [
      "{1: Bakery_item_1, 2: Bakery_item_2}\n",
      "status : = 1\n",
      "Bakery_item_1 = 16.0\n",
      "Bakery_item_2 = 10.0\n",
      "OPT = 210.0\n"
     ]
    }
   ],
   "source": [
    "lp = LpProblem('Bakery_Problem', LpMaximize)\n",
    "\n",
    "#Define a dictionary of variables keyed by 'indices'\n",
    "var_keys = [1, 2]\n",
    "x = LpVariable.dicts('Bakery_item', var_keys, lowBound=0, cat='Integer')\n",
    "print(x)\n",
    "\n",
    "#Add the objective function\n",
    "lp += 10*x[1] + 5*x[2]\n",
    "\n",
    "#Add constraints\n",
    "coeff = [5, 1] #may come from a file\n",
    "coeff_dict = dict(zip(var_keys, coeff))\n",
    "lp += (lpSum(coeff_dict[i]*x[i] for i in var_keys) <= 90, 'oven_constraint')\n",
    "lp += (x[1] + 10*x[2] <= 300, 'foof_processor_constraint')\n",
    "lp += (4*x[1] + 6*x[2] <= 125, 'boiler_constraint')\n",
    "\n",
    "#solve the lp\n",
    "status = lp.solve()\n",
    "print('status :', '=', status) #1:opt 2:not solved 3:infeasible 4:unbounded 5: undefined\n",
    "\n",
    "#print solution\n",
    "for var in lp.variables():\n",
    "    print(var, '=', value(var))\n",
    "print('OPT =', value(lp.objective))"
   ]
  },
  {
   "cell_type": "code",
   "execution_count": 9,
   "metadata": {},
   "outputs": [],
   "source": [
    "import numpy as np"
   ]
  },
  {
   "cell_type": "code",
   "execution_count": 61,
   "metadata": {},
   "outputs": [
    {
     "name": "stdout",
     "output_type": "stream",
     "text": [
      "{1: Bakery_item_1, 2: Bakery_item_2}\n"
     ]
    },
    {
     "ename": "TypeError",
     "evalue": "unsupported operand type(s) for +=: 'int' and 'list'",
     "output_type": "error",
     "traceback": [
      "\u001b[1;31m---------------------------------------------------------------------------\u001b[0m",
      "\u001b[1;31mTypeError\u001b[0m                                 Traceback (most recent call last)",
      "\u001b[1;32m<ipython-input-61-e2fe95e299c9>\u001b[0m in \u001b[0;36m<module>\u001b[1;34m\u001b[0m\n\u001b[0;32m     16\u001b[0m \u001b[1;31m#coeff_dict = (dict(zip((var_keys), coeff)))\u001b[0m\u001b[1;33m\u001b[0m\u001b[1;33m\u001b[0m\u001b[1;33m\u001b[0m\u001b[0m\n\u001b[0;32m     17\u001b[0m \u001b[0mcoeff_dict\u001b[0m \u001b[1;33m=\u001b[0m \u001b[1;33m{\u001b[0m\u001b[1;36m1\u001b[0m\u001b[1;33m:\u001b[0m \u001b[1;33m[\u001b[0m\u001b[1;36m5\u001b[0m\u001b[1;33m,\u001b[0m \u001b[1;36m1\u001b[0m\u001b[1;33m]\u001b[0m\u001b[1;33m,\u001b[0m \u001b[1;36m2\u001b[0m\u001b[1;33m:\u001b[0m \u001b[1;33m[\u001b[0m\u001b[1;36m1\u001b[0m\u001b[1;33m,\u001b[0m \u001b[1;36m10\u001b[0m\u001b[1;33m]\u001b[0m\u001b[1;33m,\u001b[0m \u001b[1;36m3\u001b[0m\u001b[1;33m:\u001b[0m \u001b[1;33m[\u001b[0m\u001b[1;36m4\u001b[0m\u001b[1;33m,\u001b[0m \u001b[1;36m6\u001b[0m\u001b[1;33m]\u001b[0m\u001b[1;33m}\u001b[0m\u001b[1;33m\u001b[0m\u001b[1;33m\u001b[0m\u001b[0m\n\u001b[1;32m---> 18\u001b[1;33m \u001b[0mlp\u001b[0m \u001b[1;33m+=\u001b[0m \u001b[1;33m(\u001b[0m\u001b[1;33m(\u001b[0m\u001b[0mlpSum\u001b[0m\u001b[1;33m(\u001b[0m\u001b[0mcoeff_dict\u001b[0m\u001b[1;33m[\u001b[0m\u001b[0mi\u001b[0m\u001b[1;33m]\u001b[0m\u001b[1;33m*\u001b[0m\u001b[0mx\u001b[0m\u001b[1;33m[\u001b[0m\u001b[0mi\u001b[0m\u001b[1;33m]\u001b[0m \u001b[1;32mfor\u001b[0m \u001b[0mi\u001b[0m \u001b[1;32min\u001b[0m \u001b[0mvar_keys\u001b[0m\u001b[1;33m)\u001b[0m \u001b[1;33m<=\u001b[0m \u001b[0msecond\u001b[0m\u001b[1;33m)\u001b[0m\u001b[1;33m)\u001b[0m\u001b[1;33m\u001b[0m\u001b[1;33m\u001b[0m\u001b[0m\n\u001b[0m\u001b[0;32m     19\u001b[0m \u001b[1;33m\u001b[0m\u001b[0m\n\u001b[0;32m     20\u001b[0m \u001b[1;31m#solve the lp\u001b[0m\u001b[1;33m\u001b[0m\u001b[1;33m\u001b[0m\u001b[1;33m\u001b[0m\u001b[0m\n",
      "\u001b[1;32mc:\\users\\administrateur\\appdata\\local\\programs\\python\\python38-32\\lib\\site-packages\\pulp\\pulp.py\u001b[0m in \u001b[0;36mlpSum\u001b[1;34m(vector)\u001b[0m\n\u001b[0;32m   2235\u001b[0m     \u001b[1;33m:\u001b[0m\u001b[0mparam\u001b[0m \u001b[0mvector\u001b[0m\u001b[1;33m:\u001b[0m \u001b[0mA\u001b[0m \u001b[0mlist\u001b[0m \u001b[0mof\u001b[0m \u001b[0mlinear\u001b[0m \u001b[0mexpressions\u001b[0m\u001b[1;33m\u001b[0m\u001b[1;33m\u001b[0m\u001b[0m\n\u001b[0;32m   2236\u001b[0m     \"\"\"\n\u001b[1;32m-> 2237\u001b[1;33m     \u001b[1;32mreturn\u001b[0m \u001b[0mLpAffineExpression\u001b[0m\u001b[1;33m(\u001b[0m\u001b[1;33m)\u001b[0m\u001b[1;33m.\u001b[0m\u001b[0maddInPlace\u001b[0m\u001b[1;33m(\u001b[0m\u001b[0mvector\u001b[0m\u001b[1;33m)\u001b[0m\u001b[1;33m\u001b[0m\u001b[1;33m\u001b[0m\u001b[0m\n\u001b[0m\u001b[0;32m   2238\u001b[0m \u001b[1;33m\u001b[0m\u001b[0m\n\u001b[0;32m   2239\u001b[0m \u001b[1;33m\u001b[0m\u001b[0m\n",
      "\u001b[1;32mc:\\users\\administrateur\\appdata\\local\\programs\\python\\python38-32\\lib\\site-packages\\pulp\\pulp.py\u001b[0m in \u001b[0;36maddInPlace\u001b[1;34m(self, other)\u001b[0m\n\u001b[0;32m    763\u001b[0m               or isinstance(other, Iterable)):\n\u001b[0;32m    764\u001b[0m            \u001b[1;32mfor\u001b[0m \u001b[0me\u001b[0m \u001b[1;32min\u001b[0m \u001b[0mother\u001b[0m\u001b[1;33m:\u001b[0m\u001b[1;33m\u001b[0m\u001b[1;33m\u001b[0m\u001b[0m\n\u001b[1;32m--> 765\u001b[1;33m                 \u001b[0mself\u001b[0m\u001b[1;33m.\u001b[0m\u001b[0maddInPlace\u001b[0m\u001b[1;33m(\u001b[0m\u001b[0me\u001b[0m\u001b[1;33m)\u001b[0m\u001b[1;33m\u001b[0m\u001b[1;33m\u001b[0m\u001b[0m\n\u001b[0m\u001b[0;32m    766\u001b[0m         \u001b[1;32melse\u001b[0m\u001b[1;33m:\u001b[0m\u001b[1;33m\u001b[0m\u001b[1;33m\u001b[0m\u001b[0m\n\u001b[0;32m    767\u001b[0m             \u001b[0mself\u001b[0m\u001b[1;33m.\u001b[0m\u001b[0mconstant\u001b[0m \u001b[1;33m+=\u001b[0m \u001b[0mother\u001b[0m\u001b[1;33m\u001b[0m\u001b[1;33m\u001b[0m\u001b[0m\n",
      "\u001b[1;32mc:\\users\\administrateur\\appdata\\local\\programs\\python\\python38-32\\lib\\site-packages\\pulp\\pulp.py\u001b[0m in \u001b[0;36maddInPlace\u001b[1;34m(self, other)\u001b[0m\n\u001b[0;32m    754\u001b[0m             \u001b[0mself\u001b[0m\u001b[1;33m.\u001b[0m\u001b[0maddterm\u001b[0m\u001b[1;33m(\u001b[0m\u001b[0mother\u001b[0m\u001b[1;33m,\u001b[0m \u001b[1;36m1\u001b[0m\u001b[1;33m)\u001b[0m\u001b[1;33m\u001b[0m\u001b[1;33m\u001b[0m\u001b[0m\n\u001b[0;32m    755\u001b[0m         \u001b[1;32melif\u001b[0m \u001b[0misinstance\u001b[0m\u001b[1;33m(\u001b[0m\u001b[0mother\u001b[0m\u001b[1;33m,\u001b[0m\u001b[0mLpAffineExpression\u001b[0m\u001b[1;33m)\u001b[0m\u001b[1;33m:\u001b[0m\u001b[1;33m\u001b[0m\u001b[1;33m\u001b[0m\u001b[0m\n\u001b[1;32m--> 756\u001b[1;33m             \u001b[0mself\u001b[0m\u001b[1;33m.\u001b[0m\u001b[0mconstant\u001b[0m \u001b[1;33m+=\u001b[0m \u001b[0mother\u001b[0m\u001b[1;33m.\u001b[0m\u001b[0mconstant\u001b[0m\u001b[1;33m\u001b[0m\u001b[1;33m\u001b[0m\u001b[0m\n\u001b[0m\u001b[0;32m    757\u001b[0m             \u001b[1;32mfor\u001b[0m \u001b[0mv\u001b[0m\u001b[1;33m,\u001b[0m\u001b[0mx\u001b[0m \u001b[1;32min\u001b[0m \u001b[0mother\u001b[0m\u001b[1;33m.\u001b[0m\u001b[0mitems\u001b[0m\u001b[1;33m(\u001b[0m\u001b[1;33m)\u001b[0m\u001b[1;33m:\u001b[0m\u001b[1;33m\u001b[0m\u001b[1;33m\u001b[0m\u001b[0m\n\u001b[0;32m    758\u001b[0m                 \u001b[0mself\u001b[0m\u001b[1;33m.\u001b[0m\u001b[0maddterm\u001b[0m\u001b[1;33m(\u001b[0m\u001b[0mv\u001b[0m\u001b[1;33m,\u001b[0m \u001b[0mx\u001b[0m\u001b[1;33m)\u001b[0m\u001b[1;33m\u001b[0m\u001b[1;33m\u001b[0m\u001b[0m\n",
      "\u001b[1;31mTypeError\u001b[0m: unsupported operand type(s) for +=: 'int' and 'list'"
     ]
    }
   ],
   "source": [
    "#loop\n",
    "\n",
    "lp = LpProblem('Bakery_Problem', LpMaximize)\n",
    "\n",
    "#Define a dictionary of variables keyed by 'indices'\n",
    "var_keys = [1, 2]\n",
    "x = LpVariable.dicts('Bakery_item', var_keys, lowBound=0, cat='Integer')\n",
    "print(x)\n",
    "\n",
    "#Add the objective function\n",
    "lp += 10*x[1] + 5*x[2]\n",
    "\n",
    "#Add constraints\n",
    "second = np.array([90, 300, 125])\n",
    "#coeff = np.array([[5, 1],[1, 10],[4, 6]])\n",
    "#coeff_dict = (dict(zip((var_keys), coeff)))\n",
    "coeff_dict = {1: [5, 1], 2: [1, 10], 3: [4, 6]}\n",
    "lp += ((lpSum(coeff_dict[i]*x[i] for i in var_keys) <= second))\n",
    "\n",
    "#solve the lp\n",
    "status = lp.solve()\n",
    "print('status :', '=', status) #1:opt 2:not solved 3:infeasible 4:unbounded 5: undefined\n",
    "\n",
    "#print solution\n",
    "for var in lp.variables():\n",
    "    print(var, '=', value(var))\n",
    "print('OPT =', value(lp.objective))"
   ]
  },
  {
   "cell_type": "code",
   "execution_count": 62,
   "metadata": {},
   "outputs": [
    {
     "data": {
      "text/plain": [
       "{1: [5, 1], 2: [1, 10], 3: [4, 6]}"
      ]
     },
     "execution_count": 62,
     "metadata": {},
     "output_type": "execute_result"
    }
   ],
   "source": [
    "coeff_dict"
   ]
  },
  {
   "cell_type": "code",
   "execution_count": 63,
   "metadata": {},
   "outputs": [
    {
     "data": {
      "text/plain": [
       "[1, 2]"
      ]
     },
     "execution_count": 63,
     "metadata": {},
     "output_type": "execute_result"
    }
   ],
   "source": [
    "var_keys"
   ]
  },
  {
   "cell_type": "code",
   "execution_count": 26,
   "metadata": {},
   "outputs": [
    {
     "data": {
      "text/plain": [
       "array([5, 1])"
      ]
     },
     "execution_count": 26,
     "metadata": {},
     "output_type": "execute_result"
    }
   ],
   "source": [
    "coeff_dict[1]"
   ]
  },
  {
   "cell_type": "code",
   "execution_count": 27,
   "metadata": {},
   "outputs": [
    {
     "data": {
      "text/plain": [
       "Bakery_item_1"
      ]
     },
     "execution_count": 27,
     "metadata": {},
     "output_type": "execute_result"
    }
   ],
   "source": [
    "x[1]"
   ]
  },
  {
   "cell_type": "code",
   "execution_count": null,
   "metadata": {},
   "outputs": [],
   "source": []
  }
 ],
 "metadata": {
  "finalized": {
   "timestamp": 1616151019399,
   "trusted": true
  },
  "hide_input": false,
  "kernelspec": {
   "display_name": "Python 3",
   "language": "python",
   "name": "python3"
  },
  "language_info": {
   "codemirror_mode": {
    "name": "ipython",
    "version": 3
   },
   "file_extension": ".py",
   "mimetype": "text/x-python",
   "name": "python",
   "nbconvert_exporter": "python",
   "pygments_lexer": "ipython3",
   "version": "3.8.2"
  },
  "latex_envs": {
   "LaTeX_envs_menu_present": true,
   "autoclose": false,
   "autocomplete": true,
   "bibliofile": "biblio.bib",
   "cite_by": "apalike",
   "current_citInitial": 1,
   "eqLabelWithNumbers": true,
   "eqNumInitial": 1,
   "hotkeys": {
    "equation": "Ctrl-E",
    "itemize": "Ctrl-I"
   },
   "labels_anchors": false,
   "latex_user_defs": false,
   "report_style_numbering": false,
   "user_envs_cfg": false
  }
 },
 "nbformat": 4,
 "nbformat_minor": 4
}
