{
 "cells": [
  {
   "cell_type": "code",
   "execution_count": 1,
   "metadata": {},
   "outputs": [],
   "source": [
    "import numpy as np\n",
    "from scipy.optimize import minimize"
   ]
  },
  {
   "cell_type": "code",
   "execution_count": 2,
   "metadata": {},
   "outputs": [
    {
     "name": "stdout",
     "output_type": "stream",
     "text": [
      "-300\n",
      "     fun: -26000.00000021414\n",
      "     jac: array([-100., -200.])\n",
      " message: 'Optimization terminated successfully.'\n",
      "    nfev: 12\n",
      "     nit: 2\n",
      "    njev: 2\n",
      "  status: 0\n",
      " success: True\n",
      "       x: array([ 40., 110.])\n"
     ]
    }
   ],
   "source": [
    "def objective(x):\n",
    "    x1 = x[0]\n",
    "    x2 = x[1]\n",
    "    return -100*x1 - 200*x2\n",
    "\n",
    "def constraint1(x):\n",
    "    return -x[0] - 4*x[1]+480.0\n",
    "\n",
    "def constraint2(x):\n",
    "    return -4*x[0] - 2*x[1]+440.0\n",
    "\n",
    "def constraint3(x):\n",
    "    return -x[0] - x[1] + 150.0\n",
    "\n",
    "def constraint4(x):\n",
    "    return -x[0] + 150.0\n",
    "\n",
    "cons1 ={'type': 'ineq', 'fun': constraint1}\n",
    "cons2 ={'type': 'ineq', 'fun': constraint2}\n",
    "cons3 ={'type': 'ineq', 'fun': constraint3}\n",
    "cons4 ={'type': 'ineq', 'fun': constraint4}\n",
    "cons = [cons1, cons2, cons3, cons4]\n",
    "\n",
    "x0 = [1,1] # guess\n",
    "print(objective(x0))\n",
    "\n",
    "sol = minimize(objective, x0, method = 'SLSQP', \\\n",
    "               constraints = cons)\n",
    "\n",
    "print(sol)"
   ]
  },
  {
   "cell_type": "code",
   "execution_count": 3,
   "metadata": {},
   "outputs": [],
   "source": [
    "from pulp import *"
   ]
  },
  {
   "cell_type": "code",
   "execution_count": 4,
   "metadata": {},
   "outputs": [],
   "source": [
    "prob = LpProblem('agricole',LpMaximize)"
   ]
  },
  {
   "cell_type": "code",
   "execution_count": 5,
   "metadata": {},
   "outputs": [],
   "source": [
    "x1 = LpVariable(\"x1\", lowBound = 0)\n",
    "x2 = LpVariable(\"x2\", lowBound = 0)"
   ]
  },
  {
   "cell_type": "code",
   "execution_count": 6,
   "metadata": {},
   "outputs": [],
   "source": [
    "# define obj function\n",
    "prob += 100*x1 + 200*x2 + 0"
   ]
  },
  {
   "cell_type": "code",
   "execution_count": 7,
   "metadata": {},
   "outputs": [],
   "source": [
    "# constraints\n",
    "prob += x1 +x2 <= 150\n",
    "prob += 4*x1 +2*x2 <= 440\n",
    "prob += x1 + 4*x2 <= 480\n",
    "prob += x1 <= 90\n"
   ]
  },
  {
   "cell_type": "code",
   "execution_count": 8,
   "metadata": {},
   "outputs": [
    {
     "data": {
      "text/plain": [
       "1"
      ]
     },
     "execution_count": 8,
     "metadata": {},
     "output_type": "execute_result"
    }
   ],
   "source": [
    "prob.solve()"
   ]
  },
  {
   "cell_type": "code",
   "execution_count": 9,
   "metadata": {},
   "outputs": [
    {
     "name": "stdout",
     "output_type": "stream",
     "text": [
      "aire cultivée tomate =   40.0\n",
      "aire cultivée piment =   110.0\n",
      "Profit réalisé =   26000.0\n"
     ]
    }
   ],
   "source": [
    "print('aire cultivée tomate =  ',value(x1))\n",
    "print('aire cultivée piment =  ',value(x2))\n",
    "print('Profit réalisé =  ',100*value(x1)+200*value(x2))"
   ]
  },
  {
   "cell_type": "code",
   "execution_count": 10,
   "metadata": {},
   "outputs": [
    {
     "name": "stdout",
     "output_type": "stream",
     "text": [
      "prix unitaire hectare de terrain =   68.0\n",
      "prix unitaire du metre cube eau =   0.0\n",
      "prix unitaire MO =   33.0\n",
      "valeur de x4 =   0.0\n",
      "prix de vente acceptable =   26040.0\n"
     ]
    }
   ],
   "source": [
    "prob = LpProblem('Dual_agricole',LpMinimize)\n",
    "\n",
    "x1 = LpVariable(\"x1\", lowBound = 0, cat='Integer')\n",
    "x2 = LpVariable(\"x2\", lowBound = 0, cat='Integer')\n",
    "x3 = LpVariable(\"x3\", lowBound = 0, cat='Integer')\n",
    "x4 = LpVariable(\"x4\", lowBound = 0, cat='Integer')\n",
    "\n",
    "# define obj function\n",
    "prob += 150*x1 + 440*x2 + 480*x3 + 90*x4 + 0\n",
    "\n",
    "# constraints\n",
    "prob += x1 + 4*x2 + x3 + x4 >= 100\n",
    "prob += x1 + 2*x2 + 4*x3 >= 200\n",
    "\n",
    "prob.solve()\n",
    "\n",
    "print('prix unitaire hectare de terrain =  ',value(x1))\n",
    "print('prix unitaire du metre cube eau =  ',value(x2))\n",
    "print('prix unitaire MO =  ',value(x3))\n",
    "print('valeur de x4 =  ',value(x4))\n",
    "print('prix de vente acceptable =  ',150*value(x1)+440*value(x2)+480*value(x3)+90*value(x4))\n"
   ]
  },
  {
   "cell_type": "code",
   "execution_count": null,
   "metadata": {},
   "outputs": [],
   "source": []
  },
  {
   "cell_type": "code",
   "execution_count": 11,
   "metadata": {},
   "outputs": [
    {
     "name": "stdout",
     "output_type": "stream",
     "text": [
      "valeur de x1 =   3.0\n",
      "valeur de x2 =   4.0\n",
      "sol opt =   7.0\n"
     ]
    }
   ],
   "source": [
    "prob = LpProblem('solMult',LpMaximize)\n",
    "\n",
    "x1 = LpVariable(\"x1\", lowBound = 0)\n",
    "x2 = LpVariable(\"x2\", lowBound = 0)\n",
    "\n",
    "# define obj function\n",
    "prob += x1 + 3*x2 + 0\n",
    "\n",
    "# constraints\n",
    "prob += 2*x1 + 6*x2 <= 30\n",
    "prob += x2 <= 4\n",
    "prob += x1 <= 10\n",
    "\n",
    "prob.solve()\n",
    "\n",
    "print('valeur de x1 =  ',value(x1))\n",
    "print('valeur de x2 =  ',value(x2))\n",
    "print('sol opt =  ',value(x1)+value(x2))\n"
   ]
  },
  {
   "cell_type": "code",
   "execution_count": null,
   "metadata": {},
   "outputs": [],
   "source": []
  },
  {
   "cell_type": "code",
   "execution_count": 12,
   "metadata": {},
   "outputs": [
    {
     "name": "stdout",
     "output_type": "stream",
     "text": [
      "valeur de x1 =   10.0\n",
      "valeur de x2 =   5.0\n",
      "sol opt =   15.0\n"
     ]
    }
   ],
   "source": [
    "prob = LpProblem('degenere',LpMaximize)\n",
    "\n",
    "x1 = LpVariable(\"x1\", lowBound = 0)\n",
    "x2 = LpVariable(\"x2\", lowBound = 0)\n",
    "\n",
    "# define obj function\n",
    "prob += x1 + x2 + 0\n",
    "\n",
    "# constraints\n",
    "prob += 3*x1 + 2*x2 <= 40\n",
    "prob += x2 <= 5\n",
    "prob += x1 <= 10\n",
    "\n",
    "prob.solve()\n",
    "\n",
    "print('valeur de x1 =  ',value(x1))\n",
    "print('valeur de x2 =  ',value(x2))\n",
    "print('sol opt =  ',value(x1)+value(x2))\n"
   ]
  },
  {
   "cell_type": "code",
   "execution_count": null,
   "metadata": {},
   "outputs": [],
   "source": []
  }
 ],
 "metadata": {
  "finalized": {
   "timestamp": 1616685248543,
   "trusted": true
  },
  "hide_input": false,
  "kernelspec": {
   "display_name": "Python 3",
   "language": "python",
   "name": "python3"
  },
  "language_info": {
   "codemirror_mode": {
    "name": "ipython",
    "version": 3
   },
   "file_extension": ".py",
   "mimetype": "text/x-python",
   "name": "python",
   "nbconvert_exporter": "python",
   "pygments_lexer": "ipython3",
   "version": "3.8.2"
  },
  "latex_envs": {
   "LaTeX_envs_menu_present": true,
   "autoclose": false,
   "autocomplete": true,
   "bibliofile": "biblio.bib",
   "cite_by": "apalike",
   "current_citInitial": 1,
   "eqLabelWithNumbers": true,
   "eqNumInitial": 1,
   "hotkeys": {
    "equation": "Ctrl-E",
    "itemize": "Ctrl-I"
   },
   "labels_anchors": false,
   "latex_user_defs": false,
   "report_style_numbering": false,
   "user_envs_cfg": false
  }
 },
 "nbformat": 4,
 "nbformat_minor": 4
}
