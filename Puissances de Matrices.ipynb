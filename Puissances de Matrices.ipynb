{
 "cells": [
  {
   "cell_type": "code",
   "execution_count": 8,
   "metadata": {},
   "outputs": [
    {
     "name": "stdout",
     "output_type": "stream",
     "text": [
      "Coefficients de la 1ère ligne : 1,2\n",
      "Coefficients de la 2ème ligne : 3,4\n",
      "Valeur de l’exposant ?3\n",
      "Résultat du calcul : [[37, 54], [81, 118]]\n"
     ]
    }
   ],
   "source": [
    "# Puissance d’une matrice 2x2 \n",
    "from math import* \n",
    "# Entrée des données \n",
    "\n",
    "a,b=eval(input(\"Coefficients de la 1ère ligne : \")) \n",
    "c,d=eval(input(\"Coefficients de la 2ème ligne : \")) \n",
    "n=eval(input(\"Valeur de l’exposant ?\")) \n",
    "# Calculs et résultats \n",
    "A1,B1,C1,D1=1,0,0,1 \n",
    "for i in range(0,n): \n",
    "    A2=A1*a+B1*c \n",
    "    B2=A1*b+B1*d \n",
    "    C2=C1*a+D1*c \n",
    "    D2=C1*b+D1*d \n",
    "    A1,B1,C1,D1=A2,B2,C2,D2 \n",
    "M=[[A1,B1],[C1,D1]] \n",
    "print(\"Résultat du calcul :\", M)"
   ]
  },
  {
   "cell_type": "code",
   "execution_count": 11,
   "metadata": {},
   "outputs": [
    {
     "name": "stdout",
     "output_type": "stream",
     "text": [
      "Coordonnées du point A ? 0,0,0\n",
      "Coordonnées du point B ? 1,1,1\n",
      "coordonnées du point C ? 2,2,2\n",
      "Les points sont alignés.\n"
     ]
    }
   ],
   "source": [
    "# Les points A, B et C sont-ils alignés ? \n",
    "from math import* \n",
    "xA,yA,zA=eval(input(\"Coordonnées du point A ? \")) \n",
    "xB,yB,zB=eval(input(\"Coordonnées du point B ? \")) \n",
    "xC,yC,zC=eval(input(\"coordonnées du point C ? \")) \n",
    "# Calculs et résultats \n",
    "a,b,c=xB-xA,yB-yA,zB-zA \n",
    "aa,bb,cc=xC-xA,yC-yA,zC-zA \n",
    "k1,k2,k3=a*bb-b*aa, b*cc-c*bb,a*cc-c*aa \n",
    "if k1==0 and k2==0 and k3==0: \n",
    "    print(\"Les points sont alignés.\") \n",
    "else : \n",
    "    print(\"Les points ne sont pas alignés.\")"
   ]
  },
  {
   "cell_type": "code",
   "execution_count": 13,
   "metadata": {},
   "outputs": [
    {
     "data": {
      "text/plain": [
       "array([[ 0, -1],\n",
       "       [ 1,  0]])"
      ]
     },
     "execution_count": 13,
     "metadata": {},
     "output_type": "execute_result"
    }
   ],
   "source": [
    "import numpy as np\n",
    "from numpy.linalg import matrix_power\n",
    "i = np.array([[0, 1], [-1, 0]]) # matrix equiv. of the imaginary unit\n",
    "matrix_power(i, 3) # should = -i\n",
    "\n",
    "\n"
   ]
  },
  {
   "cell_type": "code",
   "execution_count": 14,
   "metadata": {},
   "outputs": [
    {
     "data": {
      "text/plain": [
       "array([[1, 0],\n",
       "       [0, 1]])"
      ]
     },
     "execution_count": 14,
     "metadata": {},
     "output_type": "execute_result"
    }
   ],
   "source": [
    "matrix_power(i, 0)"
   ]
  },
  {
   "cell_type": "code",
   "execution_count": 15,
   "metadata": {},
   "outputs": [
    {
     "data": {
      "text/plain": [
       "array([[ 0.,  1.],\n",
       "       [-1.,  0.]])"
      ]
     },
     "execution_count": 15,
     "metadata": {},
     "output_type": "execute_result"
    }
   ],
   "source": [
    "\n",
    "matrix_power(i, -3) # should = 1/(-i) = i, but w/ f.p. elements\n"
   ]
  },
  {
   "cell_type": "code",
   "execution_count": 16,
   "metadata": {},
   "outputs": [
    {
     "data": {
      "text/plain": [
       "array([[ 0., -1.,  0.,  0.],\n",
       "       [ 1.,  0.,  0.,  0.],\n",
       "       [ 0.,  0.,  0.,  1.],\n",
       "       [ 0.,  0., -1.,  0.]])"
      ]
     },
     "execution_count": 16,
     "metadata": {},
     "output_type": "execute_result"
    }
   ],
   "source": [
    "q = np.zeros((4, 4))\n",
    "q[0:2, 0:2] = -i\n",
    "q[2:4, 2:4] = i\n",
    "q # one of the three quaternion units not equal to 1"
   ]
  },
  {
   "cell_type": "code",
   "execution_count": 17,
   "metadata": {},
   "outputs": [
    {
     "data": {
      "text/plain": [
       "array([[-1.,  0.,  0.,  0.],\n",
       "       [ 0., -1.,  0.,  0.],\n",
       "       [ 0.,  0., -1.,  0.],\n",
       "       [ 0.,  0.,  0., -1.]])"
      ]
     },
     "execution_count": 17,
     "metadata": {},
     "output_type": "execute_result"
    }
   ],
   "source": [
    "matrix_power(q, 2) # = -np.eye(4)"
   ]
  },
  {
   "cell_type": "code",
   "execution_count": 20,
   "metadata": {},
   "outputs": [
    {
     "name": "stdout",
     "output_type": "stream",
     "text": [
      "[[ 180  234  288]\n",
      " [ 558  720  882]\n",
      " [ 936 1206 1476]]\n",
      "[[ 180  234  288]\n",
      " [ 558  720  882]\n",
      " [ 936 1206 1476]]\n"
     ]
    }
   ],
   "source": [
    "x = np.arange(9).reshape(3,3)\n",
    "y = np.matrix(x)\n",
    "\n",
    "a = y**3\n",
    "b = np.linalg.matrix_power(x, 3)\n",
    "\n",
    "print(a)\n",
    "print(b)\n",
    "#assert np.all(a==b)"
   ]
  },
  {
   "cell_type": "code",
   "execution_count": 21,
   "metadata": {},
   "outputs": [
    {
     "data": {
      "text/plain": [
       "matrix([[0, 1, 2],\n",
       "        [3, 4, 5],\n",
       "        [6, 7, 8]])"
      ]
     },
     "execution_count": 21,
     "metadata": {},
     "output_type": "execute_result"
    }
   ],
   "source": [
    "y"
   ]
  },
  {
   "cell_type": "code",
   "execution_count": 22,
   "metadata": {},
   "outputs": [
    {
     "data": {
      "text/plain": [
       "matrix([[ 180,  234,  288],\n",
       "        [ 558,  720,  882],\n",
       "        [ 936, 1206, 1476]])"
      ]
     },
     "execution_count": 22,
     "metadata": {},
     "output_type": "execute_result"
    }
   ],
   "source": [
    "a"
   ]
  },
  {
   "cell_type": "code",
   "execution_count": 24,
   "metadata": {},
   "outputs": [
    {
     "name": "stdout",
     "output_type": "stream",
     "text": [
      "[[1 0 0]\n",
      " [0 1 0]\n",
      " [0 0 1]]\n",
      "[[ 2 -1  0]\n",
      " [-1  2 -1]\n",
      " [ 0 -1  2]]\n",
      "[[ 5 -4  1]\n",
      " [-4  6 -4]\n",
      " [ 1 -4  5]]\n"
     ]
    }
   ],
   "source": [
    "m = np.matrix([[2, -1, 0],\n",
    "               [-1, 2, -1],\n",
    "               [0, -1, 2]])\n",
    "\n",
    "print(np.linalg.matrix_power(m, 0))\n",
    "print(np.linalg.matrix_power(m, 1))\n",
    "print(np.linalg.matrix_power(m, 2))"
   ]
  },
  {
   "cell_type": "code",
   "execution_count": null,
   "metadata": {},
   "outputs": [],
   "source": []
  }
 ],
 "metadata": {
  "hide_input": false,
  "kernelspec": {
   "display_name": "Python 3",
   "language": "python",
   "name": "python3"
  },
  "language_info": {
   "codemirror_mode": {
    "name": "ipython",
    "version": 3
   },
   "file_extension": ".py",
   "mimetype": "text/x-python",
   "name": "python",
   "nbconvert_exporter": "python",
   "pygments_lexer": "ipython3",
   "version": "3.8.2"
  },
  "latex_envs": {
   "LaTeX_envs_menu_present": true,
   "autoclose": false,
   "autocomplete": true,
   "bibliofile": "biblio.bib",
   "cite_by": "apalike",
   "current_citInitial": 1,
   "eqLabelWithNumbers": true,
   "eqNumInitial": 1,
   "hotkeys": {
    "equation": "Ctrl-E",
    "itemize": "Ctrl-I"
   },
   "labels_anchors": false,
   "latex_user_defs": false,
   "report_style_numbering": false,
   "user_envs_cfg": false
  }
 },
 "nbformat": 4,
 "nbformat_minor": 4
}
