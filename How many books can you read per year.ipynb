{
 "cells": [
  {
   "cell_type": "markdown",
   "metadata": {},
   "source": [
    "\"\"\"\n",
    "Example of the optimization problem. If you want to read maximum amount of bestsellers, which books should you order?\n",
    "For example you can read only 5 hours/week. How many books can you read per year\n",
    "**Assuming that average speed of reading The average reader snails through prose at a rate of about \n",
    "250-300 words per minute, which roughly equates to about one page per minute, we assume 60 pages/ hour is the regular speed.\n",
    "**Another definition of the problem is to achieve max rating.\n",
    "\"\"\"\n"
   ]
  },
  {
   "cell_type": "code",
   "execution_count": 1,
   "metadata": {},
   "outputs": [],
   "source": [
    "from pulp import *\n",
    "import numpy as np\n",
    "import pandas as pd\n",
    "import re"
   ]
  },
  {
   "cell_type": "code",
   "execution_count": 2,
   "metadata": {},
   "outputs": [],
   "source": [
    "#write a scaper before hand\n",
    "data = pd.read_excel(r'C:\\Users\\Administrateur\\Documents\\goodreads_bestsellers.xlsx')\n",
    "problem_name = 'BuyingBestsellers'\n",
    "hours_week_read = 5\n",
    "pages_per_hour = 60"
   ]
  },
  {
   "cell_type": "code",
   "execution_count": 3,
   "metadata": {},
   "outputs": [
    {
     "ename": "AttributeError",
     "evalue": "module 'pulp.pulp' has no attribute 'LpMaximize'",
     "output_type": "error",
     "traceback": [
      "\u001b[1;31m---------------------------------------------------------------------------\u001b[0m",
      "\u001b[1;31mAttributeError\u001b[0m                            Traceback (most recent call last)",
      "\u001b[1;32m<ipython-input-3-1e678909b8c4>\u001b[0m in \u001b[0;36m<module>\u001b[1;34m\u001b[0m\n\u001b[0;32m     75\u001b[0m \u001b[1;33m\u001b[0m\u001b[0m\n\u001b[0;32m     76\u001b[0m \u001b[1;32mif\u001b[0m \u001b[0m__name__\u001b[0m \u001b[1;33m==\u001b[0m \u001b[1;34m'__main__'\u001b[0m\u001b[1;33m:\u001b[0m\u001b[1;33m\u001b[0m\u001b[1;33m\u001b[0m\u001b[0m\n\u001b[1;32m---> 77\u001b[1;33m     \u001b[0moptimize_bestseller_reading\u001b[0m\u001b[1;33m(\u001b[0m\u001b[1;33m)\u001b[0m\u001b[1;33m\u001b[0m\u001b[1;33m\u001b[0m\u001b[0m\n\u001b[0m",
      "\u001b[1;32m<ipython-input-3-1e678909b8c4>\u001b[0m in \u001b[0;36moptimize_bestseller_reading\u001b[1;34m()\u001b[0m\n\u001b[0;32m      1\u001b[0m \u001b[1;32mdef\u001b[0m \u001b[0moptimize_bestseller_reading\u001b[0m\u001b[1;33m(\u001b[0m\u001b[1;33m)\u001b[0m\u001b[1;33m:\u001b[0m\u001b[1;33m\u001b[0m\u001b[1;33m\u001b[0m\u001b[0m\n\u001b[0;32m      2\u001b[0m \u001b[1;31m# create the LP object, set up as a maximization problem --> since we want to maximize the number of books we read in a year\u001b[0m\u001b[1;33m\u001b[0m\u001b[1;33m\u001b[0m\u001b[1;33m\u001b[0m\u001b[0m\n\u001b[1;32m----> 3\u001b[1;33m     \u001b[0mprob\u001b[0m \u001b[1;33m=\u001b[0m \u001b[0mpulp\u001b[0m\u001b[1;33m.\u001b[0m\u001b[0mLpProblem\u001b[0m\u001b[1;33m(\u001b[0m\u001b[0mproblem_name\u001b[0m\u001b[1;33m,\u001b[0m \u001b[0mpulp\u001b[0m\u001b[1;33m.\u001b[0m\u001b[0mLpMaximize\u001b[0m\u001b[1;33m)\u001b[0m\u001b[1;33m\u001b[0m\u001b[1;33m\u001b[0m\u001b[0m\n\u001b[0m\u001b[0;32m      4\u001b[0m \u001b[1;33m\u001b[0m\u001b[0m\n\u001b[0;32m      5\u001b[0m     \u001b[1;31m#create decision - yes or no to buy the book?\u001b[0m\u001b[1;33m\u001b[0m\u001b[1;33m\u001b[0m\u001b[1;33m\u001b[0m\u001b[0m\n",
      "\u001b[1;31mAttributeError\u001b[0m: module 'pulp.pulp' has no attribute 'LpMaximize'"
     ]
    }
   ],
   "source": [
    "def optimize_bestseller_reading():\n",
    "# create the LP object, set up as a maximization problem --> since we want to maximize the number of books we read in a year\n",
    "    prob = pulp.LpProblem(problem_name, pulp.LpMaximize)\n",
    "\n",
    "    #create decision - yes or no to buy the book?\n",
    "    decision_variables = []\n",
    "    for rownum, row in data.iterrows():\n",
    "        variable = str('x' + str(rownum))\n",
    "        variable = pulp.LpVariable(str(variable), lowBound = 0, upBound = 1, cat= 'Integer') #make variables binary\n",
    "        decision_variables.append(variable)\n",
    "\n",
    "    print (\"Total number of decision_variables: \" + str(len(decision_variables)))\n",
    "\n",
    "    #create optimization function\n",
    "    total_books = \"\"\n",
    "    for i, book in enumerate(decision_variables):\n",
    "        total_books += book\n",
    "\n",
    "    prob += total_books\n",
    "    print (\"Optimization function: \" + str(total_books))\n",
    "\n",
    "\n",
    "    #create constrains - there are only 365 days\n",
    "\n",
    "    total_pages_needs_to_read = \"\"\n",
    "    for rownum, row in data.iterrows():\n",
    "        for i, schedule in enumerate(decision_variables):\n",
    "            if rownum == i:\n",
    "                formula = row['pages']*schedule\n",
    "                total_pages_needs_to_read += formula\n",
    "\n",
    "    total_pages_can_read = 52*hours_week_read*pages_per_hour\n",
    "\n",
    "    prob += (total_pages_needs_to_read == total_pages_can_read)\n",
    "\n",
    "\n",
    "    #now run optimization\n",
    "    optimization_result = prob.solve()\n",
    "    assert optimization_result == pulp.LpStatusOptimal\n",
    "    prob.writeLP(problem_name + \".lp\" )\n",
    "    print(\"Status:\", LpStatus[prob.status])\n",
    "    # print(\"Optimal Solution to the problem: \", value(prob.objective))\n",
    "    print (\"Individual decision_variables: \")\n",
    "    for v in prob.variables():\n",
    "        print(v.name, \"=\", v.varValue)\n",
    "        \n",
    "    #transform the data back\n",
    "    ##############################\n",
    "    #format the result\n",
    "    \n",
    "    #reorder results\n",
    "    variable_name = []\n",
    "    variable_value = []\n",
    "    \n",
    "    for v in prob.variables():\n",
    "        variable_name.append(v.name)\n",
    "        variable_value.append(v.varValue)\n",
    "\n",
    "    df = pd.DataFrame({'variable': variable_name, 'value': variable_value})\n",
    "    for rownum, row in df.iterrows():\n",
    "        value = re.findall(r'(\\d+)', row['variable'])\n",
    "        df.loc[rownum, 'variable'] = int(value[0])\n",
    "\n",
    "    df = df.sort_index(by='variable')\n",
    "\n",
    "#append results\n",
    "    for rownum, row in data.iterrows():\n",
    "        for results_rownum, results_row in df.iterrows():\n",
    "            if rownum == results_row['variable']:\n",
    "                data.loc[rownum, 'decision'] = results_row['value']\n",
    "\n",
    "    #export data-table\n",
    "    data.to_csv('reading_list.csv')\n",
    "    print(\"Your Reading List is ready\")\n",
    "    \n",
    "if __name__ == '__main__':\n",
    "    optimize_bestseller_reading()\n"
   ]
  },
  {
   "cell_type": "code",
   "execution_count": null,
   "metadata": {},
   "outputs": [],
   "source": [
    "#import os"
   ]
  },
  {
   "cell_type": "code",
   "execution_count": null,
   "metadata": {},
   "outputs": [],
   "source": [
    "#os.getcwd()"
   ]
  },
  {
   "cell_type": "code",
   "execution_count": null,
   "metadata": {},
   "outputs": [],
   "source": []
  }
 ],
 "metadata": {
  "finalized": {
   "timestamp": 1615988233709,
   "trusted": true
  },
  "hide_input": false,
  "kernelspec": {
   "display_name": "Python 3",
   "language": "python",
   "name": "python3"
  },
  "language_info": {
   "codemirror_mode": {
    "name": "ipython",
    "version": 3
   },
   "file_extension": ".py",
   "mimetype": "text/x-python",
   "name": "python",
   "nbconvert_exporter": "python",
   "pygments_lexer": "ipython3",
   "version": "3.8.2"
  },
  "latex_envs": {
   "LaTeX_envs_menu_present": true,
   "autoclose": false,
   "autocomplete": true,
   "bibliofile": "biblio.bib",
   "cite_by": "apalike",
   "current_citInitial": 1,
   "eqLabelWithNumbers": true,
   "eqNumInitial": 1,
   "hotkeys": {
    "equation": "Ctrl-E",
    "itemize": "Ctrl-I"
   },
   "labels_anchors": false,
   "latex_user_defs": false,
   "report_style_numbering": false,
   "user_envs_cfg": false
  }
 },
 "nbformat": 4,
 "nbformat_minor": 4
}
