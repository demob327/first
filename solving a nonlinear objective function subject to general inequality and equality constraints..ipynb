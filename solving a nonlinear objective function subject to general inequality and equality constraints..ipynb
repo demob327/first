{
 "cells": [
  {
   "cell_type": "markdown",
   "metadata": {},
   "source": [
    "Example\n",
    "\\begin{exercise}\\label{ex:}\n",
    "\n",
    "min x1*x2(x1+x2+x3)+x3\n",
    "\n",
    "s.t \n",
    "\n",
    "x1*x2*x3*x4>=25\n",
    "\n",
    "x1^2+x2^2+x3^2+x4^2=40\n",
    "\n",
    "1<=x1,x2,x3,x4<=5\n",
    "\n",
    "x0=(1,5,5,1)\n",
    "\\end{exercise}\n"
   ]
  },
  {
   "cell_type": "code",
   "execution_count": 1,
   "metadata": {},
   "outputs": [],
   "source": [
    "import numpy as np\n",
    "from scipy.optimize import minimize"
   ]
  },
  {
   "cell_type": "code",
   "execution_count": 2,
   "metadata": {},
   "outputs": [],
   "source": [
    "def objective(x):\n",
    "    x1 = x[0]\n",
    "    x2 = x[1]\n",
    "    x3 = x[2]\n",
    "    x4 = x[3]\n",
    "    return x1*x4*(x1+x2+x3)+x3\n",
    "\n",
    "def constraint1(x):\n",
    "    return x[0]*x[1]*x[2]*x[3]-25.0\n",
    "\n",
    "def constraint2(x):\n",
    "    sum_sq = 40 \n",
    "    for i in range(4):\n",
    "        sum_sq = sum_sq - x[i]**2\n",
    "    return sum_sq\n",
    "    "
   ]
  },
  {
   "cell_type": "code",
   "execution_count": 3,
   "metadata": {},
   "outputs": [
    {
     "name": "stdout",
     "output_type": "stream",
     "text": [
      "16\n"
     ]
    }
   ],
   "source": [
    "x0 = [1,5,5,1] # guess\n",
    "print(objective(x0))"
   ]
  },
  {
   "cell_type": "code",
   "execution_count": 4,
   "metadata": {},
   "outputs": [],
   "source": [
    "b = (1.0, 5.0)\n",
    "bnds = (b,b,b,b)\n",
    "cons1 ={'type': 'ineq', 'fun': constraint1}\n",
    "cons2 ={'type': 'eq', 'fun': constraint2}\n",
    "cons = [cons1, cons2]"
   ]
  },
  {
   "cell_type": "code",
   "execution_count": 5,
   "metadata": {},
   "outputs": [],
   "source": [
    "sol = minimize(objective, x0, method = 'SLSQP', \\\n",
    "              bounds = bnds, constraints = cons)"
   ]
  },
  {
   "cell_type": "code",
   "execution_count": 6,
   "metadata": {},
   "outputs": [
    {
     "name": "stdout",
     "output_type": "stream",
     "text": [
      "     fun: 17.01401724563517\n",
      "     jac: array([14.57227015,  1.37940764,  2.37940764,  9.56415057])\n",
      " message: 'Optimization terminated successfully.'\n",
      "    nfev: 30\n",
      "     nit: 5\n",
      "    njev: 5\n",
      "  status: 0\n",
      " success: True\n",
      "       x: array([1.        , 4.7429961 , 3.82115462, 1.37940765])\n"
     ]
    }
   ],
   "source": [
    "print(sol)"
   ]
  },
  {
   "cell_type": "code",
   "execution_count": null,
   "metadata": {},
   "outputs": [],
   "source": []
  },
  {
   "cell_type": "markdown",
   "metadata": {},
   "source": [
    "solving with GEKKO"
   ]
  },
  {
   "cell_type": "code",
   "execution_count": 7,
   "metadata": {},
   "outputs": [
    {
     "name": "stdout",
     "output_type": "stream",
     "text": [
      "Requirement already satisfied: gekko in c:\\users\\administrateur\\appdata\\local\\programs\\python\\python38-32\\lib\\site-packages (0.2.8)\n",
      "Requirement already satisfied: flask-cors in c:\\users\\administrateur\\appdata\\local\\programs\\python\\python38-32\\lib\\site-packages (from gekko) (3.0.10)\n",
      "Requirement already satisfied: numpy>=1.8 in c:\\users\\administrateur\\appdata\\local\\programs\\python\\python38-32\\lib\\site-packages (from gekko) (1.18.1)\n",
      "Requirement already satisfied: flask in c:\\users\\administrateur\\appdata\\local\\programs\\python\\python38-32\\lib\\site-packages (from gekko) (1.1.2)\n",
      "Requirement already satisfied: itsdangerous>=0.24 in c:\\users\\administrateur\\appdata\\local\\programs\\python\\python38-32\\lib\\site-packages (from flask->gekko) (1.1.0)\n",
      "Requirement already satisfied: Werkzeug>=0.15 in c:\\users\\administrateur\\appdata\\local\\programs\\python\\python38-32\\lib\\site-packages (from flask->gekko) (1.0.1)\n",
      "Requirement already satisfied: Jinja2>=2.10.1 in c:\\users\\administrateur\\appdata\\roaming\\python\\python38\\site-packages (from flask->gekko) (2.11.2)\n",
      "Requirement already satisfied: click>=5.1 in c:\\users\\administrateur\\appdata\\local\\programs\\python\\python38-32\\lib\\site-packages (from flask->gekko) (7.1.2)\n",
      "Requirement already satisfied: MarkupSafe>=0.23 in c:\\users\\administrateur\\appdata\\roaming\\python\\python38\\site-packages (from Jinja2>=2.10.1->flask->gekko) (1.1.1)\n",
      "Requirement already satisfied: Six in c:\\users\\administrateur\\appdata\\local\\programs\\python\\python38-32\\lib\\site-packages (from flask-cors->gekko) (1.15.0)\n"
     ]
    }
   ],
   "source": [
    "! pip install gekko"
   ]
  },
  {
   "cell_type": "code",
   "execution_count": 8,
   "metadata": {
    "scrolled": true
   },
   "outputs": [
    {
     "name": "stdout",
     "output_type": "stream",
     "text": [
      "apm 80.249.68.219_gk_model0 <br><pre> ----------------------------------------------------------------\n",
      " APMonitor, Version 1.0.0\n",
      " APMonitor Optimization Suite\n",
      " ----------------------------------------------------------------\n",
      " \n",
      " \n",
      " --------- APM Model Size ------------\n",
      " Each time step contains\n",
      "   Objects      :            0\n",
      "   Constants    :            0\n",
      "   Variables    :           14\n",
      "   Intermediates:            0\n",
      "   Connections  :            0\n",
      "   Equations    :           11\n",
      "   Residuals    :           11\n",
      " \n",
      " Number of state variables:             13\n",
      " Number of total equations: -           10\n",
      " Number of slack variables: -            9\n",
      " ---------------------------------------\n",
      " Degrees of freedom       :             -6\n",
      " \n",
      " * Warning: DOF <= 0\n",
      " **********************************************\n",
      " Steady State Optimization with Interior Point Solver\n",
      " **********************************************\n",
      "  \n",
      "  \n",
      " Info: Exact Hessian\n",
      "\n",
      "******************************************************************************\n",
      "This program contains Ipopt, a library for large-scale nonlinear optimization.\n",
      " Ipopt is released as open source code under the Eclipse Public License (EPL).\n",
      "         For more information visit http://projects.coin-or.org/Ipopt\n",
      "******************************************************************************\n",
      "\n",
      "This is Ipopt version 3.12.10, running with linear solver ma57.\n",
      "\n",
      "Number of nonzeros in equality constraint Jacobian...:       25\n",
      "Number of nonzeros in inequality constraint Jacobian.:        0\n",
      "Number of nonzeros in Lagrangian Hessian.............:       10\n",
      "\n",
      "Total number of variables............................:       13\n",
      "                     variables with only lower bounds:        9\n",
      "                variables with lower and upper bounds:        0\n",
      "                     variables with only upper bounds:        0\n",
      "Total number of equality constraints.................:       10\n",
      "Total number of inequality constraints...............:        0\n",
      "        inequality constraints with only lower bounds:        0\n",
      "   inequality constraints with lower and upper bounds:        0\n",
      "        inequality constraints with only upper bounds:        0\n",
      "\n",
      "iter    objective    inf_pr   inf_du lg(mu)  ||d||  lg(rg) alpha_du alpha_pr  ls\n",
      "   0  1.6000000e+01 1.20e+01 5.32e-01   0.0 0.00e+00    -  0.00e+00 0.00e+00   0\n",
      "   1  1.6953655e+01 8.16e-01 3.86e+02  -8.0 3.86e+00    -  2.56e-03 1.00e+00h  1\n",
      "   2  1.7532454e+01 1.15e-02 5.51e+02  -1.3 5.51e-02   4.0 1.00e+00 1.00e+00h  1\n",
      "   3  1.7434140e+01 7.13e-03 3.52e+02  -3.1 4.86e-01    -  1.00e+00 3.61e-01f  1\n",
      "   4  1.7435734e+01 1.40e-05 3.25e+00  -4.4 2.22e-03    -  1.00e+00 1.00e+00h  1\n",
      "   5  1.6874724e+01 4.59e-01 2.44e+00  -3.9 4.90e-01    -  1.00e+00 3.13e-01f  1\n",
      "   6  1.6919264e+01 2.05e-01 1.12e-01  -2.8 3.40e-01    -  1.00e+00 1.00e+00h  1\n",
      "   7  1.7008536e+01 1.08e-02 2.75e-03  -3.7 3.56e-02    -  1.00e+00 1.00e+00h  1\n",
      "   8  1.7014018e+01 1.54e-05 6.16e-06  -5.5 1.45e-03    -  1.00e+00 1.00e+00h  1\n",
      "   9  1.7014017e+01 1.50e-09 9.84e-10 -11.0 1.06e-05    -  1.00e+00 1.00e+00h  1\n",
      "\n",
      "Number of Iterations....: 9\n",
      "\n",
      "                                   (scaled)                 (unscaled)\n",
      "Objective...............:   1.7014017272295874e+01    1.7014017272295874e+01\n",
      "Dual infeasibility......:   9.8438079909612952e-10    9.8438079909612952e-10\n",
      "Constraint violation....:   1.5001320183958178e-09    1.5001320183958178e-09\n",
      "Complementarity.........:   3.5720985650149972e-10    3.5720985650149972e-10\n",
      "Overall NLP error.......:   1.5001320183958178e-09    1.5001320183958178e-09\n",
      "\n",
      "\n",
      "Number of objective function evaluations             = 10\n",
      "Number of objective gradient evaluations             = 10\n",
      "Number of equality constraint evaluations            = 10\n",
      "Number of inequality constraint evaluations          = 0\n",
      "Number of equality constraint Jacobian evaluations   = 10\n",
      "Number of inequality constraint Jacobian evaluations = 0\n",
      "Number of Lagrangian Hessian evaluations             = 9\n",
      "Total CPU secs in IPOPT (w/o function evaluations)   =      0.007\n",
      "Total CPU secs in NLP function evaluations           =      0.001\n",
      "\n",
      "EXIT: Optimal Solution Found.\n",
      " \n",
      " The solution was found.\n",
      " \n",
      " The final value of the objective function is    17.0140172722959     \n",
      " \n",
      " ---------------------------------------------------\n",
      " Solver         :  IPOPT (v3.12)\n",
      " Solution time  :   1.299999999991996E-002 sec\n",
      " Objective      :    17.0140172722959     \n",
      " Successful solution\n",
      " ---------------------------------------------------\n",
      " \n",
      "\n",
      "Results\n",
      "x1:[0.99999999033]\n",
      "x2:[4.7429996361]\n",
      "x3:[3.8211499833]\n",
      "x4:[1.3794083065]\n"
     ]
    }
   ],
   "source": [
    "from gekko import GEKKO\n",
    "\n",
    "#INITIALIZE MODEL\n",
    "m = GEKKO()\n",
    "\n",
    "# help(m)\n",
    "\n",
    "#define parameter\n",
    "eq = m.Param(value=40)\n",
    "\n",
    "#initialze variables\n",
    "x1,x2,x3,x4 = [m.Var() for i in range(4)]\n",
    "\n",
    "#initial values\n",
    "x1.value = 1\n",
    "x2.value = 5\n",
    "x3.value = 5\n",
    "x4.value = 1\n",
    "\n",
    "#lower bounds\n",
    "#x1.LB = 1\n",
    "#x2.lb = 1\n",
    "#x3.lb = 1\n",
    "#x4.lb = 1\n",
    "\n",
    "#upper bounds\n",
    "#x1.ub = 5\n",
    "#x2.ub = 5\n",
    "#x3.ub = 5\n",
    "#x4.ub = 5\n",
    "\n",
    "#equations\n",
    "m.Equation(x1*x2*x3*x4>=25)\n",
    "m.Equation(x1**2 + x2**2 + x3**2 + x4**2 == eq)\n",
    "m.Equation(x1>=1)\n",
    "m.Equation(x1<=5)\n",
    "m.Equation(x2>=1)\n",
    "m.Equation(x2<=5)\n",
    "m.Equation(x3>=1)\n",
    "m.Equation(x3<=5)\n",
    "m.Equation(x4>=1)\n",
    "m.Equation(x4<=5)\n",
    "#objective\n",
    "m.Obj(x1*x4*(x1 + x2 + x3) + x3)\n",
    "\n",
    "#set global options\n",
    "m.options.IMODE = 3 # steady state optimization\n",
    "\n",
    "#solve simulation\n",
    "m.solve()\n",
    "\n",
    "#results\n",
    "print('')\n",
    "print('Results')\n",
    "print('x1:' + str(x1.value))\n",
    "print('x2:' + str(x2.value))\n",
    "print('x3:' + str(x3.value))\n",
    "print('x4:' + str(x4.value))\n",
    "\n",
    "\n",
    "\n",
    "\n",
    "\n",
    "\n",
    "\n"
   ]
  },
  {
   "cell_type": "code",
   "execution_count": null,
   "metadata": {},
   "outputs": [],
   "source": []
  }
 ],
 "metadata": {
  "hide_input": false,
  "kernelspec": {
   "display_name": "Python 3",
   "language": "python",
   "name": "python3"
  },
  "language_info": {
   "codemirror_mode": {
    "name": "ipython",
    "version": 3
   },
   "file_extension": ".py",
   "mimetype": "text/x-python",
   "name": "python",
   "nbconvert_exporter": "python",
   "pygments_lexer": "ipython3",
   "version": "3.8.2"
  },
  "latex_envs": {
   "LaTeX_envs_menu_present": true,
   "autoclose": false,
   "autocomplete": true,
   "bibliofile": "biblio.bib",
   "cite_by": "apalike",
   "current_citInitial": 1,
   "eqLabelWithNumbers": true,
   "eqNumInitial": 1,
   "hotkeys": {
    "equation": "Ctrl-E",
    "itemize": "Ctrl-I"
   },
   "labels_anchors": false,
   "latex_user_defs": false,
   "report_style_numbering": false,
   "user_envs_cfg": false
  }
 },
 "nbformat": 4,
 "nbformat_minor": 4
}
