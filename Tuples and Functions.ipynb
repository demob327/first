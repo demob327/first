{
 "cells": [
  {
   "cell_type": "code",
   "execution_count": 2,
   "metadata": {},
   "outputs": [],
   "source": [
    "Certainly! Here are the tuples representing each place in the Boston area on a 10x10 grid, with Central Square Cambridge at the center:\n",
    "\n",
    "1. Cambridge: (0, 0, \"Cambridge\", 110000)\n",
    "2. Boston: (4, -2, \"Boston\", 650000)\n",
    "3. Somerville: (2, 2, \"Somerville\", 80000)\n",
    "4. Brookline: (0, -4, \"Brookline\", 60000)\n",
    "5. Newton: (-4, -2, \"Newton\", 90000)\n",
    "6. Waltham: (-4, 2, \"Waltham\", 60000)\n",
    "7. Medford: (1, 4, \"Medford\", 60000)\n",
    "\n",
    "Each tuple consists of four elements: (x-coordinate, y-coordinate, place name, population)."
   ]
  },
  {
   "cell_type": "code",
   "execution_count": 3,
   "metadata": {},
   "outputs": [
    {
     "name": "stdout",
     "output_type": "stream",
     "text": [
      "Total population: 1110000\n"
     ]
    }
   ],
   "source": [
    "from collections import namedtuple\n",
    "\n",
    "# Define the namedtuple \"Place\"\n",
    "Place = namedtuple(\"Place\", [\"x\", \"y\", \"name\", \"population\"])\n",
    "\n",
    "# Function to calculate the total population\n",
    "def calculate_total_population(places):\n",
    "    total_population = 0\n",
    "    \n",
    "    for place in places:\n",
    "        total_population += place.population\n",
    "    \n",
    "    return total_population\n",
    "\n",
    "# Example usage\n",
    "places = [\n",
    "    Place(0, 0, \"Cambridge\", 110000),\n",
    "    Place(4, -2, \"Boston\", 650000),\n",
    "    Place(2, 2, \"Somerville\", 80000),\n",
    "    Place(0, -4, \"Brookline\", 60000),\n",
    "    Place(-4, -2, \"Newton\", 90000),\n",
    "    Place(-4, 2, \"Waltham\", 60000),\n",
    "    Place(1, 4, \"Medford\", 60000)\n",
    "]\n",
    "\n",
    "total_population = calculate_total_population(places)\n",
    "print(\"Total population:\", total_population)\n"
   ]
  },
  {
   "cell_type": "code",
   "execution_count": 2,
   "metadata": {},
   "outputs": [
    {
     "name": "stdout",
     "output_type": "stream",
     "text": [
      "Total population: 1110000\n",
      "Biggest place: Boston\n",
      "Smallest place: Brookline\n"
     ]
    }
   ],
   "source": [
    "from collections import namedtuple\n",
    "\n",
    "# Define the namedtuple \"Place\"\n",
    "Place = namedtuple(\"Place\", [\"x\", \"y\", \"name\", \"population\"])\n",
    "\n",
    "# Function to calculate the total population\n",
    "def calculate_total_population(places):\n",
    "    total_population = 0\n",
    "    \n",
    "    for place in places:\n",
    "        total_population += place.population\n",
    "    \n",
    "    return total_population\n",
    "\n",
    "# Function to find the biggest place\n",
    "def find_biggest_place(places):\n",
    "    biggest_place = max(places, key=lambda place: place.population)\n",
    "    return biggest_place\n",
    "\n",
    "# Function to find the smallest place\n",
    "def find_smallest_place(places):\n",
    "    smallest_place = min(places, key=lambda place: place.population)\n",
    "    return smallest_place\n",
    "\n",
    "# Example usage\n",
    "places = [\n",
    "    Place(0, 0, \"Cambridge\", 110000),\n",
    "    Place(4, -2, \"Boston\", 650000),\n",
    "    Place(2, 2, \"Somerville\", 80000),\n",
    "    Place(0, -4, \"Brookline\", 60000),\n",
    "    Place(-4, -2, \"Newton\", 90000),\n",
    "    Place(-4, 2, \"Waltham\", 60000),\n",
    "    Place(1, 4, \"Medford\", 60000)\n",
    "]\n",
    "\n",
    "total_population = calculate_total_population(places)\n",
    "print(\"Total population:\", total_population)\n",
    "\n",
    "biggest_place = find_biggest_place(places)\n",
    "print(\"Biggest place:\", biggest_place.name)\n",
    "\n",
    "smallest_place = find_smallest_place(places)\n",
    "print(\"Smallest place:\", smallest_place.name)\n"
   ]
  },
  {
   "cell_type": "code",
   "execution_count": null,
   "metadata": {},
   "outputs": [],
   "source": []
  }
 ],
 "metadata": {
  "hide_input": false,
  "kernelspec": {
   "display_name": "Python 3",
   "language": "python",
   "name": "python3"
  },
  "language_info": {
   "codemirror_mode": {
    "name": "ipython",
    "version": 3
   },
   "file_extension": ".py",
   "mimetype": "text/x-python",
   "name": "python",
   "nbconvert_exporter": "python",
   "pygments_lexer": "ipython3",
   "version": "3.8.2"
  },
  "latex_envs": {
   "LaTeX_envs_menu_present": true,
   "autoclose": false,
   "autocomplete": true,
   "bibliofile": "biblio.bib",
   "cite_by": "apalike",
   "current_citInitial": 1,
   "eqLabelWithNumbers": true,
   "eqNumInitial": 1,
   "hotkeys": {
    "equation": "Ctrl-E",
    "itemize": "Ctrl-I"
   },
   "labels_anchors": false,
   "latex_user_defs": false,
   "report_style_numbering": false,
   "user_envs_cfg": false
  }
 },
 "nbformat": 4,
 "nbformat_minor": 4
}
