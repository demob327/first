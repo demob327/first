{
 "cells": [
  {
   "cell_type": "markdown",
   "metadata": {},
   "source": [
    "you will discover how to develop and evaluate naive classification strategies for machine learning.\n",
    "\n",
    "Classification predictive modeling problems involve predicting a class label given an input to the model.\n",
    "\n",
    "Given a classification model, how do you know if the model has skill or not?\n",
    "\n",
    "This is a common question on every classification predictive modeling project. The answer is to compare the results of a given classifier model to a baseline or naive classifier model.\n",
    "\n",
    "Consider a simple two-class classification problem where the number of observations is not equal for each class (e.g. it is imbalanced) with 25 examples for class-0 and 75 examples for class-1. This problem can be used to consider different naive classifier models.\n",
    "\n",
    "For example, consider a model that randomly predicts class-0 or class-1 with equal probability. How would it perform?\n",
    "\n",
    "We can calculate the expected performance using a simple probability model.\n",
    "P(yhat = y) = P(yhat = 0) * P(y = 0) + P(yhat = 1) * P(y = 1)\n",
    "We can plug in the occurrence of each class (0.25 and 0.75) and the predicted probability for each class (0.5 and 0.5) and estimate the performance of the model.\n",
    "P(yhat = y) = 0.5 * 0.25 + 0.5 * 0.75\n",
    "P(yhat = y) = 0.5\n",
    "It turns out that this classifier is pretty poor.\n",
    "\n",
    "Now, what if we consider predicting the majority class (class-1) every time? Again, we can plug in the predicted probabilities (0.0 and 1.0) and estimate the performance of the model.\n",
    "P(yhat = y) = 0.0 * 0.25 + 1.0 * 0.75\n",
    "P(yhat = y) = 0.75\n",
    "It turns out that this simple change results in a better naive classification model, and is perhaps the best naive classifier to use when classes are imbalanced.\n",
    "\n",
    "The scikit-learn machine learning library provides an implementation of the majority class naive classification algorithm called the DummyClassifier that you can use on your next classification predictive modeling project.\n",
    "\n",
    "The complete example is listed below.\n"
   ]
  },
  {
   "cell_type": "code",
   "execution_count": 1,
   "metadata": {},
   "outputs": [],
   "source": [
    "# example of the majority class naive classifier in scikit-learn\n",
    "from numpy import asarray\n",
    "from sklearn.dummy import DummyClassifier\n",
    "from sklearn.metrics import accuracy_score\n",
    "\n"
   ]
  },
  {
   "cell_type": "code",
   "execution_count": 2,
   "metadata": {},
   "outputs": [],
   "source": [
    "# define dataset\n",
    "X = asarray([0 for _ in range(100)])\n",
    "class0 = [0 for _ in range(25)]\n",
    "class1 = [1 for _ in range(75)]\n",
    "y = asarray(class0 + class1)\n",
    "\n"
   ]
  },
  {
   "cell_type": "code",
   "execution_count": 6,
   "metadata": {},
   "outputs": [
    {
     "name": "stdout",
     "output_type": "stream",
     "text": [
      "Accuracy: 0.750\n"
     ]
    }
   ],
   "source": [
    "# reshape data for sklearn\n",
    "X = X.reshape((len(X), 1))\n",
    "\n",
    "# define model\n",
    "model = DummyClassifier(strategy='most_frequent')\n",
    "\n",
    "# fit model\n",
    "model.fit(X, y)\n",
    "\n",
    "# make predictions\n",
    "yhat = model.predict(X)\n",
    "\n",
    "# calculate accuracy\n",
    "accuracy = accuracy_score(y, yhat)\n",
    "print('Accuracy: %.3f' % accuracy)\n"
   ]
  },
  {
   "cell_type": "markdown",
   "metadata": {},
   "source": [
    "Running the example prepares the dataset, then defines and fits the DummyClassifier on the dataset using the majority class strategy.\n",
    "\n",
    "\n",
    "Your task in this lesson is to run the example and report the result, confirming whether the model performs as we expected from our calculation.\n",
    "\n",
    "As a bonus, calculate the expected probability of a naive classifier model that randomly chooses a class label from the training dataset each time a prediction is made."
   ]
  },
  {
   "cell_type": "code",
   "execution_count": null,
   "metadata": {},
   "outputs": [],
   "source": []
  }
 ],
 "metadata": {
  "kernelspec": {
   "display_name": "Python 3",
   "language": "python",
   "name": "python3"
  },
  "language_info": {
   "codemirror_mode": {
    "name": "ipython",
    "version": 3
   },
   "file_extension": ".py",
   "mimetype": "text/x-python",
   "name": "python",
   "nbconvert_exporter": "python",
   "pygments_lexer": "ipython3",
   "version": "3.8.2"
  }
 },
 "nbformat": 4,
 "nbformat_minor": 4
}
