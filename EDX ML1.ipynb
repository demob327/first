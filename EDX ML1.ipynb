{
 "cells": [
  {
   "cell_type": "markdown",
   "metadata": {},
   "source": [
    "Below, you can find 10 points in a two-dimensional space and three different 'models' fitted to the data."
   ]
  },
  {
   "cell_type": "code",
   "execution_count": 1,
   "metadata": {},
   "outputs": [],
   "source": [
    "import numpy as np\n",
    "import matplotlib.pyplot as plt"
   ]
  },
  {
   "cell_type": "code",
   "execution_count": 2,
   "metadata": {},
   "outputs": [
    {
     "data": {
      "image/png": "[encoded data removed]",
      "text/plain": [
       "<Figure size 432x288 with 1 Axes>"
      ]
     },
     "metadata": {
      "needs_background": "light"
     },
     "output_type": "display_data"
    }
   ],
   "source": [
    "x = np.array(range(0,10))\n",
    "x_1 = [3,8,3,4,1,7,5,3,8,2]\n",
    "y_1 = [7,3,1,6,10,10,3,6,5,10]\n",
    "\n",
    "# Make a scatter plot and overlay with our equations\n",
    "plt.scatter(x_1,y_1)\n",
    "plt.plot(x,x*2+2,'b-')\n",
    "plt.plot(x,x*0.1+1,'r-')\n",
    "plt.plot(x,x*0.5,'g-')\n",
    "\n",
    "# Set the axes limits\n",
    "plt.axis([0, 11, 0, 11])\n",
    "plt.show()"
   ]
  },
  {
   "cell_type": "markdown",
   "metadata": {},
   "source": [
    "In the previous activity, it was difficult to say which model was the most suitable. We lacked a means to quantify to what extent the performance was according to our liking. For instance, the green line was the more moderate solution, but wasn’t it too far away from every other line to be representative enough? Below, you can find an overview of the most-widely used metrics to capture the performance of (regression) models. They all focus on seeing what error the model is making, something we want to keep as low as possible. \n",
    "\n",
    "A variety of metrics for evaluation exist, but you will probably have already heard of the ones that will be introduced below. They are all forms of error measures. They all capture accuracy. By that, we mean the difference between the result (of a measurement) and the true value. Let’s start with numeric variables.\n",
    "\n",
    "For that, we first need to know what the error is. Typically, we write the error like  ei=yi−yi^ , where  yi^  is the predicted value of observation  i , and  yi  is the actual value of observation  i  we have in our dataset. We also call these the residuals. Note that the error is still measured in the same dimension as the original value. For example, if you calculate the error of an amount expressed in USD you will have an error in $. That's why this measure cannot be used to compare errors, or even models that are measured in different dimensions.\n",
    "\n",
    "After we figure out the error, we can come up with the first and simple measure called mean error:\n",
    "\n",
    "ME=(1/n)Σni=1ei  which is the average of errors.\n",
    "\n",
    "You will see a downside to this. If we have both negative and positive numbers, their errors might level each one out, although they are both quite far away from the actual value. To mediate this, the following two measures are introduced: the mean absolute error and root mean squared error:"
   ]
  },
  {
   "cell_type": "markdown",
   "metadata": {},
   "source": [
    "You will see a downside to this. If we have both negative and positive numbers, their errors might level each one out, although they are both quite far away from the actual value. To mediate this, the following two measures are introduced: the mean absolute error and root mean squared error:\n",
    "\n",
    "MAE=1/nΣni=1|yi−yi^| \n",
    "and\n",
    "\n",
    "RMSE=1/nΣni=1(yi−yi^)0.5 \n",
    "The former solves the problem by taking the absolute value of the difference between both the actual and predicted value. This is an effective method. The root mean squared error, however, first makes the difference positive by squaring, and afterwards takes the root square of the average squared error to obtain its result. The consequence of doing this squared-based approach is that larger errors are exaggerated and this measure is very prone to outliers.\n",
    "\n",
    "Since all these measures are based on the residuals, they are all scale-dependent.\n",
    "\n",
    "We can also look into scale-independent measures, which are based on ratios. Most notably, the percentage error:\n",
    "\n",
    "pi=100⋅(ei/yi) \n",
    "Notice how the percentage error is comparable for variables measured in different dimensions, as we only capture the relative deviation compared to the actual value. The error is typically measured for a whole dataset by the mean absolute percentage error:\n",
    "\n",
    "MAPE=1/nΣni=1|pi| \n",
    "The MAPE is often used in forecasting for trend prediction and is omnipresent in time series analysis. The MAPE also has some drawbacks. It cannot be used when the actual value is 0, as we cannot make a division by 0. For very small observations close to 0, the error will also become infinitely large. Furthermore, the minimum is always 0, while the upper bound is unlimited. Hence, small errors can’t be captured as precisely as highly-deviating errors.\n",
    "\n",
    "For nominal values used for cross-sectional/classification models, the error is expressed slightly different:\n",
    "\n",
    "ei=I(yi≠yi^)  with  I()  an indicator variable that is 1 for a correct prediction, whether the predicted value is the same as the observed value, or 0 otherwise. The error rate is then:\n",
    "\n",
    "e=1nΣni=1I(yi≠yi^)  which is the average number of correctly classified observations.\n",
    "\n",
    "Nevertheless, we will be diving into this later when we look into what a confusion matrix is.\n",
    "\n",
    "Now that you are all caught up with the formulas on the different error measures, let’s have a look at a dataset and see what we can learn by using them. First, I will show you how all the different error measures paint a different picture of the same prediction. Next, I will illustrate the metrics produced by different models.\n",
    "\n"
   ]
  },
  {
   "cell_type": "markdown",
   "metadata": {},
   "source": [
    "Let’s revisit our previous dataset and make some models ourselves. Luckily, we have learned how to evaluate them by now. We can therefore calculate which ones score differently in terms of performance. This will help us make a more informed decision.\n",
    "\n",
    "You may already be familiar with linear equations, in the form of  y=ax+b . Let’s use the data we used earlier in your initial discussion and come up with three linear equations that you think are modelling the data well. To measure the performance of your models, you will calculate the ME, MAE, RMSE, and MAPE based on the distance between the predicted value and the actual value. The predicted value will be your  y^  which comes from filling in the appropriate x value in the linear equation.\n",
    "\n",
    "There are a number of trade-offs to make and the different equations will reflect this. Some might score better in terms of MAPE, some in terms of MRSE.\n",
    "\n",
    "Afterwards, you will be asked to input your equation and select what equation scored best in terms of each of the metrics you are asked to calculate."
   ]
  },
  {
   "cell_type": "markdown",
   "metadata": {},
   "source": [
    "You are tasked with creating three different linear equations to separate the points in the following graph, and calculate the error measures of them. Consider the following plot:"
   ]
  },
  {
   "cell_type": "code",
   "execution_count": 3,
   "metadata": {},
   "outputs": [
    {
     "data": {
      "image/png": "[encoded data removed]",
      "text/plain": [
       "<Figure size 432x288 with 1 Axes>"
      ]
     },
     "metadata": {
      "needs_background": "light"
     },
     "output_type": "display_data"
    }
   ],
   "source": [
    "##### added line to ensure plots are showing\n",
    "%matplotlib inline\n",
    "#####\n",
    "\n",
    "import numpy as np\n",
    "import matplotlib.pyplot as plt\n",
    "\n",
    "# Use this code if you need large figures (on high-resolution screens)\n",
    "# plt.rcParams[\"figure.dpi\"] = 144\n",
    "\n",
    "# x contains all the numbers between 0 and 10 (inclusive) for plotting purposes\n",
    "x = np.array(range(0,11))\n",
    "\n",
    "# These lists contain our data points\n",
    "x_1 = [3,8,3,4,1,7,5,3,8,2]\n",
    "y_1 = [7,3,1,6,10,10,3,6,5,10]\n",
    "\n",
    "# Make a scatter plot and overlay with our equations\n",
    "plt.scatter(x_1,y_1)\n",
    "\n",
    "# Set the axes limits\n",
    "plt.axis([0, 11, 0, 11])\n",
    "plt.show()"
   ]
  },
  {
   "cell_type": "markdown",
   "metadata": {},
   "source": [
    "Fill in the three (different)  a and b  values for your linear equations of the form  y=ax+b :"
   ]
  },
  {
   "cell_type": "code",
   "execution_count": 4,
   "metadata": {},
   "outputs": [],
   "source": [
    "a_1 = 0.1\n",
    "b_1 = 2\n",
    "a_2 = 0.8\n",
    "b_2 = 0\n",
    "a_3 = 3\n",
    "b_3 = 1.2"
   ]
  },
  {
   "cell_type": "code",
   "execution_count": 5,
   "metadata": {},
   "outputs": [
    {
     "data": {
      "image/png": "[encoded data removed]",
      "text/plain": [
       "<Figure size 432x288 with 1 Axes>"
      ]
     },
     "metadata": {
      "needs_background": "light"
     },
     "output_type": "display_data"
    }
   ],
   "source": [
    "plt.scatter(x_1,y_1)\n",
    "\n",
    "plt.plot(x,x*a_1+b_1,'b-')\n",
    "plt.plot(x,x*a_2+b_2,'r-')\n",
    "plt.plot(x,x*a_3,'g-')\n",
    "\n",
    "plt.axis([0, 11, 0, 11])\n",
    "plt.show()"
   ]
  },
  {
   "cell_type": "code",
   "execution_count": 6,
   "metadata": {},
   "outputs": [],
   "source": [
    "# Now, calculate your predictions based on the equations you have come up with:\n",
    "\n",
    "def calculate_forecast(a,b):\n",
    "        # Your ouput is a list of forecasts\n",
    "    r = []\n",
    "    for i in range(0,11):\n",
    "        r_i = a * i + b\n",
    "        r.append(r_i)\n",
    "       # i+=1\n",
    "           \n",
    "    return r\n",
    "#(calculate_forecast(a_1,b_1) ) "
   ]
  },
  {
   "cell_type": "code",
   "execution_count": 7,
   "metadata": {},
   "outputs": [
    {
     "name": "stdout",
     "output_type": "stream",
     "text": [
      "[2.0, 2.1, 2.2, 2.3, 2.4, 2.5, 2.6, 2.7, 2.8, 2.9, 3.0]\n",
      "[0.0, 0.8, 1.6, 2.4000000000000004, 3.2, 4.0, 4.800000000000001, 5.6000000000000005, 6.4, 7.2, 8.0]\n",
      "[1.2, 4.2, 7.2, 10.2, 13.2, 16.2, 19.2, 22.2, 25.2, 28.2, 31.2]\n"
     ]
    }
   ],
   "source": [
    "r_1 = calculate_forecast(a_1,b_1)\n",
    "r_2 = calculate_forecast(a_2,b_2)\n",
    "r_3 = calculate_forecast(a_3,b_3)\n",
    "\n",
    "print(r_1)\n",
    "print(r_2)\n",
    "print(r_3)"
   ]
  },
  {
   "cell_type": "code",
   "execution_count": null,
   "metadata": {},
   "outputs": [],
   "source": []
  },
  {
   "cell_type": "code",
   "execution_count": null,
   "metadata": {},
   "outputs": [],
   "source": []
  },
  {
   "cell_type": "code",
   "execution_count": null,
   "metadata": {},
   "outputs": [],
   "source": []
  },
  {
   "cell_type": "code",
   "execution_count": null,
   "metadata": {},
   "outputs": [],
   "source": []
  }
 ],
 "metadata": {
  "kernelspec": {
   "display_name": "Python 3",
   "language": "python",
   "name": "python3"
  },
  "language_info": {
   "codemirror_mode": {
    "name": "ipython",
    "version": 3
   },
   "file_extension": ".py",
   "mimetype": "text/x-python",
   "name": "python",
   "nbconvert_exporter": "python",
   "pygments_lexer": "ipython3",
   "version": "3.8.2"
  }
 },
 "nbformat": 4,
 "nbformat_minor": 4
}
