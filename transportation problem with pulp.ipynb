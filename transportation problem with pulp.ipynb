{
 "cells": [
  {
   "cell_type": "code",
   "execution_count": 1,
   "metadata": {},
   "outputs": [],
   "source": [
    "from pulp import *"
   ]
  },
  {
   "cell_type": "code",
   "execution_count": 2,
   "metadata": {},
   "outputs": [
    {
     "name": "stdout",
     "output_type": "stream",
     "text": [
      "Status Optimal\n",
      "shipAmount_Clermont_Orlando = 300000.0\n",
      "shipAmount_Eustis_Leesburg = 150000.0\n",
      "shipAmount_Eustis_Orlando = 250000.0\n",
      "shipAmount_Mt.Dara_Leesburg = 75000.0\n",
      "shipAmount_Mt.Dara_Ocala = 200000.0\n",
      "Total bushel-miles = 24000000.0\n"
     ]
    }
   ],
   "source": [
    "#sets\n",
    "groves = ['Mt.Dara', 'Eustis', 'Clermont']\n",
    "plants = ['Ocala', 'Orlando', 'Leesburg']\n",
    "\n",
    "#dict of max amount that can be shipped to each plant\n",
    "mship = {'Ocala':200000,\n",
    "          'Orlando':600000, \n",
    "          'Leesburg':225000}\n",
    "\n",
    "#dict of amount each grove will supply\n",
    "suply = {'Mt.Dara':275000,\n",
    "          'Eustis':400000,\n",
    "          'Clermont':300000}\n",
    "\n",
    "#dict of miles for all groves and plants\n",
    "bush = {'Mt.Dara':{'Ocala' : 21, 'Orlando' : 50, 'Leesburg' : 40},\n",
    "       'Eustis':{'Ocala' : 35, 'Orlando' : 30, 'Leesburg' : 22},\n",
    "       'Clermont':{'Ocala' : 55, 'Orlando' : 20, 'Leesburg' : 25}}\n",
    "\n",
    "#set problem variables\n",
    "prob = LpProblem('Transportation', LpMinimize)\n",
    "\n",
    "routes = [(i,j) for i in groves for j in plants]\n",
    "\n",
    "#decision variables\n",
    "amount_vars = LpVariable.dicts('shipAmount', (groves, plants),\n",
    "                               0)\n",
    " \n",
    "#objective function\n",
    "prob += lpSum(amount_vars[i][j]*bush[i][j] for (i,j) in routes)\n",
    "\n",
    "#constraints\n",
    "for j in plants:\n",
    "    prob += lpSum(amount_vars[i][j] for i in groves) <= mship[j]\n",
    "    \n",
    "for i in groves:\n",
    "    prob += lpSum(amount_vars[i][j] for j in plants) == suply[i] \n",
    "    \n",
    "prob.solve()\n",
    "print('Status', LpStatus[prob.status])\n",
    "\n",
    "for v in prob.variables():\n",
    "    if v.varValue > 0:\n",
    "        print(v.name, '=', v.varValue)\n",
    "        \n",
    "print('Total bushel-miles =', value(prob.objective))\n"
   ]
  },
  {
   "cell_type": "code",
   "execution_count": null,
   "metadata": {},
   "outputs": [],
   "source": []
  },
  {
   "cell_type": "code",
   "execution_count": 4,
   "metadata": {},
   "outputs": [
    {
     "ename": "TypeError",
     "evalue": "list indices must be integers or slices, not str",
     "output_type": "error",
     "traceback": [
      "\u001b[1;31m---------------------------------------------------------------------------\u001b[0m",
      "\u001b[1;31mTypeError\u001b[0m                                 Traceback (most recent call last)",
      "\u001b[1;32m<ipython-input-4-034e050e3cb1>\u001b[0m in \u001b[0;36m<module>\u001b[1;34m\u001b[0m\n\u001b[0;32m     27\u001b[0m \u001b[1;33m\u001b[0m\u001b[0m\n\u001b[0;32m     28\u001b[0m \u001b[1;31m#objective function\u001b[0m\u001b[1;33m\u001b[0m\u001b[1;33m\u001b[0m\u001b[1;33m\u001b[0m\u001b[0m\n\u001b[1;32m---> 29\u001b[1;33m \u001b[0mprob\u001b[0m \u001b[1;33m+=\u001b[0m \u001b[0mlpSum\u001b[0m\u001b[1;33m(\u001b[0m\u001b[1;33m[\u001b[0m\u001b[0mroute_vars\u001b[0m\u001b[1;33m[\u001b[0m\u001b[0mw\u001b[0m\u001b[1;33m]\u001b[0m\u001b[1;33m[\u001b[0m\u001b[0mb\u001b[0m\u001b[1;33m]\u001b[0m\u001b[1;33m*\u001b[0m\u001b[0mcosts\u001b[0m\u001b[1;33m[\u001b[0m\u001b[0mw\u001b[0m\u001b[1;33m]\u001b[0m\u001b[1;33m[\u001b[0m\u001b[0mb\u001b[0m\u001b[1;33m]\u001b[0m \u001b[1;32mfor\u001b[0m \u001b[1;33m(\u001b[0m\u001b[0mw\u001b[0m\u001b[1;33m,\u001b[0m\u001b[0mb\u001b[0m\u001b[1;33m)\u001b[0m \u001b[1;32min\u001b[0m \u001b[0mroutes\u001b[0m\u001b[1;33m]\u001b[0m\u001b[1;33m)\u001b[0m \u001b[1;31m# \"sum of transporting costs\"\u001b[0m\u001b[1;33m\u001b[0m\u001b[1;33m\u001b[0m\u001b[0m\n\u001b[0m\u001b[0;32m     30\u001b[0m \u001b[1;33m\u001b[0m\u001b[0m\n\u001b[0;32m     31\u001b[0m \u001b[1;31m#the supply maximum constraints are added to prob for each supply node (warehouse)\u001b[0m\u001b[1;33m\u001b[0m\u001b[1;33m\u001b[0m\u001b[1;33m\u001b[0m\u001b[0m\n",
      "\u001b[1;32m<ipython-input-4-034e050e3cb1>\u001b[0m in \u001b[0;36m<listcomp>\u001b[1;34m(.0)\u001b[0m\n\u001b[0;32m     27\u001b[0m \u001b[1;33m\u001b[0m\u001b[0m\n\u001b[0;32m     28\u001b[0m \u001b[1;31m#objective function\u001b[0m\u001b[1;33m\u001b[0m\u001b[1;33m\u001b[0m\u001b[1;33m\u001b[0m\u001b[0m\n\u001b[1;32m---> 29\u001b[1;33m \u001b[0mprob\u001b[0m \u001b[1;33m+=\u001b[0m \u001b[0mlpSum\u001b[0m\u001b[1;33m(\u001b[0m\u001b[1;33m[\u001b[0m\u001b[0mroute_vars\u001b[0m\u001b[1;33m[\u001b[0m\u001b[0mw\u001b[0m\u001b[1;33m]\u001b[0m\u001b[1;33m[\u001b[0m\u001b[0mb\u001b[0m\u001b[1;33m]\u001b[0m\u001b[1;33m*\u001b[0m\u001b[0mcosts\u001b[0m\u001b[1;33m[\u001b[0m\u001b[0mw\u001b[0m\u001b[1;33m]\u001b[0m\u001b[1;33m[\u001b[0m\u001b[0mb\u001b[0m\u001b[1;33m]\u001b[0m \u001b[1;32mfor\u001b[0m \u001b[1;33m(\u001b[0m\u001b[0mw\u001b[0m\u001b[1;33m,\u001b[0m\u001b[0mb\u001b[0m\u001b[1;33m)\u001b[0m \u001b[1;32min\u001b[0m \u001b[0mroutes\u001b[0m\u001b[1;33m]\u001b[0m\u001b[1;33m)\u001b[0m \u001b[1;31m# \"sum of transporting costs\"\u001b[0m\u001b[1;33m\u001b[0m\u001b[1;33m\u001b[0m\u001b[0m\n\u001b[0m\u001b[0;32m     30\u001b[0m \u001b[1;33m\u001b[0m\u001b[0m\n\u001b[0;32m     31\u001b[0m \u001b[1;31m#the supply maximum constraints are added to prob for each supply node (warehouse)\u001b[0m\u001b[1;33m\u001b[0m\u001b[1;33m\u001b[0m\u001b[1;33m\u001b[0m\u001b[0m\n",
      "\u001b[1;31mTypeError\u001b[0m: list indices must be integers or slices, not str"
     ]
    }
   ],
   "source": [
    "#creates a list of all supply nodes\n",
    "warehouses = ['A', 'B']\n",
    "\n",
    "#creates a dict for  the number of units of supply for each supply node\n",
    "supply = {'A': 1000, 'B': 4000}\n",
    "\n",
    "#creates a list of all demands\n",
    "bars = ['1', '2', '3', '4', '5']\n",
    "\n",
    "#creates a dict for  the number of units of demand for each demand node\n",
    "demand = {'1' : 500, '2' : 900, '3': 1800, '4':200, '5': 700}\n",
    "\n",
    "#list of costs of each transportation path\n",
    "costs = [#bars \n",
    "         #1 2 3 4 5\n",
    "        [2,4,5,2,1], #A warehouse\n",
    "        [3,1,3,2,3]#B\n",
    "        ]\n",
    "#set problem variables\n",
    "prob = LpProblem('Distribution', LpMinimize)\n",
    "\n",
    "#creates a list of tuples containing all the possible routes for transport\n",
    "routes = [(w,b) for w in warehouses for b in bars]\n",
    "\n",
    "#creates a dict route_vars to contain the referenced variables (the routes)\n",
    "route_vars = LpVariable.dicts('route', (warehouses, bars), 0, None, LpInteger)\n",
    "\n",
    "#objective function\n",
    "prob += lpSum([route_vars[w][b]*costs[w][b] for (w,b) in routes]) # \"sum of transporting costs\"\n",
    "\n",
    "#the supply maximum constraints are added to prob for each supply node (warehouse)\n",
    "for w in warehouses:\n",
    "    prob += lpSum([route_vars[w][b] for b in bars]) <= supply[w] #, \"sum of products out of warehouse \"%w\n",
    "\n",
    "#the demand minimum constraints are added to prob for each demand node (bar)    \n",
    "for w in bars:\n",
    "    prob += lpSum([route_vars[w][b] for w in warehouses]) >= demand[b] #, \"sum of products into bars \"%b\n",
    "    \n",
    "prob.solve()\n",
    "print('Status', LpStatus[prob.status])\n",
    "\n",
    "for v in prob.variables():\n",
    "    if v.varValue > 0:\n",
    "        print(v.name, '=', v.varValue)\n",
    "        \n",
    "print('warehouses:bars =', value(prob.objective))    "
   ]
  },
  {
   "cell_type": "code",
   "execution_count": 5,
   "metadata": {},
   "outputs": [
    {
     "ename": "TypeError",
     "evalue": "list indices must be integers or slices, not str",
     "output_type": "error",
     "traceback": [
      "\u001b[1;31m---------------------------------------------------------------------------\u001b[0m",
      "\u001b[1;31mTypeError\u001b[0m                                 Traceback (most recent call last)",
      "\u001b[1;32m<ipython-input-5-26ed90d2ab8a>\u001b[0m in \u001b[0;36m<module>\u001b[1;34m\u001b[0m\n\u001b[1;32m----> 1\u001b[1;33m \u001b[0mcosts\u001b[0m\u001b[1;33m[\u001b[0m\u001b[1;34m'A'\u001b[0m\u001b[1;33m]\u001b[0m\u001b[1;33m[\u001b[0m\u001b[1;36m1\u001b[0m\u001b[1;33m]\u001b[0m\u001b[1;33m\u001b[0m\u001b[1;33m\u001b[0m\u001b[0m\n\u001b[0m",
      "\u001b[1;31mTypeError\u001b[0m: list indices must be integers or slices, not str"
     ]
    }
   ],
   "source": [
    "costs['A'][1]"
   ]
  },
  {
   "cell_type": "code",
   "execution_count": null,
   "metadata": {},
   "outputs": [],
   "source": []
  }
 ],
 "metadata": {
  "finalized": {
   "timestamp": 1617204241572,
   "trusted": true
  },
  "hide_input": false,
  "kernelspec": {
   "display_name": "Python 3",
   "language": "python",
   "name": "python3"
  },
  "language_info": {
   "codemirror_mode": {
    "name": "ipython",
    "version": 3
   },
   "file_extension": ".py",
   "mimetype": "text/x-python",
   "name": "python",
   "nbconvert_exporter": "python",
   "pygments_lexer": "ipython3",
   "version": "3.8.2"
  },
  "latex_envs": {
   "LaTeX_envs_menu_present": true,
   "autoclose": false,
   "autocomplete": true,
   "bibliofile": "biblio.bib",
   "cite_by": "apalike",
   "current_citInitial": 1,
   "eqLabelWithNumbers": true,
   "eqNumInitial": 1,
   "hotkeys": {
    "equation": "Ctrl-E",
    "itemize": "Ctrl-I"
   },
   "labels_anchors": false,
   "latex_user_defs": false,
   "report_style_numbering": false,
   "user_envs_cfg": false
  }
 },
 "nbformat": 4,
 "nbformat_minor": 4
}
