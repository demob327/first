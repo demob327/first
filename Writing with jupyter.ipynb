{
 "cells": [
  {
   "cell_type": "markdown",
   "metadata": {},
   "source": [
    "\\begin{align}\n",
    "{x} = \\sigma(y-x) \\\\\n",
    "{y} = \\rho x - y - xz \\\\\n",
    "{x+y+z} = -\\beta z + xy \n",
    "\\end{align}"
   ]
  },
  {
   "cell_type": "markdown",
   "metadata": {},
   "source": [
    "\\begin{align}\n",
    "{x} = \\sigma(y-x) \\\\\n",
    "{y} = \\rho x - y - xz \\\\\n",
    "{x+y+z} = -\\beta z + xy \n",
    "\\end{align}"
   ]
  },
  {
   "cell_type": "markdown",
   "metadata": {},
   "source": [
    "\\begin{align}\n",
    "{x} = \\sigma(y-x) \\tag{1-1}\\\\\n",
    "{y} = \\rho x - y - xz \\tag{1-2}\\\\\n",
    "{x+y+z} = -\\beta z + xy \\tag{1-3}\n",
    "\\end{align}"
   ]
  },
  {
   "cell_type": "markdown",
   "metadata": {},
   "source": [
    "\\begin{align}\n",
    "{x} = \\sigma(y-x) \\tag{1-1}\\\\\n",
    "{y} = \\rho x - y - xz \\tag{1-2}\\\\\n",
    "{x+y+z} = -\\beta z + xy \\tag{1-3}\n",
    "\\end{align}"
   ]
  },
  {
   "cell_type": "markdown",
   "metadata": {},
   "source": [
    "Aligning at equal signs\n",
    "By adding & symbol, equations will be aligned at that point. For example, if you want to align equations at equal symbol, use &=.\n",
    "\n",
    "\\begin{align}\n",
    "{x} & = \\sigma(y-x) \\tag{3-1}\\\\\n",
    "{y} & = \\rho x - y - xz \\tag{3-2}\\\\\n",
    "{x+y+z} & = -\\beta z + xy \\tag{3-3}\n",
    "\\end{align}\n"
   ]
  },
  {
   "cell_type": "markdown",
   "metadata": {},
   "source": [
    "\\begin{align}\n",
    "{x} & = \\sigma(y-x) \\tag{3-1}\\\\\n",
    "{y} & = \\rho x - y - xz \\tag{3-2}\\\\\n",
    "{x+y+z} & = -\\beta z + xy \\tag{3-3}\n",
    "\\end{align}\n"
   ]
  },
  {
   "cell_type": "markdown",
   "metadata": {},
   "source": [
    "Left alignment\n",
    "\n",
    "\\begin{align}\n",
    "& {x} = \\sigma(y-x) \\tag{4-1}\\\\\n",
    "& {y} = \\rho x - y - xz \\tag{4-2}\\\\\n",
    "& {x+y+z} = -\\beta z + xy \\tag{4-3}\n",
    "\\end{align}\n"
   ]
  },
  {
   "cell_type": "markdown",
   "metadata": {},
   "source": [
    "\\begin{align}\n",
    "& {x} = \\sigma(y-x) \\tag{4-1}\\\\\n",
    "& {y} = \\rho x - y - xz \\tag{4-2}\\\\\n",
    "& {x+y+z} = -\\beta z + xy \\tag{4-3}\n",
    "\\end{align}\n"
   ]
  },
  {
   "cell_type": "markdown",
   "metadata": {},
   "source": [
    "Mixed alignment\n",
    "If you want to align left for texts and center for equations, you can use the following.\n",
    "\n",
    "\\text{Normal distribution} \\\\\n",
    "\n",
    "\n",
    "X \\sim N(\\mu,\\sigma^2) \\\\\n",
    "\n",
    "\n",
    "\\text{Probability density function} \\\\\n",
    "\n",
    "\n",
    "\\frac{1}{\\sigma \\sqrt{2 \\pi}}e^{-\\frac{(x- \\mu)^2}{2 \\sigma^2}}\n"
   ]
  },
  {
   "cell_type": "markdown",
   "metadata": {},
   "source": [
    "$\n",
    "\\text{Normal distribution} \\\\\n",
    "$\n",
    "$$\n",
    "X \\sim N(\\mu,\\sigma^2) \\\\\n",
    "$$\n",
    "$\n",
    "\\text{Probability density function} \\\\\n",
    "$\n",
    "$$\n",
    "\\frac{1}{\\sigma \\sqrt{2 \\pi}}e^{-\\frac{(x- \\mu)^2}{2 \\sigma^2}}\n",
    "$$"
   ]
  },
  {
   "cell_type": "markdown",
   "metadata": {},
   "source": [
    "If you want to create two columns layout, you can try this method.\n",
    "\n"
   ]
  },
  {
   "cell_type": "markdown",
   "metadata": {},
   "source": [
    "<div class=\"row\">\n",
    "  <div class=\"column\">\n",
    "    Lorem ipsum dolor sit amet, consectetur adipiscing elit.    Maecenas quis nunc pulvinar urna faucibus tincidunt ut vestibulum ligula. Sed placerat sollicitudin erat, quis dapibus nibh tempor non. \n",
    "      <br/>\n",
    "    \n",
    "Id | Syntax      | Description \n",
    "--|:---------:|:-----------:\n",
    "1|Header      | Something  here\n",
    "2|More here   | Text\n",
    "    \n",
    "  </div>\n",
    "    \n",
    "  <div class=\"column\">\n",
    "Lorem ipsum dolor sit amet, consectetur adipiscing elit. Maecenas quis nunc pulvinar urna faucibus tincidunt ut vestibulum ligula. Sed placerat sollicitudin erat, quis dapibus nibh tempor non. \n",
    "  <br/>\n",
    "    \n",
    "  $$\n",
    "  \\begin{align}\n",
    "  {x} & = \\sigma(y-x) \\tag{3-1}\\\\\n",
    "  {y} & = \\rho x - y - xz \\tag{3-2}\\\\\n",
    "  {x+y+z} & = -\\beta z + xy \\tag{3-3}\n",
    "  \\end{align}\n",
    "  $$\n",
    "    \n",
    "  </div>\n",
    "</div>"
   ]
  },
  {
   "cell_type": "markdown",
   "metadata": {},
   "source": [
    "Next, you need to add CSS styles to one of the cells. (This includes codes from “How to print out from Jupyter Notebook without code blocks” which you can find it later of this article.)"
   ]
  },
  {
   "cell_type": "markdown",
   "metadata": {},
   "source": [
    "%%html\n",
    "<style>\n",
    "    @media print { \n",
    "        * {\n",
    "             box-sizing: border-box;\n",
    "          }\n",
    "        .row {\n",
    "             display: flex;\n",
    "         }\n",
    "       /* Create two equal columns that sits next to each other */\n",
    "       .column {\n",
    "          flex: 50%;\n",
    "          padding: 10px;\n",
    "  \n",
    "        }\n",
    "        \n",
    "        div.input {\n",
    "          display: none;\n",
    "          padding: 0;\n",
    "        }\n",
    "        div.output_prompt {\n",
    "          display: none;\n",
    "          padding: 0;\n",
    "        }\n",
    "        div.text_cell_render {\n",
    "          padding: 1pt;\n",
    "        }\n",
    "        div#notebook p,\n",
    "        div#notebook,\n",
    "        div#notebook li,\n",
    "        p {\n",
    "          font-size: 10pt;\n",
    "          line-height: 115%;\n",
    "          margin: 0;\n",
    "        }\n",
    "        .rendered_html h1,\n",
    "        .rendered_html h1:first-child {\n",
    "          font-size: 10pt;\n",
    "          margin: 3pt 0;\n",
    "        }\n",
    "       .rendered_html h2,\n",
    "       .rendered_html h2:first-child {\n",
    "          font-size: 10pt;\n",
    "          margin: 3pt 0;\n",
    "       }\n",
    "       .rendered_html h3,\n",
    "       .rendered_html h3:first-child {\n",
    "         font-size: 10pt;\n",
    "         margin: 3pt 0;\n",
    "       }\n",
    "       div.output_subarea {\n",
    "         padding: 0;\n",
    "       }\n",
    "       div.input_prompt{\n",
    "         display: none;\n",
    "         padding: 0;\n",
    "      }\n",
    "}"
   ]
  },
  {
   "cell_type": "markdown",
   "metadata": {},
   "source": [
    "%%html\n",
    "<style>\n",
    "    @media print { \n",
    "        * {\n",
    "             box-sizing: border-box;\n",
    "          }\n",
    "        .row {\n",
    "             display: flex;\n",
    "         }\n",
    "       /* Create two equal columns that sits next to each other */\n",
    "       .column {\n",
    "          flex: 50%;\n",
    "          padding: 10px;\n",
    "  \n",
    "        }\n",
    "        \n",
    "        div.input {\n",
    "          display: none;\n",
    "          padding: 0;\n",
    "        }\n",
    "        div.output_prompt {\n",
    "          display: none;\n",
    "          padding: 0;\n",
    "        }\n",
    "        div.text_cell_render {\n",
    "          padding: 1pt;\n",
    "        }\n",
    "        div#notebook p,\n",
    "        div#notebook,\n",
    "        div#notebook li,\n",
    "        p {\n",
    "          font-size: 10pt;\n",
    "          line-height: 115%;\n",
    "          margin: 0;\n",
    "        }\n",
    "        .rendered_html h1,\n",
    "        .rendered_html h1:first-child {\n",
    "          font-size: 10pt;\n",
    "          margin: 3pt 0;\n",
    "        }\n",
    "       .rendered_html h2,\n",
    "       .rendered_html h2:first-child {\n",
    "          font-size: 10pt;\n",
    "          margin: 3pt 0;\n",
    "       }\n",
    "       .rendered_html h3,\n",
    "       .rendered_html h3:first-child {\n",
    "         font-size: 10pt;\n",
    "         margin: 3pt 0;\n",
    "       }\n",
    "       div.output_subarea {\n",
    "         padding: 0;\n",
    "       }\n",
    "       div.input_prompt{\n",
    "         display: none;\n",
    "         padding: 0;\n",
    "      }\n",
    "}"
   ]
  },
  {
   "cell_type": "raw",
   "metadata": {},
   "source": [
    "<div style=\"page-break-after: always;\"></div>"
   ]
  },
  {
   "cell_type": "code",
   "execution_count": null,
   "metadata": {},
   "outputs": [],
   "source": []
  }
 ],
 "metadata": {
  "kernelspec": {
   "display_name": "Python 3",
   "language": "python",
   "name": "python3"
  },
  "language_info": {
   "codemirror_mode": {
    "name": "ipython",
    "version": 3
   },
   "file_extension": ".py",
   "mimetype": "text/x-python",
   "name": "python",
   "nbconvert_exporter": "python",
   "pygments_lexer": "ipython3",
   "version": "3.8.2"
  },
  "latex_envs": {
   "LaTeX_envs_menu_present": true,
   "autoclose": false,
   "autocomplete": true,
   "bibliofile": "biblio.bib",
   "cite_by": "apalike",
   "current_citInitial": 1,
   "eqLabelWithNumbers": true,
   "eqNumInitial": 1,
   "hotkeys": {
    "equation": "Ctrl-E",
    "itemize": "Ctrl-I"
   },
   "labels_anchors": false,
   "latex_user_defs": false,
   "report_style_numbering": false,
   "user_envs_cfg": false
  }
 },
 "nbformat": 4,
 "nbformat_minor": 4
}
