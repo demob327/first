{
 "cells": [
  {
   "cell_type": "code",
   "execution_count": 4,
   "metadata": {},
   "outputs": [
    {
     "name": "stderr",
     "output_type": "stream",
     "text": [
      "  ERROR: Command errored out with exit status 1:\n",
      "   command: 'c:\\users\\administrateur\\appdata\\local\\programs\\python\\python38-32\\python.exe' 'c:\\users\\administrateur\\appdata\\local\\programs\\python\\python38-32\\lib\\site-packages\\pip\\_vendor\\pep517\\_in_process.py' build_wheel 'C:\\Users\\ADMINI~1\\AppData\\Local\\Temp\\tmp31zgutgh'\n",
      "       cwd: C:\\Users\\Administrateur\\AppData\\Local\\Temp\\pip-install-m0spkn2p\\bt_26457bbe00e64ca6a3c3cba39dbfe8c6\n",
      "  Complete output (13 lines):\n",
      "  running bdist_wheel\n",
      "  running build\n",
      "  running build_py\n",
      "  creating build\n",
      "  creating build\\lib.win32-3.8\n",
      "  creating build\\lib.win32-3.8\\bt\n",
      "  copying bt\\algos.py -> build\\lib.win32-3.8\\bt\n",
      "  copying bt\\backtest.py -> build\\lib.win32-3.8\\bt\n",
      "  copying bt\\core.py -> build\\lib.win32-3.8\\bt\n",
      "  copying bt\\__init__.py -> build\\lib.win32-3.8\\bt\n",
      "  running build_ext\n",
      "  building 'bt.core' extension\n",
      "  error: Microsoft Visual C++ 14.0 or greater is required. Get it with \"Microsoft C++ Build Tools\": https://visualstudio.microsoft.com/visual-cpp-build-tools/\n",
      "  ----------------------------------------\n",
      "  ERROR: Failed building wheel for bt\n",
      "ERROR: Could not build wheels for bt which use PEP 517 and cannot be installed directly\n"
     ]
    },
    {
     "name": "stdout",
     "output_type": "stream",
     "text": [
      "Collecting bt\n",
      "  Using cached bt-0.2.8.tar.gz (2.8 MB)\n",
      "  Installing build dependencies: started\n",
      "  Installing build dependencies: finished with status 'done'\n",
      "  Getting requirements to build wheel: started\n",
      "  Getting requirements to build wheel: finished with status 'done'\n",
      "    Preparing wheel metadata: started\n",
      "    Preparing wheel metadata: finished with status 'done'\n",
      "Collecting pyprind>=2.10\n",
      "  Using cached PyPrind-2.11.2-py3-none-any.whl (8.6 kB)\n",
      "Collecting ffn>=0.3.5\n",
      "  Using cached ffn-0.3.5-py3-none-any.whl (25 kB)\n",
      "Requirement already satisfied: decorator>=4 in c:\\users\\administrateur\\appdata\\local\\programs\\python\\python38-32\\lib\\site-packages (from ffn>=0.3.5->bt) (4.4.2)\n",
      "Requirement already satisfied: scikit-learn>=0.15 in c:\\users\\administrateur\\appdata\\local\\programs\\python\\python38-32\\lib\\site-packages (from ffn>=0.3.5->bt) (0.22.2.post1)\n",
      "Requirement already satisfied: matplotlib>=1 in c:\\users\\administrateur\\appdata\\local\\programs\\python\\python38-32\\lib\\site-packages (from ffn>=0.3.5->bt) (3.3.2)\n",
      "Requirement already satisfied: pandas>=0.19 in c:\\users\\administrateur\\appdata\\local\\programs\\python\\python38-32\\lib\\site-packages (from ffn>=0.3.5->bt) (1.1.2)\n",
      "Requirement already satisfied: scipy>=0.15 in c:\\users\\administrateur\\appdata\\local\\programs\\python\\python38-32\\lib\\site-packages (from ffn>=0.3.5->bt) (1.4.1)\n",
      "Requirement already satisfied: numpy>=1.5 in c:\\users\\administrateur\\appdata\\local\\programs\\python\\python38-32\\lib\\site-packages (from ffn>=0.3.5->bt) (1.18.1)\n",
      "Collecting tabulate>=0.7.5\n",
      "  Using cached tabulate-0.8.9-py3-none-any.whl (25 kB)\n",
      "Requirement already satisfied: pandas-datareader>=0.2 in c:\\users\\administrateur\\appdata\\local\\programs\\python\\python38-32\\lib\\site-packages (from ffn>=0.3.5->bt) (0.9.0)\n",
      "Requirement already satisfied: future>=0.15 in c:\\users\\administrateur\\appdata\\local\\programs\\python\\python38-32\\lib\\site-packages (from ffn>=0.3.5->bt) (0.18.2)\n",
      "Requirement already satisfied: certifi>=2020.06.20 in c:\\users\\administrateur\\appdata\\local\\programs\\python\\python38-32\\lib\\site-packages (from matplotlib>=1->ffn>=0.3.5->bt) (2020.6.20)\n",
      "Requirement already satisfied: python-dateutil>=2.1 in c:\\users\\administrateur\\appdata\\local\\programs\\python\\python38-32\\lib\\site-packages (from matplotlib>=1->ffn>=0.3.5->bt) (2.8.1)\n",
      "Requirement already satisfied: kiwisolver>=1.0.1 in c:\\users\\administrateur\\appdata\\local\\programs\\python\\python38-32\\lib\\site-packages (from matplotlib>=1->ffn>=0.3.5->bt) (1.1.0)\n",
      "Requirement already satisfied: pyparsing!=2.0.4,!=2.1.2,!=2.1.6,>=2.0.3 in c:\\users\\administrateur\\appdata\\roaming\\python\\python38\\site-packages (from matplotlib>=1->ffn>=0.3.5->bt) (2.4.7)\n",
      "Requirement already satisfied: cycler>=0.10 in c:\\users\\administrateur\\appdata\\local\\programs\\python\\python38-32\\lib\\site-packages (from matplotlib>=1->ffn>=0.3.5->bt) (0.10.0)\n",
      "Requirement already satisfied: pillow>=6.2.0 in c:\\users\\administrateur\\appdata\\local\\programs\\python\\python38-32\\lib\\site-packages (from matplotlib>=1->ffn>=0.3.5->bt) (7.0.0)\n",
      "Requirement already satisfied: six in c:\\users\\administrateur\\appdata\\local\\programs\\python\\python38-32\\lib\\site-packages (from cycler>=0.10->matplotlib>=1->ffn>=0.3.5->bt) (1.15.0)\n",
      "Requirement already satisfied: setuptools in c:\\users\\administrateur\\appdata\\local\\programs\\python\\python38-32\\lib\\site-packages (from kiwisolver>=1.0.1->matplotlib>=1->ffn>=0.3.5->bt) (52.0.0)\n",
      "Requirement already satisfied: pytz>=2017.2 in c:\\users\\administrateur\\appdata\\local\\programs\\python\\python38-32\\lib\\site-packages (from pandas>=0.19->ffn>=0.3.5->bt) (2019.3)\n",
      "Requirement already satisfied: lxml in c:\\users\\administrateur\\appdata\\local\\programs\\python\\python38-32\\lib\\site-packages (from pandas-datareader>=0.2->ffn>=0.3.5->bt) (4.5.2)\n",
      "Requirement already satisfied: requests>=2.19.0 in c:\\users\\administrateur\\appdata\\local\\programs\\python\\python38-32\\lib\\site-packages (from pandas-datareader>=0.2->ffn>=0.3.5->bt) (2.23.0)\n",
      "Requirement already satisfied: chardet<4,>=3.0.2 in c:\\users\\administrateur\\appdata\\local\\programs\\python\\python38-32\\lib\\site-packages (from requests>=2.19.0->pandas-datareader>=0.2->ffn>=0.3.5->bt) (3.0.4)\n",
      "Requirement already satisfied: urllib3!=1.25.0,!=1.25.1,<1.26,>=1.21.1 in c:\\users\\administrateur\\appdata\\local\\programs\\python\\python38-32\\lib\\site-packages (from requests>=2.19.0->pandas-datareader>=0.2->ffn>=0.3.5->bt) (1.25.8)\n",
      "Requirement already satisfied: idna<3,>=2.5 in c:\\users\\administrateur\\appdata\\local\\programs\\python\\python38-32\\lib\\site-packages (from requests>=2.19.0->pandas-datareader>=0.2->ffn>=0.3.5->bt) (2.9)\n",
      "Requirement already satisfied: joblib>=0.11 in c:\\users\\administrateur\\appdata\\local\\programs\\python\\python38-32\\lib\\site-packages (from scikit-learn>=0.15->ffn>=0.3.5->bt) (0.14.1)\n",
      "Building wheels for collected packages: bt\n",
      "  Building wheel for bt (PEP 517): started\n",
      "  Building wheel for bt (PEP 517): finished with status 'error'\n",
      "Failed to build bt\n"
     ]
    }
   ],
   "source": [
    "! pip install bt"
   ]
  },
  {
   "cell_type": "code",
   "execution_count": 5,
   "metadata": {},
   "outputs": [
    {
     "ename": "ModuleNotFoundError",
     "evalue": "No module named 'bt'",
     "output_type": "error",
     "traceback": [
      "\u001b[1;31m---------------------------------------------------------------------------\u001b[0m",
      "\u001b[1;31mModuleNotFoundError\u001b[0m                       Traceback (most recent call last)",
      "\u001b[1;32m<ipython-input-5-49309fab8778>\u001b[0m in \u001b[0;36m<module>\u001b[1;34m\u001b[0m\n\u001b[1;32m----> 1\u001b[1;33m \u001b[1;32mimport\u001b[0m \u001b[0mbt\u001b[0m\u001b[1;33m\u001b[0m\u001b[1;33m\u001b[0m\u001b[0m\n\u001b[0m\u001b[0;32m      2\u001b[0m \u001b[1;32mimport\u001b[0m \u001b[0mmatplotlib\u001b[0m\u001b[1;33m.\u001b[0m\u001b[0mpyplot\u001b[0m \u001b[1;32mas\u001b[0m \u001b[0mplt\u001b[0m\u001b[1;33m\u001b[0m\u001b[1;33m\u001b[0m\u001b[0m\n",
      "\u001b[1;31mModuleNotFoundError\u001b[0m: No module named 'bt'"
     ]
    }
   ],
   "source": [
    "import bt\n",
    "import matplotlib.pyplot as plt"
   ]
  },
  {
   "cell_type": "code",
   "execution_count": null,
   "metadata": {},
   "outputs": [],
   "source": []
  }
 ],
 "metadata": {
  "finalized": {
   "timestamp": 1617965287070,
   "trusted": true
  },
  "hide_input": false,
  "kernelspec": {
   "display_name": "Python 3",
   "language": "python",
   "name": "python3"
  },
  "language_info": {
   "codemirror_mode": {
    "name": "ipython",
    "version": 3
   },
   "file_extension": ".py",
   "mimetype": "text/x-python",
   "name": "python",
   "nbconvert_exporter": "python",
   "pygments_lexer": "ipython3",
   "version": "3.8.2"
  },
  "latex_envs": {
   "LaTeX_envs_menu_present": true,
   "autoclose": false,
   "autocomplete": true,
   "bibliofile": "biblio.bib",
   "cite_by": "apalike",
   "current_citInitial": 1,
   "eqLabelWithNumbers": true,
   "eqNumInitial": 1,
   "hotkeys": {
    "equation": "Ctrl-E",
    "itemize": "Ctrl-I"
   },
   "labels_anchors": false,
   "latex_user_defs": false,
   "report_style_numbering": false,
   "user_envs_cfg": false
  }
 },
 "nbformat": 4,
 "nbformat_minor": 4
}
