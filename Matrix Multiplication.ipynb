{
 "cells": [
  {
   "attachments": {
    "image.png": {
     "image/png": "[encoded data removed]"
    }
   },
   "cell_type": "markdown",
   "metadata": {},
   "source": [
    "Matrix Multiplication\n",
    "To be able to multiplicate matrices, their sizes have to be compatible, the number of rows of the first matrix has to match the number of columns of the second matrix.\n",
    "We will run all the examples on the same two 2 by 2 matrixes:\n",
    "![image.png](attachment:image.png)\n",
    "\n",
    "Dot product\n",
    "The first way to multiplicate them is by using the dot product, that is, multiplicate every row per every column and the index that matches between the two vectors is the position of the result, let’s calculate C = A B.\n",
    "Let’s explain how to calculate c11 and c12,\n",
    "![image.png](attachment:image.png)\n",
    "\n",
    "After calculating all the dot products, using the next mathematical expression, we get the C matrix.\n",
    "![image.png](attachment:image.png)\n",
    "\n",
    "Vector multiplication\n",
    "As we’ve seen in the dot product, we are multiplying rows per columns, the dot product can be upgraded by using vector products, that have fastest computing times, so let’s think about matrix multiplications as vectors, where:\n",
    "![image.png](attachment:image.png)\n",
    "\n",
    "Block multiplication\n",
    "This last strategy for multiplication is not intuitive, but it ends up doing the same multiplications and getting the same results, the strategy here is to divide the matrixes into compatible submatrices for the multiplication, for example, if you have two 10 by 10 matrix, you can divide it as 4 5 by 5 matrices and do the following:\n",
    "![image.png](attachment:image.png)\n",
    "\n",
    "Matrix inversion\n",
    "To be reversible, a matrix has to have the same number of rows and columns and there should be no linear combination in their rows or columns.\n",
    "To invert a matrix we use the following condition, which says that a matrix by the inverse of it we get the identity matrix. The identity matrix is the one that’s composed of 1 at the diagonal.\n",
    "The easiest way to check if a matrix has no linear combinations and is invertible is calculate her determinant, if it’s 0, it’s not invertible.\n",
    "To calculate the inverse, the first idea becomes use the property:\n",
    "![image.png](attachment:image.png)\n",
    "\n",
    "So, we can obtain the inverse solving the equation system that we get when we multiplicate the matrices:\n",
    "![image.png](attachment:image.png)\n",
    "\n",
    "Instead of using this method, we can get the inverse using a better strategy, following the next steps:\n",
    "Create an augmented matrix adding the identity matrix a the right of A:\n",
    "![image.png](attachment:image.png)\n",
    "\n",
    "Use linear combinations to get the identity matrix at the left and the resulting right matrix will be the inverse of A:\n",
    "![image.png](attachment:image.png)\n",
    "\n",
    "So, the inverse is:\n",
    "![image.png](attachment:image.png)\n",
    "\n",
    "\n"
   ]
  },
  {
   "cell_type": "code",
   "execution_count": null,
   "metadata": {},
   "outputs": [],
   "source": []
  }
 ],
 "metadata": {
  "kernelspec": {
   "display_name": "Python 3",
   "language": "python",
   "name": "python3"
  },
  "language_info": {
   "codemirror_mode": {
    "name": "ipython",
    "version": 3
   },
   "file_extension": ".py",
   "mimetype": "text/x-python",
   "name": "python",
   "nbconvert_exporter": "python",
   "pygments_lexer": "ipython3",
   "version": "3.8.2"
  }
 },
 "nbformat": 4,
 "nbformat_minor": 4
}
