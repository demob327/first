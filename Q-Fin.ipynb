{
 "cells": [
  {
   "cell_type": "code",
   "execution_count": 1,
   "metadata": {},
   "outputs": [],
   "source": [
    "import qfin"
   ]
  },
  {
   "cell_type": "code",
   "execution_count": 2,
   "metadata": {},
   "outputs": [],
   "source": [
    "from qfin.options import BlackScholesCall\n",
    "from qfin.options import BlackScholesPut\n",
    "# 100 - initial underlying asset price\n",
    "# .3 - asset underlying volatility\n",
    "# 100 - option strike price\n",
    "# 1 - time to maturity (annum)\n",
    "# .01 - risk free rate of interest\n",
    "euro_call = BlackScholesCall(100, .3, 100, 1, .01)\n",
    "euro_put = BlackScholesPut(100, .3, 100, 1, .01)"
   ]
  },
  {
   "cell_type": "code",
   "execution_count": 3,
   "metadata": {},
   "outputs": [
    {
     "name": "stdout",
     "output_type": "stream",
     "text": [
      "Call price:  12.361726191532611\n",
      "Put price:  11.366709566449416\n"
     ]
    }
   ],
   "source": [
    "print('Call price: ', euro_call.price)\n",
    "print('Put price: ', euro_put.price)"
   ]
  },
  {
   "cell_type": "markdown",
   "metadata": {},
   "source": [
    "# Option Greeks\n",
    "## First-order and some second-order partial derivatives of the Black-Scholes pricing model are available.\n",
    "\n",
    "### Delta\n",
    "#### First-order partial derivative with respect to the underlying asset price."
   ]
  },
  {
   "cell_type": "code",
   "execution_count": 4,
   "metadata": {},
   "outputs": [
    {
     "name": "stdout",
     "output_type": "stream",
     "text": [
      "Call delta:  0.5596176923702425\n",
      "Put delta:  -0.4403823076297575\n"
     ]
    }
   ],
   "source": [
    "print('Call delta: ', euro_call.delta)\n",
    "print('Put delta: ', euro_put.delta)"
   ]
  },
  {
   "cell_type": "markdown",
   "metadata": {},
   "source": [
    "## Gamma\n",
    "#### Second-order partial derivative with respect to the underlying asset price."
   ]
  },
  {
   "cell_type": "code",
   "execution_count": 5,
   "metadata": {},
   "outputs": [
    {
     "name": "stdout",
     "output_type": "stream",
     "text": [
      "Call gamma:  0.018653923079008084\n",
      "Put gamma:  0.018653923079008084\n"
     ]
    }
   ],
   "source": [
    "print('Call gamma: ', euro_call.gamma)\n",
    "print('Put gamma: ', euro_put.gamma)"
   ]
  },
  {
   "cell_type": "markdown",
   "metadata": {},
   "source": [
    "## Vega\n",
    "#### First-order partial derivative with respect to the underlying asset volatility."
   ]
  },
  {
   "cell_type": "code",
   "execution_count": 6,
   "metadata": {},
   "outputs": [
    {
     "name": "stdout",
     "output_type": "stream",
     "text": [
      "Call vega:  39.447933090788894\n",
      "Put vega:  39.447933090788894\n"
     ]
    }
   ],
   "source": [
    "print('Call vega: ', euro_call.vega)\n",
    "print('Put vega: ', euro_put.vega)"
   ]
  },
  {
   "cell_type": "markdown",
   "metadata": {},
   "source": [
    "## Theta\n",
    "#### First-order partial derivative with respect to the time to maturity."
   ]
  },
  {
   "cell_type": "code",
   "execution_count": 7,
   "metadata": {},
   "outputs": [
    {
     "name": "stdout",
     "output_type": "stream",
     "text": [
      "Call theta:  -6.35319039407325\n",
      "Put theta:  -5.363140560324083\n"
     ]
    }
   ],
   "source": [
    "print('Call theta: ', euro_call.theta)\n",
    "print('Put theta: ', euro_put.theta)"
   ]
  },
  {
   "cell_type": "markdown",
   "metadata": {},
   "source": [
    "# Stochastic Processes\n",
    "### Simulating asset paths is available using common stochastic processes.\n",
    "\n",
    "## Geometric Brownian Motion\n",
    "#### Standard model for implementing geometric Brownian motion."
   ]
  },
  {
   "cell_type": "code",
   "execution_count": 8,
   "metadata": {},
   "outputs": [],
   "source": [
    "from qfin.simulations import GeometricBrownianMotion\n",
    "# 100 - initial underlying asset price\n",
    "# 0 - underlying asset drift (mu)\n",
    "# .3 - underlying asset volatility\n",
    "# 1/52 - time steps (dt)\n",
    "# 1 - time to maturity (annum)\n",
    "gbm = GeometricBrownianMotion(100, 0, .3, 1/52, 1)"
   ]
  },
  {
   "cell_type": "code",
   "execution_count": 9,
   "metadata": {},
   "outputs": [
    {
     "name": "stdout",
     "output_type": "stream",
     "text": [
      "[99.03249213016318, 95.84386687697794, 94.52019440788582, 96.26203596619472, 100.55089244807353, 102.52816081046721, 101.53198873263369, 96.52172322114228, 100.25278459868682, 93.28031581569286, 94.19042025681152, 86.7508416935852, 83.61212900820438, 79.7308613866816, 74.86520073603093, 73.34080041699191, 74.69386657409959, 77.2537286270396, 77.63323318169773, 76.92080605221696, 82.11386721095364, 83.9362678369752, 82.69241500887166, 80.08607397026744, 82.60403726320436, 85.36100384378888, 85.39156613087977, 80.59494920461213, 79.69139617523065, 77.09879414725796, 75.13274197230837, 74.82781961042096, 75.47729608779923, 73.89874045370347, 76.62445827503491, 78.74512874555984, 81.55912489423413, 75.7096175620693, 73.42431846748114, 72.90628886342569, 74.18845325288734, 73.26807567959261, 73.82027785435874, 73.71624883621409, 75.22418700368985, 69.2829709966747, 71.02864954556401, 71.12653930196208, 76.61666220567305, 74.62877668675993, 81.41979136981669, 80.52639656575252]\n"
     ]
    }
   ],
   "source": [
    "print(gbm.simulated_path)"
   ]
  },
  {
   "cell_type": "markdown",
   "metadata": {},
   "source": [
    "## Stochastic Variance Process\n",
    "#### Stochastic volatility model based on Heston's paper (1993)"
   ]
  },
  {
   "cell_type": "code",
   "execution_count": 11,
   "metadata": {},
   "outputs": [],
   "source": [
    "from qfin.simulations import StochasticVarianceModel\n",
    "# 100 - initial underlying asset price\n",
    "# 0 - underlying asset drift (mu)\n",
    "# .01 - risk free rate of interest\n",
    "# .05 - continuous dividend\n",
    "# 2 - rate in which variance reverts to the implied long run variance\n",
    "# .25 - implied long run variance as time tends to infinity\n",
    "# -.7 - correlation of motion generated\n",
    "# .3 - Variance's volatility\n",
    "# 1/52 - time steps (dt)\n",
    "# 1 - time to maturity (annum)\n",
    "svm = StochasticVarianceModel(100, 0, .01, .05, 2, .25, -.7, .3, .09, 1/52, 1)"
   ]
  },
  {
   "cell_type": "code",
   "execution_count": 12,
   "metadata": {},
   "outputs": [
    {
     "name": "stdout",
     "output_type": "stream",
     "text": [
      "[102.61920945047322, 99.80782038660267, 100.34243622680818, 108.87293809372927, 110.67925316049445, 106.81051446945139, 108.95131369359191, 114.26625578714925, 126.42496222034966, 128.22827499382092, 132.29530255188772, 132.8815152760541, 127.03879134109941, 120.79673127701986, 125.78067348064833, 135.444162152698, 134.60321848423231, 135.5080237166922, 129.01485690412815, 133.90476008274808, 130.9788435916493, 130.73860188334942, 127.41003429558116, 131.36112565178954, 141.06256981244297, 149.33016239390284, 158.73433421545846, 155.63947160171253, 150.31111687602285, 137.22347996504158, 140.8939228869238, 145.17223645003648, 166.55799093164566, 179.35813544104275, 184.74774955667144, 170.38124850305547, 176.14402917921947, 166.30536768166743, 155.36664707336908, 159.12871222055674, 167.87306927639995, 163.43705906107024, 168.81760040452633, 181.25374146160578, 181.676948766609, 166.69145971382534, 177.53800466188636, 176.8204819394563, 183.19973039574353, 190.14880122852256, 197.77701972906104, 197.38657667780816]\n"
     ]
    }
   ],
   "source": [
    "print(svm.simulated_path)"
   ]
  },
  {
   "cell_type": "markdown",
   "metadata": {},
   "source": [
    "## Simulation Pricing\n",
    "### Exotic Options\n",
    "#### Simulation pricing for exotic options is available under the assumptions associated with the respective stochastic processes. Geometric Brownian motion is the base underlying stochastic process used in each Monte Carlo simulation. However, should additional parameters be provided, the appropriate stochastic process will be used to generate each sample path.\n",
    "\n",
    "## Vanilla Options"
   ]
  },
  {
   "cell_type": "code",
   "execution_count": 13,
   "metadata": {},
   "outputs": [],
   "source": [
    "from qfin.simulations import MonteCarloCall\n",
    "from qfin.simulations import MonteCarloPut\n",
    "# 100 - strike price\n",
    "# 1000 - number of simulated price paths\n",
    "# .01 - risk free rate of interest\n",
    "# 100 - initial underlying asset price\n",
    "# 0 - underlying asset drift (mu)\n",
    "# .3 - underlying asset volatility\n",
    "# 1/52 - time steps (dt)\n",
    "# 1 - time to maturity (annum)\n",
    "call_option = MonteCarloCall(100, 1000, .01, 100, 0, .3, 1/52, 1)\n",
    "# These additional parameters will generate a Monte Carlo price based on a stochastic volatility process\n",
    "# 2 - rate in which variance reverts to the implied long run variance\n",
    "# .25 - implied long run variance as time tends to infinity\n",
    "# -.5 - correlation of motion generated\n",
    "# .02 - continuous dividend\n",
    "# .3 - Variance's volatility\n",
    "put_option = MonteCarloPut(100, 1000, .01, 100, 0, .3, 1/52, 1, 2, .25, -.5, .02, .3)"
   ]
  },
  {
   "cell_type": "code",
   "execution_count": 14,
   "metadata": {},
   "outputs": [
    {
     "name": "stdout",
     "output_type": "stream",
     "text": [
      "12.253326365596736\n",
      "24.152634863210295\n"
     ]
    }
   ],
   "source": [
    "print(call_option.price)\n",
    "print(put_option.price)"
   ]
  },
  {
   "cell_type": "markdown",
   "metadata": {},
   "source": [
    "## Binary Options"
   ]
  },
  {
   "cell_type": "code",
   "execution_count": 19,
   "metadata": {},
   "outputs": [],
   "source": [
    "from qfin.simulations import MonteCarloBinaryCall\n",
    "from qfin.simulations import MonteCarloBinaryPut\n",
    "# 100 - strike price\n",
    "# 50 - binary option payout\n",
    "# 1000 - number of simulated price paths\n",
    "# .01 - risk free rate of interest\n",
    "# 100 - initial underlying asset price\n",
    "# 0 - underlying asset drift (mu)\n",
    "# .3 - underlying asset volatility \n",
    "# 1/52 - time steps (dt)\n",
    "# 1 - time to maturity (annum)\n",
    "binary_call = MonteCarloBinaryCall(100, 50, 1000, .01, 100, 0, .3, 1/52, 1)\n",
    "binary_put = MonteCarloBinaryPut(100, 50, 1000, .01, 100, 0, .3, 1/52, 1)"
   ]
  },
  {
   "cell_type": "code",
   "execution_count": 20,
   "metadata": {},
   "outputs": [
    {
     "name": "stdout",
     "output_type": "stream",
     "text": [
      "455.4229235246172\n",
      "475.2239201996007\n"
     ]
    }
   ],
   "source": [
    "print(binary_call.price)\n",
    "print(binary_put.price)"
   ]
  },
  {
   "cell_type": "markdown",
   "metadata": {},
   "source": [
    "## Barrier Options"
   ]
  },
  {
   "cell_type": "code",
   "execution_count": 17,
   "metadata": {},
   "outputs": [],
   "source": [
    "from qfin.simulations import MonteCarloBarrierCall\n",
    "from qfin.simulations import MonteCarloBarrierPut\n",
    "# 100 - strike price\n",
    "# 50 - binary option payout\n",
    "# 1000 - number of simulated price paths\n",
    "# .01 - risk free rate of interest\n",
    "# 100 - initial underlying asset price\n",
    "# 0 - underlying asset drift (mu)\n",
    "# .3 - underlying asset volatility\n",
    "# 1/52 - time steps (dt)\n",
    "# 1 - time to maturity (annum)\n",
    "# True/False - Barrier is Up or Down\n",
    "# True/False - Barrier is In or Out\n",
    "barrier_call = MonteCarloBarrierCall(100, 1000, 150, .01, 100, 0, .3, 1/52, 1, up=True, out=True)\n",
    "barrier_put = MonteCarloBarrierCall(100, 1000, 95, .01, 100, 0, .3, 1/52, 1, up=False, out=False)"
   ]
  },
  {
   "cell_type": "code",
   "execution_count": 21,
   "metadata": {},
   "outputs": [
    {
     "name": "stdout",
     "output_type": "stream",
     "text": [
      "5.298922353172745\n",
      "5.6889018720287545\n"
     ]
    }
   ],
   "source": [
    "print(barrier_call.price)\n",
    "print(barrier_put.price)"
   ]
  },
  {
   "cell_type": "code",
   "execution_count": null,
   "metadata": {},
   "outputs": [],
   "source": []
  }
 ],
 "metadata": {
  "finalized": {
   "timestamp": 1619696663507,
   "trusted": true
  },
  "hide_input": false,
  "kernelspec": {
   "display_name": "Python 3",
   "language": "python",
   "name": "python3"
  },
  "language_info": {
   "codemirror_mode": {
    "name": "ipython",
    "version": 3
   },
   "file_extension": ".py",
   "mimetype": "text/x-python",
   "name": "python",
   "nbconvert_exporter": "python",
   "pygments_lexer": "ipython3",
   "version": "3.8.2"
  },
  "latex_envs": {
   "LaTeX_envs_menu_present": true,
   "autoclose": false,
   "autocomplete": true,
   "bibliofile": "biblio.bib",
   "cite_by": "apalike",
   "current_citInitial": 1,
   "eqLabelWithNumbers": true,
   "eqNumInitial": 1,
   "hotkeys": {
    "equation": "Ctrl-E",
    "itemize": "Ctrl-I"
   },
   "labels_anchors": false,
   "latex_user_defs": false,
   "report_style_numbering": false,
   "user_envs_cfg": false
  }
 },
 "nbformat": 4,
 "nbformat_minor": 4
}
