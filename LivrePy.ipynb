{
 "cells": [
  {
   "cell_type": "code",
   "execution_count": 2,
   "metadata": {},
   "outputs": [
    {
     "ename": "ModuleNotFoundError",
     "evalue": "No module named 'tensorflow'",
     "output_type": "error",
     "traceback": [
      "\u001b[1;31m---------------------------------------------------------------------------\u001b[0m",
      "\u001b[1;31mModuleNotFoundError\u001b[0m                       Traceback (most recent call last)",
      "\u001b[1;32m<ipython-input-2-0831fa394ed3>\u001b[0m in \u001b[0;36m<module>\u001b[1;34m\u001b[0m\n\u001b[0;32m      5\u001b[0m \u001b[1;32mimport\u001b[0m \u001b[0mnumpy\u001b[0m \u001b[1;32mas\u001b[0m \u001b[0mnp\u001b[0m\u001b[1;33m\u001b[0m\u001b[1;33m\u001b[0m\u001b[0m\n\u001b[0;32m      6\u001b[0m \u001b[1;33m\u001b[0m\u001b[0m\n\u001b[1;32m----> 7\u001b[1;33m \u001b[1;32mimport\u001b[0m \u001b[0mtensorflow\u001b[0m \u001b[1;32mas\u001b[0m \u001b[0mtf\u001b[0m\u001b[1;33m\u001b[0m\u001b[1;33m\u001b[0m\u001b[0m\n\u001b[0m\u001b[0;32m      8\u001b[0m \u001b[1;32mimport\u001b[0m \u001b[0mtensorflow_hub\u001b[0m \u001b[1;32mas\u001b[0m \u001b[0mhub\u001b[0m\u001b[1;33m\u001b[0m\u001b[1;33m\u001b[0m\u001b[0m\n\u001b[0;32m      9\u001b[0m \u001b[1;33m\u001b[0m\u001b[0m\n",
      "\u001b[1;31mModuleNotFoundError\u001b[0m: No module named 'tensorflow'"
     ]
    }
   ],
   "source": [
    "import itertools\n",
    "import os\n",
    "\n",
    "import matplotlib.pylab as plt\n",
    "import numpy as np\n",
    "\n",
    "import tensorflow as tf\n",
    "import tensorflow_hub as hub\n",
    "\n",
    "print(\"TF version:\", tf.__version__)\n",
    "print(\"Hub version:\", hub.__version__)\n",
    "print(\"GPU is\", \"available\" if tf.test.is_gpu_available() else \"NOT AVAILABLE\")"
   ]
  },
  {
   "cell_type": "code",
   "execution_count": null,
   "metadata": {},
   "outputs": [],
   "source": [
    "if embranchement == \"vertébrés\": # 1\n",
    "    if classe == \"mammifères\": # 2\n",
    "        if ordre == \"carnivores\": # 3\n",
    "            if famille == \"félins\": # 4\n",
    "                print(\"c'est peut-être un chat\") # 5\n",
    "            print(\"c'est en tous cas un mammifère\") # 6\n",
    "        elif classe == 'oiseaux': # 7\n",
    "            print(\"c'est peut-être un canari\") # 8\n",
    "        print(\"la classification des animaux est complexe\")"
   ]
  },
  {
   "cell_type": "code",
   "execution_count": 1,
   "metadata": {},
   "outputs": [
    {
     "name": "stdout",
     "output_type": "stream",
     "text": [
      "1\n",
      "2\n",
      "3\n",
      "4\n",
      "5\n",
      "6\n",
      "7\n"
     ]
    }
   ],
   "source": [
    " a = 0\n",
    "while (a < 7):\n",
    "    # (n'oubliez pas le double point !)\n",
    "    a = a + 1 # (n'oubliez pas l'indentation !)\n",
    "    print(a)\n"
   ]
  },
  {
   "cell_type": "code",
   "execution_count": 2,
   "metadata": {},
   "outputs": [
    {
     "name": "stdout",
     "output_type": "stream",
     "text": [
      "2 4 8\n",
      "3 9 27\n",
      "4 16 64\n",
      "5 25 125\n",
      "6 36 216\n",
      "7 49 343\n",
      "8 64 512\n",
      "9 81 729\n",
      "10 100 1000\n",
      "11 121 1331\n",
      "12 144 1728\n"
     ]
    }
   ],
   "source": [
    " a = 1\n",
    "while a < 12:\n",
    "    a = a +1\n",
    "    print(a , a**2 , a**3)"
   ]
  },
  {
   "cell_type": "code",
   "execution_count": 3,
   "metadata": {},
   "outputs": [
    {
     "name": "stdout",
     "output_type": "stream",
     "text": [
      "1\n",
      "2\n",
      "3\n",
      "5\n",
      "8\n",
      "13\n",
      "21\n",
      "34\n",
      "55\n",
      "89\n"
     ]
    }
   ],
   "source": [
    "a, b, c = 1, 1, 1\n",
    "while c < 11 :\n",
    "    print(b),\n",
    "    a, b, c = b, a+b, c+1\n"
   ]
  },
  {
   "cell_type": "code",
   "execution_count": 4,
   "metadata": {},
   "outputs": [
    {
     "name": "stdout",
     "output_type": "stream",
     "text": [
      "7\n",
      "14\n",
      "21\n",
      "28\n",
      "35\n",
      "42\n",
      "49\n",
      "56\n",
      "63\n",
      "70\n",
      "77\n",
      "84\n",
      "91\n",
      "98\n",
      "105\n",
      "112\n",
      "119\n",
      "126\n",
      "133\n"
     ]
    }
   ],
   "source": [
    "#  Ecrivez un programme qui affiche les 20 premiers termes de la table de multiplication par 7\n",
    "\n",
    "a = 1\n",
    "while a<20:\n",
    "    print(a*7),\n",
    "    a+=1"
   ]
  },
  {
   "cell_type": "markdown",
   "metadata": {},
   "source": [
    "Ecrivez un programme qui affiche une table de conversion de sommes d'argent exprimées en\n",
    "euros, en dollars canadiens. La progression des sommes de la table sera « géométrique »,\n",
    "comme dans l'exemple ci-dessous :\n",
    "1 euro(s) = 1.65 dollar(s)\n",
    "\n",
    "2 euro(s) = 3.30 dollar(s)\n",
    "\n",
    "4 euro(s) = 6.60 dollar(s)\n",
    "\n",
    "8 euro(s) = 13.20 dollar(s)\n",
    "\n",
    "etc. (S'arrêter à 16384 euros)"
   ]
  },
  {
   "cell_type": "code",
   "execution_count": 5,
   "metadata": {
    "scrolled": true
   },
   "outputs": [
    {
     "name": "stdout",
     "output_type": "stream",
     "text": [
      "1 euro =  1.65 dollar\n",
      "2 euro =  3.3 dollar\n",
      "4 euro =  13.2 dollar\n",
      "8 euro =  105.6 dollar\n",
      "16 euro =  1689.6 dollar\n",
      "32 euro =  54067.2 dollar\n"
     ]
    }
   ],
   "source": [
    "a = 1.65\n",
    "k = 1\n",
    "j = 1\n",
    "\n",
    "while k <= 16384 :\n",
    "    k = j * k\n",
    "    print(j,'euro = ', a*k ,'dollar')\n",
    "    j=2*j\n",
    "    #k+=1"
   ]
  },
  {
   "cell_type": "code",
   "execution_count": 6,
   "metadata": {},
   "outputs": [
    {
     "name": "stdout",
     "output_type": "stream",
     "text": [
      "3\n",
      "6\n",
      "9\n",
      "12\n",
      "15\n",
      "18\n",
      "21\n",
      "24\n",
      "27\n",
      "30\n",
      "33\n",
      "36\n"
     ]
    }
   ],
   "source": [
    "a=1\n",
    "for j in range(1,13):\n",
    "    \n",
    "    j = j*3\n",
    "    \n",
    "    print(j)\n",
    "    "
   ]
  },
  {
   "cell_type": "code",
   "execution_count": 7,
   "metadata": {},
   "outputs": [
    {
     "name": "stdout",
     "output_type": "stream",
     "text": [
      "le volume est égale à :  693 métre cube\n"
     ]
    }
   ],
   "source": [
    "l, h, p = 7, 11, 9\n",
    "print('le volume est égale à : ', l*h*p, 'métre cube')"
   ]
  },
  {
   "cell_type": "code",
   "execution_count": 8,
   "metadata": {},
   "outputs": [],
   "source": [
    "SEC = 33786061\n",
    "MIN = SEC / 60"
   ]
  },
  {
   "cell_type": "code",
   "execution_count": 9,
   "metadata": {},
   "outputs": [
    {
     "data": {
      "text/plain": [
       "563101.0166666667"
      ]
     },
     "execution_count": 9,
     "metadata": {},
     "output_type": "execute_result"
    }
   ],
   "source": [
    "MIN"
   ]
  },
  {
   "cell_type": "code",
   "execution_count": 10,
   "metadata": {},
   "outputs": [
    {
     "name": "stdout",
     "output_type": "stream",
     "text": [
      "1  :  1 <class 'int'>\n",
      "2  :  2 <class 'int'>\n",
      "3  :  3 <class 'int'>\n",
      "4  :  5 <class 'int'>\n",
      "5  :  8 <class 'int'>\n",
      "6  :  13 <class 'int'>\n",
      "7  :  21 <class 'int'>\n",
      "8  :  34 <class 'int'>\n",
      "9  :  55 <class 'int'>\n",
      "10  :  89 <class 'int'>\n",
      "11  :  144 <class 'int'>\n",
      "12  :  233 <class 'int'>\n",
      "13  :  377 <class 'int'>\n",
      "14  :  610 <class 'int'>\n",
      "15  :  987 <class 'int'>\n",
      "16  :  1597 <class 'int'>\n",
      "17  :  2584 <class 'int'>\n",
      "18  :  4181 <class 'int'>\n",
      "19  :  6765 <class 'int'>\n",
      "20  :  10946 <class 'int'>\n",
      "21  :  17711 <class 'int'>\n",
      "22  :  28657 <class 'int'>\n",
      "23  :  46368 <class 'int'>\n",
      "24  :  75025 <class 'int'>\n",
      "25  :  121393 <class 'int'>\n",
      "26  :  196418 <class 'int'>\n",
      "27  :  317811 <class 'int'>\n",
      "28  :  514229 <class 'int'>\n",
      "29  :  832040 <class 'int'>\n",
      "30  :  1346269 <class 'int'>\n",
      "31  :  2178309 <class 'int'>\n",
      "32  :  3524578 <class 'int'>\n",
      "33  :  5702887 <class 'int'>\n",
      "34  :  9227465 <class 'int'>\n",
      "35  :  14930352 <class 'int'>\n",
      "36  :  24157817 <class 'int'>\n",
      "37  :  39088169 <class 'int'>\n",
      "38  :  63245986 <class 'int'>\n",
      "39  :  102334155 <class 'int'>\n",
      "40  :  165580141 <class 'int'>\n",
      "41  :  267914296 <class 'int'>\n",
      "42  :  433494437 <class 'int'>\n",
      "43  :  701408733 <class 'int'>\n",
      "44  :  1134903170 <class 'int'>\n",
      "45  :  1836311903 <class 'int'>\n",
      "46  :  2971215073 <class 'int'>\n",
      "47  :  4807526976 <class 'int'>\n",
      "48  :  7778742049 <class 'int'>\n"
     ]
    }
   ],
   "source": [
    "a, b, c = 1, 1, 1\n",
    "while c<49:\n",
    "    print(c, \" : \", b, type(b))\n",
    "    a, b, c = b, a+b, c+1\n"
   ]
  },
  {
   "cell_type": "code",
   "execution_count": 11,
   "metadata": {},
   "outputs": [
    {
     "name": "stdout",
     "output_type": "stream",
     "text": [
      "1 :  2\n",
      "2 :  6\n",
      "3 :  12\n",
      "4 :  72\n",
      "5 :  864\n",
      "6 :  62208\n",
      "7 :  53747712\n",
      "8 :  3343537668096\n",
      "9 :  179707499645975396352\n",
      "10 :  600858794305667322270155425185792\n",
      "11 :  107978831564966913814384922944738457859243070439030784\n",
      "12 :  64880030544660752790736837369104977695001034284228042891827649456186234582611607420928\n",
      "13 :  7005669890111832002923764139957621692162454505797269791738369231327175488362123506443467340026896520469610300883250624900843742470237847552\n",
      "14 :  454528076456265799856362940482493512051682398707229461514016556556583986422276163358151238257824601969802061415367471160941735505142279479530059170096950422693079038247634055829175296831946224503933501754776033004012758368256\n"
     ]
    }
   ],
   "source": [
    "a, b, c = 3, 2, 1\n",
    "while c < 15:\n",
    "    print(c, \": \", b)\n",
    "    a, b, c = b, a*b, c+1"
   ]
  },
  {
   "cell_type": "code",
   "execution_count": 12,
   "metadata": {},
   "outputs": [
    {
     "name": "stdout",
     "output_type": "stream",
     "text": [
      "1 :  2.0\n",
      "2 :  2.0\n",
      "3 :  4.0\n",
      "4 :  8.0\n",
      "5 :  32.0\n",
      "6 :  256.0\n",
      "7 :  8192.0\n",
      "8 :  2097152.0\n",
      "9 :  17179869184.0\n",
      "10 :  3.602879701896397e+16\n",
      "11 :  6.189700196426902e+26\n",
      "12 :  2.2300745198530623e+43\n",
      "13 :  1.3803492693581128e+70\n",
      "14 :  3.078281734093319e+113\n"
     ]
    }
   ],
   "source": [
    "a, b, c = 1., 2., 1\n",
    "while c < 15:\n",
    "    print(c, \": \", b)\n",
    "    a, b, c = b, a*b, c+1"
   ]
  },
  {
   "cell_type": "code",
   "execution_count": 13,
   "metadata": {},
   "outputs": [
    {
     "name": "stdout",
     "output_type": "stream",
     "text": [
      "1 lundi\n",
      "2 mardi\n",
      "3 mercredi\n",
      "4 jeudi\n",
      "5 vendredi\n",
      "6 samedi\n",
      "7 dimanche\n",
      "8 lundi\n",
      "9 mardi\n",
      "10 mercredi\n",
      "11 jeudi\n",
      "12 vendredi\n",
      "13 samedi\n",
      "14 dimanche\n"
     ]
    }
   ],
   "source": [
    "jour = ['dimanche','lundi','mardi','mercredi','jeudi','vendredi','samedi']\n",
    "a, b = 0, 0\n",
    "while a<14:\n",
    "    a = a + 1\n",
    "    b = a % 7\n",
    "    print(a, jour[b])"
   ]
  },
  {
   "cell_type": "markdown",
   "metadata": {},
   "source": [
    "t1 = [31, 28, 31, 30, 31, 30, 31, 31, 30, 31, 30, 31]\n",
    "\n",
    "t2 = ['Janvier', 'Février', 'Mars', 'Avril', 'Mai', 'Juin',\n",
    "'Juillet', 'Août', 'Septembre', 'Octobre', 'Novembre', 'Décembre']\n",
    "\n",
    "Écrivez un petit programme qui crée une nouvelle liste t3. Celle-ci devra contenir tous les\n",
    "éléments des deux listes en les alternant, de telle manière que chaque nom de mois soit suivi\n",
    "du nombre de jours correspondant : ['Janvier',31,'Février',28,'Mars',31, etc...]."
   ]
  },
  {
   "cell_type": "code",
   "execution_count": 14,
   "metadata": {},
   "outputs": [],
   "source": [
    "t1 = [31, 28, 31, 30, 31, 30, 31, 31, 30, 31, 30, 31]\n",
    "t2 = ['Janvier', 'Février', 'Mars', 'Avril', 'Mai', 'Juin',\n",
    "'Juillet', 'Août', 'Septembre', 'Octobre', 'Novembre', 'Décembre']\n",
    "t3 = []\n",
    "i=1\n",
    "\n",
    "    "
   ]
  },
  {
   "cell_type": "code",
   "execution_count": 15,
   "metadata": {},
   "outputs": [
    {
     "name": "stdout",
     "output_type": "stream",
     "text": [
      "Janvier 31\n",
      "Février 28\n",
      "Mars 31\n",
      "Avril 30\n",
      "Mai 31\n",
      "Juin 30\n",
      "Juillet 31\n",
      "Août 31\n",
      "Septembre 30\n",
      "Octobre 31\n",
      "Novembre 30\n",
      "Décembre 31\n"
     ]
    }
   ],
   "source": [
    "for i in range(12):\n",
    "    #t3[i] = t2[i]+str(t1[i])\n",
    "    print(t2[i]+\" \"+str(t1[i])),\n",
    "    "
   ]
  },
  {
   "cell_type": "code",
   "execution_count": 16,
   "metadata": {},
   "outputs": [
    {
     "name": "stdout",
     "output_type": "stream",
     "text": [
      "le max de t est :  75\n"
     ]
    }
   ],
   "source": [
    "t = [32, 5, 12, 8, 3, 75, 2, 15]\n",
    "print('le max de t est : ', max(t))"
   ]
  },
  {
   "cell_type": "code",
   "execution_count": 17,
   "metadata": {},
   "outputs": [],
   "source": [
    "from turtle import *\n",
    "forward(120)\n",
    "left(90)\n",
    "color('red')\n",
    "forward(80)"
   ]
  },
  {
   "cell_type": "code",
   "execution_count": 18,
   "metadata": {},
   "outputs": [],
   "source": [
    "reset()\n",
    "a = 0\n",
    "while a <12:\n",
    "    a = a +1\n",
    "    forward(150)\n",
    "    left(150)"
   ]
  },
  {
   "cell_type": "code",
   "execution_count": 19,
   "metadata": {},
   "outputs": [
    {
     "name": "stdout",
     "output_type": "stream",
     "text": [
      "entrez une valeur numérique : 4\n",
      "la valeur de b est True :\n",
      "la condition b est vraie\n"
     ]
    }
   ],
   "source": [
    "a = input('entrez une valeur numérique : ')\n",
    "b = int(a) < 5\n",
    "    \n",
    "print('la valeur de b est', b, ':')\n",
    "if b:\n",
    "    print(\"la condition b est vraie\")\n",
    "else:\n",
    "    print(\"la condition b est fausse\")"
   ]
  },
  {
   "cell_type": "code",
   "execution_count": 21,
   "metadata": {},
   "outputs": [
    {
     "name": "stdout",
     "output_type": "stream",
     "text": [
      "Ce script recherche le plus grand de trois nombres\n",
      "Veuillez entrer trois nombres séparés par des virgules : \n",
      "1\n"
     ]
    },
    {
     "ename": "IndexError",
     "evalue": "list index out of range",
     "output_type": "error",
     "traceback": [
      "\u001b[1;31m---------------------------------------------------------------------------\u001b[0m",
      "\u001b[1;31mIndexError\u001b[0m                                Traceback (most recent call last)",
      "\u001b[1;32m<ipython-input-21-88ab512fbd17>\u001b[0m in \u001b[0;36m<module>\u001b[1;34m\u001b[0m\n\u001b[0;32m      7\u001b[0m \u001b[0mnn\u001b[0m \u001b[1;33m=\u001b[0m \u001b[0mlist\u001b[0m\u001b[1;33m(\u001b[0m\u001b[0minput\u001b[0m\u001b[1;33m(\u001b[0m\u001b[1;33m)\u001b[0m\u001b[1;33m)\u001b[0m\u001b[1;33m\u001b[0m\u001b[1;33m\u001b[0m\u001b[0m\n\u001b[0;32m      8\u001b[0m \u001b[0mmax\u001b[0m\u001b[1;33m,\u001b[0m \u001b[0mindex\u001b[0m \u001b[1;33m=\u001b[0m \u001b[0mnn\u001b[0m\u001b[1;33m[\u001b[0m\u001b[1;36m0\u001b[0m\u001b[1;33m]\u001b[0m\u001b[1;33m,\u001b[0m \u001b[1;34m'premier'\u001b[0m\u001b[1;33m\u001b[0m\u001b[1;33m\u001b[0m\u001b[0m\n\u001b[1;32m----> 9\u001b[1;33m \u001b[1;32mif\u001b[0m \u001b[0mnn\u001b[0m\u001b[1;33m[\u001b[0m\u001b[1;36m1\u001b[0m\u001b[1;33m]\u001b[0m \u001b[1;33m>\u001b[0m \u001b[0mmax\u001b[0m\u001b[1;33m:\u001b[0m \u001b[1;31m# ne pas omettre le double point !\u001b[0m\u001b[1;33m\u001b[0m\u001b[1;33m\u001b[0m\u001b[0m\n\u001b[0m\u001b[0;32m     10\u001b[0m     \u001b[0mmax\u001b[0m \u001b[1;33m=\u001b[0m \u001b[0mnn\u001b[0m\u001b[1;33m[\u001b[0m\u001b[1;36m1\u001b[0m\u001b[1;33m]\u001b[0m\u001b[1;33m\u001b[0m\u001b[1;33m\u001b[0m\u001b[0m\n\u001b[0;32m     11\u001b[0m \u001b[0mindex\u001b[0m \u001b[1;33m=\u001b[0m \u001b[1;34m'second'\u001b[0m\u001b[1;33m\u001b[0m\u001b[1;33m\u001b[0m\u001b[0m\n",
      "\u001b[1;31mIndexError\u001b[0m: list index out of range"
     ]
    }
   ],
   "source": [
    "# Utilisation d'une liste et de branchements conditionnels\n",
    "print(\"Ce script recherche le plus grand de trois nombres\")\n",
    "print('Veuillez entrer trois nombres séparés par des virgules : ')\n",
    "# Note : la fonction list() convertit en liste la séquence de données qu'on\n",
    "# lui fournit en argument. L'instruction ci-dessous convertira donc les\n",
    "# données fournies par l'utilisateur en une liste nn :\n",
    "nn = list(input())\n",
    "max, index = nn[0], 'premier'\n",
    "if nn[1] > max: # ne pas omettre le double point !\n",
    "    max = nn[1]\n",
    "index = 'second'\n",
    "if nn[2] > max:\n",
    "    max = nn[2]\n",
    "index = 'troisième'\n",
    "print(\"Le plus grand de ces nombres est\", max)\n",
    "print (\"Ce nombre est le\", index, \"de votre liste.\")"
   ]
  },
  {
   "cell_type": "code",
   "execution_count": null,
   "metadata": {},
   "outputs": [
    {
     "name": "stdout",
     "output_type": "stream",
     "text": [
      "Choisissez un nombre de 1 à 3 (ou zéro pour terminer)\n",
      "2\n",
      "Un nombre entre UN et TROIS, s.v.p.\n",
      "Choisissez un nombre de 1 à 3 (ou zéro pour terminer) \n",
      "3\n",
      "Un nombre entre UN et TROIS, s.v.p.\n",
      "Choisissez un nombre de 1 à 3 (ou zéro pour terminer) \n",
      "1\n",
      "Un nombre entre UN et TROIS, s.v.p.\n",
      "Choisissez un nombre de 1 à 3 (ou zéro pour terminer) \n",
      "8\n",
      "Un nombre entre UN et TROIS, s.v.p.\n",
      "Choisissez un nombre de 1 à 3 (ou zéro pour terminer) \n",
      "100\n",
      "Un nombre entre UN et TROIS, s.v.p.\n",
      "Choisissez un nombre de 1 à 3 (ou zéro pour terminer) \n",
      "0\n",
      "Un nombre entre UN et TROIS, s.v.p.\n",
      "Choisissez un nombre de 1 à 3 (ou zéro pour terminer) \n"
     ]
    }
   ],
   "source": [
    "# Instructions composées <while> - <if> - <elif> - <else> \n",
    "\n",
    "print('Choisissez un nombre de 1 à 3 (ou zéro pour terminer)')\n",
    "a = input() \n",
    "while a != 0:    # l'opérateur != signifie \"différent de\"\n",
    "    if a == 1: \n",
    "        print(\"Vous avez choisi un :\",a) \n",
    "        print(\"le premier, l'unique, l'unité ...\") \n",
    "    elif a == 2: \n",
    "        print(\"Vous préférez le deux :\", a) \n",
    "        print(\"la paire, le couple, le duo ...\") \n",
    "    elif a == 3: \n",
    "        print(\"Vous optez pour le plus grand des trois :\", a) \n",
    "        print(\"le trio, la trinité, le triplet ...\")\n",
    "    else : \n",
    "        print(\"Un nombre entre UN et TROIS, s.v.p.\") \n",
    "    print('Choisissez un nombre de 1 à 3 (ou zéro pour terminer) '), \n",
    "    a = input() \n",
    "print(\"Vous avez entré zéro :\") \n",
    "print(\"L'exercice est donc terminé.\")"
   ]
  },
  {
   "cell_type": "code",
   "execution_count": null,
   "metadata": {},
   "outputs": [],
   "source": []
  }
 ],
 "metadata": {
  "kernelspec": {
   "display_name": "Python 3",
   "language": "python",
   "name": "python3"
  },
  "language_info": {
   "codemirror_mode": {
    "name": "ipython",
    "version": 3
   },
   "file_extension": ".py",
   "mimetype": "text/x-python",
   "name": "python",
   "nbconvert_exporter": "python",
   "pygments_lexer": "ipython3",
   "version": "3.8.2"
  }
 },
 "nbformat": 4,
 "nbformat_minor": 4
}
