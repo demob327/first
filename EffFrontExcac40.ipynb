{
 "cells": [
  {
   "cell_type": "code",
   "execution_count": 1,
   "metadata": {},
   "outputs": [],
   "source": [
    "import pandas as pd\n",
    "import numpy as np\n",
    "import matplotlib.pyplot as plt\n",
    "import seaborn as sns\n",
    "sns.set(style=\"darkgrid\")\n"
   ]
  },
  {
   "cell_type": "code",
   "execution_count": 2,
   "metadata": {},
   "outputs": [],
   "source": [
    "df = pd.read_excel(r'C:\\Users\\Administrateur\\Downloads\\DataPortefeuilleV0 - Copie.xls')\n",
    "\n",
    "df.columns = ['Date','CAC40','ACCOR','AIRF','BNP','DANONE','FT','MICHELIN','LOREAL','VINCI'\n",
    "]\n",
    "df = pd.read_excel(r'C:\\Users\\Administrateur\\Downloads\\DataPortefeuilleV0 - Copie.xls', parse_dates={'datetime':[0]}, index_col='datetime')\n",
    "df.columns = ['CAC40','ACCOR','AIRF','BNP','DANONE','FT','MICHELIN','LOREAL','VINCI'\n",
    "]"
   ]
  },
  {
   "cell_type": "code",
   "execution_count": 3,
   "metadata": {},
   "outputs": [
    {
     "data": {
      "text/html": [
       "<div>\n",
       "<style scoped>\n",
       "    .dataframe tbody tr th:only-of-type {\n",
       "        vertical-align: middle;\n",
       "    }\n",
       "\n",
       "    .dataframe tbody tr th {\n",
       "        vertical-align: top;\n",
       "    }\n",
       "\n",
       "    .dataframe thead th {\n",
       "        text-align: right;\n",
       "    }\n",
       "</style>\n",
       "<table border=\"1\" class=\"dataframe\">\n",
       "  <thead>\n",
       "    <tr style=\"text-align: right;\">\n",
       "      <th></th>\n",
       "      <th>CAC40</th>\n",
       "      <th>ACCOR</th>\n",
       "      <th>AIRF</th>\n",
       "      <th>BNP</th>\n",
       "      <th>DANONE</th>\n",
       "      <th>FT</th>\n",
       "      <th>MICHELIN</th>\n",
       "      <th>LOREAL</th>\n",
       "      <th>VINCI</th>\n",
       "    </tr>\n",
       "    <tr>\n",
       "      <th>datetime</th>\n",
       "      <th></th>\n",
       "      <th></th>\n",
       "      <th></th>\n",
       "      <th></th>\n",
       "      <th></th>\n",
       "      <th></th>\n",
       "      <th></th>\n",
       "      <th></th>\n",
       "      <th></th>\n",
       "    </tr>\n",
       "  </thead>\n",
       "  <tbody>\n",
       "    <tr>\n",
       "      <th>NaN</th>\n",
       "      <td>NaN</td>\n",
       "      <td>NaN</td>\n",
       "      <td>NaN</td>\n",
       "      <td>NaN</td>\n",
       "      <td>NaN</td>\n",
       "      <td>NaN</td>\n",
       "      <td>NaN</td>\n",
       "      <td>NaN</td>\n",
       "      <td>NaN</td>\n",
       "    </tr>\n",
       "    <tr>\n",
       "      <th>Date</th>\n",
       "      <td>CAC40</td>\n",
       "      <td>ACCOR</td>\n",
       "      <td>AIRF</td>\n",
       "      <td>BNP</td>\n",
       "      <td>DANONE</td>\n",
       "      <td>FT</td>\n",
       "      <td>MICHELIN</td>\n",
       "      <td>LOREAL</td>\n",
       "      <td>VINCI</td>\n",
       "    </tr>\n",
       "    <tr>\n",
       "      <th>2004-01-02 00:00:00</th>\n",
       "      <td>3596.8</td>\n",
       "      <td>32.18</td>\n",
       "      <td>11.74</td>\n",
       "      <td>42.93</td>\n",
       "      <td>26.12</td>\n",
       "      <td>18.26</td>\n",
       "      <td>32.71</td>\n",
       "      <td>62.27</td>\n",
       "      <td>12.28</td>\n",
       "    </tr>\n",
       "    <tr>\n",
       "      <th>2004-01-05 00:00:00</th>\n",
       "      <td>3608.29</td>\n",
       "      <td>32.09</td>\n",
       "      <td>11.73</td>\n",
       "      <td>43.32</td>\n",
       "      <td>26.28</td>\n",
       "      <td>18.39</td>\n",
       "      <td>33.12</td>\n",
       "      <td>62.27</td>\n",
       "      <td>12.2</td>\n",
       "    </tr>\n",
       "    <tr>\n",
       "      <th>2004-01-06 00:00:00</th>\n",
       "      <td>3595.82</td>\n",
       "      <td>32.13</td>\n",
       "      <td>11.58</td>\n",
       "      <td>43.23</td>\n",
       "      <td>26.28</td>\n",
       "      <td>18.74</td>\n",
       "      <td>32.86</td>\n",
       "      <td>61.66</td>\n",
       "      <td>12.12</td>\n",
       "    </tr>\n",
       "  </tbody>\n",
       "</table>\n",
       "</div>"
      ],
      "text/plain": [
       "                       CAC40  ACCOR   AIRF    BNP  DANONE     FT  MICHELIN  \\\n",
       "datetime                                                                     \n",
       "NaN                      NaN    NaN    NaN    NaN     NaN    NaN       NaN   \n",
       "Date                   CAC40  ACCOR   AIRF    BNP  DANONE     FT  MICHELIN   \n",
       "2004-01-02 00:00:00   3596.8  32.18  11.74  42.93   26.12  18.26     32.71   \n",
       "2004-01-05 00:00:00  3608.29  32.09  11.73  43.32   26.28  18.39     33.12   \n",
       "2004-01-06 00:00:00  3595.82  32.13  11.58  43.23   26.28  18.74     32.86   \n",
       "\n",
       "                     LOREAL  VINCI  \n",
       "datetime                            \n",
       "NaN                     NaN    NaN  \n",
       "Date                 LOREAL  VINCI  \n",
       "2004-01-02 00:00:00   62.27  12.28  \n",
       "2004-01-05 00:00:00   62.27   12.2  \n",
       "2004-01-06 00:00:00   61.66  12.12  "
      ]
     },
     "execution_count": 3,
     "metadata": {},
     "output_type": "execute_result"
    }
   ],
   "source": [
    "df.head()"
   ]
  },
  {
   "cell_type": "code",
   "execution_count": 4,
   "metadata": {},
   "outputs": [],
   "source": [
    "df = df.iloc[2:]"
   ]
  },
  {
   "cell_type": "code",
   "execution_count": 5,
   "metadata": {},
   "outputs": [
    {
     "data": {
      "text/html": [
       "<div>\n",
       "<style scoped>\n",
       "    .dataframe tbody tr th:only-of-type {\n",
       "        vertical-align: middle;\n",
       "    }\n",
       "\n",
       "    .dataframe tbody tr th {\n",
       "        vertical-align: top;\n",
       "    }\n",
       "\n",
       "    .dataframe thead th {\n",
       "        text-align: right;\n",
       "    }\n",
       "</style>\n",
       "<table border=\"1\" class=\"dataframe\">\n",
       "  <thead>\n",
       "    <tr style=\"text-align: right;\">\n",
       "      <th></th>\n",
       "      <th>CAC40</th>\n",
       "      <th>ACCOR</th>\n",
       "      <th>AIRF</th>\n",
       "      <th>BNP</th>\n",
       "      <th>DANONE</th>\n",
       "      <th>FT</th>\n",
       "      <th>MICHELIN</th>\n",
       "      <th>LOREAL</th>\n",
       "      <th>VINCI</th>\n",
       "    </tr>\n",
       "    <tr>\n",
       "      <th>datetime</th>\n",
       "      <th></th>\n",
       "      <th></th>\n",
       "      <th></th>\n",
       "      <th></th>\n",
       "      <th></th>\n",
       "      <th></th>\n",
       "      <th></th>\n",
       "      <th></th>\n",
       "      <th></th>\n",
       "    </tr>\n",
       "  </thead>\n",
       "  <tbody>\n",
       "    <tr>\n",
       "      <th>2004-01-02 00:00:00</th>\n",
       "      <td>3596.8</td>\n",
       "      <td>32.18</td>\n",
       "      <td>11.74</td>\n",
       "      <td>42.93</td>\n",
       "      <td>26.12</td>\n",
       "      <td>18.26</td>\n",
       "      <td>32.71</td>\n",
       "      <td>62.27</td>\n",
       "      <td>12.28</td>\n",
       "    </tr>\n",
       "    <tr>\n",
       "      <th>2004-01-05 00:00:00</th>\n",
       "      <td>3608.29</td>\n",
       "      <td>32.09</td>\n",
       "      <td>11.73</td>\n",
       "      <td>43.32</td>\n",
       "      <td>26.28</td>\n",
       "      <td>18.39</td>\n",
       "      <td>33.12</td>\n",
       "      <td>62.27</td>\n",
       "      <td>12.2</td>\n",
       "    </tr>\n",
       "    <tr>\n",
       "      <th>2004-01-06 00:00:00</th>\n",
       "      <td>3595.82</td>\n",
       "      <td>32.13</td>\n",
       "      <td>11.58</td>\n",
       "      <td>43.23</td>\n",
       "      <td>26.28</td>\n",
       "      <td>18.74</td>\n",
       "      <td>32.86</td>\n",
       "      <td>61.66</td>\n",
       "      <td>12.12</td>\n",
       "    </tr>\n",
       "    <tr>\n",
       "      <th>2004-01-07 00:00:00</th>\n",
       "      <td>3563.51</td>\n",
       "      <td>31.4</td>\n",
       "      <td>12.31</td>\n",
       "      <td>42.93</td>\n",
       "      <td>26.42</td>\n",
       "      <td>18.39</td>\n",
       "      <td>32.59</td>\n",
       "      <td>61.19</td>\n",
       "      <td>12.12</td>\n",
       "    </tr>\n",
       "    <tr>\n",
       "      <th>2004-01-08 00:00:00</th>\n",
       "      <td>3592.73</td>\n",
       "      <td>32.13</td>\n",
       "      <td>12.92</td>\n",
       "      <td>43.45</td>\n",
       "      <td>26.58</td>\n",
       "      <td>18.6</td>\n",
       "      <td>32.41</td>\n",
       "      <td>61.23</td>\n",
       "      <td>12.2</td>\n",
       "    </tr>\n",
       "  </tbody>\n",
       "</table>\n",
       "</div>"
      ],
      "text/plain": [
       "                       CAC40  ACCOR   AIRF    BNP DANONE     FT MICHELIN  \\\n",
       "datetime                                                                   \n",
       "2004-01-02 00:00:00   3596.8  32.18  11.74  42.93  26.12  18.26    32.71   \n",
       "2004-01-05 00:00:00  3608.29  32.09  11.73  43.32  26.28  18.39    33.12   \n",
       "2004-01-06 00:00:00  3595.82  32.13  11.58  43.23  26.28  18.74    32.86   \n",
       "2004-01-07 00:00:00  3563.51   31.4  12.31  42.93  26.42  18.39    32.59   \n",
       "2004-01-08 00:00:00  3592.73  32.13  12.92  43.45  26.58   18.6    32.41   \n",
       "\n",
       "                    LOREAL  VINCI  \n",
       "datetime                           \n",
       "2004-01-02 00:00:00  62.27  12.28  \n",
       "2004-01-05 00:00:00  62.27   12.2  \n",
       "2004-01-06 00:00:00  61.66  12.12  \n",
       "2004-01-07 00:00:00  61.19  12.12  \n",
       "2004-01-08 00:00:00  61.23   12.2  "
      ]
     },
     "execution_count": 5,
     "metadata": {},
     "output_type": "execute_result"
    }
   ],
   "source": [
    "df.head()"
   ]
  },
  {
   "cell_type": "code",
   "execution_count": 6,
   "metadata": {},
   "outputs": [
    {
     "name": "stdout",
     "output_type": "stream",
     "text": [
      "<class 'pandas.core.frame.DataFrame'>\n",
      "Index: 1256 entries, 2004-01-02 00:00:00 to 2008-11-25 00:00:00\n",
      "Data columns (total 9 columns):\n",
      " #   Column    Non-Null Count  Dtype \n",
      "---  ------    --------------  ----- \n",
      " 0   CAC40     1256 non-null   object\n",
      " 1   ACCOR     1256 non-null   object\n",
      " 2   AIRF      1256 non-null   object\n",
      " 3   BNP       1256 non-null   object\n",
      " 4   DANONE    1256 non-null   object\n",
      " 5   FT        1256 non-null   object\n",
      " 6   MICHELIN  1256 non-null   object\n",
      " 7   LOREAL    1256 non-null   object\n",
      " 8   VINCI     1256 non-null   object\n",
      "dtypes: object(9)\n",
      "memory usage: 49.1+ KB\n"
     ]
    }
   ],
   "source": [
    "df.info()"
   ]
  },
  {
   "cell_type": "code",
   "execution_count": 7,
   "metadata": {},
   "outputs": [
    {
     "data": {
      "text/plain": [
       "(1256, 9)"
      ]
     },
     "execution_count": 7,
     "metadata": {},
     "output_type": "execute_result"
    }
   ],
   "source": [
    "df.shape"
   ]
  },
  {
   "cell_type": "code",
   "execution_count": 8,
   "metadata": {},
   "outputs": [],
   "source": [
    "data = df.copy()"
   ]
  },
  {
   "cell_type": "code",
   "execution_count": 9,
   "metadata": {},
   "outputs": [
    {
     "data": {
      "text/html": [
       "<div>\n",
       "<style scoped>\n",
       "    .dataframe tbody tr th:only-of-type {\n",
       "        vertical-align: middle;\n",
       "    }\n",
       "\n",
       "    .dataframe tbody tr th {\n",
       "        vertical-align: top;\n",
       "    }\n",
       "\n",
       "    .dataframe thead th {\n",
       "        text-align: right;\n",
       "    }\n",
       "</style>\n",
       "<table border=\"1\" class=\"dataframe\">\n",
       "  <thead>\n",
       "    <tr style=\"text-align: right;\">\n",
       "      <th></th>\n",
       "      <th>CAC40</th>\n",
       "      <th>ACCOR</th>\n",
       "      <th>AIRF</th>\n",
       "      <th>BNP</th>\n",
       "      <th>DANONE</th>\n",
       "      <th>FT</th>\n",
       "      <th>MICHELIN</th>\n",
       "      <th>LOREAL</th>\n",
       "      <th>VINCI</th>\n",
       "    </tr>\n",
       "    <tr>\n",
       "      <th>datetime</th>\n",
       "      <th></th>\n",
       "      <th></th>\n",
       "      <th></th>\n",
       "      <th></th>\n",
       "      <th></th>\n",
       "      <th></th>\n",
       "      <th></th>\n",
       "      <th></th>\n",
       "      <th></th>\n",
       "    </tr>\n",
       "  </thead>\n",
       "  <tbody>\n",
       "    <tr>\n",
       "      <th>2004-01-02 00:00:00</th>\n",
       "      <td>3596.8</td>\n",
       "      <td>32.18</td>\n",
       "      <td>11.74</td>\n",
       "      <td>42.93</td>\n",
       "      <td>26.12</td>\n",
       "      <td>18.26</td>\n",
       "      <td>32.71</td>\n",
       "      <td>62.27</td>\n",
       "      <td>12.28</td>\n",
       "    </tr>\n",
       "    <tr>\n",
       "      <th>2004-01-05 00:00:00</th>\n",
       "      <td>3608.29</td>\n",
       "      <td>32.09</td>\n",
       "      <td>11.73</td>\n",
       "      <td>43.32</td>\n",
       "      <td>26.28</td>\n",
       "      <td>18.39</td>\n",
       "      <td>33.12</td>\n",
       "      <td>62.27</td>\n",
       "      <td>12.2</td>\n",
       "    </tr>\n",
       "    <tr>\n",
       "      <th>2004-01-06 00:00:00</th>\n",
       "      <td>3595.82</td>\n",
       "      <td>32.13</td>\n",
       "      <td>11.58</td>\n",
       "      <td>43.23</td>\n",
       "      <td>26.28</td>\n",
       "      <td>18.74</td>\n",
       "      <td>32.86</td>\n",
       "      <td>61.66</td>\n",
       "      <td>12.12</td>\n",
       "    </tr>\n",
       "    <tr>\n",
       "      <th>2004-01-07 00:00:00</th>\n",
       "      <td>3563.51</td>\n",
       "      <td>31.4</td>\n",
       "      <td>12.31</td>\n",
       "      <td>42.93</td>\n",
       "      <td>26.42</td>\n",
       "      <td>18.39</td>\n",
       "      <td>32.59</td>\n",
       "      <td>61.19</td>\n",
       "      <td>12.12</td>\n",
       "    </tr>\n",
       "    <tr>\n",
       "      <th>2004-01-08 00:00:00</th>\n",
       "      <td>3592.73</td>\n",
       "      <td>32.13</td>\n",
       "      <td>12.92</td>\n",
       "      <td>43.45</td>\n",
       "      <td>26.58</td>\n",
       "      <td>18.6</td>\n",
       "      <td>32.41</td>\n",
       "      <td>61.23</td>\n",
       "      <td>12.2</td>\n",
       "    </tr>\n",
       "  </tbody>\n",
       "</table>\n",
       "</div>"
      ],
      "text/plain": [
       "                       CAC40  ACCOR   AIRF    BNP DANONE     FT MICHELIN  \\\n",
       "datetime                                                                   \n",
       "2004-01-02 00:00:00   3596.8  32.18  11.74  42.93  26.12  18.26    32.71   \n",
       "2004-01-05 00:00:00  3608.29  32.09  11.73  43.32  26.28  18.39    33.12   \n",
       "2004-01-06 00:00:00  3595.82  32.13  11.58  43.23  26.28  18.74    32.86   \n",
       "2004-01-07 00:00:00  3563.51   31.4  12.31  42.93  26.42  18.39    32.59   \n",
       "2004-01-08 00:00:00  3592.73  32.13  12.92  43.45  26.58   18.6    32.41   \n",
       "\n",
       "                    LOREAL  VINCI  \n",
       "datetime                           \n",
       "2004-01-02 00:00:00  62.27  12.28  \n",
       "2004-01-05 00:00:00  62.27   12.2  \n",
       "2004-01-06 00:00:00  61.66  12.12  \n",
       "2004-01-07 00:00:00  61.19  12.12  \n",
       "2004-01-08 00:00:00  61.23   12.2  "
      ]
     },
     "execution_count": 9,
     "metadata": {},
     "output_type": "execute_result"
    }
   ],
   "source": [
    "data.head()"
   ]
  },
  {
   "cell_type": "code",
   "execution_count": 10,
   "metadata": {},
   "outputs": [
    {
     "data": {
      "text/plain": [
       "array([<AxesSubplot:xlabel='datetime'>, <AxesSubplot:xlabel='datetime'>,\n",
       "       <AxesSubplot:xlabel='datetime'>, <AxesSubplot:xlabel='datetime'>,\n",
       "       <AxesSubplot:xlabel='datetime'>, <AxesSubplot:xlabel='datetime'>,\n",
       "       <AxesSubplot:xlabel='datetime'>, <AxesSubplot:xlabel='datetime'>,\n",
       "       <AxesSubplot:xlabel='datetime'>], dtype=object)"
      ]
     },
     "execution_count": 10,
     "metadata": {},
     "output_type": "execute_result"
    },
    {
     "data": {
      "image/png": "[encoded data removed]",
      "text/plain": [
       "<Figure size 864x864 with 9 Axes>"
      ]
     },
     "metadata": {},
     "output_type": "display_data"
    }
   ],
   "source": [
    "data.plot(subplots=True, figsize=(12,12))"
   ]
  },
  {
   "cell_type": "markdown",
   "metadata": {},
   "source": [
    "# Generate data to plot\n",
    "linear = data['CAC40']\n",
    "square = data['ACCOR']\n",
    "cube = data['AIRF']\n",
    "\n",
    "linear1 = data['BNP']\n",
    "square1 = data['DANONE']\n",
    "cube1 = data['FT']\n",
    "\n",
    "linear2 = data['MICHELIN']\n",
    "square2 = data['LOREAL']\n",
    "cube2 = data['VINCI']\n",
    "\n",
    "\n",
    "# 3x3 grid, first subplot\n",
    "plt.subplot(3, 3, 1)\n",
    "plt.plot(linear)\n",
    "\n",
    "# 3x3 grid, 2 subplot\n",
    "plt.subplot(3, 3, 2)\n",
    "plt.plot(square)\n",
    "\n",
    "# 3x3 grid, 3 subplot\n",
    "plt.subplot(3, 3, 3)\n",
    "plt.plot(cube)\n",
    "\n",
    "# 3x3 grid, 4 subplot\n",
    "plt.subplot(3, 3, 4)\n",
    "plt.plot(linear1)\n",
    "\n",
    "# 3x3 grid, 5 subplot\n",
    "plt.subplot(3, 3, 5)\n",
    "plt.plot(square1)\n",
    "\n",
    "# 3x1 grid, 6 subplot\n",
    "plt.subplot(3, 3, 6)\n",
    "plt.plot(cube1)\n",
    "\n",
    "# 3x3 grid, 7 subplot\n",
    "plt.subplot(3, 3, 7)\n",
    "plt.plot(linear2)\n",
    "\n",
    "# 3x3 grid, 8 subplot\n",
    "plt.subplot(3, 3, 8)\n",
    "plt.plot(square2)\n",
    "\n",
    "# 3x3 grid, 9 subplot\n",
    "plt.subplot(3, 3, 9)\n",
    "plt.plot(cube2)\n",
    "\n",
    "figsize=(14,14)\n",
    "plt.tight_layout()\n",
    "plt.show()"
   ]
  },
  {
   "cell_type": "code",
   "execution_count": 11,
   "metadata": {},
   "outputs": [
    {
     "data": {
      "text/html": [
       "<div>\n",
       "<style scoped>\n",
       "    .dataframe tbody tr th:only-of-type {\n",
       "        vertical-align: middle;\n",
       "    }\n",
       "\n",
       "    .dataframe tbody tr th {\n",
       "        vertical-align: top;\n",
       "    }\n",
       "\n",
       "    .dataframe thead th {\n",
       "        text-align: right;\n",
       "    }\n",
       "</style>\n",
       "<table border=\"1\" class=\"dataframe\">\n",
       "  <thead>\n",
       "    <tr style=\"text-align: right;\">\n",
       "      <th></th>\n",
       "      <th>CAC40</th>\n",
       "      <th>ACCOR</th>\n",
       "      <th>AIRF</th>\n",
       "      <th>BNP</th>\n",
       "      <th>DANONE</th>\n",
       "      <th>FT</th>\n",
       "      <th>MICHELIN</th>\n",
       "      <th>LOREAL</th>\n",
       "      <th>VINCI</th>\n",
       "    </tr>\n",
       "    <tr>\n",
       "      <th>datetime</th>\n",
       "      <th></th>\n",
       "      <th></th>\n",
       "      <th></th>\n",
       "      <th></th>\n",
       "      <th></th>\n",
       "      <th></th>\n",
       "      <th></th>\n",
       "      <th></th>\n",
       "      <th></th>\n",
       "    </tr>\n",
       "  </thead>\n",
       "  <tbody>\n",
       "    <tr>\n",
       "      <th>2004-01-02 00:00:00</th>\n",
       "      <td>3596.8</td>\n",
       "      <td>32.18</td>\n",
       "      <td>11.74</td>\n",
       "      <td>42.93</td>\n",
       "      <td>26.12</td>\n",
       "      <td>18.26</td>\n",
       "      <td>32.71</td>\n",
       "      <td>62.27</td>\n",
       "      <td>12.28</td>\n",
       "    </tr>\n",
       "    <tr>\n",
       "      <th>2004-01-05 00:00:00</th>\n",
       "      <td>3608.29</td>\n",
       "      <td>32.09</td>\n",
       "      <td>11.73</td>\n",
       "      <td>43.32</td>\n",
       "      <td>26.28</td>\n",
       "      <td>18.39</td>\n",
       "      <td>33.12</td>\n",
       "      <td>62.27</td>\n",
       "      <td>12.2</td>\n",
       "    </tr>\n",
       "    <tr>\n",
       "      <th>2004-01-06 00:00:00</th>\n",
       "      <td>3595.82</td>\n",
       "      <td>32.13</td>\n",
       "      <td>11.58</td>\n",
       "      <td>43.23</td>\n",
       "      <td>26.28</td>\n",
       "      <td>18.74</td>\n",
       "      <td>32.86</td>\n",
       "      <td>61.66</td>\n",
       "      <td>12.12</td>\n",
       "    </tr>\n",
       "    <tr>\n",
       "      <th>2004-01-07 00:00:00</th>\n",
       "      <td>3563.51</td>\n",
       "      <td>31.4</td>\n",
       "      <td>12.31</td>\n",
       "      <td>42.93</td>\n",
       "      <td>26.42</td>\n",
       "      <td>18.39</td>\n",
       "      <td>32.59</td>\n",
       "      <td>61.19</td>\n",
       "      <td>12.12</td>\n",
       "    </tr>\n",
       "    <tr>\n",
       "      <th>2004-01-08 00:00:00</th>\n",
       "      <td>3592.73</td>\n",
       "      <td>32.13</td>\n",
       "      <td>12.92</td>\n",
       "      <td>43.45</td>\n",
       "      <td>26.58</td>\n",
       "      <td>18.6</td>\n",
       "      <td>32.41</td>\n",
       "      <td>61.23</td>\n",
       "      <td>12.2</td>\n",
       "    </tr>\n",
       "  </tbody>\n",
       "</table>\n",
       "</div>"
      ],
      "text/plain": [
       "                       CAC40  ACCOR   AIRF    BNP DANONE     FT MICHELIN  \\\n",
       "datetime                                                                   \n",
       "2004-01-02 00:00:00   3596.8  32.18  11.74  42.93  26.12  18.26    32.71   \n",
       "2004-01-05 00:00:00  3608.29  32.09  11.73  43.32  26.28  18.39    33.12   \n",
       "2004-01-06 00:00:00  3595.82  32.13  11.58  43.23  26.28  18.74    32.86   \n",
       "2004-01-07 00:00:00  3563.51   31.4  12.31  42.93  26.42  18.39    32.59   \n",
       "2004-01-08 00:00:00  3592.73  32.13  12.92  43.45  26.58   18.6    32.41   \n",
       "\n",
       "                    LOREAL  VINCI  \n",
       "datetime                           \n",
       "2004-01-02 00:00:00  62.27  12.28  \n",
       "2004-01-05 00:00:00  62.27   12.2  \n",
       "2004-01-06 00:00:00  61.66  12.12  \n",
       "2004-01-07 00:00:00  61.19  12.12  \n",
       "2004-01-08 00:00:00  61.23   12.2  "
      ]
     },
     "execution_count": 11,
     "metadata": {},
     "output_type": "execute_result"
    }
   ],
   "source": [
    "data.head()"
   ]
  },
  {
   "cell_type": "code",
   "execution_count": 12,
   "metadata": {},
   "outputs": [],
   "source": [
    "returns = data.pct_change()  # [l(i+1)/l(i)]-1\n",
    "mean_returns = returns.mean()\n",
    "cov_matrix = returns.cov()"
   ]
  },
  {
   "cell_type": "code",
   "execution_count": 13,
   "metadata": {},
   "outputs": [
    {
     "data": {
      "text/html": [
       "<div>\n",
       "<style scoped>\n",
       "    .dataframe tbody tr th:only-of-type {\n",
       "        vertical-align: middle;\n",
       "    }\n",
       "\n",
       "    .dataframe tbody tr th {\n",
       "        vertical-align: top;\n",
       "    }\n",
       "\n",
       "    .dataframe thead th {\n",
       "        text-align: right;\n",
       "    }\n",
       "</style>\n",
       "<table border=\"1\" class=\"dataframe\">\n",
       "  <thead>\n",
       "    <tr style=\"text-align: right;\">\n",
       "      <th></th>\n",
       "      <th>CAC40</th>\n",
       "      <th>ACCOR</th>\n",
       "      <th>AIRF</th>\n",
       "      <th>BNP</th>\n",
       "      <th>DANONE</th>\n",
       "      <th>FT</th>\n",
       "      <th>MICHELIN</th>\n",
       "      <th>LOREAL</th>\n",
       "      <th>VINCI</th>\n",
       "    </tr>\n",
       "  </thead>\n",
       "  <tbody>\n",
       "    <tr>\n",
       "      <th>CAC40</th>\n",
       "      <td>0.000184</td>\n",
       "      <td>0.000175</td>\n",
       "      <td>0.000180</td>\n",
       "      <td>0.000208</td>\n",
       "      <td>0.000129</td>\n",
       "      <td>0.000135</td>\n",
       "      <td>0.000205</td>\n",
       "      <td>0.000144</td>\n",
       "      <td>0.000210</td>\n",
       "    </tr>\n",
       "    <tr>\n",
       "      <th>ACCOR</th>\n",
       "      <td>0.000175</td>\n",
       "      <td>0.000349</td>\n",
       "      <td>0.000232</td>\n",
       "      <td>0.000200</td>\n",
       "      <td>0.000110</td>\n",
       "      <td>0.000119</td>\n",
       "      <td>0.000230</td>\n",
       "      <td>0.000124</td>\n",
       "      <td>0.000220</td>\n",
       "    </tr>\n",
       "    <tr>\n",
       "      <th>AIRF</th>\n",
       "      <td>0.000180</td>\n",
       "      <td>0.000232</td>\n",
       "      <td>0.000508</td>\n",
       "      <td>0.000225</td>\n",
       "      <td>0.000119</td>\n",
       "      <td>0.000131</td>\n",
       "      <td>0.000259</td>\n",
       "      <td>0.000141</td>\n",
       "      <td>0.000210</td>\n",
       "    </tr>\n",
       "    <tr>\n",
       "      <th>BNP</th>\n",
       "      <td>0.000208</td>\n",
       "      <td>0.000200</td>\n",
       "      <td>0.000225</td>\n",
       "      <td>0.000373</td>\n",
       "      <td>0.000112</td>\n",
       "      <td>0.000141</td>\n",
       "      <td>0.000234</td>\n",
       "      <td>0.000145</td>\n",
       "      <td>0.000226</td>\n",
       "    </tr>\n",
       "    <tr>\n",
       "      <th>DANONE</th>\n",
       "      <td>0.000129</td>\n",
       "      <td>0.000110</td>\n",
       "      <td>0.000119</td>\n",
       "      <td>0.000112</td>\n",
       "      <td>0.000243</td>\n",
       "      <td>0.000095</td>\n",
       "      <td>0.000131</td>\n",
       "      <td>0.000131</td>\n",
       "      <td>0.000145</td>\n",
       "    </tr>\n",
       "    <tr>\n",
       "      <th>FT</th>\n",
       "      <td>0.000135</td>\n",
       "      <td>0.000119</td>\n",
       "      <td>0.000131</td>\n",
       "      <td>0.000141</td>\n",
       "      <td>0.000095</td>\n",
       "      <td>0.000252</td>\n",
       "      <td>0.000130</td>\n",
       "      <td>0.000120</td>\n",
       "      <td>0.000137</td>\n",
       "    </tr>\n",
       "    <tr>\n",
       "      <th>MICHELIN</th>\n",
       "      <td>0.000205</td>\n",
       "      <td>0.000230</td>\n",
       "      <td>0.000259</td>\n",
       "      <td>0.000234</td>\n",
       "      <td>0.000131</td>\n",
       "      <td>0.000130</td>\n",
       "      <td>0.000489</td>\n",
       "      <td>0.000161</td>\n",
       "      <td>0.000251</td>\n",
       "    </tr>\n",
       "    <tr>\n",
       "      <th>LOREAL</th>\n",
       "      <td>0.000144</td>\n",
       "      <td>0.000124</td>\n",
       "      <td>0.000141</td>\n",
       "      <td>0.000145</td>\n",
       "      <td>0.000131</td>\n",
       "      <td>0.000120</td>\n",
       "      <td>0.000161</td>\n",
       "      <td>0.000243</td>\n",
       "      <td>0.000164</td>\n",
       "    </tr>\n",
       "    <tr>\n",
       "      <th>VINCI</th>\n",
       "      <td>0.000210</td>\n",
       "      <td>0.000220</td>\n",
       "      <td>0.000210</td>\n",
       "      <td>0.000226</td>\n",
       "      <td>0.000145</td>\n",
       "      <td>0.000137</td>\n",
       "      <td>0.000251</td>\n",
       "      <td>0.000164</td>\n",
       "      <td>0.000431</td>\n",
       "    </tr>\n",
       "  </tbody>\n",
       "</table>\n",
       "</div>"
      ],
      "text/plain": [
       "             CAC40     ACCOR      AIRF       BNP    DANONE        FT  \\\n",
       "CAC40     0.000184  0.000175  0.000180  0.000208  0.000129  0.000135   \n",
       "ACCOR     0.000175  0.000349  0.000232  0.000200  0.000110  0.000119   \n",
       "AIRF      0.000180  0.000232  0.000508  0.000225  0.000119  0.000131   \n",
       "BNP       0.000208  0.000200  0.000225  0.000373  0.000112  0.000141   \n",
       "DANONE    0.000129  0.000110  0.000119  0.000112  0.000243  0.000095   \n",
       "FT        0.000135  0.000119  0.000131  0.000141  0.000095  0.000252   \n",
       "MICHELIN  0.000205  0.000230  0.000259  0.000234  0.000131  0.000130   \n",
       "LOREAL    0.000144  0.000124  0.000141  0.000145  0.000131  0.000120   \n",
       "VINCI     0.000210  0.000220  0.000210  0.000226  0.000145  0.000137   \n",
       "\n",
       "          MICHELIN    LOREAL     VINCI  \n",
       "CAC40     0.000205  0.000144  0.000210  \n",
       "ACCOR     0.000230  0.000124  0.000220  \n",
       "AIRF      0.000259  0.000141  0.000210  \n",
       "BNP       0.000234  0.000145  0.000226  \n",
       "DANONE    0.000131  0.000131  0.000145  \n",
       "FT        0.000130  0.000120  0.000137  \n",
       "MICHELIN  0.000489  0.000161  0.000251  \n",
       "LOREAL    0.000161  0.000243  0.000164  \n",
       "VINCI     0.000251  0.000164  0.000431  "
      ]
     },
     "execution_count": 13,
     "metadata": {},
     "output_type": "execute_result"
    }
   ],
   "source": [
    "cov_matrix"
   ]
  },
  {
   "cell_type": "code",
   "execution_count": 14,
   "metadata": {},
   "outputs": [
    {
     "data": {
      "text/plain": [
       "CAC40       0.000001\n",
       "ACCOR       0.000089\n",
       "AIRF        0.000120\n",
       "BNP         0.000140\n",
       "DANONE      0.000544\n",
       "FT          0.000195\n",
       "MICHELIN    0.000276\n",
       "LOREAL      0.000166\n",
       "VINCI       0.000946\n",
       "dtype: float64"
      ]
     },
     "execution_count": 14,
     "metadata": {},
     "output_type": "execute_result"
    }
   ],
   "source": [
    "mean_returns"
   ]
  },
  {
   "cell_type": "code",
   "execution_count": 15,
   "metadata": {},
   "outputs": [],
   "source": [
    "cov_matrix_inv = np.linalg.inv(cov_matrix)"
   ]
  },
  {
   "cell_type": "code",
   "execution_count": 16,
   "metadata": {},
   "outputs": [
    {
     "data": {
      "text/plain": [
       "(9, 9)"
      ]
     },
     "execution_count": 16,
     "metadata": {},
     "output_type": "execute_result"
    }
   ],
   "source": [
    "cov_matrix.shape"
   ]
  },
  {
   "cell_type": "code",
   "execution_count": 17,
   "metadata": {},
   "outputs": [],
   "source": [
    "weights = np.array([0.1111, 0.1111, 0.1111, 0.1111, 0.1111, 0.1111, 0.1111, 0.1111, 0.1111])"
   ]
  },
  {
   "cell_type": "code",
   "execution_count": 18,
   "metadata": {},
   "outputs": [
    {
     "data": {
      "text/plain": [
       "(9,)"
      ]
     },
     "execution_count": 18,
     "metadata": {},
     "output_type": "execute_result"
    }
   ],
   "source": [
    "weights.shape"
   ]
  },
  {
   "cell_type": "code",
   "execution_count": 19,
   "metadata": {},
   "outputs": [],
   "source": [
    "varPortf = np.dot(weights, cov_matrix)"
   ]
  },
  {
   "cell_type": "code",
   "execution_count": 20,
   "metadata": {},
   "outputs": [],
   "source": [
    "varPortf = np.dot(varPortf, weights.T)"
   ]
  },
  {
   "cell_type": "code",
   "execution_count": 21,
   "metadata": {},
   "outputs": [],
   "source": [
    "PortfolioRet = np.dot(weights, mean_returns)"
   ]
  },
  {
   "cell_type": "code",
   "execution_count": 22,
   "metadata": {},
   "outputs": [],
   "source": [
    "rendMoyP = np.mean(mean_returns) # car equidistribué ie ai = 20 %"
   ]
  },
  {
   "cell_type": "code",
   "execution_count": 23,
   "metadata": {},
   "outputs": [],
   "source": [
    "ecarttype = pow(varPortf, 0.5)"
   ]
  },
  {
   "cell_type": "code",
   "execution_count": 24,
   "metadata": {},
   "outputs": [
    {
     "name": "stdout",
     "output_type": "stream",
     "text": [
      "Rendement Moyen du Portefeuille : 0.0002752752379870458\n"
     ]
    }
   ],
   "source": [
    "print('Rendement Moyen du Portefeuille :', rendMoyP)"
   ]
  },
  {
   "cell_type": "code",
   "execution_count": 25,
   "metadata": {},
   "outputs": [
    {
     "name": "stdout",
     "output_type": "stream",
     "text": [
      "Risque du Portefeuille : 0.01366469550577009\n"
     ]
    }
   ],
   "source": [
    "print('Risque du Portefeuille :', ecarttype)"
   ]
  },
  {
   "cell_type": "code",
   "execution_count": 31,
   "metadata": {},
   "outputs": [
    {
     "name": "stderr",
     "output_type": "stream",
     "text": [
      "ERROR: Could not find a version that satisfies the requirement pypfopt\n",
      "ERROR: No matching distribution found for pypfopt\n"
     ]
    }
   ],
   "source": [
    "! pip install pypfopt"
   ]
  },
  {
   "cell_type": "code",
   "execution_count": 30,
   "metadata": {},
   "outputs": [
    {
     "ename": "ModuleNotFoundError",
     "evalue": "No module named 'pypfopt'",
     "output_type": "error",
     "traceback": [
      "\u001b[1;31m---------------------------------------------------------------------------\u001b[0m",
      "\u001b[1;31mModuleNotFoundError\u001b[0m                       Traceback (most recent call last)",
      "\u001b[1;32m<ipython-input-30-d56be5e8137d>\u001b[0m in \u001b[0;36m<module>\u001b[1;34m\u001b[0m\n\u001b[1;32m----> 1\u001b[1;33m \u001b[1;32mfrom\u001b[0m \u001b[0mpypfopt\u001b[0m\u001b[1;33m.\u001b[0m\u001b[0mefficient_frontier\u001b[0m \u001b[1;32mimport\u001b[0m \u001b[0mEfficientFrontier\u001b[0m\u001b[1;33m\u001b[0m\u001b[1;33m\u001b[0m\u001b[0m\n\u001b[0m\u001b[0;32m      2\u001b[0m \u001b[1;32mfrom\u001b[0m \u001b[0mpypfopt\u001b[0m \u001b[1;32mimport\u001b[0m \u001b[0mrisk_models\u001b[0m\u001b[1;33m\u001b[0m\u001b[1;33m\u001b[0m\u001b[0m\n\u001b[0;32m      3\u001b[0m \u001b[1;32mfrom\u001b[0m \u001b[0mpypfopt\u001b[0m \u001b[1;32mimport\u001b[0m \u001b[0mexpected_returns\u001b[0m\u001b[1;33m\u001b[0m\u001b[1;33m\u001b[0m\u001b[0m\n",
      "\u001b[1;31mModuleNotFoundError\u001b[0m: No module named 'pypfopt'"
     ]
    }
   ],
   "source": [
    "from pypfopt.efficient_frontier import EfficientFrontier\n",
    "from pypfopt import risk_models\n",
    "from pypfopt import expected_returns"
   ]
  },
  {
   "cell_type": "code",
   "execution_count": null,
   "metadata": {},
   "outputs": [],
   "source": []
  }
 ],
 "metadata": {
  "hide_input": false,
  "kernelspec": {
   "display_name": "Python 3",
   "language": "python",
   "name": "python3"
  },
  "language_info": {
   "codemirror_mode": {
    "name": "ipython",
    "version": 3
   },
   "file_extension": ".py",
   "mimetype": "text/x-python",
   "name": "python",
   "nbconvert_exporter": "python",
   "pygments_lexer": "ipython3",
   "version": "3.8.2"
  },
  "latex_envs": {
   "LaTeX_envs_menu_present": true,
   "autoclose": false,
   "autocomplete": true,
   "bibliofile": "biblio.bib",
   "cite_by": "apalike",
   "current_citInitial": 1,
   "eqLabelWithNumbers": true,
   "eqNumInitial": 1,
   "hotkeys": {
    "equation": "Ctrl-E",
    "itemize": "Ctrl-I"
   },
   "labels_anchors": false,
   "latex_user_defs": false,
   "report_style_numbering": false,
   "user_envs_cfg": false
  }
 },
 "nbformat": 4,
 "nbformat_minor": 4
}
