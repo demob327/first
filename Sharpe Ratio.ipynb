{
 "cells": [
  {
   "cell_type": "markdown",
   "metadata": {},
   "source": [
    "Use Python to calculate the Sharpe ratio for a portfolio\n",
    "The Sharpe ratio is the average return earned in excess of the risk-free rate per unit of volatility (in the stock market, volatility represents the risk of an asset). It allows us to use mathematics in order to quantify the relationship between the mean daily return and then the volatility (or the standard deviation) of daily returns.\n",
    "Simply put, the greater the Sharpe ratio, the more attractive the risk-adjusted return is.\n",
    "This calculation will also be useful to help us find the “best” possible allocation for each stock in a portfolio, depending on our risk preferences. "
   ]
  },
  {
   "cell_type": "code",
   "execution_count": 1,
   "metadata": {},
   "outputs": [],
   "source": [
    "import pandas as pd\n",
    "import numpy as np\n",
    "import matplotlib.pyplot as plt"
   ]
  },
  {
   "cell_type": "code",
   "execution_count": 2,
   "metadata": {},
   "outputs": [],
   "source": [
    "amzn=pd.read_csv(r'C:\\Users\\Administrateur\\Downloads\\AMZN.csv', index_col = 'Date', parse_dates = True)\n",
    "aapl=pd.read_csv(r'C:\\Users\\Administrateur\\Downloads\\AAPL.csv', index_col = 'Date', parse_dates = True)\n",
    "cisco=pd.read_csv(r'C:\\Users\\Administrateur\\Downloads\\CSCO.csv', index_col = 'Date', parse_dates = True)\n",
    "ibm=pd.read_csv(r'C:\\Users\\Administrateur\\Downloads\\IBM.csv', index_col = 'Date', parse_dates = True)\n"
   ]
  },
  {
   "cell_type": "code",
   "execution_count": 3,
   "metadata": {},
   "outputs": [],
   "source": [
    "amzn=amzn.copy()\n",
    "aapl=aapl.copy()\n",
    "cisco=cisco.copy()\n",
    "ibm=ibm.copy()"
   ]
  },
  {
   "cell_type": "code",
   "execution_count": 4,
   "metadata": {},
   "outputs": [
    {
     "name": "stdout",
     "output_type": "stream",
     "text": [
      "(5930, 6) (7761, 6) (10082, 6) (14835, 6)\n"
     ]
    }
   ],
   "source": [
    "print(amzn.shape, cisco.shape, aapl.shape, ibm.shape)"
   ]
  },
  {
   "cell_type": "code",
   "execution_count": 5,
   "metadata": {},
   "outputs": [],
   "source": [
    "for stock_df in (aapl, cisco, ibm, amzn):\n",
    "    stock_df['Norm return'] = stock_df['Adj Close'] / stock_df.iloc[0]['Adj Close']"
   ]
  },
  {
   "cell_type": "markdown",
   "metadata": {},
   "source": [
    " We assume our portfolio will consist of: 35% for Apple, 25% for Cisco, and 20% each for IBM and Amazon."
   ]
  },
  {
   "cell_type": "code",
   "execution_count": 6,
   "metadata": {},
   "outputs": [],
   "source": [
    "for stock_df, allocation in zip((aapl, cisco, ibm, amzn),[.35,.25,.2,.2]):\n",
    "    stock_df['Allocation'] = stock_df['Norm return'] * allocation"
   ]
  },
  {
   "cell_type": "markdown",
   "metadata": {},
   "source": [
    "The final for loop will add a column with the position value. Let’s assume out portfolio size is 10k in the first day. We simply multiply it with the Allocation column which is already adjusted to the normalized return."
   ]
  },
  {
   "cell_type": "code",
   "execution_count": 7,
   "metadata": {},
   "outputs": [],
   "source": [
    "for stock_df in (aapl, cisco, ibm, amzn):\n",
    "    stock_df['Position'] = stock_df['Allocation']*10000"
   ]
  },
  {
   "cell_type": "markdown",
   "metadata": {},
   "source": [
    "This is what the four dataframes look like now. For each day, you know exactly what’s the value of your position for each of the four stocks."
   ]
  },
  {
   "cell_type": "markdown",
   "metadata": {},
   "source": [
    "In order to get all our positions in one single table, we can isolate the column “Position” from each stock and merge it in a new dataframe called “portf_val”. We then rename the columns to match each stock."
   ]
  },
  {
   "cell_type": "code",
   "execution_count": 8,
   "metadata": {},
   "outputs": [],
   "source": [
    "all_pos = [aapl['Position'], cisco['Position'], ibm['Position'], amzn['Position']]\n",
    "portf_val = pd.concat(all_pos, axis=1)\n",
    "portf_val.columns = ['AAPL Pos','CISCO Pos','IBM Pos','AMZN Pos']"
   ]
  },
  {
   "cell_type": "code",
   "execution_count": 9,
   "metadata": {},
   "outputs": [
    {
     "data": {
      "text/html": [
       "<div>\n",
       "<style scoped>\n",
       "    .dataframe tbody tr th:only-of-type {\n",
       "        vertical-align: middle;\n",
       "    }\n",
       "\n",
       "    .dataframe tbody tr th {\n",
       "        vertical-align: top;\n",
       "    }\n",
       "\n",
       "    .dataframe thead th {\n",
       "        text-align: right;\n",
       "    }\n",
       "</style>\n",
       "<table border=\"1\" class=\"dataframe\">\n",
       "  <thead>\n",
       "    <tr style=\"text-align: right;\">\n",
       "      <th></th>\n",
       "      <th>AAPL Pos</th>\n",
       "      <th>CISCO Pos</th>\n",
       "      <th>IBM Pos</th>\n",
       "      <th>AMZN Pos</th>\n",
       "      <th>Total Pos</th>\n",
       "    </tr>\n",
       "    <tr>\n",
       "      <th>Date</th>\n",
       "      <th></th>\n",
       "      <th></th>\n",
       "      <th></th>\n",
       "      <th></th>\n",
       "      <th></th>\n",
       "    </tr>\n",
       "  </thead>\n",
       "  <tbody>\n",
       "    <tr>\n",
       "      <th>1962-01-02</th>\n",
       "      <td>NaN</td>\n",
       "      <td>NaN</td>\n",
       "      <td>2000.000000</td>\n",
       "      <td>NaN</td>\n",
       "      <td>2000.000000</td>\n",
       "    </tr>\n",
       "    <tr>\n",
       "      <th>1962-01-03</th>\n",
       "      <td>NaN</td>\n",
       "      <td>NaN</td>\n",
       "      <td>2017.481065</td>\n",
       "      <td>NaN</td>\n",
       "      <td>2017.481065</td>\n",
       "    </tr>\n",
       "    <tr>\n",
       "      <th>1962-01-04</th>\n",
       "      <td>NaN</td>\n",
       "      <td>NaN</td>\n",
       "      <td>1997.375355</td>\n",
       "      <td>NaN</td>\n",
       "      <td>1997.375355</td>\n",
       "    </tr>\n",
       "    <tr>\n",
       "      <th>1962-01-05</th>\n",
       "      <td>NaN</td>\n",
       "      <td>NaN</td>\n",
       "      <td>1958.041338</td>\n",
       "      <td>NaN</td>\n",
       "      <td>1958.041338</td>\n",
       "    </tr>\n",
       "    <tr>\n",
       "      <th>1962-01-08</th>\n",
       "      <td>NaN</td>\n",
       "      <td>NaN</td>\n",
       "      <td>1921.328725</td>\n",
       "      <td>NaN</td>\n",
       "      <td>1921.328725</td>\n",
       "    </tr>\n",
       "  </tbody>\n",
       "</table>\n",
       "</div>"
      ],
      "text/plain": [
       "            AAPL Pos  CISCO Pos      IBM Pos  AMZN Pos    Total Pos\n",
       "Date                                                               \n",
       "1962-01-02       NaN        NaN  2000.000000       NaN  2000.000000\n",
       "1962-01-03       NaN        NaN  2017.481065       NaN  2017.481065\n",
       "1962-01-04       NaN        NaN  1997.375355       NaN  1997.375355\n",
       "1962-01-05       NaN        NaN  1958.041338       NaN  1958.041338\n",
       "1962-01-08       NaN        NaN  1921.328725       NaN  1921.328725"
      ]
     },
     "execution_count": 9,
     "metadata": {},
     "output_type": "execute_result"
    }
   ],
   "source": [
    "portf_val['Total Pos'] = portf_val.sum(axis=1)\n",
    "portf_val.head()"
   ]
  },
  {
   "cell_type": "code",
   "execution_count": 10,
   "metadata": {},
   "outputs": [
    {
     "data": {
      "text/plain": [
       "DatetimeIndex(['1962-01-02', '1962-01-03', '1962-01-04', '1962-01-05',\n",
       "               '1962-01-08', '1962-01-09', '1962-01-10', '1962-01-11',\n",
       "               '1962-01-12', '1962-01-15',\n",
       "               ...\n",
       "               '1997-05-01', '1997-05-02', '1997-05-05', '1997-05-06',\n",
       "               '1997-05-07', '1997-05-08', '1997-05-09', '1997-05-12',\n",
       "               '1997-05-13', '1997-05-14'],\n",
       "              dtype='datetime64[ns]', name='Date', length=8905, freq=None)"
      ]
     },
     "execution_count": 10,
     "metadata": {},
     "output_type": "execute_result"
    }
   ],
   "source": [
    "index_with_nan = portf_val.index[portf_val.isnull().any(axis=1)]\n",
    "index_with_nan"
   ]
  },
  {
   "cell_type": "code",
   "execution_count": 11,
   "metadata": {},
   "outputs": [
    {
     "data": {
      "text/html": [
       "<div>\n",
       "<style scoped>\n",
       "    .dataframe tbody tr th:only-of-type {\n",
       "        vertical-align: middle;\n",
       "    }\n",
       "\n",
       "    .dataframe tbody tr th {\n",
       "        vertical-align: top;\n",
       "    }\n",
       "\n",
       "    .dataframe thead th {\n",
       "        text-align: right;\n",
       "    }\n",
       "</style>\n",
       "<table border=\"1\" class=\"dataframe\">\n",
       "  <thead>\n",
       "    <tr style=\"text-align: right;\">\n",
       "      <th></th>\n",
       "      <th>AAPL Pos</th>\n",
       "      <th>CISCO Pos</th>\n",
       "      <th>IBM Pos</th>\n",
       "      <th>AMZN Pos</th>\n",
       "      <th>Total Pos</th>\n",
       "    </tr>\n",
       "    <tr>\n",
       "      <th>Date</th>\n",
       "      <th></th>\n",
       "      <th></th>\n",
       "      <th></th>\n",
       "      <th></th>\n",
       "      <th></th>\n",
       "    </tr>\n",
       "  </thead>\n",
       "  <tbody>\n",
       "    <tr>\n",
       "      <th>1997-05-15</th>\n",
       "      <td>4.733584e+03</td>\n",
       "      <td>2.256170e+05</td>\n",
       "      <td>28942.101672</td>\n",
       "      <td>2.000000e+03</td>\n",
       "      <td>2.612927e+05</td>\n",
       "    </tr>\n",
       "    <tr>\n",
       "      <th>1997-05-16</th>\n",
       "      <td>4.600238e+03</td>\n",
       "      <td>2.211227e+05</td>\n",
       "      <td>28297.107866</td>\n",
       "      <td>1.765958e+03</td>\n",
       "      <td>2.557860e+05</td>\n",
       "    </tr>\n",
       "    <tr>\n",
       "      <th>1997-05-19</th>\n",
       "      <td>4.533566e+03</td>\n",
       "      <td>2.191002e+05</td>\n",
       "      <td>28089.048834</td>\n",
       "      <td>1.744681e+03</td>\n",
       "      <td>2.534675e+05</td>\n",
       "    </tr>\n",
       "    <tr>\n",
       "      <th>1997-05-20</th>\n",
       "      <td>4.600238e+03</td>\n",
       "      <td>2.314597e+05</td>\n",
       "      <td>28921.308735</td>\n",
       "      <td>1.670213e+03</td>\n",
       "      <td>2.666515e+05</td>\n",
       "    </tr>\n",
       "    <tr>\n",
       "      <th>1997-05-21</th>\n",
       "      <td>4.500229e+03</td>\n",
       "      <td>2.364035e+05</td>\n",
       "      <td>29150.183396</td>\n",
       "      <td>1.457447e+03</td>\n",
       "      <td>2.715114e+05</td>\n",
       "    </tr>\n",
       "    <tr>\n",
       "      <th>...</th>\n",
       "      <td>...</td>\n",
       "      <td>...</td>\n",
       "      <td>...</td>\n",
       "      <td>...</td>\n",
       "      <td>...</td>\n",
       "    </tr>\n",
       "    <tr>\n",
       "      <th>2020-11-30</th>\n",
       "      <td>4.155696e+06</td>\n",
       "      <td>1.846542e+06</td>\n",
       "      <td>133468.974568</td>\n",
       "      <td>3.235446e+06</td>\n",
       "      <td>9.371153e+06</td>\n",
       "    </tr>\n",
       "    <tr>\n",
       "      <th>2020-12-01</th>\n",
       "      <td>4.283805e+06</td>\n",
       "      <td>1.868862e+06</td>\n",
       "      <td>133079.985758</td>\n",
       "      <td>3.288593e+06</td>\n",
       "      <td>9.574340e+06</td>\n",
       "    </tr>\n",
       "    <tr>\n",
       "      <th>2020-12-02</th>\n",
       "      <td>4.296372e+06</td>\n",
       "      <td>1.883885e+06</td>\n",
       "      <td>134657.581080</td>\n",
       "      <td>3.271691e+06</td>\n",
       "      <td>9.586605e+06</td>\n",
       "    </tr>\n",
       "    <tr>\n",
       "      <th>2020-12-03</th>\n",
       "      <td>4.291485e+06</td>\n",
       "      <td>1.893328e+06</td>\n",
       "      <td>133566.227983</td>\n",
       "      <td>3.254533e+06</td>\n",
       "      <td>9.572912e+06</td>\n",
       "    </tr>\n",
       "    <tr>\n",
       "      <th>2020-12-04</th>\n",
       "      <td>4.267399e+06</td>\n",
       "      <td>1.904917e+06</td>\n",
       "      <td>137445.381938</td>\n",
       "      <td>3.229870e+06</td>\n",
       "      <td>9.539631e+06</td>\n",
       "    </tr>\n",
       "  </tbody>\n",
       "</table>\n",
       "<p>5930 rows × 5 columns</p>\n",
       "</div>"
      ],
      "text/plain": [
       "                AAPL Pos     CISCO Pos        IBM Pos      AMZN Pos  \\\n",
       "Date                                                                  \n",
       "1997-05-15  4.733584e+03  2.256170e+05   28942.101672  2.000000e+03   \n",
       "1997-05-16  4.600238e+03  2.211227e+05   28297.107866  1.765958e+03   \n",
       "1997-05-19  4.533566e+03  2.191002e+05   28089.048834  1.744681e+03   \n",
       "1997-05-20  4.600238e+03  2.314597e+05   28921.308735  1.670213e+03   \n",
       "1997-05-21  4.500229e+03  2.364035e+05   29150.183396  1.457447e+03   \n",
       "...                  ...           ...            ...           ...   \n",
       "2020-11-30  4.155696e+06  1.846542e+06  133468.974568  3.235446e+06   \n",
       "2020-12-01  4.283805e+06  1.868862e+06  133079.985758  3.288593e+06   \n",
       "2020-12-02  4.296372e+06  1.883885e+06  134657.581080  3.271691e+06   \n",
       "2020-12-03  4.291485e+06  1.893328e+06  133566.227983  3.254533e+06   \n",
       "2020-12-04  4.267399e+06  1.904917e+06  137445.381938  3.229870e+06   \n",
       "\n",
       "               Total Pos  \n",
       "Date                      \n",
       "1997-05-15  2.612927e+05  \n",
       "1997-05-16  2.557860e+05  \n",
       "1997-05-19  2.534675e+05  \n",
       "1997-05-20  2.666515e+05  \n",
       "1997-05-21  2.715114e+05  \n",
       "...                  ...  \n",
       "2020-11-30  9.371153e+06  \n",
       "2020-12-01  9.574340e+06  \n",
       "2020-12-02  9.586605e+06  \n",
       "2020-12-03  9.572912e+06  \n",
       "2020-12-04  9.539631e+06  \n",
       "\n",
       "[5930 rows x 5 columns]"
      ]
     },
     "execution_count": 11,
     "metadata": {},
     "output_type": "execute_result"
    }
   ],
   "source": [
    "portf_val.drop(index_with_nan,0, inplace=True)\n",
    "portf_val\n"
   ]
  },
  {
   "cell_type": "code",
   "execution_count": 12,
   "metadata": {},
   "outputs": [
    {
     "data": {
      "image/png": "[encoded data removed]",
      "text/plain": [
       "<Figure size 432x288 with 1 Axes>"
      ]
     },
     "metadata": {},
     "output_type": "display_data"
    }
   ],
   "source": [
    "plt.style.use('fivethirtyeight')\n",
    "portf_val['Total Pos'].plot(label= 'Total Position', lw=3, ls=':', alpha=0.8)\n",
    "plt.legend()\n",
    "plt.show()"
   ]
  },
  {
   "cell_type": "markdown",
   "metadata": {},
   "source": [
    "It actually performed really well"
   ]
  },
  {
   "cell_type": "code",
   "execution_count": 13,
   "metadata": {
    "scrolled": true
   },
   "outputs": [
    {
     "data": {
      "text/plain": [
       "<AxesSubplot:xlabel='Date'>"
      ]
     },
     "execution_count": 13,
     "metadata": {},
     "output_type": "execute_result"
    },
    {
     "data": {
      "image/png": "[encoded data removed]",
      "text/plain": [
       "<Figure size 720x576 with 1 Axes>"
      ]
     },
     "metadata": {},
     "output_type": "display_data"
    }
   ],
   "source": [
    "portf_val.drop('Total Pos', axis=1).plot(figsize=(10,8))"
   ]
  },
  {
   "cell_type": "markdown",
   "metadata": {},
   "source": [
    "We can see Amazon (green) performed great but IBM (yellow) on the other hand, was not so good. Here’s a good example of why it is important to diversify!\n",
    "\n",
    "Let’s see how much was our cumulative return."
   ]
  },
  {
   "cell_type": "code",
   "execution_count": 14,
   "metadata": {},
   "outputs": [
    {
     "name": "stdout",
     "output_type": "stream",
     "text": [
      "cumulative return was 3550.94% \n"
     ]
    }
   ],
   "source": [
    "cumulative_return = 100 * ( portf_val ['Total Pos'] [-1 ] / portf_val ['Total Pos'] [ 0 ] -1)\n",
    "\n",
    "print('cumulative return was {:.2f}% '.format(cumulative_return))\n"
   ]
  },
  {
   "cell_type": "markdown",
   "metadata": {},
   "source": [
    "126,5% is a very decent return! We’ll add another column to our portf_val dataframe. This time we will add the percentage change in each day — hence the 1 in the formula below. The daily return will be important to calculate the Sharpe ratio.\n",
    "\n"
   ]
  },
  {
   "cell_type": "code",
   "execution_count": 15,
   "metadata": {},
   "outputs": [],
   "source": [
    "portf_val['Daily Return'] = portf_val['Total Pos'].pct_change(1)"
   ]
  },
  {
   "cell_type": "code",
   "execution_count": 16,
   "metadata": {},
   "outputs": [
    {
     "data": {
      "text/html": [
       "<div>\n",
       "<style scoped>\n",
       "    .dataframe tbody tr th:only-of-type {\n",
       "        vertical-align: middle;\n",
       "    }\n",
       "\n",
       "    .dataframe tbody tr th {\n",
       "        vertical-align: top;\n",
       "    }\n",
       "\n",
       "    .dataframe thead th {\n",
       "        text-align: right;\n",
       "    }\n",
       "</style>\n",
       "<table border=\"1\" class=\"dataframe\">\n",
       "  <thead>\n",
       "    <tr style=\"text-align: right;\">\n",
       "      <th></th>\n",
       "      <th>AAPL Pos</th>\n",
       "      <th>CISCO Pos</th>\n",
       "      <th>IBM Pos</th>\n",
       "      <th>AMZN Pos</th>\n",
       "      <th>Total Pos</th>\n",
       "      <th>Daily Return</th>\n",
       "    </tr>\n",
       "    <tr>\n",
       "      <th>Date</th>\n",
       "      <th></th>\n",
       "      <th></th>\n",
       "      <th></th>\n",
       "      <th></th>\n",
       "      <th></th>\n",
       "      <th></th>\n",
       "    </tr>\n",
       "  </thead>\n",
       "  <tbody>\n",
       "    <tr>\n",
       "      <th>1997-05-15</th>\n",
       "      <td>4.733584e+03</td>\n",
       "      <td>2.256170e+05</td>\n",
       "      <td>28942.101672</td>\n",
       "      <td>2.000000e+03</td>\n",
       "      <td>2.612927e+05</td>\n",
       "      <td>NaN</td>\n",
       "    </tr>\n",
       "    <tr>\n",
       "      <th>1997-05-16</th>\n",
       "      <td>4.600238e+03</td>\n",
       "      <td>2.211227e+05</td>\n",
       "      <td>28297.107866</td>\n",
       "      <td>1.765958e+03</td>\n",
       "      <td>2.557860e+05</td>\n",
       "      <td>-0.021075</td>\n",
       "    </tr>\n",
       "    <tr>\n",
       "      <th>1997-05-19</th>\n",
       "      <td>4.533566e+03</td>\n",
       "      <td>2.191002e+05</td>\n",
       "      <td>28089.048834</td>\n",
       "      <td>1.744681e+03</td>\n",
       "      <td>2.534675e+05</td>\n",
       "      <td>-0.009064</td>\n",
       "    </tr>\n",
       "    <tr>\n",
       "      <th>1997-05-20</th>\n",
       "      <td>4.600238e+03</td>\n",
       "      <td>2.314597e+05</td>\n",
       "      <td>28921.308735</td>\n",
       "      <td>1.670213e+03</td>\n",
       "      <td>2.666515e+05</td>\n",
       "      <td>0.052015</td>\n",
       "    </tr>\n",
       "    <tr>\n",
       "      <th>1997-05-21</th>\n",
       "      <td>4.500229e+03</td>\n",
       "      <td>2.364035e+05</td>\n",
       "      <td>29150.183396</td>\n",
       "      <td>1.457447e+03</td>\n",
       "      <td>2.715114e+05</td>\n",
       "      <td>0.018226</td>\n",
       "    </tr>\n",
       "    <tr>\n",
       "      <th>...</th>\n",
       "      <td>...</td>\n",
       "      <td>...</td>\n",
       "      <td>...</td>\n",
       "      <td>...</td>\n",
       "      <td>...</td>\n",
       "      <td>...</td>\n",
       "    </tr>\n",
       "    <tr>\n",
       "      <th>2020-11-30</th>\n",
       "      <td>4.155696e+06</td>\n",
       "      <td>1.846542e+06</td>\n",
       "      <td>133468.974568</td>\n",
       "      <td>3.235446e+06</td>\n",
       "      <td>9.371153e+06</td>\n",
       "      <td>0.007616</td>\n",
       "    </tr>\n",
       "    <tr>\n",
       "      <th>2020-12-01</th>\n",
       "      <td>4.283805e+06</td>\n",
       "      <td>1.868862e+06</td>\n",
       "      <td>133079.985758</td>\n",
       "      <td>3.288593e+06</td>\n",
       "      <td>9.574340e+06</td>\n",
       "      <td>0.021682</td>\n",
       "    </tr>\n",
       "    <tr>\n",
       "      <th>2020-12-02</th>\n",
       "      <td>4.296372e+06</td>\n",
       "      <td>1.883885e+06</td>\n",
       "      <td>134657.581080</td>\n",
       "      <td>3.271691e+06</td>\n",
       "      <td>9.586605e+06</td>\n",
       "      <td>0.001281</td>\n",
       "    </tr>\n",
       "    <tr>\n",
       "      <th>2020-12-03</th>\n",
       "      <td>4.291485e+06</td>\n",
       "      <td>1.893328e+06</td>\n",
       "      <td>133566.227983</td>\n",
       "      <td>3.254533e+06</td>\n",
       "      <td>9.572912e+06</td>\n",
       "      <td>-0.001428</td>\n",
       "    </tr>\n",
       "    <tr>\n",
       "      <th>2020-12-04</th>\n",
       "      <td>4.267399e+06</td>\n",
       "      <td>1.904917e+06</td>\n",
       "      <td>137445.381938</td>\n",
       "      <td>3.229870e+06</td>\n",
       "      <td>9.539631e+06</td>\n",
       "      <td>-0.003477</td>\n",
       "    </tr>\n",
       "  </tbody>\n",
       "</table>\n",
       "<p>5930 rows × 6 columns</p>\n",
       "</div>"
      ],
      "text/plain": [
       "                AAPL Pos     CISCO Pos        IBM Pos      AMZN Pos  \\\n",
       "Date                                                                  \n",
       "1997-05-15  4.733584e+03  2.256170e+05   28942.101672  2.000000e+03   \n",
       "1997-05-16  4.600238e+03  2.211227e+05   28297.107866  1.765958e+03   \n",
       "1997-05-19  4.533566e+03  2.191002e+05   28089.048834  1.744681e+03   \n",
       "1997-05-20  4.600238e+03  2.314597e+05   28921.308735  1.670213e+03   \n",
       "1997-05-21  4.500229e+03  2.364035e+05   29150.183396  1.457447e+03   \n",
       "...                  ...           ...            ...           ...   \n",
       "2020-11-30  4.155696e+06  1.846542e+06  133468.974568  3.235446e+06   \n",
       "2020-12-01  4.283805e+06  1.868862e+06  133079.985758  3.288593e+06   \n",
       "2020-12-02  4.296372e+06  1.883885e+06  134657.581080  3.271691e+06   \n",
       "2020-12-03  4.291485e+06  1.893328e+06  133566.227983  3.254533e+06   \n",
       "2020-12-04  4.267399e+06  1.904917e+06  137445.381938  3.229870e+06   \n",
       "\n",
       "               Total Pos  Daily Return  \n",
       "Date                                    \n",
       "1997-05-15  2.612927e+05           NaN  \n",
       "1997-05-16  2.557860e+05     -0.021075  \n",
       "1997-05-19  2.534675e+05     -0.009064  \n",
       "1997-05-20  2.666515e+05      0.052015  \n",
       "1997-05-21  2.715114e+05      0.018226  \n",
       "...                  ...           ...  \n",
       "2020-11-30  9.371153e+06      0.007616  \n",
       "2020-12-01  9.574340e+06      0.021682  \n",
       "2020-12-02  9.586605e+06      0.001281  \n",
       "2020-12-03  9.572912e+06     -0.001428  \n",
       "2020-12-04  9.539631e+06     -0.003477  \n",
       "\n",
       "[5930 rows x 6 columns]"
      ]
     },
     "execution_count": 16,
     "metadata": {},
     "output_type": "execute_result"
    }
   ],
   "source": [
    "portf_val \n"
   ]
  },
  {
   "cell_type": "markdown",
   "metadata": {},
   "source": [
    "Now it’s time to calculate the Sharpe ratio. The formula is pretty simple, and intuitive: remove from the expected portfolio return, the rate you would get from a risk free investment. Divide the result by the portfolio’s standard deviation. Nowadays, since the interest rates are so low, it is commonly assumed that the risk free rate is zero, since you get very little money if you leave it in a savings account (a generic example of a risk free asset)."
   ]
  },
  {
   "attachments": {
    "image.png": {
     "image/png": "[encoded data removed]"
    }
   },
   "cell_type": "markdown",
   "metadata": {},
   "source": [
    "![image.png](attachment:image.png)"
   ]
  },
  {
   "cell_type": "markdown",
   "metadata": {},
   "source": [
    "So the formula will be just the mean of the daily returns, divided by the standard deviation of the daily returns. In Python it will look like this:"
   ]
  },
  {
   "cell_type": "code",
   "execution_count": 17,
   "metadata": {},
   "outputs": [
    {
     "data": {
      "text/plain": [
       "0.03821852835479206"
      ]
     },
     "execution_count": 17,
     "metadata": {},
     "output_type": "execute_result"
    }
   ],
   "source": [
    "Sharpe_Ratio = portf_val['Daily Return'].mean() / portf_val['Daily Return'].std()\n",
    "Sharpe_Ratio"
   ]
  },
  {
   "cell_type": "markdown",
   "metadata": {},
   "source": [
    "To finish this article we need to annualize the Sharpe ratio, since we calculated it from daily values. There are 252 trading days in the year, so the simple way to annualize it is to multiply the Sharpe ratio by the square root of 252."
   ]
  },
  {
   "cell_type": "code",
   "execution_count": 18,
   "metadata": {},
   "outputs": [
    {
     "data": {
      "text/plain": [
       "0.6067003290099019"
      ]
     },
     "execution_count": 18,
     "metadata": {},
     "output_type": "execute_result"
    }
   ],
   "source": [
    "A_Sharpe_Ratio = (252**0.5)* Sharpe_Ratio\n",
    "A_Sharpe_Ratio"
   ]
  },
  {
   "cell_type": "code",
   "execution_count": null,
   "metadata": {},
   "outputs": [],
   "source": []
  }
 ],
 "metadata": {
  "kernelspec": {
   "display_name": "Python 3",
   "language": "python",
   "name": "python3"
  },
  "language_info": {
   "codemirror_mode": {
    "name": "ipython",
    "version": 3
   },
   "file_extension": ".py",
   "mimetype": "text/x-python",
   "name": "python",
   "nbconvert_exporter": "python",
   "pygments_lexer": "ipython3",
   "version": "3.8.2"
  }
 },
 "nbformat": 4,
 "nbformat_minor": 4
}
