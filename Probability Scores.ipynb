{
 "cells": [
  {
   "cell_type": "markdown",
   "metadata": {},
   "source": [
    "you will discover two scoring methods that you can use to evaluate the predicted probabilities on your classification predictive modeling problem.\n",
    "\n",
    "Predicting probabilities instead of class labels for a classification problem can provide additional nuance and uncertainty for the predictions.\n",
    "\n",
    "The added nuance allows more sophisticated metrics to be used to interpret and evaluate the predicted probabilities.\n",
    "\n",
    "Let’s take a closer look at the two popular scoring methods for evaluating predicted probabilities.\n",
    "\n",
    "Log Loss Score\n",
    "Logistic loss, or log loss for short, calculates the log likelihood between the predicted probabilities and the observed probabilities.\n",
    "\n",
    "Although developed for training binary classification models like logistic regression, it can be used to evaluate multi-class problems and is functionally equivalent to calculating the cross-entropy derived from information theory.\n",
    "\n",
    "A model with perfect skill has a log loss score of 0.0. The log loss can be implemented in Python using the log_loss() function in scikit-learn.\n",
    "\n",
    "For example:\n"
   ]
  },
  {
   "cell_type": "code",
   "execution_count": 1,
   "metadata": {},
   "outputs": [
    {
     "name": "stdout",
     "output_type": "stream",
     "text": [
      "0.24691989080446483\n"
     ]
    }
   ],
   "source": [
    "# example of log loss\n",
    "from numpy import asarray\n",
    "from sklearn.metrics import log_loss\n",
    "\n",
    "# define data\n",
    "y_true = [1, 1, 1, 1, 1, 0, 0, 0, 0, 0]\n",
    "y_pred = [0.8, 0.9, 0.9, 0.6, 0.8, 0.1, 0.4, 0.2, 0.1, 0.3]\n",
    "\n",
    "# define data as expected, e.g. probability for each event {0, 1}\n",
    "y_true = asarray([[v, 1-v] for v in y_true])\n",
    "y_pred = asarray([[v, 1-v] for v in y_pred])\n",
    "\n",
    "# calculate log loss\n",
    "loss = log_loss(y_true, y_pred)\n",
    "print(loss)\n",
    "\n"
   ]
  },
  {
   "cell_type": "markdown",
   "metadata": {},
   "source": [
    "\n",
    "The Brier score, named for Glenn Brier, calculates the mean squared error (MSE) between predicted probabilities and the expected values.\n",
    "\n",
    "The score summarizes the magnitude of the error in the probability forecasts.\n",
    "\n",
    "The error score is always between 0.0 and 1.0, where a model with perfect skill has a score of 0.0.\n",
    "\n",
    "The Brier score can be calculated in Python using the brier_score_loss() function in scikit-learn.\n",
    "\n",
    "For example:"
   ]
  },
  {
   "cell_type": "code",
   "execution_count": 2,
   "metadata": {},
   "outputs": [
    {
     "name": "stdout",
     "output_type": "stream",
     "text": [
      "0.05700000000000001\n"
     ]
    }
   ],
   "source": [
    "# example of brier loss\n",
    "from sklearn.metrics import brier_score_loss\n",
    "\n",
    "# define data\n",
    "y_true = [1, 1, 1, 1, 1, 0, 0, 0, 0, 0]\n",
    "y_pred = [0.8, 0.9, 0.9, 0.6, 0.8, 0.1, 0.4, 0.2, 0.1, 0.3]\n",
    "\n",
    "# calculate brier score\n",
    "score = brier_score_loss(y_true, y_pred, pos_label=1)\n",
    "\n",
    "print(score)\n",
    "\n",
    "\n"
   ]
  },
  {
   "cell_type": "markdown",
   "metadata": {},
   "source": [
    "\n",
    "Your task in this lesson is to run each example and report the results.\n",
    "\n",
    "As a bonus, change the mock predictions to make them better or worse and compare the resulting scores.\n",
    "\n",
    "Share your findings as a comment on this post. I would love to see what you discover."
   ]
  },
  {
   "cell_type": "code",
   "execution_count": null,
   "metadata": {},
   "outputs": [],
   "source": []
  }
 ],
 "metadata": {
  "kernelspec": {
   "display_name": "Python 3",
   "language": "python",
   "name": "python3"
  },
  "language_info": {
   "codemirror_mode": {
    "name": "ipython",
    "version": 3
   },
   "file_extension": ".py",
   "mimetype": "text/x-python",
   "name": "python",
   "nbconvert_exporter": "python",
   "pygments_lexer": "ipython3",
   "version": "3.8.2"
  }
 },
 "nbformat": 4,
 "nbformat_minor": 4
}
