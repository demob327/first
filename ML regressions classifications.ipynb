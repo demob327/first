{
 "cells": [
  {
   "cell_type": "code",
   "execution_count": 1,
   "metadata": {},
   "outputs": [],
   "source": [
    "import numpy as np\n",
    "import pandas as pd\n",
    "import matplotlib.pyplot as plt\n",
    "import seaborn as sns\n",
    "from sklearn.datasets import make_regression\n",
    "from sklearn.linear_model import SGDRegressor"
   ]
  },
  {
   "cell_type": "markdown",
   "metadata": {},
   "source": [
    "la fonction make_regression est très utile. La fonction prend\n",
    "comme arguments (c’est le mot pour désigner inputs) le nombre\n",
    "d’échantillons à générer, le nombre de variables et le bruit puis nous\n",
    "retourne deux vecteurs 𝒙 et 𝒚.\n",
    "Pour maitriser l’aléatoire, on écrit la ligne np.random.seed(0).\n",
    "Finalement, pour visualiser nos données on utilise la fonction\n",
    "plt.scatter(x, y)."
   ]
  },
  {
   "cell_type": "code",
   "execution_count": 2,
   "metadata": {
    "scrolled": true
   },
   "outputs": [
    {
     "data": {
      "text/plain": [
       "<matplotlib.collections.PathCollection at 0xd86fa90>"
      ]
     },
     "execution_count": 2,
     "metadata": {},
     "output_type": "execute_result"
    },
    {
     "data": {
      "image/png": "[encoded data removed]",
      "text/plain": [
       "<Figure size 432x288 with 1 Axes>"
      ]
     },
     "metadata": {
      "needs_background": "light"
     },
     "output_type": "display_data"
    }
   ],
   "source": [
    "np.random.seed(0)\n",
    "x, y = make_regression(n_samples=100, n_features=1, noise=10)\n",
    "plt.scatter(x,y)"
   ]
  },
  {
   "cell_type": "markdown",
   "metadata": {},
   "source": [
    "Développer le modèle et l’entraîner\n",
    "Pour développer et entraîner un modèle, il a fallu beaucoup de maths\n",
    "dans le chapitre 2 : Entre la Fonction Coût, les dérivées, l’algorithme de\n",
    "Gradient Descent…\n",
    "Dans Sklearn, tout cela est déjà fait pour vous !\n",
    "\n",
    "Il vous suffit de définir une variable model depuis le générateur\n",
    "SGDRegressor en entrant le nombre d’itérations que le Gradient Descent\n",
    "doit effectuer ainsi que le Learning Rate.\n",
    "Une fois le modèle défini, il vous faut l’entraîner. Pour cela, il suffit\n",
    "d’utiliser la fonction fit.\n",
    "\n",
    "Par exemple, entraînons notre modèle sur 100 itérations avec un\n",
    "Learning rate de 0.0001 :"
   ]
  },
  {
   "cell_type": "code",
   "execution_count": 3,
   "metadata": {},
   "outputs": [
    {
     "data": {
      "text/plain": [
       "SGDRegressor(alpha=0.0001, average=False, early_stopping=False, epsilon=0.1,\n",
       "             eta0=0.0001, fit_intercept=True, l1_ratio=0.15,\n",
       "             learning_rate='invscaling', loss='squared_loss', max_iter=10000,\n",
       "             n_iter_no_change=5, penalty='l2', power_t=0.25, random_state=None,\n",
       "             shuffle=True, tol=0.001, validation_fraction=0.1, verbose=0,\n",
       "             warm_start=False)"
      ]
     },
     "execution_count": 3,
     "metadata": {},
     "output_type": "execute_result"
    }
   ],
   "source": [
    "model = SGDRegressor(max_iter=10000, eta0=0.0001)\n",
    "model.fit(x,y)"
   ]
  },
  {
   "cell_type": "markdown",
   "metadata": {},
   "source": [
    "Nous pouvons maintenant observez la précision de notre modèle en\n",
    "utilisant la fonction score qui calcule le coefficient de détermination\n",
    "entre le modèle et les valeurs 𝒚 de notre Dataset.\n",
    "On peut aussi utiliser notre modèle pour faire de nouvelles prédictions\n",
    "avec la fonction predict et tracer ces résultats avec la fonction\n",
    "plt.plot :"
   ]
  },
  {
   "cell_type": "code",
   "execution_count": 4,
   "metadata": {},
   "outputs": [
    {
     "name": "stdout",
     "output_type": "stream",
     "text": [
      "Coeff R² = 0.9402562362167767\n"
     ]
    },
    {
     "data": {
      "text/plain": [
       "[<matplotlib.lines.Line2D at 0xe927958>]"
      ]
     },
     "execution_count": 4,
     "metadata": {},
     "output_type": "execute_result"
    },
    {
     "data": {
      "image/png": "[encoded data removed]",
      "text/plain": [
       "<Figure size 432x288 with 1 Axes>"
      ]
     },
     "metadata": {
      "needs_background": "light"
     },
     "output_type": "display_data"
    }
   ],
   "source": [
    "print('Coeff R² =', model.score(x,y))\n",
    "plt.scatter(x,y)\n",
    "plt.plot(x, model.predict(x), c='red', lw=3)"
   ]
  },
  {
   "cell_type": "markdown",
   "metadata": {},
   "source": [
    "Wow ! Notre modèle semble vraiment mauvais. C’est parce que nous ne\n",
    "l’avons pas entraîné suffisamment longtemps et parce que le Learning\n",
    "rate était trop faible. Aucun problème, il est possible de le ré-entraîner\n",
    "avec de meilleurs hyper-paramètres.\n",
    "En Machine Learning, les valeurs qui fonctionnent bien pour la plupart\n",
    "des entraînements sont :\n",
    "• Nombre d’itérations = 1000\n",
    "• Learning rate = 0.001"
   ]
  },
  {
   "cell_type": "code",
   "execution_count": 5,
   "metadata": {},
   "outputs": [
    {
     "data": {
      "text/plain": [
       "SGDRegressor(alpha=0.0001, average=False, early_stopping=False, epsilon=0.1,\n",
       "             eta0=0.0001, fit_intercept=True, l1_ratio=0.15,\n",
       "             learning_rate='invscaling', loss='squared_loss', max_iter=10000,\n",
       "             n_iter_no_change=5, penalty='l2', power_t=0.25, random_state=None,\n",
       "             shuffle=True, tol=0.001, validation_fraction=0.1, verbose=0,\n",
       "             warm_start=False)"
      ]
     },
     "execution_count": 5,
     "metadata": {},
     "output_type": "execute_result"
    }
   ],
   "source": [
    "model = SGDRegressor(max_iter=10000, eta0=0.0001)\n",
    "model.fit(x,y)"
   ]
  },
  {
   "cell_type": "code",
   "execution_count": 6,
   "metadata": {},
   "outputs": [
    {
     "name": "stdout",
     "output_type": "stream",
     "text": [
      "Coeff R² = 0.9402568147970183\n"
     ]
    },
    {
     "data": {
      "text/plain": [
       "[<matplotlib.lines.Line2D at 0xe94be38>]"
      ]
     },
     "execution_count": 6,
     "metadata": {},
     "output_type": "execute_result"
    },
    {
     "data": {
      "image/png": "[encoded data removed]",
      "text/plain": [
       "<Figure size 432x288 with 1 Axes>"
      ]
     },
     "metadata": {
      "needs_background": "light"
     },
     "output_type": "display_data"
    }
   ],
   "source": [
    "print('Coeff R² =', model.score(x,y))\n",
    "plt.scatter(x,y)\n",
    "plt.plot(x, model.predict(x), c='red', lw=3)"
   ]
  },
  {
   "cell_type": "markdown",
   "metadata": {},
   "source": [
    "Fantastico ! Vous avez entraîné votre premier modèle de Machine\n",
    "Learning, et il fonctionne vraiment bien avec un coefficient 𝑅2 = 94%. Vous\n",
    "pourriez maintenant vous en servir pour faire de bonnes prédictions ! Par\n",
    "exemple pour prédire le prix d’un appartement selon sa surface habitable,\n",
    "ou bien pour prédire l’évolution de la température sur Terre.\n",
    "Mais peut-être n’êtes-vous pas très satisfait… On peut aussi faire ce genre\n",
    "de chose dans Excel, pourquoi se compliquer la vie ?"
   ]
  },
  {
   "cell_type": "markdown",
   "metadata": {},
   "source": [
    "Certes, mais les choses vont commencer à devenir plus excitantes dans les\n",
    "prochaines pages quand nous allons développer des modèles à partir de\n",
    "centaines de variables (ici nous n’en avions qu’une : 𝒙)\n",
    "Mais auparavant, je vais vous montrer comment votre machine a appris\n",
    "les paramètres du modèle avec le Gradient Descent. Pour cela, il existe ce\n",
    "qu’on appelle les courbes d’apprentissage.\n",
    "\n",
    "Les courbes d’apprentissage\n",
    "\n",
    "En Machine Learning, on appelle courbe d’apprentissage (Learning\n",
    "curves) les courbes qui montrent l’évolution de la Fonction Coût au fil\n",
    "des itérations de Gradient Descent. Si votre modèle apprend, alors sa\n",
    "Fonction Coût doit diminuer avec le temps, comme ci-dessous :"
   ]
  },
  {
   "cell_type": "code",
   "execution_count": 13,
   "metadata": {},
   "outputs": [],
   "source": [
    "#definir la fonction modele\n",
    "def model(x, theta):\n",
    "    x.shape: (m, n)\n",
    "    theta.shape: (n,1)\n",
    "    return x.dot(theta) #shape: (m, 1)\n"
   ]
  },
  {
   "cell_type": "code",
   "execution_count": 14,
   "metadata": {},
   "outputs": [],
   "source": [
    "#definir la fonction cout\n",
    "def cost_function(x, y, theta):\n",
    "    m = len(y)\n",
    "    J = 1/(2*m) * np.sum((model(x, theta) - y)**2)\n",
    "    return J\n"
   ]
  },
  {
   "cell_type": "code",
   "execution_count": 15,
   "metadata": {},
   "outputs": [],
   "source": [
    "#definit la fonction gradient\n",
    "def gradient(x, y, theta):\n",
    "    return 1/m * x.T.dot((x.dot(theta) - y))"
   ]
  },
  {
   "cell_type": "code",
   "execution_count": 16,
   "metadata": {},
   "outputs": [],
   "source": [
    "#algorithme de Gradient Descent\n",
    "def gradient_descent(x, y, theta, learning_rate =0.001, iterations = 1000):\n",
    "    m = len(y)\n",
    "    cost_history = np.zeros(iterations)\n",
    "    theta_history = np.zeros((iterations, 2)).reshape(m,1)\n",
    "    \n",
    "    for i in range(0, iterations):\n",
    "        prediction = model(x, theta)\n",
    "        theta = theta - learning_rate * gradient(x, y, theta)\n",
    "        cost_history[i] = cost_function(x, y, theta)\n",
    "        theta_history[i,:] = theta.T\n",
    "        \n",
    "    return theta, cost_history, theta_history\n"
   ]
  },
  {
   "cell_type": "code",
   "execution_count": 11,
   "metadata": {},
   "outputs": [
    {
     "ename": "ValueError",
     "evalue": "shapes (100,1) and (2,1) not aligned: 1 (dim 1) != 2 (dim 0)",
     "output_type": "error",
     "traceback": [
      "\u001b[1;31m---------------------------------------------------------------------------\u001b[0m",
      "\u001b[1;31mValueError\u001b[0m                                Traceback (most recent call last)",
      "\u001b[1;32m<ipython-input-11-ffe8efe1f2ba>\u001b[0m in \u001b[0;36m<module>\u001b[1;34m\u001b[0m\n\u001b[0;32m      4\u001b[0m \u001b[0miterations\u001b[0m \u001b[1;33m=\u001b[0m \u001b[1;36m10\u001b[0m\u001b[1;33m\u001b[0m\u001b[1;33m\u001b[0m\u001b[0m\n\u001b[0;32m      5\u001b[0m \u001b[0mlearning_rate\u001b[0m \u001b[1;33m=\u001b[0m \u001b[1;36m0.3\u001b[0m\u001b[1;33m\u001b[0m\u001b[1;33m\u001b[0m\u001b[0m\n\u001b[1;32m----> 6\u001b[1;33m \u001b[0mtheta_final\u001b[0m\u001b[1;33m,\u001b[0m \u001b[0mcost_history\u001b[0m\u001b[1;33m,\u001b[0m \u001b[0mtheta_history\u001b[0m \u001b[1;33m=\u001b[0m \u001b[0mgradient_descent\u001b[0m\u001b[1;33m(\u001b[0m\u001b[0mx\u001b[0m\u001b[1;33m,\u001b[0m \u001b[0my\u001b[0m\u001b[1;33m,\u001b[0m \u001b[0mtheta\u001b[0m\u001b[1;33m,\u001b[0m \u001b[0mlearning_rate\u001b[0m\u001b[1;33m=\u001b[0m\u001b[0mlearning_rate\u001b[0m\u001b[1;33m,\u001b[0m \u001b[0miterations\u001b[0m \u001b[1;33m=\u001b[0m \u001b[0miterations\u001b[0m\u001b[1;33m)\u001b[0m\u001b[1;33m\u001b[0m\u001b[1;33m\u001b[0m\u001b[0m\n\u001b[0m\u001b[0;32m      7\u001b[0m \u001b[0mprint\u001b[0m\u001b[1;33m(\u001b[0m\u001b[0mtheta_history\u001b[0m\u001b[1;33m.\u001b[0m\u001b[0mshape\u001b[0m\u001b[1;33m)\u001b[0m\u001b[1;33m\u001b[0m\u001b[1;33m\u001b[0m\u001b[0m\n\u001b[0;32m      8\u001b[0m \u001b[1;33m\u001b[0m\u001b[0m\n",
      "\u001b[1;32m<ipython-input-10-717422ea038a>\u001b[0m in \u001b[0;36mgradient_descent\u001b[1;34m(x, y, theta, learning_rate, iterations)\u001b[0m\n\u001b[0;32m      6\u001b[0m \u001b[1;33m\u001b[0m\u001b[0m\n\u001b[0;32m      7\u001b[0m     \u001b[1;32mfor\u001b[0m \u001b[0mi\u001b[0m \u001b[1;32min\u001b[0m \u001b[0mrange\u001b[0m\u001b[1;33m(\u001b[0m\u001b[1;36m0\u001b[0m\u001b[1;33m,\u001b[0m \u001b[0miterations\u001b[0m\u001b[1;33m)\u001b[0m\u001b[1;33m:\u001b[0m\u001b[1;33m\u001b[0m\u001b[1;33m\u001b[0m\u001b[0m\n\u001b[1;32m----> 8\u001b[1;33m         \u001b[0mprediction\u001b[0m \u001b[1;33m=\u001b[0m \u001b[0mmodel\u001b[0m\u001b[1;33m(\u001b[0m\u001b[0mx\u001b[0m\u001b[1;33m,\u001b[0m \u001b[0mtheta\u001b[0m\u001b[1;33m)\u001b[0m\u001b[1;33m\u001b[0m\u001b[1;33m\u001b[0m\u001b[0m\n\u001b[0m\u001b[0;32m      9\u001b[0m         \u001b[0mtheta\u001b[0m \u001b[1;33m=\u001b[0m \u001b[0mtheta\u001b[0m \u001b[1;33m-\u001b[0m \u001b[0mlearning_rate\u001b[0m \u001b[1;33m*\u001b[0m \u001b[0mgradient\u001b[0m\u001b[1;33m(\u001b[0m\u001b[0mx\u001b[0m\u001b[1;33m,\u001b[0m \u001b[0my\u001b[0m\u001b[1;33m,\u001b[0m \u001b[0mtheta\u001b[0m\u001b[1;33m)\u001b[0m\u001b[1;33m\u001b[0m\u001b[1;33m\u001b[0m\u001b[0m\n\u001b[0;32m     10\u001b[0m         \u001b[0mcost_history\u001b[0m\u001b[1;33m[\u001b[0m\u001b[0mi\u001b[0m\u001b[1;33m]\u001b[0m \u001b[1;33m=\u001b[0m \u001b[0mcost_function\u001b[0m\u001b[1;33m(\u001b[0m\u001b[0mx\u001b[0m\u001b[1;33m,\u001b[0m \u001b[0my\u001b[0m\u001b[1;33m,\u001b[0m \u001b[0mtheta\u001b[0m\u001b[1;33m)\u001b[0m\u001b[1;33m\u001b[0m\u001b[1;33m\u001b[0m\u001b[0m\n",
      "\u001b[1;32m<ipython-input-7-8a56d68d7289>\u001b[0m in \u001b[0;36mmodel\u001b[1;34m(x, theta)\u001b[0m\n\u001b[0;32m      3\u001b[0m     \u001b[0mx\u001b[0m\u001b[1;33m.\u001b[0m\u001b[0mshape\u001b[0m\u001b[1;33m:\u001b[0m \u001b[1;33m(\u001b[0m\u001b[0mm\u001b[0m\u001b[1;33m,\u001b[0m \u001b[0mn\u001b[0m\u001b[1;33m)\u001b[0m\u001b[1;33m\u001b[0m\u001b[1;33m\u001b[0m\u001b[0m\n\u001b[0;32m      4\u001b[0m     \u001b[0mtheta\u001b[0m\u001b[1;33m.\u001b[0m\u001b[0mshape\u001b[0m\u001b[1;33m:\u001b[0m \u001b[1;33m(\u001b[0m\u001b[0mn\u001b[0m\u001b[1;33m,\u001b[0m\u001b[1;36m1\u001b[0m\u001b[1;33m)\u001b[0m\u001b[1;33m\u001b[0m\u001b[1;33m\u001b[0m\u001b[0m\n\u001b[1;32m----> 5\u001b[1;33m     \u001b[1;32mreturn\u001b[0m \u001b[0mx\u001b[0m\u001b[1;33m.\u001b[0m\u001b[0mdot\u001b[0m\u001b[1;33m(\u001b[0m\u001b[0mtheta\u001b[0m\u001b[1;33m)\u001b[0m \u001b[1;31m#shape: (m, 1)\u001b[0m\u001b[1;33m\u001b[0m\u001b[1;33m\u001b[0m\u001b[0m\n\u001b[0m",
      "\u001b[1;31mValueError\u001b[0m: shapes (100,1) and (2,1) not aligned: 1 (dim 1) != 2 (dim 0)"
     ]
    }
   ],
   "source": [
    "# utilisation de l'algorithme\n",
    "np.random.seed(0)\n",
    "theta = np.random.randn(2, 1)\n",
    "iterations = 10\n",
    "learning_rate = 0.3\n",
    "theta_final, cost_history, theta_history = gradient_descent(x, y, theta, learning_rate=learning_rate, iterations = iterations)\n",
    "print(theta_history.shape)\n",
    "\n",
    "ax.set_ylabel('J(Theta)')\n",
    "ax.set_xlabel('Iterations')\n",
    "\n",
    "_=ax.plot(range(iterations),cost_history)\n",
    "\n",
    "# visualisation du modele au cours de son apprentissage\n",
    "fig,ax = plt.subplots(figsize=(12,8))\n",
    "_=ax.plot(x, y, 'b.')\n",
    "for i in range(iterations):\n",
    "    _=ax.plot(x, model(X, theta_history[i]), lw=1)"
   ]
  },
  {
   "cell_type": "code",
   "execution_count": null,
   "metadata": {},
   "outputs": [],
   "source": [
    "fig,ax = plt.subplots(figsize=(10,6))\n",
    "\n",
    "ax.set_ylabel('J(Theta)')\n",
    "ax.set_xlabel('Iterations')\n",
    "_=ax.plot(range(Iterations), cost_history)"
   ]
  },
  {
   "cell_type": "code",
   "execution_count": null,
   "metadata": {},
   "outputs": [],
   "source": []
  },
  {
   "cell_type": "markdown",
   "metadata": {},
   "source": [
    "Regression polynomiale"
   ]
  },
  {
   "cell_type": "code",
   "execution_count": null,
   "metadata": {},
   "outputs": [],
   "source": [
    "from sklearn.preprocessing import PolynomialFeatures "
   ]
  },
  {
   "cell_type": "code",
   "execution_count": null,
   "metadata": {},
   "outputs": [],
   "source": [
    "np.random.seed(0)\n",
    "# création du Dataset\n",
    "x, y = make_regression(n_samples=100, n_features=1, noise=10)\n",
    "y = y**2 # y ne varie plus linéairement selon x !"
   ]
  },
  {
   "cell_type": "code",
   "execution_count": null,
   "metadata": {},
   "outputs": [],
   "source": [
    "# On ajoute des variables polynômiales dans notre dataset\n",
    "poly_features = PolynomialFeatures(degree=2, include_bias=False)\n",
    "x = poly_features.fit_transform(x)"
   ]
  },
  {
   "cell_type": "code",
   "execution_count": null,
   "metadata": {},
   "outputs": [],
   "source": [
    "plt.scatter(x[:,0], y)\n",
    "x.shape # la dimension de x: 100 lignes et 2 colonnes"
   ]
  },
  {
   "cell_type": "code",
   "execution_count": null,
   "metadata": {},
   "outputs": [],
   "source": [
    "# On entraine le modele comme avant ! rien ne change !\n",
    "model = SGDRegressor(max_iter=10000, eta0=0.001)\n",
    "model.fit(x,y)\n",
    "print('Coeff R2 =', model.score(x, y))\n",
    "plt.scatter(x[:,0], y, marker='o')\n",
    "plt.scatter(x[:,0], model.predict(x), c='red', marker='+')"
   ]
  },
  {
   "cell_type": "markdown",
   "metadata": {},
   "source": [
    "• model = SGDRegressor( nb_itérations, learning_rate)\n",
    "• model.fit(x, y) : pour entrainer votre modèle.\n",
    "• model.score(x, y) : pour évaluer votre modèle.\n",
    "• model.predict(x) : pour générer des prédictions."
   ]
  },
  {
   "cell_type": "markdown",
   "metadata": {},
   "source": [
    "Problème de classification exemple modele logistique"
   ]
  },
  {
   "cell_type": "code",
   "execution_count": null,
   "metadata": {},
   "outputs": [],
   "source": [
    "import numpy as np\n",
    "import matplotlib.pyplot as plt\n",
    "from sklearn.datasets import make_classification\n",
    "from sklearn.linear_model import SGDClassifier"
   ]
  },
  {
   "cell_type": "code",
   "execution_count": null,
   "metadata": {},
   "outputs": [],
   "source": [
    "# Génération de données aléatoires: 100 exemples, 2 classes, 2 features x0 et x1\n",
    "np.random.seed(1)\n",
    "X, y = make_classification(n_samples=100,n_features=2, n_redundant=0, n_informative=1, n_clusters_per_class=1)"
   ]
  },
  {
   "cell_type": "code",
   "execution_count": null,
   "metadata": {},
   "outputs": [],
   "source": [
    "# Visualisation des données\n",
    "plt.figure(num=None, figsize=(8, 6))\n",
    "plt.scatter(X[:,0], X[:, 1], marker = 'o', c=y, edgecolors='k')\n",
    "plt.xlabel('X0')\n",
    "plt.ylabel('X1')\n",
    "X.shape"
   ]
  },
  {
   "cell_type": "code",
   "execution_count": null,
   "metadata": {},
   "outputs": [],
   "source": [
    "# Ensuite, nous devons créer un modèle en utilisant SGDClassifier."
   ]
  },
  {
   "cell_type": "code",
   "execution_count": null,
   "metadata": {},
   "outputs": [],
   "source": [
    "# Génération d'un modele en utilisant la fonction cout 'log' pour Logistic Regression\n",
    "model = SGDClassifier(max_iter=1000, eta0=0.001, loss='log')\n",
    "model.fit(X, y)\n",
    "print('score:', model.score(X, y))"
   ]
  },
  {
   "cell_type": "markdown",
   "metadata": {},
   "source": [
    "Une fois le modèle entraîné, on peut afficher sa frontière de décision avec\n",
    "le code suivant…un peu compliqué je vous l’accorde, mais un simple\n",
    "copier/coller fera l’affaire, pas vrai ?"
   ]
  },
  {
   "cell_type": "code",
   "execution_count": null,
   "metadata": {},
   "outputs": [],
   "source": [
    "# Visualisation des données\n",
    "h = .02\n",
    "colors = \"bry\"\n",
    "x_min, x_max = X[:, 0].min() - 1, X[:, 0].max() + 1\n",
    "y_min, y_max = X[:, 1].min() - 1, X[:, 1].max() + 1\n",
    "xx, yy = np.meshgrid(np.arange(x_min, x_max, h),\n",
    "np.arange(y_min, y_max, h))\n",
    "Z = model.predict(np.c_[xx.ravel(), yy.ravel()])\n",
    "Z = Z.reshape(xx.shape)\n",
    "cs = plt.contourf(xx, yy, Z, cmap=plt.cm.Paired)\n",
    "plt.axis('tight')\n",
    "for i, color in zip(model.classes_, colors):\n",
    "    idx = np.where(y == i)\n",
    "    plt.scatter(X[idx, 0], X[idx, 1], c=color, cmap=plt.cm.Paired, edgecolor='black', s=20)"
   ]
  },
  {
   "cell_type": "markdown",
   "metadata": {},
   "source": [
    "Vision par ordinateur avec K-NN dans Jupyter"
   ]
  },
  {
   "cell_type": "code",
   "execution_count": null,
   "metadata": {},
   "outputs": [],
   "source": [
    "import numpy as np\n",
    "import matplotlib.pyplot as plt\n",
    "from sklearn.datasets import load_digits\n",
    "from sklearn.neighbors import KNeighborsClassifier"
   ]
  },
  {
   "cell_type": "code",
   "execution_count": null,
   "metadata": {},
   "outputs": [],
   "source": [
    "# importons une base de données de chiffre\n",
    "digits = load_digits()\n",
    "X = digits.data\n",
    "y = digits.target\n",
    "print('dimension de X:', X.shape)"
   ]
  },
  {
   "cell_type": "markdown",
   "metadata": {},
   "source": [
    "64 pixels\n",
    "qui forment les images.\n",
    "Quand on soumet un nouveau chiffre à la machine, l’algorithme de K-NN\n",
    "trouve l’exemple du Dataset qui ressemble le plus à notre chiffre, basé\n",
    "sur le voisin le plus proche pour la valeur de chaque pixel."
   ]
  },
  {
   "cell_type": "markdown",
   "metadata": {},
   "source": [
    "L’étape suivante consiste à entraîner le modèle de Nearest Neighbour. En\n",
    "exécutant le code vous-même, vous devriez obtenir un score de 99%, ce\n",
    "qui signifie que votre modèle reconnaitra le bon chiffre 99% du temps.\n",
    "Perso, je trouve ça impressionnant."
   ]
  },
  {
   "cell_type": "code",
   "execution_count": null,
   "metadata": {},
   "outputs": [],
   "source": [
    "# visualisons un de ces chiffres\n",
    "plt.imshow(digits['images'][0], cmap = 'Greys_r')\n",
    "# Entraînement du modele\n",
    "model = KNeighborsClassifier()\n",
    "model.fit(X, y)\n",
    "model.score(X, y)"
   ]
  },
  {
   "cell_type": "markdown",
   "metadata": {},
   "source": [
    "Pour finir en beauté, testons une image au hasard et voyons si la machine\n",
    "arrive à identifier de quel chiffre il s’agit. En l’occurrence, j’ai choisi de\n",
    "tester la 100ième image de notre Dataset, qui est un 4… et la machine a su\n",
    "la reconnaître !\n"
   ]
  },
  {
   "cell_type": "code",
   "execution_count": null,
   "metadata": {},
   "outputs": [],
   "source": [
    "#Test du modele\n",
    "test = digits['images'][100].reshape(1, -1)\n",
    "plt.imshow(digits['images'][100], cmap = 'Greys_r')\n",
    "model.predict(test)"
   ]
  },
  {
   "cell_type": "markdown",
   "metadata": {},
   "source": [
    "Programmer votre premier Réseau de Neurones pour identifier des espèces d’Iris.\n",
    "\n",
    "Normalement, on développe des Réseaux de Neurones avec un\n",
    "Framework comme Tensorflow, mais l’apprentissage de cet outil\n",
    "dépasse un peu le cadre de ce livre. \n",
    "\n",
    "Cependant, je veux bien me faire violence en vous montrant comment faire avec Sklearn ☺. Pour cela, il\n",
    "faudra importer MLPClassifier (qui signifie : Multi-Layer Perceptron Classifier).\n",
    "\n",
    "Cette fois, je vous propose de développer un programme capable de\n",
    "reconnaitre une espèce parmi plusieurs de la famille des Iris. \n",
    "\n",
    "L’algorithme utilise 4 features pour effectuer son calcul :\n",
    "\n",
    "• 𝒙𝟏 : La longueur du pétale\n",
    "\n",
    "• 𝒙𝟐 : La largeur du pétale\n",
    "\n",
    "• 𝒙𝟑 : La longueur du sépale\n",
    "\n",
    "• 𝒙𝟒 : La largeur du sépale"
   ]
  },
  {
   "cell_type": "code",
   "execution_count": null,
   "metadata": {},
   "outputs": [],
   "source": [
    "import numpy as np\n",
    "import matplotlib.pyplot as plt\n",
    "from sklearn.datasets import load_iris\n",
    "from sklearn.neural_network import MLPClassifier"
   ]
  },
  {
   "cell_type": "code",
   "execution_count": null,
   "metadata": {},
   "outputs": [],
   "source": [
    "# charger les données\n",
    "iris = load_iris()\n",
    "X = iris.data\n",
    "y = iris.target"
   ]
  },
  {
   "cell_type": "code",
   "execution_count": null,
   "metadata": {},
   "outputs": [],
   "source": [
    "X.shape # notre Dataset comprend 150 exemples et 4 variables"
   ]
  },
  {
   "cell_type": "code",
   "execution_count": null,
   "metadata": {},
   "outputs": [],
   "source": [
    "# Visualisation des donées\n",
    "colormap=np.array(['Red','green','blue'])\n",
    "plt.scatter(X[:,3], X[:,1], c = colormap[y])"
   ]
  },
  {
   "cell_type": "markdown",
   "metadata": {},
   "source": [
    "Pour développer un réseau à 3 hidden layers et 10 neurones dans chaque\n",
    "layer, j’utilise le code suivant : hidden_layer_sizes=(10, 10, 10)"
   ]
  },
  {
   "cell_type": "code",
   "execution_count": null,
   "metadata": {},
   "outputs": [],
   "source": [
    "# Création du modele\n",
    "model = MLPClassifier(hidden_layer_sizes=(10, 10, 10), max_iter=1000)\n",
    "model.fit(X, y)\n",
    "model.score(X, y)"
   ]
  },
  {
   "cell_type": "markdown",
   "metadata": {},
   "source": [
    "Cela signifie que la machine arrive à prédire la bonne espèce de\n",
    "fleur 98% du temps"
   ]
  },
  {
   "cell_type": "code",
   "execution_count": null,
   "metadata": {},
   "outputs": [],
   "source": []
  }
 ],
 "metadata": {
  "kernelspec": {
   "display_name": "Python 3",
   "language": "python",
   "name": "python3"
  },
  "language_info": {
   "codemirror_mode": {
    "name": "ipython",
    "version": 3
   },
   "file_extension": ".py",
   "mimetype": "text/x-python",
   "name": "python",
   "nbconvert_exporter": "python",
   "pygments_lexer": "ipython3",
   "version": "3.8.2"
  }
 },
 "nbformat": 4,
 "nbformat_minor": 4
}
