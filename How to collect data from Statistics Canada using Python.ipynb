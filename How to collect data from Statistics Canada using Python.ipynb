{
 "cells": [
  {
   "cell_type": "markdown",
   "metadata": {},
   "source": [
    "For instance, with the vectorID v65201210 for GDP, you can run following codes to collect GDP for the last 6 months:"
   ]
  },
  {
   "cell_type": "code",
   "execution_count": 4,
   "metadata": {},
   "outputs": [
    {
     "ename": "ModuleNotFoundError",
     "evalue": "No module named 'stats_can'",
     "output_type": "error",
     "traceback": [
      "\u001b[1;31m---------------------------------------------------------------------------\u001b[0m",
      "\u001b[1;31mModuleNotFoundError\u001b[0m                       Traceback (most recent call last)",
      "\u001b[1;32m<ipython-input-4-74fe8e750d7b>\u001b[0m in \u001b[0;36m<module>\u001b[1;34m\u001b[0m\n\u001b[1;32m----> 1\u001b[1;33m \u001b[1;32mimport\u001b[0m \u001b[0mstats_can\u001b[0m\u001b[1;33m\u001b[0m\u001b[1;33m\u001b[0m\u001b[0m\n\u001b[0m\u001b[0;32m      2\u001b[0m \u001b[1;33m\u001b[0m\u001b[0m\n\u001b[0;32m      3\u001b[0m \u001b[0mdf\u001b[0m \u001b[1;33m=\u001b[0m \u001b[0mstats_can\u001b[0m\u001b[1;33m.\u001b[0m\u001b[0msc\u001b[0m\u001b[1;33m.\u001b[0m\u001b[0mvectors_to_df\u001b[0m\u001b[1;33m(\u001b[0m\u001b[1;34m'v65201210'\u001b[0m\u001b[1;33m,\u001b[0m \u001b[0mperiods\u001b[0m \u001b[1;33m=\u001b[0m \u001b[1;36m6\u001b[0m\u001b[1;33m)\u001b[0m\u001b[1;33m\u001b[0m\u001b[1;33m\u001b[0m\u001b[0m\n",
      "\u001b[1;31mModuleNotFoundError\u001b[0m: No module named 'stats_can'"
     ]
    }
   ],
   "source": [
    "import stats_can\n",
    "\n",
    "df = stats_can.sc.vectors_to_df('v65201210', periods = 6)"
   ]
  },
  {
   "cell_type": "code",
   "execution_count": 5,
   "metadata": {},
   "outputs": [
    {
     "name": "stderr",
     "output_type": "stream",
     "text": [
      "  ERROR: Command errored out with exit status 1:"
     ]
    },
    {
     "name": "stdout",
     "output_type": "stream",
     "text": [
      "Collecting stats_can\n",
      "  Using cached stats_can-2.4.0-py3-none-any.whl (25 kB)\n",
      "Collecting h5py<4.0,>=2.10\n",
      "  Using cached h5py-3.1.0.tar.gz (371 kB)\n",
      "  Installing build dependencies: started\n",
      "  Installing build dependencies: finished with status 'done'\n",
      "  Getting requirements to build wheel: started\n",
      "  Getting requirements to build wheel: finished with status 'done'\n",
      "  Installing backend dependencies: started\n",
      "  Installing backend dependencies: finished with status 'done'\n",
      "    Preparing wheel metadata: started\n",
      "    Preparing wheel metadata: finished with status 'done'\n",
      "Requirement already satisfied: pandas<2.0.0,>=1.1.0 in c:\\users\\administrateur\\appdata\\local\\programs\\python\\python38-32\\lib\\site-packages (from stats_can) (1.1.2)\n",
      "Requirement already satisfied: requests<3.0,>=2.20 in c:\\users\\administrateur\\appdata\\local\\programs\\python\\python38-32\\lib\\site-packages (from stats_can) (2.23.0)\n",
      "Requirement already satisfied: tqdm<5.0.0,>=4.48.0 in c:\\users\\administrateur\\appdata\\local\\programs\\python\\python38-32\\lib\\site-packages (from stats_can) (4.48.2)\n",
      "Collecting tables<4.0.0,>=3.6.1\n",
      "  Using cached tables-3.6.1-2-cp38-cp38-win32.whl (2.8 MB)\n",
      "Requirement already satisfied: numpy>=1.17.5 in c:\\users\\administrateur\\appdata\\local\\programs\\python\\python38-32\\lib\\site-packages (from h5py<4.0,>=2.10->stats_can) (1.18.1)\n",
      "Requirement already satisfied: python-dateutil>=2.7.3 in c:\\users\\administrateur\\appdata\\local\\programs\\python\\python38-32\\lib\\site-packages (from pandas<2.0.0,>=1.1.0->stats_can) (2.8.1)\n",
      "Requirement already satisfied: pytz>=2017.2 in c:\\users\\administrateur\\appdata\\local\\programs\\python\\python38-32\\lib\\site-packages (from pandas<2.0.0,>=1.1.0->stats_can) (2019.3)\n",
      "Requirement already satisfied: six>=1.5 in c:\\users\\administrateur\\appdata\\local\\programs\\python\\python38-32\\lib\\site-packages (from python-dateutil>=2.7.3->pandas<2.0.0,>=1.1.0->stats_can) (1.15.0)\n",
      "Requirement already satisfied: urllib3!=1.25.0,!=1.25.1,<1.26,>=1.21.1 in c:\\users\\administrateur\\appdata\\local\\programs\\python\\python38-32\\lib\\site-packages (from requests<3.0,>=2.20->stats_can) (1.25.8)\n",
      "Requirement already satisfied: idna<3,>=2.5 in c:\\users\\administrateur\\appdata\\local\\programs\\python\\python38-32\\lib\\site-packages (from requests<3.0,>=2.20->stats_can) (2.9)\n",
      "Requirement already satisfied: certifi>=2017.4.17 in c:\\users\\administrateur\\appdata\\local\\programs\\python\\python38-32\\lib\\site-packages (from requests<3.0,>=2.20->stats_can) (2020.6.20)\n",
      "Requirement already satisfied: chardet<4,>=3.0.2 in c:\\users\\administrateur\\appdata\\local\\programs\\python\\python38-32\\lib\\site-packages (from requests<3.0,>=2.20->stats_can) (3.0.4)\n",
      "Collecting numexpr>=2.6.2\n",
      "  Using cached numexpr-2.7.2-cp38-cp38-win32.whl (90 kB)\n",
      "Building wheels for collected packages: h5py\n",
      "  Building wheel for h5py (PEP 517): started\n",
      "  Building wheel for h5py (PEP 517): finished with status 'error'\n",
      "Failed to build h5py\n"
     ]
    },
    {
     "name": "stderr",
     "output_type": "stream",
     "text": [
      "\n",
      "   command: 'c:\\users\\administrateur\\appdata\\local\\programs\\python\\python38-32\\python.exe' 'c:\\users\\administrateur\\appdata\\local\\programs\\python\\python38-32\\lib\\site-packages\\pip\\_vendor\\pep517\\_in_process.py' build_wheel 'C:\\Users\\ADMINI~1\\AppData\\Local\\Temp\\tmplll3mebg'\n",
      "       cwd: C:\\Users\\Administrateur\\AppData\\Local\\Temp\\pip-install-b45wq4nq\\h5py_cb38af59de054cdb986cc378413f8598\n",
      "  Complete output (70 lines):\n",
      "  running bdist_wheel\n",
      "  running build\n",
      "  running build_py\n",
      "  creating build\n",
      "  creating build\\lib.win32-3.8\n",
      "  creating build\\lib.win32-3.8\\h5py\n",
      "  copying h5py\\h5py_warnings.py -> build\\lib.win32-3.8\\h5py\n",
      "  copying h5py\\ipy_completer.py -> build\\lib.win32-3.8\\h5py\n",
      "  copying h5py\\version.py -> build\\lib.win32-3.8\\h5py\n",
      "  copying h5py\\__init__.py -> build\\lib.win32-3.8\\h5py\n",
      "  creating build\\lib.win32-3.8\\h5py\\_hl\n",
      "  copying h5py\\_hl\\attrs.py -> build\\lib.win32-3.8\\h5py\\_hl\n",
      "  copying h5py\\_hl\\base.py -> build\\lib.win32-3.8\\h5py\\_hl\n",
      "  copying h5py\\_hl\\compat.py -> build\\lib.win32-3.8\\h5py\\_hl\n",
      "  copying h5py\\_hl\\dataset.py -> build\\lib.win32-3.8\\h5py\\_hl\n",
      "  copying h5py\\_hl\\datatype.py -> build\\lib.win32-3.8\\h5py\\_hl\n",
      "  copying h5py\\_hl\\dims.py -> build\\lib.win32-3.8\\h5py\\_hl\n",
      "  copying h5py\\_hl\\files.py -> build\\lib.win32-3.8\\h5py\\_hl\n",
      "  copying h5py\\_hl\\filters.py -> build\\lib.win32-3.8\\h5py\\_hl\n",
      "  copying h5py\\_hl\\group.py -> build\\lib.win32-3.8\\h5py\\_hl\n",
      "  copying h5py\\_hl\\selections.py -> build\\lib.win32-3.8\\h5py\\_hl\n",
      "  copying h5py\\_hl\\selections2.py -> build\\lib.win32-3.8\\h5py\\_hl\n",
      "  copying h5py\\_hl\\vds.py -> build\\lib.win32-3.8\\h5py\\_hl\n",
      "  copying h5py\\_hl\\__init__.py -> build\\lib.win32-3.8\\h5py\\_hl\n",
      "  creating build\\lib.win32-3.8\\h5py\\tests\n",
      "  copying h5py\\tests\\common.py -> build\\lib.win32-3.8\\h5py\\tests\n",
      "  copying h5py\\tests\\conftest.py -> build\\lib.win32-3.8\\h5py\\tests\n",
      "  copying h5py\\tests\\test_attribute_create.py -> build\\lib.win32-3.8\\h5py\\tests\n",
      "  copying h5py\\tests\\test_attrs.py -> build\\lib.win32-3.8\\h5py\\tests\n",
      "  copying h5py\\tests\\test_attrs_data.py -> build\\lib.win32-3.8\\h5py\\tests\n",
      "  copying h5py\\tests\\test_base.py -> build\\lib.win32-3.8\\h5py\\tests\n",
      "  copying h5py\\tests\\test_big_endian_file.py -> build\\lib.win32-3.8\\h5py\\tests\n",
      "  copying h5py\\tests\\test_completions.py -> build\\lib.win32-3.8\\h5py\\tests\n",
      "  copying h5py\\tests\\test_dataset.py -> build\\lib.win32-3.8\\h5py\\tests\n",
      "  copying h5py\\tests\\test_dataset_getitem.py -> build\\lib.win32-3.8\\h5py\\tests\n",
      "  copying h5py\\tests\\test_dataset_swmr.py -> build\\lib.win32-3.8\\h5py\\tests\n",
      "  copying h5py\\tests\\test_datatype.py -> build\\lib.win32-3.8\\h5py\\tests\n",
      "  copying h5py\\tests\\test_dimension_scales.py -> build\\lib.win32-3.8\\h5py\\tests\n",
      "  copying h5py\\tests\\test_dims_dimensionproxy.py -> build\\lib.win32-3.8\\h5py\\tests\n",
      "  copying h5py\\tests\\test_dtype.py -> build\\lib.win32-3.8\\h5py\\tests\n",
      "  copying h5py\\tests\\test_errors.py -> build\\lib.win32-3.8\\h5py\\tests\n",
      "  copying h5py\\tests\\test_file.py -> build\\lib.win32-3.8\\h5py\\tests\n",
      "  copying h5py\\tests\\test_file2.py -> build\\lib.win32-3.8\\h5py\\tests\n",
      "  copying h5py\\tests\\test_file_image.py -> build\\lib.win32-3.8\\h5py\\tests\n",
      "  copying h5py\\tests\\test_filters.py -> build\\lib.win32-3.8\\h5py\\tests\n",
      "  copying h5py\\tests\\test_group.py -> build\\lib.win32-3.8\\h5py\\tests\n",
      "  copying h5py\\tests\\test_h5.py -> build\\lib.win32-3.8\\h5py\\tests\n",
      "  copying h5py\\tests\\test_h5d_direct_chunk.py -> build\\lib.win32-3.8\\h5py\\tests\n",
      "  copying h5py\\tests\\test_h5f.py -> build\\lib.win32-3.8\\h5py\\tests\n",
      "  copying h5py\\tests\\test_h5p.py -> build\\lib.win32-3.8\\h5py\\tests\n",
      "  copying h5py\\tests\\test_h5pl.py -> build\\lib.win32-3.8\\h5py\\tests\n",
      "  copying h5py\\tests\\test_h5t.py -> build\\lib.win32-3.8\\h5py\\tests\n",
      "  copying h5py\\tests\\test_objects.py -> build\\lib.win32-3.8\\h5py\\tests\n",
      "  copying h5py\\tests\\test_selections.py -> build\\lib.win32-3.8\\h5py\\tests\n",
      "  copying h5py\\tests\\test_slicing.py -> build\\lib.win32-3.8\\h5py\\tests\n",
      "  copying h5py\\tests\\__init__.py -> build\\lib.win32-3.8\\h5py\\tests\n",
      "  creating build\\lib.win32-3.8\\h5py\\tests\\data_files\n",
      "  copying h5py\\tests\\data_files\\__init__.py -> build\\lib.win32-3.8\\h5py\\tests\\data_files\n",
      "  creating build\\lib.win32-3.8\\h5py\\tests\\test_vds\n",
      "  copying h5py\\tests\\test_vds\\test_highlevel_vds.py -> build\\lib.win32-3.8\\h5py\\tests\\test_vds\n",
      "  copying h5py\\tests\\test_vds\\test_lowlevel_vds.py -> build\\lib.win32-3.8\\h5py\\tests\\test_vds\n",
      "  copying h5py\\tests\\test_vds\\test_virtual_source.py -> build\\lib.win32-3.8\\h5py\\tests\\test_vds\n",
      "  copying h5py\\tests\\test_vds\\__init__.py -> build\\lib.win32-3.8\\h5py\\tests\\test_vds\n",
      "  copying h5py\\tests\\data_files\\vlen_string_dset.h5 -> build\\lib.win32-3.8\\h5py\\tests\\data_files\n",
      "  copying h5py\\tests\\data_files\\vlen_string_dset_utc.h5 -> build\\lib.win32-3.8\\h5py\\tests\\data_files\n",
      "  copying h5py\\tests\\data_files\\vlen_string_s390x.h5 -> build\\lib.win32-3.8\\h5py\\tests\\data_files\n",
      "  running build_ext\n",
      "  Loading library to get version: hdf5.dll\n",
      "  error: Unable to load dependency HDF5, make sure HDF5 is installed properly\n",
      "  error: Could not find module 'hdf5.dll' (or one of its dependencies). Try using the full path with constructor syntax.\n",
      "  ----------------------------------------\n",
      "  ERROR: Failed building wheel for h5py\n",
      "ERROR: Could not build wheels for h5py which use PEP 517 and cannot be installed directly\n"
     ]
    }
   ],
   "source": [
    "! pip install stats_can"
   ]
  },
  {
   "cell_type": "code",
   "execution_count": 10,
   "metadata": {},
   "outputs": [
    {
     "ename": "FileNotFoundError",
     "evalue": "[Errno 2] No such file or directory: 'C:\\\\Users\\\\Administrateur\\\\Downloads\\\\stats_can-2.4.0-py3-none-any.whl, error_bad_lines=False'",
     "output_type": "error",
     "traceback": [
      "\u001b[1;31m---------------------------------------------------------------------------\u001b[0m",
      "\u001b[1;31mFileNotFoundError\u001b[0m                         Traceback (most recent call last)",
      "\u001b[1;32m<ipython-input-10-a97d65833889>\u001b[0m in \u001b[0;36m<module>\u001b[1;34m\u001b[0m\n\u001b[0;32m      1\u001b[0m \u001b[1;32mimport\u001b[0m \u001b[0mpandas\u001b[0m \u001b[1;32mas\u001b[0m \u001b[0mpd\u001b[0m\u001b[1;33m\u001b[0m\u001b[1;33m\u001b[0m\u001b[0m\n\u001b[0;32m      2\u001b[0m \u001b[1;33m\u001b[0m\u001b[0m\n\u001b[1;32m----> 3\u001b[1;33m \u001b[0mdf\u001b[0m \u001b[1;33m=\u001b[0m \u001b[0mpd\u001b[0m\u001b[1;33m.\u001b[0m\u001b[0mread_csv\u001b[0m\u001b[1;33m(\u001b[0m\u001b[1;34mr'C:\\Users\\Administrateur\\Downloads\\stats_can-2.4.0-py3-none-any.whl, error_bad_lines=False'\u001b[0m\u001b[1;33m)\u001b[0m\u001b[1;33m\u001b[0m\u001b[1;33m\u001b[0m\u001b[0m\n\u001b[0m",
      "\u001b[1;32mc:\\users\\administrateur\\appdata\\local\\programs\\python\\python38-32\\lib\\site-packages\\pandas\\io\\parsers.py\u001b[0m in \u001b[0;36mread_csv\u001b[1;34m(filepath_or_buffer, sep, delimiter, header, names, index_col, usecols, squeeze, prefix, mangle_dupe_cols, dtype, engine, converters, true_values, false_values, skipinitialspace, skiprows, skipfooter, nrows, na_values, keep_default_na, na_filter, verbose, skip_blank_lines, parse_dates, infer_datetime_format, keep_date_col, date_parser, dayfirst, cache_dates, iterator, chunksize, compression, thousands, decimal, lineterminator, quotechar, quoting, doublequote, escapechar, comment, encoding, dialect, error_bad_lines, warn_bad_lines, delim_whitespace, low_memory, memory_map, float_precision)\u001b[0m\n\u001b[0;32m    684\u001b[0m     )\n\u001b[0;32m    685\u001b[0m \u001b[1;33m\u001b[0m\u001b[0m\n\u001b[1;32m--> 686\u001b[1;33m     \u001b[1;32mreturn\u001b[0m \u001b[0m_read\u001b[0m\u001b[1;33m(\u001b[0m\u001b[0mfilepath_or_buffer\u001b[0m\u001b[1;33m,\u001b[0m \u001b[0mkwds\u001b[0m\u001b[1;33m)\u001b[0m\u001b[1;33m\u001b[0m\u001b[1;33m\u001b[0m\u001b[0m\n\u001b[0m\u001b[0;32m    687\u001b[0m \u001b[1;33m\u001b[0m\u001b[0m\n\u001b[0;32m    688\u001b[0m \u001b[1;33m\u001b[0m\u001b[0m\n",
      "\u001b[1;32mc:\\users\\administrateur\\appdata\\local\\programs\\python\\python38-32\\lib\\site-packages\\pandas\\io\\parsers.py\u001b[0m in \u001b[0;36m_read\u001b[1;34m(filepath_or_buffer, kwds)\u001b[0m\n\u001b[0;32m    450\u001b[0m \u001b[1;33m\u001b[0m\u001b[0m\n\u001b[0;32m    451\u001b[0m     \u001b[1;31m# Create the parser.\u001b[0m\u001b[1;33m\u001b[0m\u001b[1;33m\u001b[0m\u001b[1;33m\u001b[0m\u001b[0m\n\u001b[1;32m--> 452\u001b[1;33m     \u001b[0mparser\u001b[0m \u001b[1;33m=\u001b[0m \u001b[0mTextFileReader\u001b[0m\u001b[1;33m(\u001b[0m\u001b[0mfp_or_buf\u001b[0m\u001b[1;33m,\u001b[0m \u001b[1;33m**\u001b[0m\u001b[0mkwds\u001b[0m\u001b[1;33m)\u001b[0m\u001b[1;33m\u001b[0m\u001b[1;33m\u001b[0m\u001b[0m\n\u001b[0m\u001b[0;32m    453\u001b[0m \u001b[1;33m\u001b[0m\u001b[0m\n\u001b[0;32m    454\u001b[0m     \u001b[1;32mif\u001b[0m \u001b[0mchunksize\u001b[0m \u001b[1;32mor\u001b[0m \u001b[0miterator\u001b[0m\u001b[1;33m:\u001b[0m\u001b[1;33m\u001b[0m\u001b[1;33m\u001b[0m\u001b[0m\n",
      "\u001b[1;32mc:\\users\\administrateur\\appdata\\local\\programs\\python\\python38-32\\lib\\site-packages\\pandas\\io\\parsers.py\u001b[0m in \u001b[0;36m__init__\u001b[1;34m(self, f, engine, **kwds)\u001b[0m\n\u001b[0;32m    934\u001b[0m             \u001b[0mself\u001b[0m\u001b[1;33m.\u001b[0m\u001b[0moptions\u001b[0m\u001b[1;33m[\u001b[0m\u001b[1;34m\"has_index_names\"\u001b[0m\u001b[1;33m]\u001b[0m \u001b[1;33m=\u001b[0m \u001b[0mkwds\u001b[0m\u001b[1;33m[\u001b[0m\u001b[1;34m\"has_index_names\"\u001b[0m\u001b[1;33m]\u001b[0m\u001b[1;33m\u001b[0m\u001b[1;33m\u001b[0m\u001b[0m\n\u001b[0;32m    935\u001b[0m \u001b[1;33m\u001b[0m\u001b[0m\n\u001b[1;32m--> 936\u001b[1;33m         \u001b[0mself\u001b[0m\u001b[1;33m.\u001b[0m\u001b[0m_make_engine\u001b[0m\u001b[1;33m(\u001b[0m\u001b[0mself\u001b[0m\u001b[1;33m.\u001b[0m\u001b[0mengine\u001b[0m\u001b[1;33m)\u001b[0m\u001b[1;33m\u001b[0m\u001b[1;33m\u001b[0m\u001b[0m\n\u001b[0m\u001b[0;32m    937\u001b[0m \u001b[1;33m\u001b[0m\u001b[0m\n\u001b[0;32m    938\u001b[0m     \u001b[1;32mdef\u001b[0m \u001b[0mclose\u001b[0m\u001b[1;33m(\u001b[0m\u001b[0mself\u001b[0m\u001b[1;33m)\u001b[0m\u001b[1;33m:\u001b[0m\u001b[1;33m\u001b[0m\u001b[1;33m\u001b[0m\u001b[0m\n",
      "\u001b[1;32mc:\\users\\administrateur\\appdata\\local\\programs\\python\\python38-32\\lib\\site-packages\\pandas\\io\\parsers.py\u001b[0m in \u001b[0;36m_make_engine\u001b[1;34m(self, engine)\u001b[0m\n\u001b[0;32m   1166\u001b[0m     \u001b[1;32mdef\u001b[0m \u001b[0m_make_engine\u001b[0m\u001b[1;33m(\u001b[0m\u001b[0mself\u001b[0m\u001b[1;33m,\u001b[0m \u001b[0mengine\u001b[0m\u001b[1;33m=\u001b[0m\u001b[1;34m\"c\"\u001b[0m\u001b[1;33m)\u001b[0m\u001b[1;33m:\u001b[0m\u001b[1;33m\u001b[0m\u001b[1;33m\u001b[0m\u001b[0m\n\u001b[0;32m   1167\u001b[0m         \u001b[1;32mif\u001b[0m \u001b[0mengine\u001b[0m \u001b[1;33m==\u001b[0m \u001b[1;34m\"c\"\u001b[0m\u001b[1;33m:\u001b[0m\u001b[1;33m\u001b[0m\u001b[1;33m\u001b[0m\u001b[0m\n\u001b[1;32m-> 1168\u001b[1;33m             \u001b[0mself\u001b[0m\u001b[1;33m.\u001b[0m\u001b[0m_engine\u001b[0m \u001b[1;33m=\u001b[0m \u001b[0mCParserWrapper\u001b[0m\u001b[1;33m(\u001b[0m\u001b[0mself\u001b[0m\u001b[1;33m.\u001b[0m\u001b[0mf\u001b[0m\u001b[1;33m,\u001b[0m \u001b[1;33m**\u001b[0m\u001b[0mself\u001b[0m\u001b[1;33m.\u001b[0m\u001b[0moptions\u001b[0m\u001b[1;33m)\u001b[0m\u001b[1;33m\u001b[0m\u001b[1;33m\u001b[0m\u001b[0m\n\u001b[0m\u001b[0;32m   1169\u001b[0m         \u001b[1;32melse\u001b[0m\u001b[1;33m:\u001b[0m\u001b[1;33m\u001b[0m\u001b[1;33m\u001b[0m\u001b[0m\n\u001b[0;32m   1170\u001b[0m             \u001b[1;32mif\u001b[0m \u001b[0mengine\u001b[0m \u001b[1;33m==\u001b[0m \u001b[1;34m\"python\"\u001b[0m\u001b[1;33m:\u001b[0m\u001b[1;33m\u001b[0m\u001b[1;33m\u001b[0m\u001b[0m\n",
      "\u001b[1;32mc:\\users\\administrateur\\appdata\\local\\programs\\python\\python38-32\\lib\\site-packages\\pandas\\io\\parsers.py\u001b[0m in \u001b[0;36m__init__\u001b[1;34m(self, src, **kwds)\u001b[0m\n\u001b[0;32m   1996\u001b[0m         \u001b[0mkwds\u001b[0m\u001b[1;33m[\u001b[0m\u001b[1;34m\"usecols\"\u001b[0m\u001b[1;33m]\u001b[0m \u001b[1;33m=\u001b[0m \u001b[0mself\u001b[0m\u001b[1;33m.\u001b[0m\u001b[0musecols\u001b[0m\u001b[1;33m\u001b[0m\u001b[1;33m\u001b[0m\u001b[0m\n\u001b[0;32m   1997\u001b[0m \u001b[1;33m\u001b[0m\u001b[0m\n\u001b[1;32m-> 1998\u001b[1;33m         \u001b[0mself\u001b[0m\u001b[1;33m.\u001b[0m\u001b[0m_reader\u001b[0m \u001b[1;33m=\u001b[0m \u001b[0mparsers\u001b[0m\u001b[1;33m.\u001b[0m\u001b[0mTextReader\u001b[0m\u001b[1;33m(\u001b[0m\u001b[0msrc\u001b[0m\u001b[1;33m,\u001b[0m \u001b[1;33m**\u001b[0m\u001b[0mkwds\u001b[0m\u001b[1;33m)\u001b[0m\u001b[1;33m\u001b[0m\u001b[1;33m\u001b[0m\u001b[0m\n\u001b[0m\u001b[0;32m   1999\u001b[0m         \u001b[0mself\u001b[0m\u001b[1;33m.\u001b[0m\u001b[0munnamed_cols\u001b[0m \u001b[1;33m=\u001b[0m \u001b[0mself\u001b[0m\u001b[1;33m.\u001b[0m\u001b[0m_reader\u001b[0m\u001b[1;33m.\u001b[0m\u001b[0munnamed_cols\u001b[0m\u001b[1;33m\u001b[0m\u001b[1;33m\u001b[0m\u001b[0m\n\u001b[0;32m   2000\u001b[0m \u001b[1;33m\u001b[0m\u001b[0m\n",
      "\u001b[1;32mpandas\\_libs\\parsers.pyx\u001b[0m in \u001b[0;36mpandas._libs.parsers.TextReader.__cinit__\u001b[1;34m()\u001b[0m\n",
      "\u001b[1;32mpandas\\_libs\\parsers.pyx\u001b[0m in \u001b[0;36mpandas._libs.parsers.TextReader._setup_parser_source\u001b[1;34m()\u001b[0m\n",
      "\u001b[1;31mFileNotFoundError\u001b[0m: [Errno 2] No such file or directory: 'C:\\\\Users\\\\Administrateur\\\\Downloads\\\\stats_can-2.4.0-py3-none-any.whl, error_bad_lines=False'"
     ]
    }
   ],
   "source": [
    "import pandas as pd\n",
    "\n",
    "df = pd.read_csv(r'C:\\Users\\Administrateur\\Downloads\\stats_can-2.4.0-py3-none-any.whl, error_bad_lines=False')\n"
   ]
  },
  {
   "cell_type": "code",
   "execution_count": null,
   "metadata": {},
   "outputs": [],
   "source": []
  }
 ],
 "metadata": {
  "hide_input": false,
  "kernelspec": {
   "display_name": "Python 3",
   "language": "python",
   "name": "python3"
  },
  "language_info": {
   "codemirror_mode": {
    "name": "ipython",
    "version": 3
   },
   "file_extension": ".py",
   "mimetype": "text/x-python",
   "name": "python",
   "nbconvert_exporter": "python",
   "pygments_lexer": "ipython3",
   "version": "3.8.2"
  },
  "latex_envs": {
   "LaTeX_envs_menu_present": true,
   "autoclose": false,
   "autocomplete": true,
   "bibliofile": "biblio.bib",
   "cite_by": "apalike",
   "current_citInitial": 1,
   "eqLabelWithNumbers": true,
   "eqNumInitial": 1,
   "hotkeys": {
    "equation": "Ctrl-E",
    "itemize": "Ctrl-I"
   },
   "labels_anchors": false,
   "latex_user_defs": false,
   "report_style_numbering": false,
   "user_envs_cfg": false
  }
 },
 "nbformat": 4,
 "nbformat_minor": 4
}
