{
 "cells": [
  {
   "cell_type": "code",
   "execution_count": 1,
   "metadata": {},
   "outputs": [],
   "source": [
    "# function to display YouTube videos and external web-pages\n",
    "from IPython.core.display import display, HTML\n",
    "def video(key):\n",
    "    display(HTML('<iframe width=\"560\" height=\"315\" src=\"https://www.youtube.com/embed/'+key+'\" \\\n",
    "             frameborder=\"0\" allow=\"autoplay; encrypted-media\" allowfullscreen></iframe>'))"
   ]
  },
  {
   "cell_type": "code",
   "execution_count": 2,
   "metadata": {},
   "outputs": [
    {
     "name": "stdout",
     "output_type": "stream",
     "text": [
      "c:\\users\\administrateur\\appdata\\local\\programs\\python\\python38-32\\python.exe\n"
     ]
    }
   ],
   "source": [
    "import sys\n",
    "print(sys.executable)"
   ]
  },
  {
   "cell_type": "code",
   "execution_count": 3,
   "metadata": {},
   "outputs": [
    {
     "name": "stdout",
     "output_type": "stream",
     "text": [
      "C:\\Users\\Administrateur\n"
     ]
    }
   ],
   "source": [
    "import os\n",
    "print(os.getcwd())"
   ]
  },
  {
   "cell_type": "code",
   "execution_count": 4,
   "metadata": {},
   "outputs": [
    {
     "name": "stdout",
     "output_type": "stream",
     "text": [
      "Package                           Version\n",
      "--------------------------------- ------------\n",
      "altair                            4.1.0\n",
      "amply                             0.1.4\n",
      "appdirs                           1.4.4\n",
      "argon2-cffi                       20.1.0\n",
      "asttokens                         2.0.4\n",
      "async-generator                   1.10\n",
      "attrs                             20.2.0\n",
      "backcall                          0.2.0\n",
      "beautifulsoup4                    4.9.1\n",
      "bleach                            3.2.1\n",
      "bokeh                             2.0.0\n",
      "Brotli                            1.0.9\n",
      "bs4                               0.0.1\n",
      "category-encoders                 2.2.2\n",
      "certifi                           2020.6.20\n",
      "cffi                              1.14.3\n",
      "chardet                           3.0.4\n",
      "click                             7.1.2\n",
      "cmake                             3.18.4.post1\n",
      "colorama                          0.4.4\n",
      "Command                           0.1.0\n",
      "commonmark                        0.9.1\n",
      "confuse                           1.3.0\n",
      "csscompressor                     0.9.5\n",
      "curl                              0.0.1\n",
      "cycler                            0.10.0\n",
      "daiquiri                          3.0.0\n",
      "dash                              1.19.0\n",
      "dash-core-components              1.15.0\n",
      "dash-html-components              1.1.2\n",
      "dash-renderer                     1.9.0\n",
      "dash-table                        4.11.2\n",
      "DataBaseManager                   0.0.7\n",
      "decorator                         4.4.2\n",
      "defusedxml                        0.6.0\n",
      "distlib                           0.3.1\n",
      "docutils                          0.16\n",
      "docx2txt                          0.8\n",
      "entrypoints                       0.3\n",
      "et-xmlfile                        1.0.1\n",
      "executing                         0.5.4\n",
      "filelock                          3.0.12\n",
      "Flask                             1.1.2\n",
      "Flask-Compress                    1.8.0\n",
      "Flask-Cors                        3.0.10\n",
      "fsspec                            0.8.4\n",
      "future                            0.18.2\n",
      "gekko                             0.2.8\n",
      "gunicorn                          20.0.4\n",
      "h5py                              2.10.0\n",
      "htmlmin                           0.1.12\n",
      "icecream                          2.1.0\n",
      "idna                              2.9\n",
      "iexfinance                        0.4.3\n",
      "ImageHash                         4.1.0\n",
      "imageio                           2.8.0\n",
      "inflection                        0.5.1\n",
      "ipydatawidgets                    4.2.0\n",
      "ipykernel                         5.3.4\n",
      "ipython                           7.18.1\n",
      "ipython-genutils                  0.2.0\n",
      "ipyvolume                         0.5.2\n",
      "ipywebrtc                         0.5.0\n",
      "ipywidgets                        7.5.1\n",
      "itables                           0.3.0\n",
      "itsdangerous                      1.1.0\n",
      "jdcal                             1.4.1\n",
      "jedi                              0.17.2\n",
      "Jinja2                            2.11.2\n",
      "joblib                            0.14.1\n",
      "json5                             0.9.1\n",
      "jsonschema                        3.2.0\n",
      "jupyter                           1.0.0\n",
      "jupyter-client                    6.1.7\n",
      "jupyter-console                   6.2.0\n",
      "jupyter-contrib-core              0.3.3\n",
      "jupyter-contrib-nbextensions      0.5.1\n",
      "jupyter-core                      4.6.3\n",
      "jupyter-datatables                0.3.9\n",
      "jupyter-highlight-selected-word   0.2.0\n",
      "jupyter-latex-envs                1.4.6\n",
      "jupyter-nbextensions-configurator 0.4.1\n",
      "jupyter-nbutils                   0.1.3\n",
      "jupyter-require                   0.6.1\n",
      "jupyterlab                        2.0.0\n",
      "jupyterlab-pygments               0.1.2\n",
      "jupyterlab-server                 1.0.6\n",
      "jupyterthemes                     0.20.0\n",
      "Keras                             2.4.3\n",
      "kiwisolver                        1.1.0\n",
      "lab                               6.2\n",
      "Languages                         1.0.0\n",
      "lasio                             0.25.0\n",
      "lesscpy                           0.14.0\n",
      "llvmlite                          0.34.0\n",
      "lxml                              4.5.2\n",
      "MarkupSafe                        1.1.1\n",
      "matplotlib                        3.3.2\n",
      "missingno                         0.4.2\n",
      "mistune                           0.8.4\n",
      "more-itertools                    8.6.0\n",
      "MouseInfo                         0.1.3\n",
      "mpmath                            1.2.1\n",
      "multitasking                      0.0.9\n",
      "nbclient                          0.5.1\n",
      "nbconvert                         6.0.7\n",
      "nbformat                          5.0.8\n",
      "ndindex                           1.5.1\n",
      "nest-asyncio                      1.4.1\n",
      "networkx                          2.4\n",
      "nltk                              3.5\n",
      "notebook                          6.1.4\n",
      "numba                             0.51.2\n",
      "numpy                             1.18.1\n",
      "openpyxl                          3.0.5\n",
      "packaging                         20.4\n",
      "pandas                            1.1.2\n",
      "pandas-datareader                 0.9.0\n",
      "pandas-profiling                  2.9.0\n",
      "pandoc                            1.0.2\n",
      "pandocfilters                     1.4.2\n",
      "parso                             0.7.1\n",
      "patsy                             0.5.1\n",
      "phik                              0.10.0\n",
      "pickleshare                       0.7.5\n",
      "Pillow                            7.0.0\n",
      "pip                               21.0.1\n",
      "plotly                            4.14.3\n",
      "ply                               3.11\n",
      "prob                              0.0.2\n",
      "prometheus-client                 0.8.0\n",
      "prompt-toolkit                    3.0.8\n",
      "psycopg2                          2.8.6\n",
      "PuLP                              2.3.1\n",
      "PyAutoGUI                         0.9.52\n",
      "pybind11                          2.6.1\n",
      "pycparser                         2.20\n",
      "pyforest                          1.0.3\n",
      "pygame                            1.9.6\n",
      "PyGetWindow                       0.0.9\n",
      "Pygments                          2.7.1\n",
      "PyMsgBox                          1.0.8\n",
      "pyparsing                         2.4.7\n",
      "pyperclip                         1.8.0\n",
      "PyRect                            0.1.4\n",
      "pyrsistent                        0.17.3\n",
      "PyScreeze                         0.1.26\n",
      "pyserial                          3.5\n",
      "python-dateutil                   2.8.1\n",
      "python-json-logger                2.0.1\n",
      "python-math                       0.0.1\n",
      "pythreejs                         2.2.1\n",
      "PyTweening                        1.0.3\n",
      "pytz                              2019.3\n",
      "PyWavelets                        1.1.1\n",
      "pywin32                           228\n",
      "pywinpty                          0.5.7\n",
      "PyYAML                            5.3.1\n",
      "pyzmq                             19.0.2\n",
      "qgrid                             1.3.1\n",
      "qtconsole                         4.7.7\n",
      "QtPy                              1.9.0\n",
      "Quandl                            3.5.3\n",
      "regex                             2020.7.14\n",
      "requests                          2.23.0\n",
      "retrying                          1.3.3\n",
      "rich                              9.10.0\n",
      "scikit-image                      0.16.2\n",
      "scikit-learn                      0.22.2.post1\n",
      "scipy                             1.4.1\n",
      "seaborn                           0.11.0\n",
      "selenium                          3.141.0\n",
      "Send2Trash                        1.5.0\n",
      "setuptools                        52.0.0\n",
      "simplejson                        3.17.2\n",
      "six                               1.15.0\n",
      "sklearn                           0.0\n",
      "soupsieve                         2.0.1\n",
      "SQLAlchemy                        1.3.19\n",
      "statsmodels                       0.12.1\n",
      "sympy                             1.7.1\n",
      "tangled-up-in-unicode             0.0.6\n",
      "tclab                             0.4.9\n",
      "terminado                         0.9.1\n",
      "testpath                          0.4.4\n",
      "Theano                            1.0.5\n",
      "toolz                             0.11.1\n",
      "tornado                           6.0.4\n",
      "tqdm                              4.48.2\n",
      "traitlets                         5.0.5\n",
      "traittypes                        0.2.1\n",
      "txt2tags                          3.7\n",
      "typing-extensions                 3.7.4.1\n",
      "urllib3                           1.25.8\n",
      "vega                              1.3.0\n",
      "vega-datasets                     0.9.0\n",
      "versioned-hdf5                    1.2.3\n",
      "virtualenv                        20.4.2\n",
      "visions                           0.5.0\n",
      "wcwidth                           0.2.5\n",
      "webencodings                      0.5.1\n",
      "Werkzeug                          1.0.1\n",
      "wget                              3.2\n",
      "wheel                             0.36.2\n",
      "widgetsnbextension                3.5.1\n",
      "wxPython                          4.0.7.post2\n",
      "xlrd                              1.2.0\n",
      "yahoo-finance                     1.4.0\n",
      "yellowbrick                       1.1\n",
      "yfinance                          0.1.54\n"
     ]
    }
   ],
   "source": [
    "! pip list"
   ]
  },
  {
   "cell_type": "code",
   "execution_count": 6,
   "metadata": {},
   "outputs": [
    {
     "name": "stdout",
     "output_type": "stream",
     "text": [
      "TCLab version 0.4.9\n",
      "--- Serial Ports ---\n",
      "COM1 Port de communication (COM1) ACPI\\PNP0501\\1\n"
     ]
    },
    {
     "ename": "RuntimeError",
     "evalue": "No Arduino device found.",
     "output_type": "error",
     "traceback": [
      "\u001b[1;31m---------------------------------------------------------------------------\u001b[0m",
      "\u001b[1;31mRuntimeError\u001b[0m                              Traceback (most recent call last)",
      "\u001b[1;32m<ipython-input-6-0f427f750a86>\u001b[0m in \u001b[0;36m<module>\u001b[1;34m\u001b[0m\n\u001b[0;32m      2\u001b[0m \u001b[1;32mimport\u001b[0m \u001b[0mtime\u001b[0m\u001b[1;33m\u001b[0m\u001b[1;33m\u001b[0m\u001b[0m\n\u001b[0;32m      3\u001b[0m \u001b[1;33m\u001b[0m\u001b[0m\n\u001b[1;32m----> 4\u001b[1;33m \u001b[1;32mwith\u001b[0m \u001b[0mtclab\u001b[0m\u001b[1;33m.\u001b[0m\u001b[0mTCLab\u001b[0m\u001b[1;33m(\u001b[0m\u001b[1;33m)\u001b[0m \u001b[1;32mas\u001b[0m \u001b[0mlab\u001b[0m\u001b[1;33m:\u001b[0m\u001b[1;33m\u001b[0m\u001b[1;33m\u001b[0m\u001b[0m\n\u001b[0m\u001b[0;32m      5\u001b[0m     \u001b[0mlab\u001b[0m\u001b[1;33m.\u001b[0m\u001b[0mLED\u001b[0m\u001b[1;33m(\u001b[0m\u001b[1;36m100\u001b[0m\u001b[1;33m)\u001b[0m\u001b[1;33m\u001b[0m\u001b[1;33m\u001b[0m\u001b[0m\n\u001b[0;32m      6\u001b[0m     \u001b[0mtime\u001b[0m\u001b[1;33m.\u001b[0m\u001b[0msleep\u001b[0m\u001b[1;33m(\u001b[0m\u001b[1;36m5.0\u001b[0m\u001b[1;33m)\u001b[0m \u001b[1;31m# wait 5.0 seconds\u001b[0m\u001b[1;33m\u001b[0m\u001b[1;33m\u001b[0m\u001b[0m\n",
      "\u001b[1;32m~\\AppData\\Roaming\\Python\\Python38\\site-packages\\tclab\\tclab.py\u001b[0m in \u001b[0;36m__init__\u001b[1;34m(self, port, debug)\u001b[0m\n\u001b[0;32m     59\u001b[0m         \u001b[0mself\u001b[0m\u001b[1;33m.\u001b[0m\u001b[0mport\u001b[0m\u001b[1;33m,\u001b[0m \u001b[0mself\u001b[0m\u001b[1;33m.\u001b[0m\u001b[0marduino\u001b[0m \u001b[1;33m=\u001b[0m \u001b[0mfind_arduino\u001b[0m\u001b[1;33m(\u001b[0m\u001b[0mport\u001b[0m\u001b[1;33m)\u001b[0m\u001b[1;33m\u001b[0m\u001b[1;33m\u001b[0m\u001b[0m\n\u001b[0;32m     60\u001b[0m         \u001b[1;32mif\u001b[0m \u001b[0mself\u001b[0m\u001b[1;33m.\u001b[0m\u001b[0mport\u001b[0m \u001b[1;32mis\u001b[0m \u001b[1;32mNone\u001b[0m\u001b[1;33m:\u001b[0m\u001b[1;33m\u001b[0m\u001b[1;33m\u001b[0m\u001b[0m\n\u001b[1;32m---> 61\u001b[1;33m             \u001b[1;32mraise\u001b[0m \u001b[0mRuntimeError\u001b[0m\u001b[1;33m(\u001b[0m\u001b[1;34m'No Arduino device found.'\u001b[0m\u001b[1;33m)\u001b[0m\u001b[1;33m\u001b[0m\u001b[1;33m\u001b[0m\u001b[0m\n\u001b[0m\u001b[0;32m     62\u001b[0m \u001b[1;33m\u001b[0m\u001b[0m\n\u001b[0;32m     63\u001b[0m         \u001b[1;32mtry\u001b[0m\u001b[1;33m:\u001b[0m\u001b[1;33m\u001b[0m\u001b[1;33m\u001b[0m\u001b[0m\n",
      "\u001b[1;31mRuntimeError\u001b[0m: No Arduino device found."
     ]
    }
   ],
   "source": [
    "import tclab\n",
    "import time\n",
    "\n",
    "with tclab.TCLab() as lab:\n",
    "    lab.LED(100)\n",
    "    time.sleep(5.0) # wait 5.0 seconds\n",
    "    lab.LED(0)"
   ]
  },
  {
   "cell_type": "code",
   "execution_count": 8,
   "metadata": {},
   "outputs": [],
   "source": [
    "import numpy as np\n",
    "np.random.rand(0)\n",
    "n = 1000\n",
    "time = np.linspace(0, n-1, n)\n",
    "x = np.random.rand(n)\n",
    "y = np.random.normal(1, 1, n)\n",
    "data = np.vstack((time, x, y)).T\n",
    "np.savetxt('03-data.csv', data, header='Time, X, Y', delimiter=',', comments='')"
   ]
  },
  {
   "cell_type": "code",
   "execution_count": 14,
   "metadata": {},
   "outputs": [
    {
     "data": {
      "image/png": "[encoded data removed]",
      "text/plain": [
       "<Figure size 432x288 with 1 Axes>"
      ]
     },
     "metadata": {
      "needs_background": "light"
     },
     "output_type": "display_data"
    }
   ],
   "source": [
    "import matplotlib.pyplot as plt\n",
    "%matplotlib inline\n",
    "plt.hist(x,10,label = 'X')\n",
    "plt.hist(y,50,label = 'Y', alpha = 0.7)\n",
    "plt.ylabel('Count') ; plt.legend()\n",
    "plt.show()\n"
   ]
  },
  {
   "cell_type": "code",
   "execution_count": 22,
   "metadata": {},
   "outputs": [
    {
     "name": "stdout",
     "output_type": "stream",
     "text": [
      "Dimension(Rows, Columns) :\n",
      "1000 3\n",
      "Average :\n",
      "[4.99500000e+02 4.96058145e-01 9.92727829e-01]\n"
     ]
    }
   ],
   "source": [
    "import numpy as np\n",
    "data = np.loadtxt(r'C:\\Users\\Administrateur\\03-data.csv', delimiter=\",\", skiprows=1)\n",
    "\n",
    "print('Dimension(Rows, Columns) :')\n",
    "print(np.size(data,0), np.size(data,1))\n",
    "\n",
    "print('Average :')\n",
    "print(np.mean(data,axis=0))"
   ]
  },
  {
   "cell_type": "code",
   "execution_count": 29,
   "metadata": {},
   "outputs": [
    {
     "data": {
      "text/plain": [
       "(array([ 2.,  1.,  4.,  2.,  4.,  4.,  6.,  6.,  8., 13., 11., 21., 19.,\n",
       "        27., 80., 93., 63., 55., 52., 58., 55., 55., 29., 28., 40., 22.,\n",
       "        23., 17., 18., 19., 17., 19., 13., 16.,  9., 12., 11., 11.,  7.,\n",
       "         9.,  7., 10.,  2.,  2.,  3.,  3.,  2.,  1.,  2.,  2.,  0.,  2.,\n",
       "         1.,  1.,  0.,  0.,  1.,  0.,  1.,  1.]),\n",
       " array([-1.03034863, -0.95947522, -0.88860181, -0.8177284 , -0.74685499,\n",
       "        -0.67598158, -0.60510817, -0.53423476, -0.46336135, -0.39248794,\n",
       "        -0.32161453, -0.25074112, -0.1798677 , -0.10899429, -0.03812088,\n",
       "         0.03275253,  0.10362594,  0.17449935,  0.24537276,  0.31624617,\n",
       "         0.38711958,  0.45799299,  0.5288664 ,  0.59973981,  0.67061322,\n",
       "         0.74148663,  0.81236004,  0.88323345,  0.95410686,  1.02498027,\n",
       "         1.09585368,  1.16672709,  1.2376005 ,  1.30847391,  1.37934732,\n",
       "         1.45022073,  1.52109414,  1.59196755,  1.66284096,  1.73371437,\n",
       "         1.80458778,  1.87546119,  1.9463346 ,  2.01720801,  2.08808142,\n",
       "         2.15895484,  2.22982825,  2.30070166,  2.37157507,  2.44244848,\n",
       "         2.51332189,  2.5841953 ,  2.65506871,  2.72594212,  2.79681553,\n",
       "         2.86768894,  2.93856235,  3.00943576,  3.08030917,  3.15118258,\n",
       "         3.22205599]),\n",
       " <BarContainer object of 60 artists>)"
      ]
     },
     "execution_count": 29,
     "metadata": {},
     "output_type": "execute_result"
    },
    {
     "data": {
      "image/png": "[encoded data removed]",
      "text/plain": [
       "<Figure size 432x288 with 1 Axes>"
      ]
     },
     "metadata": {
      "needs_background": "light"
     },
     "output_type": "display_data"
    }
   ],
   "source": [
    "z = x*y\n",
    "\n",
    "print(np.mean(z))\n",
    "print(np.std(z))\n",
    "print(np.median(z))\n",
    "\n",
    "import scipy\n",
    "from scipy.stats import skew\n",
    "print(skew(z))\n",
    "\n",
    "plt.hist(z,60,label='Z')"
   ]
  },
  {
   "cell_type": "code",
   "execution_count": 31,
   "metadata": {},
   "outputs": [
    {
     "data": {
      "text/html": [
       "<div>\n",
       "<style scoped>\n",
       "    .dataframe tbody tr th:only-of-type {\n",
       "        vertical-align: middle;\n",
       "    }\n",
       "\n",
       "    .dataframe tbody tr th {\n",
       "        vertical-align: top;\n",
       "    }\n",
       "\n",
       "    .dataframe thead th {\n",
       "        text-align: right;\n",
       "    }\n",
       "</style>\n",
       "<table border=\"1\" class=\"dataframe\">\n",
       "  <thead>\n",
       "    <tr style=\"text-align: right;\">\n",
       "      <th></th>\n",
       "      <th>Time</th>\n",
       "      <th>X</th>\n",
       "      <th>Y</th>\n",
       "    </tr>\n",
       "  </thead>\n",
       "  <tbody>\n",
       "    <tr>\n",
       "      <th>count</th>\n",
       "      <td>1000.000000</td>\n",
       "      <td>1000.000000</td>\n",
       "      <td>1000.000000</td>\n",
       "    </tr>\n",
       "    <tr>\n",
       "      <th>mean</th>\n",
       "      <td>499.500000</td>\n",
       "      <td>0.496058</td>\n",
       "      <td>0.992728</td>\n",
       "    </tr>\n",
       "    <tr>\n",
       "      <th>std</th>\n",
       "      <td>288.819436</td>\n",
       "      <td>0.290369</td>\n",
       "      <td>0.981476</td>\n",
       "    </tr>\n",
       "    <tr>\n",
       "      <th>min</th>\n",
       "      <td>0.000000</td>\n",
       "      <td>0.001236</td>\n",
       "      <td>-1.872245</td>\n",
       "    </tr>\n",
       "    <tr>\n",
       "      <th>25%</th>\n",
       "      <td>249.750000</td>\n",
       "      <td>0.239410</td>\n",
       "      <td>0.354823</td>\n",
       "    </tr>\n",
       "    <tr>\n",
       "      <th>50%</th>\n",
       "      <td>499.500000</td>\n",
       "      <td>0.488742</td>\n",
       "      <td>1.007154</td>\n",
       "    </tr>\n",
       "    <tr>\n",
       "      <th>75%</th>\n",
       "      <td>749.250000</td>\n",
       "      <td>0.739772</td>\n",
       "      <td>1.668077</td>\n",
       "    </tr>\n",
       "    <tr>\n",
       "      <th>max</th>\n",
       "      <td>999.000000</td>\n",
       "      <td>0.998903</td>\n",
       "      <td>4.750646</td>\n",
       "    </tr>\n",
       "  </tbody>\n",
       "</table>\n",
       "</div>"
      ],
      "text/plain": [
       "              Time            X            Y\n",
       "count  1000.000000  1000.000000  1000.000000\n",
       "mean    499.500000     0.496058     0.992728\n",
       "std     288.819436     0.290369     0.981476\n",
       "min       0.000000     0.001236    -1.872245\n",
       "25%     249.750000     0.239410     0.354823\n",
       "50%     499.500000     0.488742     1.007154\n",
       "75%     749.250000     0.739772     1.668077\n",
       "max     999.000000     0.998903     4.750646"
      ]
     },
     "execution_count": 31,
     "metadata": {},
     "output_type": "execute_result"
    }
   ],
   "source": [
    "import pandas as pd\n",
    "data = pd.read_csv(r'C:\\Users\\Administrateur\\03-data.csv')\n",
    "data.describe()"
   ]
  },
  {
   "cell_type": "code",
   "execution_count": 32,
   "metadata": {},
   "outputs": [
    {
     "name": "stdout",
     "output_type": "stream",
     "text": [
      "File .....\n",
      "C:\\Users\\Administrateur\n"
     ]
    }
   ],
   "source": [
    "import requests\n",
    "import os\n",
    "url= 'https://apmonitor.com/pdc/uploads/Main/tclab_data2.txt'\n",
    "r = requests.get(url)\n",
    "with open('03-tclab2.csv', 'wb') as f:\n",
    "    f.write(r.content)\n",
    "    \n",
    "print('File .....')\n",
    "print(os.getcwd())"
   ]
  },
  {
   "cell_type": "code",
   "execution_count": 33,
   "metadata": {},
   "outputs": [],
   "source": [
    "import matplotlib.pyplot as plt \n",
    "%matplotlib inline\n",
    "import seaborn as sns\n",
    "import plotly.express as px"
   ]
  },
  {
   "cell_type": "code",
   "execution_count": 36,
   "metadata": {},
   "outputs": [
    {
     "data": {
      "text/html": [
       "<div>\n",
       "<style scoped>\n",
       "    .dataframe tbody tr th:only-of-type {\n",
       "        vertical-align: middle;\n",
       "    }\n",
       "\n",
       "    .dataframe tbody tr th {\n",
       "        vertical-align: top;\n",
       "    }\n",
       "\n",
       "    .dataframe thead th {\n",
       "        text-align: right;\n",
       "    }\n",
       "</style>\n",
       "<table border=\"1\" class=\"dataframe\">\n",
       "  <thead>\n",
       "    <tr style=\"text-align: right;\">\n",
       "      <th></th>\n",
       "      <th>Time</th>\n",
       "      <th>X</th>\n",
       "      <th>Y</th>\n",
       "      <th>Z</th>\n",
       "      <th>w</th>\n",
       "    </tr>\n",
       "  </thead>\n",
       "  <tbody>\n",
       "    <tr>\n",
       "      <th>186</th>\n",
       "      <td>186.0</td>\n",
       "      <td>0.907633</td>\n",
       "      <td>1.271907</td>\n",
       "      <td>-0.387785</td>\n",
       "      <td>0-499</td>\n",
       "    </tr>\n",
       "    <tr>\n",
       "      <th>216</th>\n",
       "      <td>216.0</td>\n",
       "      <td>0.752017</td>\n",
       "      <td>-0.271929</td>\n",
       "      <td>0.121786</td>\n",
       "      <td>0-499</td>\n",
       "    </tr>\n",
       "    <tr>\n",
       "      <th>576</th>\n",
       "      <td>576.0</td>\n",
       "      <td>1.312468</td>\n",
       "      <td>0.817036</td>\n",
       "      <td>0.683524</td>\n",
       "      <td>500 - 999</td>\n",
       "    </tr>\n",
       "    <tr>\n",
       "      <th>752</th>\n",
       "      <td>752.0</td>\n",
       "      <td>2.434819</td>\n",
       "      <td>0.076131</td>\n",
       "      <td>1.038720</td>\n",
       "      <td>500 - 999</td>\n",
       "    </tr>\n",
       "    <tr>\n",
       "      <th>407</th>\n",
       "      <td>407.0</td>\n",
       "      <td>1.046744</td>\n",
       "      <td>-0.136537</td>\n",
       "      <td>2.065497</td>\n",
       "      <td>0-499</td>\n",
       "    </tr>\n",
       "    <tr>\n",
       "      <th>217</th>\n",
       "      <td>217.0</td>\n",
       "      <td>0.817464</td>\n",
       "      <td>0.870260</td>\n",
       "      <td>0.208812</td>\n",
       "      <td>0-499</td>\n",
       "    </tr>\n",
       "    <tr>\n",
       "      <th>928</th>\n",
       "      <td>928.0</td>\n",
       "      <td>2.629110</td>\n",
       "      <td>0.296400</td>\n",
       "      <td>3.000000</td>\n",
       "      <td>500 - 999</td>\n",
       "    </tr>\n",
       "  </tbody>\n",
       "</table>\n",
       "</div>"
      ],
      "text/plain": [
       "      Time         X         Y         Z          w\n",
       "186  186.0  0.907633  1.271907 -0.387785      0-499\n",
       "216  216.0  0.752017 -0.271929  0.121786      0-499\n",
       "576  576.0  1.312468  0.817036  0.683524  500 - 999\n",
       "752  752.0  2.434819  0.076131  1.038720  500 - 999\n",
       "407  407.0  1.046744 -0.136537  2.065497      0-499\n",
       "217  217.0  0.817464  0.870260  0.208812      0-499\n",
       "928  928.0  2.629110  0.296400  3.000000  500 - 999"
      ]
     },
     "execution_count": 36,
     "metadata": {},
     "output_type": "execute_result"
    }
   ],
   "source": [
    "import numpy as np\n",
    "import pandas as pd\n",
    "np.random.seed(0)\n",
    "n = 1000\n",
    "tt = np.linspace(0, n-1, n)\n",
    "x = np.random.rand(n) + tt/500\n",
    "y = np.random.normal(0,x,n)\n",
    "z = [0]\n",
    "\n",
    "for i in range(1, n):\n",
    "    z.append(min(max(-3,z[i-1] + y[i] * 0.1),3))\n",
    "\n",
    "data = pd.DataFrame(np.vstack((tt,x,y,z)).T, \\\n",
    "        columns=['Time', 'X', 'Y', 'Z'])\n",
    "\n",
    "data['w'] = '0-499'\n",
    "for i in range(int(n/2), n):\n",
    "    data.at[i, 'w'] = '500 - 999'\n",
    "    \n",
    "data.sample(7)"
   ]
  },
  {
   "cell_type": "code",
   "execution_count": 37,
   "metadata": {},
   "outputs": [
    {
     "data": {
      "image/png": "[encoded data removed]",
      "text/plain": [
       "<Figure size 432x288 with 1 Axes>"
      ]
     },
     "metadata": {
      "needs_background": "light"
     },
     "output_type": "display_data"
    }
   ],
   "source": [
    "%matplotlib inline\n",
    "plt.plot(tt, z)\n",
    "plt.show()"
   ]
  },
  {
   "cell_type": "code",
   "execution_count": 39,
   "metadata": {},
   "outputs": [
    {
     "data": {
      "image/png": "[encoded data removed]",
      "text/plain": [
       "<Figure size 864x432 with 2 Axes>"
      ]
     },
     "metadata": {
      "needs_background": "light"
     },
     "output_type": "display_data"
    }
   ],
   "source": [
    "plt.figure(1, figsize=(12,6))\n",
    "ax=plt.subplot(2,1,1)\n",
    "plt.plot(tt, z, 'r-', linewidth=3, label='Z')\n",
    "ax.grid()\n",
    "plt.ylabel('Z') ; plt.legend()\n",
    "\n",
    "plt.subplot(2, 1, 2)\n",
    "plt.plot(tt, x, 'b.',  label='X')\n",
    "plt.plot(tt, y, color='orange', label='Y', alpha=0.7)\n",
    "plt.xlabel='TIME' ; plt.legend()\n",
    "plt.savefig('04-myFig.png', transparent=True, dpi=600)\n",
    "plt.show()\n",
    "\n"
   ]
  },
  {
   "cell_type": "code",
   "execution_count": null,
   "metadata": {},
   "outputs": [],
   "source": []
  }
 ],
 "metadata": {
  "finalized": {
   "timestamp": 1616512334236,
   "trusted": true
  },
  "hide_input": false,
  "kernelspec": {
   "display_name": "Python 3",
   "language": "python",
   "name": "python3"
  },
  "language_info": {
   "codemirror_mode": {
    "name": "ipython",
    "version": 3
   },
   "file_extension": ".py",
   "mimetype": "text/x-python",
   "name": "python",
   "nbconvert_exporter": "python",
   "pygments_lexer": "ipython3",
   "version": "3.8.2"
  },
  "latex_envs": {
   "LaTeX_envs_menu_present": true,
   "autoclose": false,
   "autocomplete": true,
   "bibliofile": "biblio.bib",
   "cite_by": "apalike",
   "current_citInitial": 1,
   "eqLabelWithNumbers": true,
   "eqNumInitial": 1,
   "hotkeys": {
    "equation": "Ctrl-E",
    "itemize": "Ctrl-I"
   },
   "labels_anchors": false,
   "latex_user_defs": false,
   "report_style_numbering": false,
   "user_envs_cfg": false
  }
 },
 "nbformat": 4,
 "nbformat_minor": 4
}
