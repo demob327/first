{
 "cells": [
  {
   "cell_type": "code",
   "execution_count": 1,
   "metadata": {},
   "outputs": [],
   "source": [
    "import pandas as pd\n",
    "import numpy as np\n",
    "import matplotlib.pyplot as plt"
   ]
  },
  {
   "cell_type": "code",
   "execution_count": 2,
   "metadata": {},
   "outputs": [],
   "source": [
    "df = pd.read_csv(r'C:\\Users\\Administrateur\\Downloads\\cssNamedColor.csv',  engine='python', sep=';')"
   ]
  },
  {
   "cell_type": "code",
   "execution_count": 3,
   "metadata": {},
   "outputs": [
    {
     "data": {
      "text/html": [
       "<div>\n",
       "<style scoped>\n",
       "    .dataframe tbody tr th:only-of-type {\n",
       "        vertical-align: middle;\n",
       "    }\n",
       "\n",
       "    .dataframe tbody tr th {\n",
       "        vertical-align: top;\n",
       "    }\n",
       "\n",
       "    .dataframe thead th {\n",
       "        text-align: right;\n",
       "    }\n",
       "</style>\n",
       "<table border=\"1\" class=\"dataframe\">\n",
       "  <thead>\n",
       "    <tr style=\"text-align: right;\">\n",
       "      <th></th>\n",
       "      <th>Spécification</th>\n",
       "      <th>Mot-clé</th>\n",
       "      <th>Valeurs exprimées en hexadécimal RGB</th>\n",
       "    </tr>\n",
       "  </thead>\n",
       "  <tbody>\n",
       "    <tr>\n",
       "      <th>0</th>\n",
       "      <td>CSS Level 1</td>\n",
       "      <td>black</td>\n",
       "      <td>#000000</td>\n",
       "    </tr>\n",
       "    <tr>\n",
       "      <th>1</th>\n",
       "      <td>CSS Level 1</td>\n",
       "      <td>silver</td>\n",
       "      <td>#c0c0c0</td>\n",
       "    </tr>\n",
       "    <tr>\n",
       "      <th>2</th>\n",
       "      <td>CSS Level 1</td>\n",
       "      <td>gray</td>\n",
       "      <td>#808080</td>\n",
       "    </tr>\n",
       "    <tr>\n",
       "      <th>3</th>\n",
       "      <td>CSS Level 1</td>\n",
       "      <td>white</td>\n",
       "      <td>#ffffff</td>\n",
       "    </tr>\n",
       "    <tr>\n",
       "      <th>4</th>\n",
       "      <td>CSS Level 1</td>\n",
       "      <td>maroon</td>\n",
       "      <td>#800000</td>\n",
       "    </tr>\n",
       "    <tr>\n",
       "      <th>...</th>\n",
       "      <td>...</td>\n",
       "      <td>...</td>\n",
       "      <td>...</td>\n",
       "    </tr>\n",
       "    <tr>\n",
       "      <th>143</th>\n",
       "      <td>CSS Color Module Level 3</td>\n",
       "      <td>violet</td>\n",
       "      <td>#ee82ee</td>\n",
       "    </tr>\n",
       "    <tr>\n",
       "      <th>144</th>\n",
       "      <td>CSS Color Module Level 3</td>\n",
       "      <td>wheat</td>\n",
       "      <td>#f5deb3</td>\n",
       "    </tr>\n",
       "    <tr>\n",
       "      <th>145</th>\n",
       "      <td>CSS Color Module Level 3</td>\n",
       "      <td>whitesmoke</td>\n",
       "      <td>#f5f5f5</td>\n",
       "    </tr>\n",
       "    <tr>\n",
       "      <th>146</th>\n",
       "      <td>CSS Color Module Level 3</td>\n",
       "      <td>yellowgreen</td>\n",
       "      <td>#9acd32</td>\n",
       "    </tr>\n",
       "    <tr>\n",
       "      <th>147</th>\n",
       "      <td>CSS Color Module Level 4</td>\n",
       "      <td>rebeccapurple</td>\n",
       "      <td>#663399</td>\n",
       "    </tr>\n",
       "  </tbody>\n",
       "</table>\n",
       "<p>148 rows × 3 columns</p>\n",
       "</div>"
      ],
      "text/plain": [
       "                Spécification        Mot-clé  \\\n",
       "0                 CSS Level 1          black   \n",
       "1                 CSS Level 1         silver   \n",
       "2                 CSS Level 1           gray   \n",
       "3                 CSS Level 1          white   \n",
       "4                 CSS Level 1         maroon   \n",
       "..                        ...            ...   \n",
       "143  CSS Color Module Level 3         violet   \n",
       "144  CSS Color Module Level 3          wheat   \n",
       "145  CSS Color Module Level 3     whitesmoke   \n",
       "146  CSS Color Module Level 3    yellowgreen   \n",
       "147  CSS Color Module Level 4  rebeccapurple   \n",
       "\n",
       "    Valeurs exprimées en hexadécimal RGB  \n",
       "0                                #000000  \n",
       "1                                #c0c0c0  \n",
       "2                                #808080  \n",
       "3                                #ffffff  \n",
       "4                                #800000  \n",
       "..                                   ...  \n",
       "143                              #ee82ee  \n",
       "144                              #f5deb3  \n",
       "145                              #f5f5f5  \n",
       "146                              #9acd32  \n",
       "147                              #663399  \n",
       "\n",
       "[148 rows x 3 columns]"
      ]
     },
     "execution_count": 3,
     "metadata": {},
     "output_type": "execute_result"
    }
   ],
   "source": [
    "df.dropna(axis=1)"
   ]
  },
  {
   "cell_type": "code",
   "execution_count": null,
   "metadata": {},
   "outputs": [],
   "source": []
  }
 ],
 "metadata": {
  "finalized": {
   "timestamp": 1618409664874,
   "trusted": true
  },
  "hide_input": false,
  "kernelspec": {
   "display_name": "Python 3",
   "language": "python",
   "name": "python3"
  },
  "language_info": {
   "codemirror_mode": {
    "name": "ipython",
    "version": 3
   },
   "file_extension": ".py",
   "mimetype": "text/x-python",
   "name": "python",
   "nbconvert_exporter": "python",
   "pygments_lexer": "ipython3",
   "version": "3.8.2"
  },
  "latex_envs": {
   "LaTeX_envs_menu_present": true,
   "autoclose": false,
   "autocomplete": true,
   "bibliofile": "biblio.bib",
   "cite_by": "apalike",
   "current_citInitial": 1,
   "eqLabelWithNumbers": true,
   "eqNumInitial": 1,
   "hotkeys": {
    "equation": "Ctrl-E",
    "itemize": "Ctrl-I"
   },
   "labels_anchors": false,
   "latex_user_defs": false,
   "report_style_numbering": false,
   "user_envs_cfg": false
  }
 },
 "nbformat": 4,
 "nbformat_minor": 4
}
