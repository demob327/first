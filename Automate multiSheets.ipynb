{
 "cells": [
  {
   "cell_type": "code",
   "execution_count": 1,
   "metadata": {},
   "outputs": [],
   "source": [
    "import pandas as pd\n",
    "import numpy as np\n",
    "import matplotlib.pyplot as plt"
   ]
  },
  {
   "cell_type": "code",
   "execution_count": 8,
   "metadata": {},
   "outputs": [],
   "source": [
    "excel_file_1 = r\"C:\\Users\\Administrateur\\Downloads\\données_thèse.xlsx\"\n",
    "excel_file_2 = r\"C:\\Users\\Administrateur\\Downloads\\House_Prices.xlsx\"\n",
    "excel_file_3 = r\"X:\\transfert2020.xlsx\"\n",
    "df_first_shift = pd.read_excel(excel_file_1, sheet_name='Sheet1')\n",
    "df_two_shift = pd.read_excel(excel_file_2, sheet_name='House Price Data')\n",
    "df_three_shift = pd.read_excel(excel_file_3, sheet_name='transfert2020s')\n",
    "#print(df_two_shift)\n",
    "#print(df_two_shift['Price'])\n",
    "#print(df_three_shift)"
   ]
  },
  {
   "cell_type": "code",
   "execution_count": 6,
   "metadata": {},
   "outputs": [],
   "source": [
    "pivot=df_three_shift.groupby(['NATURE','NAMEBANQUE']).sum()\n",
    "shift_transfert = pivot.loc[:,'Transfert 10 6 DA']\n",
    "#shift_cptDev = pivot.loc[:,'Transfert 10 6 DA']\n",
    "#print(shift_transfert)\n",
    "#print(shift_cptDev)"
   ]
  },
  {
   "cell_type": "code",
   "execution_count": 7,
   "metadata": {},
   "outputs": [
    {
     "name": "stdout",
     "output_type": "stream",
     "text": [
      "NAMEBANQUE\n",
      "AL SALAM BANK ALGERIA                                                                                 1.853378e+05\n",
      "ALGERIA GULF BANK                                                                                     2.823523e+05\n",
      "ARAB BANK PLC ALGERIA                                                                                 9.396591e+04\n",
      "ARAB BANKING CORPORATION - ALGERIA                                                                    3.540644e+04\n",
      "BA - DIRECTION GENERALE DE LA CAISSE GENERALE                                                         1.776765e+05\n",
      "BANQUE AL-BARAKA D'ALGERIE                                                                            2.560097e+05\n",
      "BANQUE D ALGERIE - DIRECTION DES SERVICES BANCAIRES ETRANGERS                                         7.735775e+04\n",
      "BANQUE DE DEVELOPPEMENT LOCAL                                                                         1.064105e+05\n",
      "BANQUE DE L'AGRICULTURE ET DE DEVEL RURAL                                                             3.253598e+05\n",
      "BANQUE EXTERIEURE D'ALGERIE (DIRECTION DES OPERATIONS AVEC L'ETRANGER - DEPARTEMENT L/C ET NOSTRO)    1.298808e+06\n",
      "BANQUE NATIONALE D' ALGERIE                                                                           2.950289e+05\n",
      "BNP PARIBAS EL DJAZAIR                                                                                2.445548e+05\n",
      "CITIBANK N.A ALGERIA                                                                                  1.716734e+05\n",
      "CREDIT AGRICOLE CIB ALGERIE                                                                           2.112994e+04\n",
      "CREDIT POPULAIRE D'ALGERIE                                                                            2.298086e+05\n",
      "FRANSABANK EL DJAZAIR SPA                                                                             6.308713e+04\n",
      "HOUSING BANK FOR TRADE &  FINANCE ALGERIA                                                             1.225766e+05\n",
      "HSBC-ALGERIA                                                                                          1.507763e+05\n",
      "NATIXIS ALAMANA BANQUE                                                                                2.586684e+05\n",
      "SOCIETE GENERALE ALGERIE                                                                              3.201761e+05\n",
      "TRUST BANK ALGERIA                                                                                    3.928924e+04\n",
      "Name: Transfert 10 6 DA, dtype: float64\n"
     ]
    }
   ],
   "source": [
    "pivot=df_three_shift.groupby(['NAMEBANQUE']).sum()\n",
    "shift_transfert = pivot.loc[:,'Transfert 10 6 DA']\n",
    "print(shift_transfert)"
   ]
  },
  {
   "cell_type": "code",
   "execution_count": null,
   "metadata": {},
   "outputs": [],
   "source": [
    "shift_transfert.plot(kind='bar')\n",
    "plt.show"
   ]
  },
  {
   "cell_type": "code",
   "execution_count": null,
   "metadata": {},
   "outputs": [],
   "source": [
    "pivot=df_three_shift.groupby(['NATURE']).sum()\n",
    "shift_transfert = pivot.loc[:,'Transfert 10 6 DA']\n",
    "print(shift_transfert)"
   ]
  },
  {
   "cell_type": "code",
   "execution_count": null,
   "metadata": {},
   "outputs": [],
   "source": [
    "shift_transfert.plot(kind='bar')\n",
    "plt.show"
   ]
  },
  {
   "cell_type": "code",
   "execution_count": null,
   "metadata": {},
   "outputs": [],
   "source": []
  },
  {
   "cell_type": "code",
   "execution_count": null,
   "metadata": {},
   "outputs": [],
   "source": [
    "# Code source: Óscar Nájera\n",
    "# License: BSD 3 clause\n",
    "\n",
    "import numpy as np\n",
    "import matplotlib.pyplot as plt\n",
    "\n",
    "\n",
    "def main():\n",
    "    x = np.linspace(-1, 2, 100)\n",
    "    y = np.exp(x)\n",
    "   \n",
    "\n",
    "    plt.figure()\n",
    "    plt.plot(x, y)\n",
    "    plt.xlabel('$x$')\n",
    "    plt.ylabel('$\\exp(x)$')\n",
    "\n",
    "    plt.figure()\n",
    "    plt.plot(x, -np.exp(-x))\n",
    "    plt.xlabel('$x$')\n",
    "    plt.ylabel('$-\\exp(-x)$')\n",
    "    \n",
    "    \n",
    "\n",
    "    plt.show()\n",
    "\n",
    "if __name__ == '__main__':\n",
    "    main()"
   ]
  },
  {
   "cell_type": "code",
   "execution_count": null,
   "metadata": {},
   "outputs": [],
   "source": [
    "import numpy as np\n",
    "import matplotlib.pyplot as plt\n",
    "\n",
    "\n",
    "def main():\n",
    "    x = np.linspace(-6, 6, 100)\n",
    "    y = np.sin(x)\n",
    "    \n",
    "    plt.figure()\n",
    "    plt.plot(x, y)\n",
    "    plt.xlabel('$x$')\n",
    "    plt.ylabel('$sin(x)$')\n",
    "\n",
    "    plt.show()\n",
    "\n",
    "if __name__ == '__main__':\n",
    "    main()"
   ]
  },
  {
   "cell_type": "code",
   "execution_count": null,
   "metadata": {},
   "outputs": [],
   "source": []
  },
  {
   "cell_type": "code",
   "execution_count": null,
   "metadata": {},
   "outputs": [],
   "source": []
  }
 ],
 "metadata": {
  "kernelspec": {
   "display_name": "Python 3",
   "language": "python",
   "name": "python3"
  },
  "language_info": {
   "codemirror_mode": {
    "name": "ipython",
    "version": 3
   },
   "file_extension": ".py",
   "mimetype": "text/x-python",
   "name": "python",
   "nbconvert_exporter": "python",
   "pygments_lexer": "ipython3",
   "version": "3.8.2"
  }
 },
 "nbformat": 4,
 "nbformat_minor": 4
}
